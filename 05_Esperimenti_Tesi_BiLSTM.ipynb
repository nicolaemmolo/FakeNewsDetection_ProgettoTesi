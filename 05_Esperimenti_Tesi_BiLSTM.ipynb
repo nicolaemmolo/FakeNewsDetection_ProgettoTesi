{
  "cells": [
    {
      "cell_type": "code",
      "execution_count": 1,
      "metadata": {
        "colab": {
          "base_uri": "https://localhost:8080/"
        },
        "id": "iFfI3bJBYeVZ",
        "outputId": "75cdf4ce-0f27-401e-d7b6-ad1349460e01"
      },
      "outputs": [],
      "source": [
        "import os\n",
        "#os.environ[\"CUDA_VISIBLE_DEVICES\"] = \"0\" # oppure \"1\"\n",
        "os.environ[\"CUDA_VISIBLE_DEVICES\"] = \"0,1\"  # usa entrambe le GPU\n",
        "#os.environ[\"CUDA_LAUNCH_BLOCKING\"] = \"0,1\"  # per debug"
      ]
    },
    {
      "cell_type": "code",
      "execution_count": 2,
      "metadata": {},
      "outputs": [
        {
          "name": "stdout",
          "output_type": "stream",
          "text": [
            "Using device: cuda\n"
          ]
        }
      ],
      "source": [
        "import torch\n",
        "\n",
        "device = torch.device(\"cuda\" if torch.cuda.is_available() else \"cpu\")\n",
        "print(\"Using device:\", device)"
      ]
    },
    {
      "cell_type": "markdown",
      "metadata": {
        "id": "J3b93-fOPQ7b"
      },
      "source": [
        "# **LOGISTIC REGRESSION**"
      ]
    },
    {
      "cell_type": "code",
      "execution_count": 43,
      "metadata": {
        "id": "DPzU-1j9Da22"
      },
      "outputs": [],
      "source": [
        "import pandas as pd\n",
        "from sklearn.model_selection import train_test_split\n",
        "from sklearn.feature_extraction.text import TfidfVectorizer\n",
        "from sklearn.linear_model import LogisticRegression\n",
        "from sklearn.pipeline import Pipeline\n",
        "from sklearn.metrics import classification_report, confusion_matrix, f1_score\n",
        "import optuna"
      ]
    },
    {
      "cell_type": "code",
      "execution_count": 44,
      "metadata": {
        "id": "tZTmacXhIKqP"
      },
      "outputs": [],
      "source": [
        "# ----------------\n",
        "# Load dataset\n",
        "# ----------------\n",
        "\n",
        "path_file = \"datasets/Unipi_NDF/df_ndf.csv\"\n",
        "df = pd.read_csv(path_file, sep=\"\\t\", encoding=\"utf-8\")\n",
        "df.head()\n",
        "\n",
        "X = df[\"texts\"].astype(str)\n",
        "y = df[\"labels\"]\n",
        "\n",
        "# split train/validation/test (0.6 / 0.2 / 0.2): stratify to maintain label distribution\n",
        "X_train, X_temp, y_train, y_temp = train_test_split(X, y, test_size=0.4, stratify=y, random_state=42)\n",
        "X_val, X_test, y_val, y_test = train_test_split(X_temp, y_temp, test_size=0.5, stratify=y_temp, random_state=42)\n"
      ]
    },
    {
      "cell_type": "code",
      "execution_count": 45,
      "metadata": {
        "id": "snlAcLFdILuI"
      },
      "outputs": [],
      "source": [
        "# -----------------------------\n",
        "# Optuna objective function\n",
        "# -----------------------------\n",
        "\n",
        "def objectiveLR(trial):\n",
        "\n",
        "    # Parameters\n",
        "    penalty = trial.suggest_categorical(\"penalty\", [\"l2\", None])                        # L2 reg or no reg\n",
        "    C = trial.suggest_categorical(\"C\", [0.01, 0.1, 1.0, 10.0, 100.0])                   # LR regularization strength\n",
        "    solver = trial.suggest_categorical(\"solver\", [\"lbfgs\", \"liblinear\", \"sag\", \"saga\"]) # solvers supporting L2 and none penalties\n",
        "\n",
        "    # Some solvers do not support some parameters combinations\n",
        "    try:\n",
        "        model = Pipeline([\n",
        "            ('tfidf', TfidfVectorizer(  # TD-IDF vectorization inside pipeline\n",
        "                max_features=5000,      # limit to top 5000 features\n",
        "                ngram_range=(1, 2),     # unigrams + bigrams\n",
        "                stop_words=\"english\"    # remove English stop words\n",
        "            )),\n",
        "            ('clf', LogisticRegression( # Logistic Regression classifier\n",
        "                C=C,\n",
        "                penalty=penalty if penalty != \"none\" else None,\n",
        "                solver=solver,\n",
        "                max_iter=1000,\n",
        "                random_state=42,\n",
        "            ))\n",
        "        ])\n",
        "\n",
        "        model.fit(X_train, y_train)\n",
        "        preds = model.predict(X_val)\n",
        "        f1 = f1_score(y_val, preds, average=\"weighted\") # weighted F1-score: average for label imbalance\n",
        "        return f1\n",
        "    \n",
        "    except Exception:\n",
        "        return 0.0  # Return a default value in case of failure"
      ]
    },
    {
      "cell_type": "code",
      "execution_count": 46,
      "metadata": {
        "colab": {
          "base_uri": "https://localhost:8080/"
        },
        "id": "HK9yGB-FITMS",
        "outputId": "c743d9cb-56ad-47f8-e2f5-2edd578d21ba"
      },
      "outputs": [
        {
          "name": "stderr",
          "output_type": "stream",
          "text": [
            "[I 2025-10-21 17:33:17,817] A new study created in memory with name: no-name-ef853918-9b65-4afe-a715-4599008b341c\n",
            "[I 2025-10-21 17:33:17,874] Trial 0 finished with value: 0.0 and parameters: {'penalty': None, 'C': 1.0, 'solver': 'liblinear'}. Best is trial 0 with value: 0.0.\n",
            "[I 2025-10-21 17:33:17,937] Trial 1 finished with value: 0.8807294291927862 and parameters: {'penalty': 'l2', 'C': 100.0, 'solver': 'lbfgs'}. Best is trial 1 with value: 0.8807294291927862.\n",
            "/home/n.emmolo/miniconda3/envs/env/lib/python3.10/site-packages/sklearn/linear_model/_logistic.py:1232: UserWarning: Setting penalty=None will ignore the C and l1_ratio parameters\n",
            "  warnings.warn(\n",
            "/home/n.emmolo/miniconda3/envs/env/lib/python3.10/site-packages/sklearn/linear_model/_sag.py:348: ConvergenceWarning: The max_iter was reached which means the coef_ did not converge\n",
            "  warnings.warn(\n",
            "[I 2025-10-21 17:33:18,154] Trial 2 finished with value: 0.8814616818430635 and parameters: {'penalty': None, 'C': 100.0, 'solver': 'saga'}. Best is trial 2 with value: 0.8814616818430635.\n",
            "[I 2025-10-21 17:33:18,197] Trial 3 finished with value: 0.8417165934407314 and parameters: {'penalty': 'l2', 'C': 10.0, 'solver': 'liblinear'}. Best is trial 2 with value: 0.8814616818430635.\n",
            "[I 2025-10-21 17:33:18,229] Trial 4 finished with value: 0.0 and parameters: {'penalty': None, 'C': 10.0, 'solver': 'liblinear'}. Best is trial 2 with value: 0.8814616818430635.\n",
            "/home/n.emmolo/miniconda3/envs/env/lib/python3.10/site-packages/sklearn/linear_model/_logistic.py:1232: UserWarning: Setting penalty=None will ignore the C and l1_ratio parameters\n",
            "  warnings.warn(\n",
            "/home/n.emmolo/miniconda3/envs/env/lib/python3.10/site-packages/sklearn/linear_model/_sag.py:348: ConvergenceWarning: The max_iter was reached which means the coef_ did not converge\n",
            "  warnings.warn(\n",
            "[I 2025-10-21 17:33:18,446] Trial 5 finished with value: 0.8814616818430635 and parameters: {'penalty': None, 'C': 10.0, 'solver': 'saga'}. Best is trial 2 with value: 0.8814616818430635.\n",
            "/home/n.emmolo/miniconda3/envs/env/lib/python3.10/site-packages/sklearn/linear_model/_sag.py:348: ConvergenceWarning: The max_iter was reached which means the coef_ did not converge\n",
            "  warnings.warn(\n",
            "[I 2025-10-21 17:33:18,648] Trial 6 finished with value: 0.8814616818430635 and parameters: {'penalty': None, 'C': 1.0, 'solver': 'sag'}. Best is trial 2 with value: 0.8814616818430635.\n",
            "[I 2025-10-21 17:33:18,690] Trial 7 finished with value: 0.45439821844316225 and parameters: {'penalty': 'l2', 'C': 0.1, 'solver': 'liblinear'}. Best is trial 2 with value: 0.8814616818430635.\n",
            "[I 2025-10-21 17:33:18,734] Trial 8 finished with value: 0.862380110607061 and parameters: {'penalty': 'l2', 'C': 100.0, 'solver': 'liblinear'}. Best is trial 2 with value: 0.8814616818430635.\n",
            "[I 2025-10-21 17:33:18,766] Trial 9 finished with value: 0.0 and parameters: {'penalty': None, 'C': 100.0, 'solver': 'liblinear'}. Best is trial 2 with value: 0.8814616818430635.\n",
            "/home/n.emmolo/miniconda3/envs/env/lib/python3.10/site-packages/sklearn/linear_model/_logistic.py:1232: UserWarning: Setting penalty=None will ignore the C and l1_ratio parameters\n",
            "  warnings.warn(\n",
            "/home/n.emmolo/miniconda3/envs/env/lib/python3.10/site-packages/sklearn/linear_model/_sag.py:348: ConvergenceWarning: The max_iter was reached which means the coef_ did not converge\n",
            "  warnings.warn(\n",
            "[I 2025-10-21 17:33:18,986] Trial 10 finished with value: 0.8814616818430635 and parameters: {'penalty': None, 'C': 0.01, 'solver': 'saga'}. Best is trial 2 with value: 0.8814616818430635.\n",
            "/home/n.emmolo/miniconda3/envs/env/lib/python3.10/site-packages/sklearn/linear_model/_logistic.py:1232: UserWarning: Setting penalty=None will ignore the C and l1_ratio parameters\n",
            "  warnings.warn(\n",
            "/home/n.emmolo/miniconda3/envs/env/lib/python3.10/site-packages/sklearn/linear_model/_sag.py:348: ConvergenceWarning: The max_iter was reached which means the coef_ did not converge\n",
            "  warnings.warn(\n",
            "[I 2025-10-21 17:33:19,205] Trial 11 finished with value: 0.8814616818430635 and parameters: {'penalty': None, 'C': 10.0, 'solver': 'saga'}. Best is trial 2 with value: 0.8814616818430635.\n",
            "/home/n.emmolo/miniconda3/envs/env/lib/python3.10/site-packages/sklearn/linear_model/_logistic.py:1232: UserWarning: Setting penalty=None will ignore the C and l1_ratio parameters\n",
            "  warnings.warn(\n",
            "/home/n.emmolo/miniconda3/envs/env/lib/python3.10/site-packages/sklearn/linear_model/_sag.py:348: ConvergenceWarning: The max_iter was reached which means the coef_ did not converge\n",
            "  warnings.warn(\n",
            "[I 2025-10-21 17:33:19,423] Trial 12 finished with value: 0.8814616818430635 and parameters: {'penalty': None, 'C': 0.01, 'solver': 'saga'}. Best is trial 2 with value: 0.8814616818430635.\n",
            "/home/n.emmolo/miniconda3/envs/env/lib/python3.10/site-packages/sklearn/linear_model/_logistic.py:1232: UserWarning: Setting penalty=None will ignore the C and l1_ratio parameters\n",
            "  warnings.warn(\n",
            "/home/n.emmolo/miniconda3/envs/env/lib/python3.10/site-packages/sklearn/linear_model/_sag.py:348: ConvergenceWarning: The max_iter was reached which means the coef_ did not converge\n",
            "  warnings.warn(\n",
            "[I 2025-10-21 17:33:19,641] Trial 13 finished with value: 0.8814616818430635 and parameters: {'penalty': None, 'C': 0.1, 'solver': 'saga'}. Best is trial 2 with value: 0.8814616818430635.\n",
            "/home/n.emmolo/miniconda3/envs/env/lib/python3.10/site-packages/sklearn/linear_model/_logistic.py:1232: UserWarning: Setting penalty=None will ignore the C and l1_ratio parameters\n",
            "  warnings.warn(\n",
            "/home/n.emmolo/miniconda3/envs/env/lib/python3.10/site-packages/sklearn/linear_model/_sag.py:348: ConvergenceWarning: The max_iter was reached which means the coef_ did not converge\n",
            "  warnings.warn(\n",
            "[I 2025-10-21 17:33:19,859] Trial 14 finished with value: 0.8814616818430635 and parameters: {'penalty': None, 'C': 100.0, 'solver': 'saga'}. Best is trial 2 with value: 0.8814616818430635.\n",
            "/home/n.emmolo/miniconda3/envs/env/lib/python3.10/site-packages/sklearn/linear_model/_logistic.py:1232: UserWarning: Setting penalty=None will ignore the C and l1_ratio parameters\n",
            "  warnings.warn(\n",
            "/home/n.emmolo/miniconda3/envs/env/lib/python3.10/site-packages/sklearn/linear_model/_sag.py:348: ConvergenceWarning: The max_iter was reached which means the coef_ did not converge\n",
            "  warnings.warn(\n",
            "[I 2025-10-21 17:33:20,062] Trial 15 finished with value: 0.8814616818430635 and parameters: {'penalty': None, 'C': 10.0, 'solver': 'sag'}. Best is trial 2 with value: 0.8814616818430635.\n",
            "/home/n.emmolo/miniconda3/envs/env/lib/python3.10/site-packages/sklearn/linear_model/_logistic.py:1232: UserWarning: Setting penalty=None will ignore the C and l1_ratio parameters\n",
            "  warnings.warn(\n",
            "[I 2025-10-21 17:33:20,116] Trial 16 finished with value: 0.863225017511227 and parameters: {'penalty': None, 'C': 100.0, 'solver': 'lbfgs'}. Best is trial 2 with value: 0.8814616818430635.\n",
            "/home/n.emmolo/miniconda3/envs/env/lib/python3.10/site-packages/sklearn/linear_model/_logistic.py:1232: UserWarning: Setting penalty=None will ignore the C and l1_ratio parameters\n",
            "  warnings.warn(\n",
            "/home/n.emmolo/miniconda3/envs/env/lib/python3.10/site-packages/sklearn/linear_model/_sag.py:348: ConvergenceWarning: The max_iter was reached which means the coef_ did not converge\n",
            "  warnings.warn(\n",
            "[I 2025-10-21 17:33:20,335] Trial 17 finished with value: 0.8814616818430635 and parameters: {'penalty': None, 'C': 10.0, 'solver': 'saga'}. Best is trial 2 with value: 0.8814616818430635.\n",
            "[I 2025-10-21 17:33:20,396] Trial 18 finished with value: 0.7827442827442828 and parameters: {'penalty': 'l2', 'C': 1.0, 'solver': 'saga'}. Best is trial 2 with value: 0.8814616818430635.\n",
            "/home/n.emmolo/miniconda3/envs/env/lib/python3.10/site-packages/sklearn/linear_model/_logistic.py:1232: UserWarning: Setting penalty=None will ignore the C and l1_ratio parameters\n",
            "  warnings.warn(\n",
            "/home/n.emmolo/miniconda3/envs/env/lib/python3.10/site-packages/sklearn/linear_model/_sag.py:348: ConvergenceWarning: The max_iter was reached which means the coef_ did not converge\n",
            "  warnings.warn(\n",
            "[I 2025-10-21 17:33:20,614] Trial 19 finished with value: 0.8814616818430635 and parameters: {'penalty': None, 'C': 0.1, 'solver': 'saga'}. Best is trial 2 with value: 0.8814616818430635.\n",
            "/home/n.emmolo/miniconda3/envs/env/lib/python3.10/site-packages/sklearn/linear_model/_logistic.py:1232: UserWarning: Setting penalty=None will ignore the C and l1_ratio parameters\n",
            "  warnings.warn(\n",
            "/home/n.emmolo/miniconda3/envs/env/lib/python3.10/site-packages/sklearn/linear_model/_sag.py:348: ConvergenceWarning: The max_iter was reached which means the coef_ did not converge\n",
            "  warnings.warn(\n",
            "[I 2025-10-21 17:33:20,816] Trial 20 finished with value: 0.8814616818430635 and parameters: {'penalty': None, 'C': 0.01, 'solver': 'sag'}. Best is trial 2 with value: 0.8814616818430635.\n",
            "/home/n.emmolo/miniconda3/envs/env/lib/python3.10/site-packages/sklearn/linear_model/_sag.py:348: ConvergenceWarning: The max_iter was reached which means the coef_ did not converge\n",
            "  warnings.warn(\n",
            "[I 2025-10-21 17:33:21,018] Trial 21 finished with value: 0.8814616818430635 and parameters: {'penalty': None, 'C': 1.0, 'solver': 'sag'}. Best is trial 2 with value: 0.8814616818430635.\n",
            "/home/n.emmolo/miniconda3/envs/env/lib/python3.10/site-packages/sklearn/linear_model/_sag.py:348: ConvergenceWarning: The max_iter was reached which means the coef_ did not converge\n",
            "  warnings.warn(\n",
            "[I 2025-10-21 17:33:21,220] Trial 22 finished with value: 0.8814616818430635 and parameters: {'penalty': None, 'C': 1.0, 'solver': 'sag'}. Best is trial 2 with value: 0.8814616818430635.\n",
            "/home/n.emmolo/miniconda3/envs/env/lib/python3.10/site-packages/sklearn/linear_model/_sag.py:348: ConvergenceWarning: The max_iter was reached which means the coef_ did not converge\n",
            "  warnings.warn(\n",
            "[I 2025-10-21 17:33:21,422] Trial 23 finished with value: 0.8814616818430635 and parameters: {'penalty': None, 'C': 1.0, 'solver': 'sag'}. Best is trial 2 with value: 0.8814616818430635.\n",
            "/home/n.emmolo/miniconda3/envs/env/lib/python3.10/site-packages/sklearn/linear_model/_logistic.py:1232: UserWarning: Setting penalty=None will ignore the C and l1_ratio parameters\n",
            "  warnings.warn(\n",
            "[I 2025-10-21 17:33:21,476] Trial 24 finished with value: 0.863225017511227 and parameters: {'penalty': None, 'C': 100.0, 'solver': 'lbfgs'}. Best is trial 2 with value: 0.8814616818430635.\n",
            "/home/n.emmolo/miniconda3/envs/env/lib/python3.10/site-packages/sklearn/linear_model/_sag.py:348: ConvergenceWarning: The max_iter was reached which means the coef_ did not converge\n",
            "  warnings.warn(\n",
            "[I 2025-10-21 17:33:21,677] Trial 25 finished with value: 0.8814616818430635 and parameters: {'penalty': None, 'C': 1.0, 'solver': 'sag'}. Best is trial 2 with value: 0.8814616818430635.\n",
            "/home/n.emmolo/miniconda3/envs/env/lib/python3.10/site-packages/sklearn/linear_model/_logistic.py:1232: UserWarning: Setting penalty=None will ignore the C and l1_ratio parameters\n",
            "  warnings.warn(\n",
            "/home/n.emmolo/miniconda3/envs/env/lib/python3.10/site-packages/sklearn/linear_model/_sag.py:348: ConvergenceWarning: The max_iter was reached which means the coef_ did not converge\n",
            "  warnings.warn(\n",
            "[I 2025-10-21 17:33:21,896] Trial 26 finished with value: 0.8814616818430635 and parameters: {'penalty': None, 'C': 10.0, 'solver': 'saga'}. Best is trial 2 with value: 0.8814616818430635.\n",
            "[I 2025-10-21 17:33:21,986] Trial 27 finished with value: 0.8807294291927862 and parameters: {'penalty': 'l2', 'C': 100.0, 'solver': 'saga'}. Best is trial 2 with value: 0.8814616818430635.\n",
            "/home/n.emmolo/miniconda3/envs/env/lib/python3.10/site-packages/sklearn/linear_model/_logistic.py:1232: UserWarning: Setting penalty=None will ignore the C and l1_ratio parameters\n",
            "  warnings.warn(\n",
            "/home/n.emmolo/miniconda3/envs/env/lib/python3.10/site-packages/sklearn/linear_model/_sag.py:348: ConvergenceWarning: The max_iter was reached which means the coef_ did not converge\n",
            "  warnings.warn(\n",
            "[I 2025-10-21 17:33:22,189] Trial 28 finished with value: 0.8814616818430635 and parameters: {'penalty': None, 'C': 10.0, 'solver': 'sag'}. Best is trial 2 with value: 0.8814616818430635.\n",
            "[I 2025-10-21 17:33:22,243] Trial 29 finished with value: 0.863225017511227 and parameters: {'penalty': None, 'C': 1.0, 'solver': 'lbfgs'}. Best is trial 2 with value: 0.8814616818430635.\n",
            "/home/n.emmolo/miniconda3/envs/env/lib/python3.10/site-packages/sklearn/linear_model/_sag.py:348: ConvergenceWarning: The max_iter was reached which means the coef_ did not converge\n",
            "  warnings.warn(\n",
            "[I 2025-10-21 17:33:22,461] Trial 30 finished with value: 0.8814616818430635 and parameters: {'penalty': None, 'C': 1.0, 'solver': 'saga'}. Best is trial 2 with value: 0.8814616818430635.\n",
            "/home/n.emmolo/miniconda3/envs/env/lib/python3.10/site-packages/sklearn/linear_model/_logistic.py:1232: UserWarning: Setting penalty=None will ignore the C and l1_ratio parameters\n",
            "  warnings.warn(\n",
            "/home/n.emmolo/miniconda3/envs/env/lib/python3.10/site-packages/sklearn/linear_model/_sag.py:348: ConvergenceWarning: The max_iter was reached which means the coef_ did not converge\n",
            "  warnings.warn(\n",
            "[I 2025-10-21 17:33:22,681] Trial 31 finished with value: 0.8814616818430635 and parameters: {'penalty': None, 'C': 0.01, 'solver': 'saga'}. Best is trial 2 with value: 0.8814616818430635.\n",
            "/home/n.emmolo/miniconda3/envs/env/lib/python3.10/site-packages/sklearn/linear_model/_logistic.py:1232: UserWarning: Setting penalty=None will ignore the C and l1_ratio parameters\n",
            "  warnings.warn(\n",
            "/home/n.emmolo/miniconda3/envs/env/lib/python3.10/site-packages/sklearn/linear_model/_sag.py:348: ConvergenceWarning: The max_iter was reached which means the coef_ did not converge\n",
            "  warnings.warn(\n",
            "[I 2025-10-21 17:33:22,899] Trial 32 finished with value: 0.8814616818430635 and parameters: {'penalty': None, 'C': 0.01, 'solver': 'saga'}. Best is trial 2 with value: 0.8814616818430635.\n",
            "/home/n.emmolo/miniconda3/envs/env/lib/python3.10/site-packages/sklearn/linear_model/_logistic.py:1232: UserWarning: Setting penalty=None will ignore the C and l1_ratio parameters\n",
            "  warnings.warn(\n",
            "/home/n.emmolo/miniconda3/envs/env/lib/python3.10/site-packages/sklearn/linear_model/_sag.py:348: ConvergenceWarning: The max_iter was reached which means the coef_ did not converge\n",
            "  warnings.warn(\n",
            "[I 2025-10-21 17:33:23,119] Trial 33 finished with value: 0.8814616818430635 and parameters: {'penalty': None, 'C': 0.01, 'solver': 'saga'}. Best is trial 2 with value: 0.8814616818430635.\n",
            "[I 2025-10-21 17:33:23,189] Trial 34 finished with value: 0.45439821844316225 and parameters: {'penalty': 'l2', 'C': 0.01, 'solver': 'saga'}. Best is trial 2 with value: 0.8814616818430635.\n",
            "/home/n.emmolo/miniconda3/envs/env/lib/python3.10/site-packages/sklearn/linear_model/_logistic.py:1232: UserWarning: Setting penalty=None will ignore the C and l1_ratio parameters\n",
            "  warnings.warn(\n",
            "[I 2025-10-21 17:33:23,244] Trial 35 finished with value: 0.863225017511227 and parameters: {'penalty': None, 'C': 0.01, 'solver': 'lbfgs'}. Best is trial 2 with value: 0.8814616818430635.\n",
            "[I 2025-10-21 17:33:23,300] Trial 36 finished with value: 0.45439821844316225 and parameters: {'penalty': 'l2', 'C': 0.1, 'solver': 'saga'}. Best is trial 2 with value: 0.8814616818430635.\n",
            "[I 2025-10-21 17:33:23,334] Trial 37 finished with value: 0.0 and parameters: {'penalty': None, 'C': 100.0, 'solver': 'liblinear'}. Best is trial 2 with value: 0.8814616818430635.\n",
            "/home/n.emmolo/miniconda3/envs/env/lib/python3.10/site-packages/sklearn/linear_model/_logistic.py:1232: UserWarning: Setting penalty=None will ignore the C and l1_ratio parameters\n",
            "  warnings.warn(\n",
            "/home/n.emmolo/miniconda3/envs/env/lib/python3.10/site-packages/sklearn/linear_model/_sag.py:348: ConvergenceWarning: The max_iter was reached which means the coef_ did not converge\n",
            "  warnings.warn(\n",
            "[I 2025-10-21 17:33:23,535] Trial 38 finished with value: 0.8814616818430635 and parameters: {'penalty': None, 'C': 10.0, 'solver': 'sag'}. Best is trial 2 with value: 0.8814616818430635.\n",
            "[I 2025-10-21 17:33:23,580] Trial 39 finished with value: 0.862380110607061 and parameters: {'penalty': 'l2', 'C': 100.0, 'solver': 'liblinear'}. Best is trial 2 with value: 0.8814616818430635.\n",
            "/home/n.emmolo/miniconda3/envs/env/lib/python3.10/site-packages/sklearn/linear_model/_logistic.py:1232: UserWarning: Setting penalty=None will ignore the C and l1_ratio parameters\n",
            "  warnings.warn(\n",
            "/home/n.emmolo/miniconda3/envs/env/lib/python3.10/site-packages/sklearn/linear_model/_sag.py:348: ConvergenceWarning: The max_iter was reached which means the coef_ did not converge\n",
            "  warnings.warn(\n",
            "[I 2025-10-21 17:33:23,798] Trial 40 finished with value: 0.8814616818430635 and parameters: {'penalty': None, 'C': 10.0, 'solver': 'saga'}. Best is trial 2 with value: 0.8814616818430635.\n",
            "/home/n.emmolo/miniconda3/envs/env/lib/python3.10/site-packages/sklearn/linear_model/_logistic.py:1232: UserWarning: Setting penalty=None will ignore the C and l1_ratio parameters\n",
            "  warnings.warn(\n",
            "/home/n.emmolo/miniconda3/envs/env/lib/python3.10/site-packages/sklearn/linear_model/_sag.py:348: ConvergenceWarning: The max_iter was reached which means the coef_ did not converge\n",
            "  warnings.warn(\n",
            "[I 2025-10-21 17:33:24,017] Trial 41 finished with value: 0.8814616818430635 and parameters: {'penalty': None, 'C': 10.0, 'solver': 'saga'}. Best is trial 2 with value: 0.8814616818430635.\n",
            "/home/n.emmolo/miniconda3/envs/env/lib/python3.10/site-packages/sklearn/linear_model/_logistic.py:1232: UserWarning: Setting penalty=None will ignore the C and l1_ratio parameters\n",
            "  warnings.warn(\n",
            "/home/n.emmolo/miniconda3/envs/env/lib/python3.10/site-packages/sklearn/linear_model/_sag.py:348: ConvergenceWarning: The max_iter was reached which means the coef_ did not converge\n",
            "  warnings.warn(\n",
            "[I 2025-10-21 17:33:24,234] Trial 42 finished with value: 0.8814616818430635 and parameters: {'penalty': None, 'C': 10.0, 'solver': 'saga'}. Best is trial 2 with value: 0.8814616818430635.\n",
            "/home/n.emmolo/miniconda3/envs/env/lib/python3.10/site-packages/sklearn/linear_model/_logistic.py:1232: UserWarning: Setting penalty=None will ignore the C and l1_ratio parameters\n",
            "  warnings.warn(\n",
            "/home/n.emmolo/miniconda3/envs/env/lib/python3.10/site-packages/sklearn/linear_model/_sag.py:348: ConvergenceWarning: The max_iter was reached which means the coef_ did not converge\n",
            "  warnings.warn(\n",
            "[I 2025-10-21 17:33:24,451] Trial 43 finished with value: 0.8814616818430635 and parameters: {'penalty': None, 'C': 10.0, 'solver': 'saga'}. Best is trial 2 with value: 0.8814616818430635.\n",
            "/home/n.emmolo/miniconda3/envs/env/lib/python3.10/site-packages/sklearn/linear_model/_logistic.py:1232: UserWarning: Setting penalty=None will ignore the C and l1_ratio parameters\n",
            "  warnings.warn(\n",
            "/home/n.emmolo/miniconda3/envs/env/lib/python3.10/site-packages/sklearn/linear_model/_sag.py:348: ConvergenceWarning: The max_iter was reached which means the coef_ did not converge\n",
            "  warnings.warn(\n",
            "[I 2025-10-21 17:33:24,669] Trial 44 finished with value: 0.8814616818430635 and parameters: {'penalty': None, 'C': 10.0, 'solver': 'saga'}. Best is trial 2 with value: 0.8814616818430635.\n",
            "/home/n.emmolo/miniconda3/envs/env/lib/python3.10/site-packages/sklearn/linear_model/_logistic.py:1232: UserWarning: Setting penalty=None will ignore the C and l1_ratio parameters\n",
            "  warnings.warn(\n",
            "/home/n.emmolo/miniconda3/envs/env/lib/python3.10/site-packages/sklearn/linear_model/_sag.py:348: ConvergenceWarning: The max_iter was reached which means the coef_ did not converge\n",
            "  warnings.warn(\n",
            "[I 2025-10-21 17:33:24,887] Trial 45 finished with value: 0.8814616818430635 and parameters: {'penalty': None, 'C': 0.1, 'solver': 'saga'}. Best is trial 2 with value: 0.8814616818430635.\n",
            "[I 2025-10-21 17:33:24,920] Trial 46 finished with value: 0.0 and parameters: {'penalty': None, 'C': 100.0, 'solver': 'liblinear'}. Best is trial 2 with value: 0.8814616818430635.\n",
            "/home/n.emmolo/miniconda3/envs/env/lib/python3.10/site-packages/sklearn/linear_model/_logistic.py:1232: UserWarning: Setting penalty=None will ignore the C and l1_ratio parameters\n",
            "  warnings.warn(\n",
            "/home/n.emmolo/miniconda3/envs/env/lib/python3.10/site-packages/sklearn/linear_model/_sag.py:348: ConvergenceWarning: The max_iter was reached which means the coef_ did not converge\n",
            "  warnings.warn(\n",
            "[I 2025-10-21 17:33:25,138] Trial 47 finished with value: 0.8814616818430635 and parameters: {'penalty': None, 'C': 10.0, 'solver': 'saga'}. Best is trial 2 with value: 0.8814616818430635.\n",
            "[I 2025-10-21 17:33:25,186] Trial 48 finished with value: 0.45439821844316225 and parameters: {'penalty': 'l2', 'C': 0.01, 'solver': 'sag'}. Best is trial 2 with value: 0.8814616818430635.\n",
            "/home/n.emmolo/miniconda3/envs/env/lib/python3.10/site-packages/sklearn/linear_model/_sag.py:348: ConvergenceWarning: The max_iter was reached which means the coef_ did not converge\n",
            "  warnings.warn(\n",
            "[I 2025-10-21 17:33:25,403] Trial 49 finished with value: 0.8814616818430635 and parameters: {'penalty': None, 'C': 1.0, 'solver': 'saga'}. Best is trial 2 with value: 0.8814616818430635.\n"
          ]
        },
        {
          "name": "stdout",
          "output_type": "stream",
          "text": [
            "Best parameters: {'penalty': None, 'C': 100.0, 'solver': 'saga'}\n"
          ]
        }
      ],
      "source": [
        "# ----------------------------\n",
        "# Hyperparameter optimization\n",
        "# ----------------------------\n",
        "\n",
        "study = optuna.create_study(direction=\"maximize\") # maximize F1-score\n",
        "study.optimize(objectiveLR, n_trials=50) # 50 trials for demonstration; increase for better results\n",
        "\n",
        "print(\"Best parameters:\", study.best_params)"
      ]
    },
    {
      "cell_type": "code",
      "execution_count": 47,
      "metadata": {
        "colab": {
          "base_uri": "https://localhost:8080/"
        },
        "id": "EVdnxmT5IVy-",
        "outputId": "1c1345b6-873a-46f4-8376-de1c976f93da"
      },
      "outputs": [
        {
          "name": "stderr",
          "output_type": "stream",
          "text": [
            "/home/n.emmolo/miniconda3/envs/env/lib/python3.10/site-packages/sklearn/linear_model/_logistic.py:1232: UserWarning: Setting penalty=None will ignore the C and l1_ratio parameters\n",
            "  warnings.warn(\n"
          ]
        },
        {
          "name": "stdout",
          "output_type": "stream",
          "text": [
            "Classification Report:\n",
            "              precision    recall  f1-score   support\n",
            "\n",
            "           0       0.87      0.91      0.89        68\n",
            "           1       0.85      0.79      0.82        43\n",
            "\n",
            "    accuracy                           0.86       111\n",
            "   macro avg       0.86      0.85      0.86       111\n",
            "weighted avg       0.86      0.86      0.86       111\n",
            "\n",
            "Confusion Matrix:\n",
            "[[62  6]\n",
            " [ 9 34]]\n",
            "Weighted F1-score: 0.8638809564526821\n"
          ]
        },
        {
          "name": "stderr",
          "output_type": "stream",
          "text": [
            "/home/n.emmolo/miniconda3/envs/env/lib/python3.10/site-packages/sklearn/linear_model/_sag.py:348: ConvergenceWarning: The max_iter was reached which means the coef_ did not converge\n",
            "  warnings.warn(\n"
          ]
        }
      ],
      "source": [
        "# --------------------\n",
        "# Final training and evaluation\n",
        "# --------------------\n",
        "\n",
        "best_params = study.best_params\n",
        "best_model = Pipeline([\n",
        "    ('tfidf', TfidfVectorizer(\n",
        "        max_features=5000,\n",
        "        ngram_range=(1, 2),\n",
        "        stop_words=\"english\"\n",
        "    )),\n",
        "    ('clf', LogisticRegression( \n",
        "        C=best_params[\"C\"],\n",
        "        penalty=best_params[\"penalty\"] if best_params[\"penalty\"] != \"none\" else None,\n",
        "        solver=best_params[\"solver\"],\n",
        "        max_iter=1000,\n",
        "        random_state=42,\n",
        "    ))\n",
        "])\n",
        "\n",
        "best_model.fit(pd.concat([X_train, X_val]), pd.concat([y_train, y_val])) # train on train + validation\n",
        "y_pred = best_model.predict(X_test)\n",
        "\n",
        "print(\"Classification Report:\")\n",
        "print(classification_report(y_test, y_pred))\n",
        "print(\"Confusion Matrix:\")\n",
        "print(confusion_matrix(y_test, y_pred))\n",
        "print(\"Weighted F1-score:\", f1_score(y_test, y_pred, average=\"weighted\"))"
      ]
    },
    {
      "cell_type": "markdown",
      "metadata": {
        "id": "eJ3_RvLfPcI-"
      },
      "source": [
        "# **SUPPORT VECTOR MACHINE**"
      ]
    },
    {
      "cell_type": "code",
      "execution_count": 48,
      "metadata": {
        "id": "zXo60nn_PlnM"
      },
      "outputs": [],
      "source": [
        "import pandas as pd\n",
        "from sklearn.model_selection import train_test_split\n",
        "from sklearn.feature_extraction.text import TfidfVectorizer\n",
        "from sklearn.svm import LinearSVC\n",
        "from sklearn.pipeline import Pipeline\n",
        "from sklearn.metrics import classification_report, confusion_matrix, f1_score\n",
        "import optuna"
      ]
    },
    {
      "cell_type": "code",
      "execution_count": 49,
      "metadata": {
        "id": "N5CfNCtrRFoZ"
      },
      "outputs": [],
      "source": [
        "# ----------------\n",
        "# Load dataset\n",
        "# ----------------\n",
        "percorso_file = \"datasets/Unipi_NDF/df_ndf.csv\"\n",
        "df = pd.read_csv(percorso_file, sep=\"\\t\", encoding=\"utf-8\")\n",
        "df.head()\n",
        "\n",
        "X = df[\"texts\"].astype(str)\n",
        "y = df[\"labels\"]\n",
        "\n",
        "# split train/validation/test (0.6 / 0.2 / 0.2): stratify to maintain label distribution\n",
        "X_train, X_temp, y_train, y_temp = train_test_split(X, y, test_size=0.4, stratify=y, random_state=42)\n",
        "X_val, X_test, y_val, y_test = train_test_split(X_temp, y_temp, test_size=0.5, stratify=y_temp, random_state=42)"
      ]
    },
    {
      "cell_type": "code",
      "execution_count": 50,
      "metadata": {
        "id": "UEr7beXRRPCF"
      },
      "outputs": [],
      "source": [
        "# -----------------------------\n",
        "# Optuna objective function\n",
        "# -----------------------------\n",
        "\n",
        "def objectiveSVM(trial):\n",
        "    penalty = trial.suggest_categorical(\"penalty\", [\"l1\", \"l2\"])         # l1 or l2 penalty\n",
        "    C = trial.suggest_categorical(\"C\", [0.01, 0.1, 1.0, 10.0, 100.0])    # SVM regularization strength\n",
        "    loss = trial.suggest_categorical(\"loss\", [\"hinge\", \"squared_hinge\"]) # loss function\n",
        "    dual = trial.suggest_categorical(\"dual\", [True, False])              # dual formulation\n",
        "\n",
        "    # Some parameter combinations are invalid for LinearSVC\n",
        "    try:\n",
        "        model = Pipeline([\n",
        "            ('tfidf', TfidfVectorizer(  # TD-IDF vectorization inside pipeline\n",
        "                max_features=5000,      # limit to top 5000 features\n",
        "                ngram_range=(1, 2),     # unigrams + bigrams\n",
        "                stop_words=\"english\"    # remove English stop words\n",
        "            )),\n",
        "            ('clf', LinearSVC(         # Linear SVM classifier\n",
        "                C=C,\n",
        "                penalty=penalty,\n",
        "                loss=loss,\n",
        "                dual=dual,\n",
        "                max_iter=2000,\n",
        "                random_state=42\n",
        "            ))\n",
        "        ])\n",
        "\n",
        "        model.fit(X_train, y_train)\n",
        "        preds = model.predict(X_val)\n",
        "        f1 = f1_score(y_val, preds, average=\"weighted\") # weighted F1-score: average for label imbalance\n",
        "        return f1\n",
        "    \n",
        "    except Exception:\n",
        "        return 0.0  # Return a default value in case of failure"
      ]
    },
    {
      "cell_type": "code",
      "execution_count": 51,
      "metadata": {
        "colab": {
          "base_uri": "https://localhost:8080/"
        },
        "id": "BOFCMR6gRja1",
        "outputId": "50d95c54-c6e0-4cea-d78e-15814fc360ed"
      },
      "outputs": [
        {
          "name": "stderr",
          "output_type": "stream",
          "text": [
            "[I 2025-10-21 17:33:25,743] A new study created in memory with name: no-name-67d32e58-1edb-4097-8dc1-5e43fb63d35e\n",
            "[I 2025-10-21 17:33:25,828] Trial 0 finished with value: 0.8814616818430635 and parameters: {'penalty': 'l2', 'C': 100.0, 'loss': 'squared_hinge', 'dual': True}. Best is trial 0 with value: 0.8814616818430635.\n",
            "[I 2025-10-21 17:33:25,860] Trial 1 finished with value: 0.0 and parameters: {'penalty': 'l1', 'C': 0.01, 'loss': 'hinge', 'dual': True}. Best is trial 0 with value: 0.8814616818430635.\n",
            "[I 2025-10-21 17:33:25,902] Trial 2 finished with value: 0.45439821844316225 and parameters: {'penalty': 'l1', 'C': 0.1, 'loss': 'squared_hinge', 'dual': False}. Best is trial 0 with value: 0.8814616818430635.\n",
            "[I 2025-10-21 17:33:25,935] Trial 3 finished with value: 0.0 and parameters: {'penalty': 'l1', 'C': 0.1, 'loss': 'squared_hinge', 'dual': True}. Best is trial 0 with value: 0.8814616818430635.\n",
            "[I 2025-10-21 17:33:25,968] Trial 4 finished with value: 0.0 and parameters: {'penalty': 'l1', 'C': 0.01, 'loss': 'hinge', 'dual': False}. Best is trial 0 with value: 0.8814616818430635.\n",
            "[I 2025-10-21 17:33:26,008] Trial 5 finished with value: 0.45439821844316225 and parameters: {'penalty': 'l2', 'C': 0.1, 'loss': 'hinge', 'dual': True}. Best is trial 0 with value: 0.8814616818430635.\n",
            "[I 2025-10-21 17:33:26,054] Trial 6 finished with value: 0.8719622061085475 and parameters: {'penalty': 'l2', 'C': 10.0, 'loss': 'squared_hinge', 'dual': True}. Best is trial 0 with value: 0.8814616818430635.\n",
            "[I 2025-10-21 17:33:26,129] Trial 7 finished with value: 0.8902533195216121 and parameters: {'penalty': 'l2', 'C': 100.0, 'loss': 'squared_hinge', 'dual': False}. Best is trial 7 with value: 0.8902533195216121.\n",
            "[I 2025-10-21 17:33:26,171] Trial 8 finished with value: 0.862380110607061 and parameters: {'penalty': 'l2', 'C': 1.0, 'loss': 'squared_hinge', 'dual': True}. Best is trial 7 with value: 0.8902533195216121.\n",
            "[I 2025-10-21 17:33:26,211] Trial 9 finished with value: 0.45439821844316225 and parameters: {'penalty': 'l2', 'C': 0.01, 'loss': 'hinge', 'dual': True}. Best is trial 7 with value: 0.8902533195216121.\n",
            "[I 2025-10-21 17:33:26,287] Trial 10 finished with value: 0.8902533195216121 and parameters: {'penalty': 'l2', 'C': 100.0, 'loss': 'squared_hinge', 'dual': False}. Best is trial 7 with value: 0.8902533195216121.\n",
            "[I 2025-10-21 17:33:26,362] Trial 11 finished with value: 0.8902533195216121 and parameters: {'penalty': 'l2', 'C': 100.0, 'loss': 'squared_hinge', 'dual': False}. Best is trial 7 with value: 0.8902533195216121.\n",
            "[I 2025-10-21 17:33:26,437] Trial 12 finished with value: 0.8902533195216121 and parameters: {'penalty': 'l2', 'C': 100.0, 'loss': 'squared_hinge', 'dual': False}. Best is trial 7 with value: 0.8902533195216121.\n",
            "[I 2025-10-21 17:33:26,514] Trial 13 finished with value: 0.8902533195216121 and parameters: {'penalty': 'l2', 'C': 100.0, 'loss': 'squared_hinge', 'dual': False}. Best is trial 7 with value: 0.8902533195216121.\n",
            "[I 2025-10-21 17:33:26,590] Trial 14 finished with value: 0.8902533195216121 and parameters: {'penalty': 'l2', 'C': 100.0, 'loss': 'squared_hinge', 'dual': False}. Best is trial 7 with value: 0.8902533195216121.\n",
            "[I 2025-10-21 17:33:26,636] Trial 15 finished with value: 0.862380110607061 and parameters: {'penalty': 'l2', 'C': 1.0, 'loss': 'squared_hinge', 'dual': False}. Best is trial 7 with value: 0.8902533195216121.\n",
            "[I 2025-10-21 17:33:26,687] Trial 16 finished with value: 0.8719622061085475 and parameters: {'penalty': 'l2', 'C': 10.0, 'loss': 'squared_hinge', 'dual': False}. Best is trial 7 with value: 0.8902533195216121.\n",
            "[I 2025-10-21 17:33:26,764] Trial 17 finished with value: 0.8902533195216121 and parameters: {'penalty': 'l2', 'C': 100.0, 'loss': 'squared_hinge', 'dual': False}. Best is trial 7 with value: 0.8902533195216121.\n",
            "[I 2025-10-21 17:33:26,799] Trial 18 finished with value: 0.0 and parameters: {'penalty': 'l1', 'C': 100.0, 'loss': 'hinge', 'dual': False}. Best is trial 7 with value: 0.8902533195216121.\n",
            "[I 2025-10-21 17:33:26,874] Trial 19 finished with value: 0.8902533195216121 and parameters: {'penalty': 'l2', 'C': 100.0, 'loss': 'squared_hinge', 'dual': False}. Best is trial 7 with value: 0.8902533195216121.\n",
            "[I 2025-10-21 17:33:26,919] Trial 20 finished with value: 0.862380110607061 and parameters: {'penalty': 'l2', 'C': 1.0, 'loss': 'squared_hinge', 'dual': False}. Best is trial 7 with value: 0.8902533195216121.\n",
            "[I 2025-10-21 17:33:26,995] Trial 21 finished with value: 0.8902533195216121 and parameters: {'penalty': 'l2', 'C': 100.0, 'loss': 'squared_hinge', 'dual': False}. Best is trial 7 with value: 0.8902533195216121.\n",
            "[I 2025-10-21 17:33:27,070] Trial 22 finished with value: 0.8902533195216121 and parameters: {'penalty': 'l2', 'C': 100.0, 'loss': 'squared_hinge', 'dual': False}. Best is trial 7 with value: 0.8902533195216121.\n",
            "[I 2025-10-21 17:33:27,145] Trial 23 finished with value: 0.8902533195216121 and parameters: {'penalty': 'l2', 'C': 100.0, 'loss': 'squared_hinge', 'dual': False}. Best is trial 7 with value: 0.8902533195216121.\n",
            "[I 2025-10-21 17:33:27,197] Trial 24 finished with value: 0.8719622061085475 and parameters: {'penalty': 'l2', 'C': 10.0, 'loss': 'squared_hinge', 'dual': False}. Best is trial 7 with value: 0.8902533195216121.\n",
            "[I 2025-10-21 17:33:27,273] Trial 25 finished with value: 0.8902533195216121 and parameters: {'penalty': 'l2', 'C': 100.0, 'loss': 'squared_hinge', 'dual': False}. Best is trial 7 with value: 0.8902533195216121.\n",
            "/home/n.emmolo/miniconda3/envs/env/lib/python3.10/site-packages/sklearn/svm/_base.py:1250: ConvergenceWarning: Liblinear failed to converge, increase the number of iterations.\n",
            "  warnings.warn(\n",
            "[I 2025-10-21 17:33:27,358] Trial 26 finished with value: 0.8112977842707573 and parameters: {'penalty': 'l1', 'C': 100.0, 'loss': 'squared_hinge', 'dual': False}. Best is trial 7 with value: 0.8902533195216121.\n",
            "[I 2025-10-21 17:33:27,392] Trial 27 finished with value: 0.0 and parameters: {'penalty': 'l2', 'C': 100.0, 'loss': 'hinge', 'dual': False}. Best is trial 7 with value: 0.8902533195216121.\n",
            "[I 2025-10-21 17:33:27,468] Trial 28 finished with value: 0.8902533195216121 and parameters: {'penalty': 'l2', 'C': 100.0, 'loss': 'squared_hinge', 'dual': False}. Best is trial 7 with value: 0.8902533195216121.\n",
            "[I 2025-10-21 17:33:27,543] Trial 29 finished with value: 0.8902533195216121 and parameters: {'penalty': 'l2', 'C': 100.0, 'loss': 'squared_hinge', 'dual': False}. Best is trial 7 with value: 0.8902533195216121.\n",
            "[I 2025-10-21 17:33:27,588] Trial 30 finished with value: 0.7827442827442828 and parameters: {'penalty': 'l2', 'C': 0.1, 'loss': 'squared_hinge', 'dual': False}. Best is trial 7 with value: 0.8902533195216121.\n",
            "[I 2025-10-21 17:33:27,664] Trial 31 finished with value: 0.8902533195216121 and parameters: {'penalty': 'l2', 'C': 100.0, 'loss': 'squared_hinge', 'dual': False}. Best is trial 7 with value: 0.8902533195216121.\n",
            "[I 2025-10-21 17:33:27,740] Trial 32 finished with value: 0.8902533195216121 and parameters: {'penalty': 'l2', 'C': 100.0, 'loss': 'squared_hinge', 'dual': False}. Best is trial 7 with value: 0.8902533195216121.\n",
            "[I 2025-10-21 17:33:27,784] Trial 33 finished with value: 0.45439821844316225 and parameters: {'penalty': 'l2', 'C': 0.01, 'loss': 'squared_hinge', 'dual': False}. Best is trial 7 with value: 0.8902533195216121.\n",
            "[I 2025-10-21 17:33:27,819] Trial 34 finished with value: 0.0 and parameters: {'penalty': 'l1', 'C': 100.0, 'loss': 'squared_hinge', 'dual': True}. Best is trial 7 with value: 0.8902533195216121.\n",
            "[I 2025-10-21 17:33:27,853] Trial 35 finished with value: 0.0 and parameters: {'penalty': 'l1', 'C': 100.0, 'loss': 'hinge', 'dual': False}. Best is trial 7 with value: 0.8902533195216121.\n",
            "[I 2025-10-21 17:33:27,898] Trial 36 finished with value: 0.7827442827442828 and parameters: {'penalty': 'l2', 'C': 0.1, 'loss': 'squared_hinge', 'dual': False}. Best is trial 7 with value: 0.8902533195216121.\n",
            "[I 2025-10-21 17:33:27,941] Trial 37 finished with value: 0.45439821844316225 and parameters: {'penalty': 'l2', 'C': 0.01, 'loss': 'squared_hinge', 'dual': True}. Best is trial 7 with value: 0.8902533195216121.\n",
            "[I 2025-10-21 17:33:27,975] Trial 38 finished with value: 0.0 and parameters: {'penalty': 'l1', 'C': 10.0, 'loss': 'hinge', 'dual': False}. Best is trial 7 with value: 0.8902533195216121.\n",
            "[I 2025-10-21 17:33:28,019] Trial 39 finished with value: 0.862380110607061 and parameters: {'penalty': 'l2', 'C': 1.0, 'loss': 'squared_hinge', 'dual': True}. Best is trial 7 with value: 0.8902533195216121.\n",
            "[I 2025-10-21 17:33:28,063] Trial 40 finished with value: 0.7827442827442828 and parameters: {'penalty': 'l2', 'C': 0.1, 'loss': 'squared_hinge', 'dual': False}. Best is trial 7 with value: 0.8902533195216121.\n",
            "[I 2025-10-21 17:33:28,141] Trial 41 finished with value: 0.8902533195216121 and parameters: {'penalty': 'l2', 'C': 100.0, 'loss': 'squared_hinge', 'dual': False}. Best is trial 7 with value: 0.8902533195216121.\n",
            "[I 2025-10-21 17:33:28,217] Trial 42 finished with value: 0.8902533195216121 and parameters: {'penalty': 'l2', 'C': 100.0, 'loss': 'squared_hinge', 'dual': False}. Best is trial 7 with value: 0.8902533195216121.\n",
            "[I 2025-10-21 17:33:28,293] Trial 43 finished with value: 0.8902533195216121 and parameters: {'penalty': 'l2', 'C': 100.0, 'loss': 'squared_hinge', 'dual': False}. Best is trial 7 with value: 0.8902533195216121.\n",
            "[I 2025-10-21 17:33:28,368] Trial 44 finished with value: 0.8902533195216121 and parameters: {'penalty': 'l2', 'C': 100.0, 'loss': 'squared_hinge', 'dual': False}. Best is trial 7 with value: 0.8902533195216121.\n",
            "[I 2025-10-21 17:33:28,416] Trial 45 finished with value: 0.8814616818430635 and parameters: {'penalty': 'l2', 'C': 100.0, 'loss': 'hinge', 'dual': True}. Best is trial 7 with value: 0.8902533195216121.\n",
            "[I 2025-10-21 17:33:28,459] Trial 46 finished with value: 0.45439821844316225 and parameters: {'penalty': 'l2', 'C': 0.01, 'loss': 'squared_hinge', 'dual': False}. Best is trial 7 with value: 0.8902533195216121.\n",
            "[I 2025-10-21 17:33:28,505] Trial 47 finished with value: 0.862380110607061 and parameters: {'penalty': 'l2', 'C': 1.0, 'loss': 'squared_hinge', 'dual': False}. Best is trial 7 with value: 0.8902533195216121.\n",
            "[I 2025-10-21 17:33:28,578] Trial 48 finished with value: 0.8027799227799227 and parameters: {'penalty': 'l1', 'C': 10.0, 'loss': 'squared_hinge', 'dual': False}. Best is trial 7 with value: 0.8902533195216121.\n",
            "[I 2025-10-21 17:33:28,655] Trial 49 finished with value: 0.8902533195216121 and parameters: {'penalty': 'l2', 'C': 100.0, 'loss': 'squared_hinge', 'dual': False}. Best is trial 7 with value: 0.8902533195216121.\n"
          ]
        },
        {
          "name": "stdout",
          "output_type": "stream",
          "text": [
            "Best parameters: {'penalty': 'l2', 'C': 100.0, 'loss': 'squared_hinge', 'dual': False}\n"
          ]
        }
      ],
      "source": [
        "# ----------------------------\n",
        "# Hyperparameter optimization\n",
        "# ----------------------------\n",
        "\n",
        "study = optuna.create_study(direction=\"maximize\") # maximize F1-score\n",
        "study.optimize(objectiveSVM, n_trials=50) # 50 trials for demonstration; increase for better results\n",
        "\n",
        "print(\"Best parameters:\", study.best_params)"
      ]
    },
    {
      "cell_type": "code",
      "execution_count": 52,
      "metadata": {
        "id": "TsBmdtFwRlJs"
      },
      "outputs": [
        {
          "name": "stdout",
          "output_type": "stream",
          "text": [
            "Classification Report:\n",
            "              precision    recall  f1-score   support\n",
            "\n",
            "           0       0.87      0.90      0.88        68\n",
            "           1       0.83      0.79      0.81        43\n",
            "\n",
            "    accuracy                           0.86       111\n",
            "   macro avg       0.85      0.84      0.85       111\n",
            "weighted avg       0.86      0.86      0.86       111\n",
            "\n",
            "Confusion Matrix:\n",
            "[[61  7]\n",
            " [ 9 34]]\n",
            "Weighted F1-score: 0.8551843769235075\n"
          ]
        }
      ],
      "source": [
        "# --------------------\n",
        "# Final training and evaluation\n",
        "# --------------------\n",
        "\n",
        "best_params = study.best_params\n",
        "best_model = Pipeline([\n",
        "    ('tfidf', TfidfVectorizer(\n",
        "        max_features=5000,\n",
        "        ngram_range=(1, 2),\n",
        "        stop_words=\"english\"\n",
        "    )),\n",
        "    ('clf', LinearSVC(\n",
        "        C=best_params[\"C\"],\n",
        "        penalty=best_params[\"penalty\"],\n",
        "        loss=best_params[\"loss\"],\n",
        "        dual=best_params[\"dual\"],\n",
        "        max_iter=2000,\n",
        "        random_state=42\n",
        "    ))\n",
        "])\n",
        "\n",
        "best_model.fit(pd.concat([X_train, X_val]), pd.concat([y_train, y_val])) # train on train + validation\n",
        "y_pred = best_model.predict(X_test)\n",
        "\n",
        "print(\"Classification Report:\")\n",
        "print(classification_report(y_test, y_pred))\n",
        "print(\"Confusion Matrix:\")\n",
        "print(confusion_matrix(y_test, y_pred))\n",
        "print(\"Weighted F1-score:\", f1_score(y_test, y_pred, average=\"weighted\"))"
      ]
    },
    {
      "cell_type": "markdown",
      "metadata": {},
      "source": [
        "# **NAIVE BAYES**"
      ]
    },
    {
      "cell_type": "code",
      "execution_count": 53,
      "metadata": {
        "id": "u6tr_N8efARd"
      },
      "outputs": [],
      "source": [
        "import pandas as pd\n",
        "from sklearn.model_selection import train_test_split\n",
        "from sklearn.feature_extraction.text import TfidfVectorizer\n",
        "from sklearn.naive_bayes import MultinomialNB\n",
        "from sklearn.pipeline import Pipeline\n",
        "from sklearn.metrics import classification_report, confusion_matrix, f1_score\n",
        "import optuna"
      ]
    },
    {
      "cell_type": "code",
      "execution_count": 54,
      "metadata": {
        "id": "6ME60LNmfAlE"
      },
      "outputs": [],
      "source": [
        "# ----------------\n",
        "# Load dataset\n",
        "# ----------------\n",
        "\n",
        "path_file = \"datasets/Unipi_NDF/df_ndf.csv\"\n",
        "df = pd.read_csv(path_file, sep=\"\\t\", encoding=\"utf-8\")\n",
        "df.head()\n",
        "\n",
        "X = df[\"texts\"].astype(str)\n",
        "y = df[\"labels\"]\n",
        "\n",
        "# split train/validation/test (0.6 / 0.2 / 0.2): stratify to maintain label distribution\n",
        "X_train, X_temp, y_train, y_temp = train_test_split(X, y, test_size=0.4, stratify=y, random_state=42)\n",
        "X_val, X_test, y_val, y_test = train_test_split(X_temp, y_temp, test_size=0.5, stratify=y_temp, random_state=42)"
      ]
    },
    {
      "cell_type": "code",
      "execution_count": 55,
      "metadata": {
        "id": "aN6oUGXvfBNH"
      },
      "outputs": [],
      "source": [
        "# -----------------------------\n",
        "# Optuna objective function\n",
        "# -----------------------------\n",
        "\n",
        "def objectiveNB(trial):\n",
        "    alpha = trial.suggest_categorical(\"alpha\", [0.01, 0.1, 1.0, 10.0, 100.0]) # smoothing parameter\n",
        "    fit_prior = trial.suggest_categorical(\"fit_prior\", [True, False])   # whether to learn class prior probabilities\n",
        "\n",
        "    model = Pipeline([\n",
        "        ('tfidf', TfidfVectorizer(  # TD-IDF vectorization inside pipeline\n",
        "            max_features=5000,      # limit to top 5000 features\n",
        "            ngram_range=(1, 2),     # unigrams + bigrams\n",
        "            stop_words=\"english\"    # remove English stop words\n",
        "        )),\n",
        "        ('clf', MultinomialNB(      # Multinomial Naive Bayes classifier\n",
        "            alpha=alpha,\n",
        "            fit_prior=fit_prior\n",
        "        ))\n",
        "    ])\n",
        "\n",
        "    model.fit(X_train, y_train)\n",
        "    preds = model.predict(X_val)\n",
        "    f1 = f1_score(y_val, preds, average=\"weighted\") # weighted F1-score: average for label imbalance\n",
        "    return f1"
      ]
    },
    {
      "cell_type": "code",
      "execution_count": 56,
      "metadata": {
        "colab": {
          "base_uri": "https://localhost:8080/"
        },
        "id": "JDNM174FfBF_",
        "outputId": "7b85d242-e395-4058-a600-36f706a99147"
      },
      "outputs": [
        {
          "name": "stderr",
          "output_type": "stream",
          "text": [
            "[I 2025-10-21 17:33:28,813] A new study created in memory with name: no-name-6a15be51-ebee-4db9-89f4-b6383361a328\n",
            "[I 2025-10-21 17:33:28,865] Trial 0 finished with value: 0.8908846734933691 and parameters: {'alpha': 0.01, 'fit_prior': True}. Best is trial 0 with value: 0.8908846734933691.\n",
            "[I 2025-10-21 17:33:28,906] Trial 1 finished with value: 0.8050227461992169 and parameters: {'alpha': 1.0, 'fit_prior': False}. Best is trial 0 with value: 0.8908846734933691.\n",
            "[I 2025-10-21 17:33:28,947] Trial 2 finished with value: 0.5977497859850802 and parameters: {'alpha': 100.0, 'fit_prior': False}. Best is trial 0 with value: 0.8908846734933691.\n",
            "[I 2025-10-21 17:33:28,987] Trial 3 finished with value: 0.8908846734933691 and parameters: {'alpha': 0.01, 'fit_prior': True}. Best is trial 0 with value: 0.8908846734933691.\n",
            "[I 2025-10-21 17:33:29,028] Trial 4 finished with value: 0.8050227461992169 and parameters: {'alpha': 1.0, 'fit_prior': False}. Best is trial 0 with value: 0.8908846734933691.\n",
            "[I 2025-10-21 17:33:29,069] Trial 5 finished with value: 0.8503997869535 and parameters: {'alpha': 0.1, 'fit_prior': True}. Best is trial 0 with value: 0.8908846734933691.\n",
            "[I 2025-10-21 17:33:29,109] Trial 6 finished with value: 0.8908846734933691 and parameters: {'alpha': 0.01, 'fit_prior': True}. Best is trial 0 with value: 0.8908846734933691.\n",
            "[I 2025-10-21 17:33:29,150] Trial 7 finished with value: 0.7477936157181441 and parameters: {'alpha': 1.0, 'fit_prior': True}. Best is trial 0 with value: 0.8908846734933691.\n",
            "[I 2025-10-21 17:33:29,190] Trial 8 finished with value: 0.7477936157181441 and parameters: {'alpha': 1.0, 'fit_prior': True}. Best is trial 0 with value: 0.8908846734933691.\n",
            "[I 2025-10-21 17:33:29,231] Trial 9 finished with value: 0.45439821844316225 and parameters: {'alpha': 10.0, 'fit_prior': True}. Best is trial 0 with value: 0.8908846734933691.\n",
            "[I 2025-10-21 17:33:29,272] Trial 10 finished with value: 0.8820984144298871 and parameters: {'alpha': 0.01, 'fit_prior': False}. Best is trial 0 with value: 0.8908846734933691.\n",
            "[I 2025-10-21 17:33:29,314] Trial 11 finished with value: 0.8908846734933691 and parameters: {'alpha': 0.01, 'fit_prior': True}. Best is trial 0 with value: 0.8908846734933691.\n",
            "[I 2025-10-21 17:33:29,355] Trial 12 finished with value: 0.8908846734933691 and parameters: {'alpha': 0.01, 'fit_prior': True}. Best is trial 0 with value: 0.8908846734933691.\n",
            "[I 2025-10-21 17:33:29,397] Trial 13 finished with value: 0.8908846734933691 and parameters: {'alpha': 0.01, 'fit_prior': True}. Best is trial 0 with value: 0.8908846734933691.\n",
            "[I 2025-10-21 17:33:29,438] Trial 14 finished with value: 0.45439821844316225 and parameters: {'alpha': 100.0, 'fit_prior': True}. Best is trial 0 with value: 0.8908846734933691.\n",
            "[I 2025-10-21 17:33:29,480] Trial 15 finished with value: 0.8503997869535 and parameters: {'alpha': 0.1, 'fit_prior': True}. Best is trial 0 with value: 0.8908846734933691.\n",
            "[I 2025-10-21 17:33:29,522] Trial 16 finished with value: 0.45439821844316225 and parameters: {'alpha': 10.0, 'fit_prior': True}. Best is trial 0 with value: 0.8908846734933691.\n",
            "[I 2025-10-21 17:33:29,563] Trial 17 finished with value: 0.8908846734933691 and parameters: {'alpha': 0.01, 'fit_prior': True}. Best is trial 0 with value: 0.8908846734933691.\n",
            "[I 2025-10-21 17:33:29,605] Trial 18 finished with value: 0.8820984144298871 and parameters: {'alpha': 0.01, 'fit_prior': False}. Best is trial 0 with value: 0.8908846734933691.\n",
            "[I 2025-10-21 17:33:29,646] Trial 19 finished with value: 0.8908846734933691 and parameters: {'alpha': 0.01, 'fit_prior': True}. Best is trial 0 with value: 0.8908846734933691.\n",
            "[I 2025-10-21 17:33:29,688] Trial 20 finished with value: 0.8503997869535 and parameters: {'alpha': 0.1, 'fit_prior': True}. Best is trial 0 with value: 0.8908846734933691.\n",
            "[I 2025-10-21 17:33:29,730] Trial 21 finished with value: 0.8908846734933691 and parameters: {'alpha': 0.01, 'fit_prior': True}. Best is trial 0 with value: 0.8908846734933691.\n",
            "[I 2025-10-21 17:33:29,772] Trial 22 finished with value: 0.8908846734933691 and parameters: {'alpha': 0.01, 'fit_prior': True}. Best is trial 0 with value: 0.8908846734933691.\n",
            "[I 2025-10-21 17:33:29,813] Trial 23 finished with value: 0.8908846734933691 and parameters: {'alpha': 0.01, 'fit_prior': True}. Best is trial 0 with value: 0.8908846734933691.\n",
            "[I 2025-10-21 17:33:29,854] Trial 24 finished with value: 0.45439821844316225 and parameters: {'alpha': 100.0, 'fit_prior': True}. Best is trial 0 with value: 0.8908846734933691.\n",
            "[I 2025-10-21 17:33:29,896] Trial 25 finished with value: 0.8908846734933691 and parameters: {'alpha': 0.01, 'fit_prior': True}. Best is trial 0 with value: 0.8908846734933691.\n",
            "[I 2025-10-21 17:33:29,937] Trial 26 finished with value: 0.45439821844316225 and parameters: {'alpha': 10.0, 'fit_prior': True}. Best is trial 0 with value: 0.8908846734933691.\n",
            "[I 2025-10-21 17:33:29,979] Trial 27 finished with value: 0.8820984144298871 and parameters: {'alpha': 0.01, 'fit_prior': False}. Best is trial 0 with value: 0.8908846734933691.\n",
            "[I 2025-10-21 17:33:30,021] Trial 28 finished with value: 0.8908846734933691 and parameters: {'alpha': 0.01, 'fit_prior': True}. Best is trial 0 with value: 0.8908846734933691.\n",
            "[I 2025-10-21 17:33:30,063] Trial 29 finished with value: 0.8820984144298871 and parameters: {'alpha': 0.01, 'fit_prior': False}. Best is trial 0 with value: 0.8908846734933691.\n",
            "[I 2025-10-21 17:33:30,104] Trial 30 finished with value: 0.8503997869535 and parameters: {'alpha': 0.1, 'fit_prior': True}. Best is trial 0 with value: 0.8908846734933691.\n",
            "[I 2025-10-21 17:33:30,146] Trial 31 finished with value: 0.8908846734933691 and parameters: {'alpha': 0.01, 'fit_prior': True}. Best is trial 0 with value: 0.8908846734933691.\n",
            "[I 2025-10-21 17:33:30,188] Trial 32 finished with value: 0.8908846734933691 and parameters: {'alpha': 0.01, 'fit_prior': True}. Best is trial 0 with value: 0.8908846734933691.\n",
            "[I 2025-10-21 17:33:30,229] Trial 33 finished with value: 0.45439821844316225 and parameters: {'alpha': 100.0, 'fit_prior': True}. Best is trial 0 with value: 0.8908846734933691.\n",
            "[I 2025-10-21 17:33:30,271] Trial 34 finished with value: 0.8050227461992169 and parameters: {'alpha': 1.0, 'fit_prior': False}. Best is trial 0 with value: 0.8908846734933691.\n",
            "[I 2025-10-21 17:33:30,313] Trial 35 finished with value: 0.8908846734933691 and parameters: {'alpha': 0.01, 'fit_prior': True}. Best is trial 0 with value: 0.8908846734933691.\n",
            "[I 2025-10-21 17:33:30,354] Trial 36 finished with value: 0.8908846734933691 and parameters: {'alpha': 0.01, 'fit_prior': True}. Best is trial 0 with value: 0.8908846734933691.\n",
            "[I 2025-10-21 17:33:30,396] Trial 37 finished with value: 0.7477936157181441 and parameters: {'alpha': 1.0, 'fit_prior': True}. Best is trial 0 with value: 0.8908846734933691.\n",
            "[I 2025-10-21 17:33:30,438] Trial 38 finished with value: 0.7106884662440217 and parameters: {'alpha': 10.0, 'fit_prior': False}. Best is trial 0 with value: 0.8908846734933691.\n",
            "[I 2025-10-21 17:33:30,479] Trial 39 finished with value: 0.8908846734933691 and parameters: {'alpha': 0.01, 'fit_prior': True}. Best is trial 0 with value: 0.8908846734933691.\n",
            "[I 2025-10-21 17:33:30,522] Trial 40 finished with value: 0.45439821844316225 and parameters: {'alpha': 100.0, 'fit_prior': True}. Best is trial 0 with value: 0.8908846734933691.\n",
            "[I 2025-10-21 17:33:30,565] Trial 41 finished with value: 0.8908846734933691 and parameters: {'alpha': 0.01, 'fit_prior': True}. Best is trial 0 with value: 0.8908846734933691.\n",
            "[I 2025-10-21 17:33:30,607] Trial 42 finished with value: 0.8908846734933691 and parameters: {'alpha': 0.01, 'fit_prior': True}. Best is trial 0 with value: 0.8908846734933691.\n",
            "[I 2025-10-21 17:33:30,648] Trial 43 finished with value: 0.8908846734933691 and parameters: {'alpha': 0.01, 'fit_prior': True}. Best is trial 0 with value: 0.8908846734933691.\n",
            "[I 2025-10-21 17:33:30,691] Trial 44 finished with value: 0.8908846734933691 and parameters: {'alpha': 0.01, 'fit_prior': True}. Best is trial 0 with value: 0.8908846734933691.\n",
            "[I 2025-10-21 17:33:30,732] Trial 45 finished with value: 0.7477936157181441 and parameters: {'alpha': 1.0, 'fit_prior': True}. Best is trial 0 with value: 0.8908846734933691.\n",
            "[I 2025-10-21 17:33:30,774] Trial 46 finished with value: 0.8503997869535 and parameters: {'alpha': 0.1, 'fit_prior': True}. Best is trial 0 with value: 0.8908846734933691.\n",
            "[I 2025-10-21 17:33:30,816] Trial 47 finished with value: 0.8908846734933691 and parameters: {'alpha': 0.01, 'fit_prior': True}. Best is trial 0 with value: 0.8908846734933691.\n",
            "[I 2025-10-21 17:33:30,858] Trial 48 finished with value: 0.7106884662440217 and parameters: {'alpha': 10.0, 'fit_prior': False}. Best is trial 0 with value: 0.8908846734933691.\n",
            "[I 2025-10-21 17:33:30,900] Trial 49 finished with value: 0.8908846734933691 and parameters: {'alpha': 0.01, 'fit_prior': True}. Best is trial 0 with value: 0.8908846734933691.\n"
          ]
        },
        {
          "name": "stdout",
          "output_type": "stream",
          "text": [
            "Best parameters: {'alpha': 0.01, 'fit_prior': True}\n"
          ]
        }
      ],
      "source": [
        "# ----------------------------\n",
        "# Hyperparameter optimization\n",
        "# ----------------------------\n",
        "\n",
        "study = optuna.create_study(direction=\"maximize\") # maximize F1-score\n",
        "study.optimize(objectiveNB, n_trials=50) # 50 trials for demonstration; increase for better results\n",
        "\n",
        "print(\"Best parameters:\", study.best_params)"
      ]
    },
    {
      "cell_type": "code",
      "execution_count": 57,
      "metadata": {
        "id": "DWP5I4I6fVXW"
      },
      "outputs": [
        {
          "name": "stdout",
          "output_type": "stream",
          "text": [
            "Classification Report:\n",
            "              precision    recall  f1-score   support\n",
            "\n",
            "           0       0.89      0.93      0.91        68\n",
            "           1       0.88      0.81      0.84        43\n",
            "\n",
            "    accuracy                           0.88       111\n",
            "   macro avg       0.88      0.87      0.87       111\n",
            "weighted avg       0.88      0.88      0.88       111\n",
            "\n",
            "Confusion Matrix:\n",
            "[[63  5]\n",
            " [ 8 35]]\n",
            "Weighted F1-score: 0.8820301622589912\n"
          ]
        }
      ],
      "source": [
        "# --------------------\n",
        "# Final training and evaluation\n",
        "# --------------------\n",
        "\n",
        "best_params = study.best_params\n",
        "best_model = Pipeline([\n",
        "    ('tfidf', TfidfVectorizer(\n",
        "        max_features=5000,\n",
        "        ngram_range=(1, 2),\n",
        "        stop_words=\"english\"\n",
        "    )),\n",
        "    ('clf', MultinomialNB(\n",
        "        alpha=best_params[\"alpha\"],\n",
        "        fit_prior=best_params[\"fit_prior\"]\n",
        "    ))\n",
        "])\n",
        "\n",
        "best_model.fit(pd.concat([X_train, X_val]), pd.concat([y_train, y_val])) # train on train + validation\n",
        "y_pred = best_model.predict(X_test)\n",
        "\n",
        "print(\"Classification Report:\")\n",
        "print(classification_report(y_test, y_pred))\n",
        "print(\"Confusion Matrix:\")\n",
        "print(confusion_matrix(y_test, y_pred))\n",
        "print(\"Weighted F1-score:\", f1_score(y_test, y_pred, average=\"weighted\"))"
      ]
    },
    {
      "cell_type": "markdown",
      "metadata": {
        "id": "8Ap8oPPh9XLS"
      },
      "source": [
        "# **CNN**"
      ]
    },
    {
      "cell_type": "code",
      "execution_count": 58,
      "metadata": {
        "id": "eTP5Ppru9Xj5"
      },
      "outputs": [],
      "source": [
        "import pandas as pd\n",
        "import numpy as np\n",
        "from sklearn.model_selection import train_test_split\n",
        "from sklearn.preprocessing import LabelEncoder\n",
        "from sklearn.metrics import classification_report, confusion_matrix, f1_score\n",
        "from tensorflow.keras.preprocessing.text import Tokenizer\n",
        "from tensorflow.keras.preprocessing.sequence import pad_sequences\n",
        "from tensorflow.keras.models import Sequential\n",
        "from tensorflow.keras.layers import Embedding, Conv1D, GlobalMaxPooling1D, Dense, Dropout\n",
        "from tensorflow.keras.optimizers import Adam\n",
        "from tensorflow.keras.callbacks import EarlyStopping\n",
        "from gensim.models import KeyedVectors\n",
        "import optuna"
      ]
    },
    {
      "cell_type": "code",
      "execution_count": 59,
      "metadata": {
        "id": "Ymsp2qhhC9Q1"
      },
      "outputs": [],
      "source": [
        "# ----------------\n",
        "# Load dataset\n",
        "# ----------------\n",
        "\n",
        "path_file = \"datasets/Unipi_NDF/df_ndf.csv\"\n",
        "df = pd.read_csv(path_file, sep=\"\\t\", encoding=\"utf-8\")\n",
        "df.head()\n",
        "\n",
        "texts = df[\"texts\"].astype(str).tolist()\n",
        "labels = df[\"labels\"].values"
      ]
    },
    {
      "cell_type": "code",
      "execution_count": 60,
      "metadata": {
        "id": "kbnpEsR4C9LM"
      },
      "outputs": [],
      "source": [
        "# ------------------------------\n",
        "# Preprocessing and tokenization\n",
        "# ------------------------------\n",
        "\n",
        "max_words = 20000 # consider only the top max_words\n",
        "max_len = 300     # max length of sequences\n",
        "\n",
        "tokenizer = Tokenizer(num_words=max_words, oov_token=\"<OOV>\") # tokenizer with OOV token\n",
        "tokenizer.fit_on_texts(texts) # create vocabulary {word: index}\n",
        "\n",
        "sequences = tokenizer.texts_to_sequences(texts) # convert texts to sequences of integers\n",
        "X = pad_sequences(sequences, maxlen=max_len, padding=\"post\", truncating=\"post\") # padd/truncate sequences to max_len\n",
        "\n",
        "encoder = LabelEncoder() # encode labels to integers\n",
        "y = encoder.fit_transform(labels)\n",
        "\n",
        "# split train/validation/test (0.6 / 0.2 / 0.2): stratify to maintain label distribution\n",
        "X_train, X_temp, y_train, y_temp = train_test_split(X, y, test_size=0.4, stratify=y, random_state=42)\n",
        "X_val, X_test, y_val, y_test = train_test_split(X_temp, y_temp, test_size=0.5, stratify=y_temp, random_state=42)"
      ]
    },
    {
      "cell_type": "code",
      "execution_count": 61,
      "metadata": {
        "colab": {
          "base_uri": "https://localhost:8080/"
        },
        "id": "4SbfY-H6C9GH",
        "outputId": "be9812bf-787f-4370-b1be-200c76bb806d"
      },
      "outputs": [
        {
          "name": "stdout",
          "output_type": "stream",
          "text": [
            "Loading pre-trained Word2Vec model (may take time)...\n"
          ]
        }
      ],
      "source": [
        "# -----------------------------------------------------------\n",
        "# Load pre-trained Word2Vec embeddings (Google News)\n",
        "# -----------------------------------------------------------\n",
        "\n",
        "print(\"Loading pre-trained Word2Vec model (may take time)...\")\n",
        "w2v_path = \"Word2Vec_GoogleNews300/word2vec-google-news-300.model\"\n",
        "w2v_model = KeyedVectors.load(w2v_path, mmap='r') # load model with memory mapping (mmap='r' for only reading)\n",
        "\n",
        "embedding_dim = 300                             # dimension of Word2Vec embeddings\n",
        "word_index = tokenizer.word_index               # vocabulary from tokenizer {word: index}\n",
        "num_words = min(max_words, len(word_index) + 1) # number of words to consider (max_words or vocab size)\n",
        "\n",
        "# create embedding matrix: each row corresponds to a word index from tokenizer, each column to an embedding dimension\n",
        "embedding_matrix = np.zeros((num_words, embedding_dim))\n",
        "for word, i in word_index.items():\n",
        "    if i >= max_words: # skip because we only consider top max_words\n",
        "        continue\n",
        "    if word in w2v_model: # if word has a pre-trained embedding\n",
        "        embedding_matrix[i] = w2v_model[word]"
      ]
    },
    {
      "cell_type": "code",
      "execution_count": 62,
      "metadata": {
        "colab": {
          "base_uri": "https://localhost:8080/",
          "height": 423
        },
        "id": "a3sjx18VC9BC",
        "outputId": "0e1bc781-760e-43d1-ab0b-a51285495822"
      },
      "outputs": [],
      "source": [
        "# ---------------------------\n",
        "# Optuna objective function\n",
        "# ---------------------------\n",
        "\n",
        "def objectiveCNN(trial):\n",
        "    filter_size = trial.suggest_categorical(\"filter_size\", [3, 4, 5])                    # size of convolutional filters\n",
        "    num_filters = trial.suggest_categorical(\"num_filters\", [16, 32, 64, 96, 128])        # number of convolutional filters\n",
        "    dropout = trial.suggest_categorical(\"dropout\", [0.2, 0.4, 0.6, 0.8])                 # dropout rate\n",
        "    hidden_units = trial.suggest_categorical(\"hidden_units\", [8, 16, 32, 64])            # number of units in dense layer\n",
        "    learning_rate = trial.suggest_categorical(\"learning_rate\", [1e-5, 1e-4, 1e-3, 1e-2]) # learning rate for Adam optimizer\n",
        "\n",
        "    # CNN model\n",
        "    model = Sequential([\n",
        "        Embedding(num_words, embedding_dim, weights=[embedding_matrix], input_length=max_len, trainable=True), # embedding layer with pre-trained weights\n",
        "        Dropout(dropout),\n",
        "        Conv1D(num_filters, filter_size, activation='relu'),\n",
        "        GlobalMaxPooling1D(),\n",
        "        Dense(hidden_units, activation='relu'),\n",
        "        Dropout(dropout),\n",
        "        Dense(1, activation='sigmoid')\n",
        "    ])\n",
        "\n",
        "    # Compile model with Adam optimizer\n",
        "    optimizer = Adam(learning_rate=learning_rate)\n",
        "    model.compile(optimizer=optimizer, loss='binary_crossentropy', metrics=['accuracy'])\n",
        "\n",
        "    # Train model with early stopping\n",
        "    es = EarlyStopping(monitor='val_loss', patience=2, restore_best_weights=True, verbose=0)\n",
        "    model.fit(\n",
        "        X_train, y_train,\n",
        "        validation_data=(X_val, y_val),\n",
        "        epochs=50,\n",
        "        batch_size=8,\n",
        "        callbacks=[es], # early stopping\n",
        "        verbose=0\n",
        "    )\n",
        "\n",
        "    #dummy_input = np.zeros((1, max_len), dtype='int32')  # input fittizio per inizializzare i layer\n",
        "    #model(dummy_input)  # forza la costruzione del modello\n",
        "    #model.summary()\n",
        "\n",
        "    preds_val = (model.predict(X_val) > 0.5).astype(int)\n",
        "    f1 = f1_score(y_val, preds_val, average='weighted') # weighted F1-score: average for label imbalance\n",
        "    return f1"
      ]
    },
    {
      "cell_type": "code",
      "execution_count": 63,
      "metadata": {},
      "outputs": [
        {
          "name": "stderr",
          "output_type": "stream",
          "text": [
            "[I 2025-10-21 17:33:50,949] A new study created in memory with name: no-name-5df5b918-2f5e-4b9b-a1d6-a0a1b01623dd\n",
            "/home/n.emmolo/miniconda3/envs/env/lib/python3.10/site-packages/keras/src/layers/core/embedding.py:97: UserWarning: Argument `input_length` is deprecated. Just remove it.\n",
            "  warnings.warn(\n"
          ]
        },
        {
          "name": "stdout",
          "output_type": "stream",
          "text": [
            "\u001b[1m4/4\u001b[0m \u001b[32m━━━━━━━━━━━━━━━━━━━━\u001b[0m\u001b[37m\u001b[0m \u001b[1m1s\u001b[0m 121ms/step\n"
          ]
        },
        {
          "name": "stderr",
          "output_type": "stream",
          "text": [
            "[I 2025-10-21 17:33:58,815] Trial 0 finished with value: 0.862380110607061 and parameters: {'filter_size': 5, 'num_filters': 128, 'dropout': 0.4, 'hidden_units': 64, 'learning_rate': 0.01}. Best is trial 0 with value: 0.862380110607061.\n",
            "/home/n.emmolo/miniconda3/envs/env/lib/python3.10/site-packages/keras/src/layers/core/embedding.py:97: UserWarning: Argument `input_length` is deprecated. Just remove it.\n",
            "  warnings.warn(\n"
          ]
        },
        {
          "name": "stdout",
          "output_type": "stream",
          "text": [
            "\u001b[1m4/4\u001b[0m \u001b[32m━━━━━━━━━━━━━━━━━━━━\u001b[0m\u001b[37m\u001b[0m \u001b[1m1s\u001b[0m 113ms/step\n"
          ]
        },
        {
          "name": "stderr",
          "output_type": "stream",
          "text": [
            "[I 2025-10-21 17:34:08,179] Trial 1 finished with value: 0.45439821844316225 and parameters: {'filter_size': 3, 'num_filters': 128, 'dropout': 0.4, 'hidden_units': 16, 'learning_rate': 0.01}. Best is trial 0 with value: 0.862380110607061.\n",
            "/home/n.emmolo/miniconda3/envs/env/lib/python3.10/site-packages/keras/src/layers/core/embedding.py:97: UserWarning: Argument `input_length` is deprecated. Just remove it.\n",
            "  warnings.warn(\n"
          ]
        },
        {
          "name": "stdout",
          "output_type": "stream",
          "text": [
            "\u001b[1m4/4\u001b[0m \u001b[32m━━━━━━━━━━━━━━━━━━━━\u001b[0m\u001b[37m\u001b[0m \u001b[1m1s\u001b[0m 108ms/step\n"
          ]
        },
        {
          "name": "stderr",
          "output_type": "stream",
          "text": [
            "[I 2025-10-21 17:34:15,529] Trial 2 finished with value: 0.8711204161908388 and parameters: {'filter_size': 5, 'num_filters': 64, 'dropout': 0.6, 'hidden_units': 64, 'learning_rate': 0.01}. Best is trial 2 with value: 0.8711204161908388.\n",
            "/home/n.emmolo/miniconda3/envs/env/lib/python3.10/site-packages/keras/src/layers/core/embedding.py:97: UserWarning: Argument `input_length` is deprecated. Just remove it.\n",
            "  warnings.warn(\n"
          ]
        },
        {
          "name": "stdout",
          "output_type": "stream",
          "text": [
            "\u001b[1m4/4\u001b[0m \u001b[32m━━━━━━━━━━━━━━━━━━━━\u001b[0m\u001b[37m\u001b[0m \u001b[1m1s\u001b[0m 107ms/step\n"
          ]
        },
        {
          "name": "stderr",
          "output_type": "stream",
          "text": [
            "[I 2025-10-21 17:34:37,406] Trial 3 finished with value: 0.8614197981286588 and parameters: {'filter_size': 5, 'num_filters': 64, 'dropout': 0.2, 'hidden_units': 16, 'learning_rate': 0.0001}. Best is trial 2 with value: 0.8711204161908388.\n",
            "/home/n.emmolo/miniconda3/envs/env/lib/python3.10/site-packages/keras/src/layers/core/embedding.py:97: UserWarning: Argument `input_length` is deprecated. Just remove it.\n",
            "  warnings.warn(\n"
          ]
        },
        {
          "name": "stdout",
          "output_type": "stream",
          "text": [
            "\u001b[1m4/4\u001b[0m \u001b[32m━━━━━━━━━━━━━━━━━━━━\u001b[0m\u001b[37m\u001b[0m \u001b[1m1s\u001b[0m 109ms/step\n"
          ]
        },
        {
          "name": "stderr",
          "output_type": "stream",
          "text": [
            "[I 2025-10-21 17:35:04,968] Trial 4 finished with value: 0.6635222270209655 and parameters: {'filter_size': 3, 'num_filters': 128, 'dropout': 0.2, 'hidden_units': 16, 'learning_rate': 1e-05}. Best is trial 2 with value: 0.8711204161908388.\n",
            "/home/n.emmolo/miniconda3/envs/env/lib/python3.10/site-packages/keras/src/layers/core/embedding.py:97: UserWarning: Argument `input_length` is deprecated. Just remove it.\n",
            "  warnings.warn(\n"
          ]
        },
        {
          "name": "stdout",
          "output_type": "stream",
          "text": [
            "\u001b[1m4/4\u001b[0m \u001b[32m━━━━━━━━━━━━━━━━━━━━\u001b[0m\u001b[37m\u001b[0m \u001b[1m1s\u001b[0m 111ms/step\n"
          ]
        },
        {
          "name": "stderr",
          "output_type": "stream",
          "text": [
            "[I 2025-10-21 17:35:12,342] Trial 5 finished with value: 0.8403456517742233 and parameters: {'filter_size': 3, 'num_filters': 32, 'dropout': 0.4, 'hidden_units': 16, 'learning_rate': 0.01}. Best is trial 2 with value: 0.8711204161908388.\n",
            "/home/n.emmolo/miniconda3/envs/env/lib/python3.10/site-packages/keras/src/layers/core/embedding.py:97: UserWarning: Argument `input_length` is deprecated. Just remove it.\n",
            "  warnings.warn(\n"
          ]
        },
        {
          "name": "stdout",
          "output_type": "stream",
          "text": [
            "\u001b[1m4/4\u001b[0m \u001b[32m━━━━━━━━━━━━━━━━━━━━\u001b[0m\u001b[37m\u001b[0m \u001b[1m1s\u001b[0m 112ms/step\n"
          ]
        },
        {
          "name": "stderr",
          "output_type": "stream",
          "text": [
            "[I 2025-10-21 17:35:21,137] Trial 6 finished with value: 0.9179350105067362 and parameters: {'filter_size': 5, 'num_filters': 96, 'dropout': 0.4, 'hidden_units': 32, 'learning_rate': 0.001}. Best is trial 6 with value: 0.9179350105067362.\n",
            "/home/n.emmolo/miniconda3/envs/env/lib/python3.10/site-packages/keras/src/layers/core/embedding.py:97: UserWarning: Argument `input_length` is deprecated. Just remove it.\n",
            "  warnings.warn(\n"
          ]
        },
        {
          "name": "stdout",
          "output_type": "stream",
          "text": [
            "\u001b[1m4/4\u001b[0m \u001b[32m━━━━━━━━━━━━━━━━━━━━\u001b[0m\u001b[37m\u001b[0m \u001b[1m1s\u001b[0m 113ms/step\n"
          ]
        },
        {
          "name": "stderr",
          "output_type": "stream",
          "text": [
            "[I 2025-10-21 17:35:49,574] Trial 7 finished with value: 0.7596647280191584 and parameters: {'filter_size': 3, 'num_filters': 32, 'dropout': 0.4, 'hidden_units': 8, 'learning_rate': 0.0001}. Best is trial 6 with value: 0.9179350105067362.\n",
            "/home/n.emmolo/miniconda3/envs/env/lib/python3.10/site-packages/keras/src/layers/core/embedding.py:97: UserWarning: Argument `input_length` is deprecated. Just remove it.\n",
            "  warnings.warn(\n"
          ]
        },
        {
          "name": "stdout",
          "output_type": "stream",
          "text": [
            "\u001b[1m4/4\u001b[0m \u001b[32m━━━━━━━━━━━━━━━━━━━━\u001b[0m\u001b[37m\u001b[0m \u001b[1m1s\u001b[0m 113ms/step\n"
          ]
        },
        {
          "name": "stderr",
          "output_type": "stream",
          "text": [
            "[I 2025-10-21 17:36:03,773] Trial 8 finished with value: 0.8807294291927862 and parameters: {'filter_size': 5, 'num_filters': 128, 'dropout': 0.2, 'hidden_units': 64, 'learning_rate': 0.0001}. Best is trial 6 with value: 0.9179350105067362.\n",
            "/home/n.emmolo/miniconda3/envs/env/lib/python3.10/site-packages/keras/src/layers/core/embedding.py:97: UserWarning: Argument `input_length` is deprecated. Just remove it.\n",
            "  warnings.warn(\n"
          ]
        },
        {
          "name": "stdout",
          "output_type": "stream",
          "text": [
            "\u001b[1m4/4\u001b[0m \u001b[32m━━━━━━━━━━━━━━━━━━━━\u001b[0m\u001b[37m\u001b[0m \u001b[1m1s\u001b[0m 110ms/step\n"
          ]
        },
        {
          "name": "stderr",
          "output_type": "stream",
          "text": [
            "[I 2025-10-21 17:36:14,387] Trial 9 finished with value: 0.45439821844316225 and parameters: {'filter_size': 5, 'num_filters': 128, 'dropout': 0.6, 'hidden_units': 16, 'learning_rate': 0.01}. Best is trial 6 with value: 0.9179350105067362.\n",
            "/home/n.emmolo/miniconda3/envs/env/lib/python3.10/site-packages/keras/src/layers/core/embedding.py:97: UserWarning: Argument `input_length` is deprecated. Just remove it.\n",
            "  warnings.warn(\n"
          ]
        },
        {
          "name": "stdout",
          "output_type": "stream",
          "text": [
            "\u001b[1m4/4\u001b[0m \u001b[32m━━━━━━━━━━━━━━━━━━━━\u001b[0m\u001b[37m\u001b[0m \u001b[1m1s\u001b[0m 111ms/step\n"
          ]
        },
        {
          "name": "stderr",
          "output_type": "stream",
          "text": [
            "[I 2025-10-21 17:36:21,390] Trial 10 finished with value: 0.45439821844316225 and parameters: {'filter_size': 4, 'num_filters': 96, 'dropout': 0.8, 'hidden_units': 32, 'learning_rate': 0.001}. Best is trial 6 with value: 0.9179350105067362.\n",
            "/home/n.emmolo/miniconda3/envs/env/lib/python3.10/site-packages/keras/src/layers/core/embedding.py:97: UserWarning: Argument `input_length` is deprecated. Just remove it.\n",
            "  warnings.warn(\n"
          ]
        },
        {
          "name": "stdout",
          "output_type": "stream",
          "text": [
            "\u001b[1m4/4\u001b[0m \u001b[32m━━━━━━━━━━━━━━━━━━━━\u001b[0m\u001b[37m\u001b[0m \u001b[1m1s\u001b[0m 108ms/step\n"
          ]
        },
        {
          "name": "stderr",
          "output_type": "stream",
          "text": [
            "[I 2025-10-21 17:36:31,104] Trial 11 finished with value: 0.8603381706829983 and parameters: {'filter_size': 5, 'num_filters': 16, 'dropout': 0.2, 'hidden_units': 32, 'learning_rate': 0.001}. Best is trial 6 with value: 0.9179350105067362.\n",
            "/home/n.emmolo/miniconda3/envs/env/lib/python3.10/site-packages/keras/src/layers/core/embedding.py:97: UserWarning: Argument `input_length` is deprecated. Just remove it.\n",
            "  warnings.warn(\n"
          ]
        },
        {
          "name": "stdout",
          "output_type": "stream",
          "text": [
            "\u001b[1m4/4\u001b[0m \u001b[32m━━━━━━━━━━━━━━━━━━━━\u001b[0m\u001b[37m\u001b[0m \u001b[1m1s\u001b[0m 109ms/step\n"
          ]
        },
        {
          "name": "stderr",
          "output_type": "stream",
          "text": [
            "[I 2025-10-21 17:36:39,965] Trial 12 finished with value: 0.45439821844316225 and parameters: {'filter_size': 4, 'num_filters': 96, 'dropout': 0.8, 'hidden_units': 64, 'learning_rate': 0.0001}. Best is trial 6 with value: 0.9179350105067362.\n",
            "/home/n.emmolo/miniconda3/envs/env/lib/python3.10/site-packages/keras/src/layers/core/embedding.py:97: UserWarning: Argument `input_length` is deprecated. Just remove it.\n",
            "  warnings.warn(\n"
          ]
        },
        {
          "name": "stdout",
          "output_type": "stream",
          "text": [
            "\u001b[1m4/4\u001b[0m \u001b[32m━━━━━━━━━━━━━━━━━━━━\u001b[0m\u001b[37m\u001b[0m \u001b[1m1s\u001b[0m 111ms/step\n"
          ]
        },
        {
          "name": "stderr",
          "output_type": "stream",
          "text": [
            "[I 2025-10-21 17:36:48,308] Trial 13 finished with value: 0.879897158378171 and parameters: {'filter_size': 5, 'num_filters': 96, 'dropout': 0.2, 'hidden_units': 32, 'learning_rate': 0.001}. Best is trial 6 with value: 0.9179350105067362.\n",
            "/home/n.emmolo/miniconda3/envs/env/lib/python3.10/site-packages/keras/src/layers/core/embedding.py:97: UserWarning: Argument `input_length` is deprecated. Just remove it.\n",
            "  warnings.warn(\n"
          ]
        },
        {
          "name": "stdout",
          "output_type": "stream",
          "text": [
            "\u001b[1m4/4\u001b[0m \u001b[32m━━━━━━━━━━━━━━━━━━━━\u001b[0m\u001b[37m\u001b[0m \u001b[1m1s\u001b[0m 107ms/step\n"
          ]
        },
        {
          "name": "stderr",
          "output_type": "stream",
          "text": [
            "[I 2025-10-21 17:37:16,119] Trial 14 finished with value: 0.45439821844316225 and parameters: {'filter_size': 5, 'num_filters': 16, 'dropout': 0.4, 'hidden_units': 8, 'learning_rate': 1e-05}. Best is trial 6 with value: 0.9179350105067362.\n",
            "/home/n.emmolo/miniconda3/envs/env/lib/python3.10/site-packages/keras/src/layers/core/embedding.py:97: UserWarning: Argument `input_length` is deprecated. Just remove it.\n",
            "  warnings.warn(\n"
          ]
        },
        {
          "name": "stdout",
          "output_type": "stream",
          "text": [
            "\u001b[1m4/4\u001b[0m \u001b[32m━━━━━━━━━━━━━━━━━━━━\u001b[0m\u001b[37m\u001b[0m \u001b[1m1s\u001b[0m 109ms/step\n"
          ]
        },
        {
          "name": "stderr",
          "output_type": "stream",
          "text": [
            "[I 2025-10-21 17:37:33,082] Trial 15 finished with value: 0.8895317853064332 and parameters: {'filter_size': 5, 'num_filters': 96, 'dropout': 0.2, 'hidden_units': 64, 'learning_rate': 0.0001}. Best is trial 6 with value: 0.9179350105067362.\n",
            "/home/n.emmolo/miniconda3/envs/env/lib/python3.10/site-packages/keras/src/layers/core/embedding.py:97: UserWarning: Argument `input_length` is deprecated. Just remove it.\n",
            "  warnings.warn(\n"
          ]
        },
        {
          "name": "stdout",
          "output_type": "stream",
          "text": [
            "\u001b[1m4/4\u001b[0m \u001b[32m━━━━━━━━━━━━━━━━━━━━\u001b[0m\u001b[37m\u001b[0m \u001b[1m1s\u001b[0m 118ms/step\n"
          ]
        },
        {
          "name": "stderr",
          "output_type": "stream",
          "text": [
            "[I 2025-10-21 17:37:45,299] Trial 16 finished with value: 0.879897158378171 and parameters: {'filter_size': 4, 'num_filters': 96, 'dropout': 0.6, 'hidden_units': 32, 'learning_rate': 0.001}. Best is trial 6 with value: 0.9179350105067362.\n",
            "/home/n.emmolo/miniconda3/envs/env/lib/python3.10/site-packages/keras/src/layers/core/embedding.py:97: UserWarning: Argument `input_length` is deprecated. Just remove it.\n",
            "  warnings.warn(\n"
          ]
        },
        {
          "name": "stdout",
          "output_type": "stream",
          "text": [
            "\u001b[1m4/4\u001b[0m \u001b[32m━━━━━━━━━━━━━━━━━━━━\u001b[0m\u001b[37m\u001b[0m \u001b[1m1s\u001b[0m 110ms/step\n"
          ]
        },
        {
          "name": "stderr",
          "output_type": "stream",
          "text": [
            "[I 2025-10-21 17:37:57,954] Trial 17 finished with value: 0.45439821844316225 and parameters: {'filter_size': 5, 'num_filters': 96, 'dropout': 0.8, 'hidden_units': 64, 'learning_rate': 0.0001}. Best is trial 6 with value: 0.9179350105067362.\n",
            "/home/n.emmolo/miniconda3/envs/env/lib/python3.10/site-packages/keras/src/layers/core/embedding.py:97: UserWarning: Argument `input_length` is deprecated. Just remove it.\n",
            "  warnings.warn(\n"
          ]
        },
        {
          "name": "stdout",
          "output_type": "stream",
          "text": [
            "\u001b[1m4/4\u001b[0m \u001b[32m━━━━━━━━━━━━━━━━━━━━\u001b[0m\u001b[37m\u001b[0m \u001b[1m1s\u001b[0m 107ms/step\n"
          ]
        },
        {
          "name": "stderr",
          "output_type": "stream",
          "text": [
            "[I 2025-10-21 17:38:06,387] Trial 18 finished with value: 0.8814616818430635 and parameters: {'filter_size': 5, 'num_filters': 96, 'dropout': 0.2, 'hidden_units': 32, 'learning_rate': 0.001}. Best is trial 6 with value: 0.9179350105067362.\n",
            "/home/n.emmolo/miniconda3/envs/env/lib/python3.10/site-packages/keras/src/layers/core/embedding.py:97: UserWarning: Argument `input_length` is deprecated. Just remove it.\n",
            "  warnings.warn(\n"
          ]
        },
        {
          "name": "stdout",
          "output_type": "stream",
          "text": [
            "\u001b[1m4/4\u001b[0m \u001b[32m━━━━━━━━━━━━━━━━━━━━\u001b[0m\u001b[37m\u001b[0m \u001b[1m1s\u001b[0m 109ms/step\n"
          ]
        },
        {
          "name": "stderr",
          "output_type": "stream",
          "text": [
            "[I 2025-10-21 17:38:34,270] Trial 19 finished with value: 0.5653844542216635 and parameters: {'filter_size': 4, 'num_filters': 96, 'dropout': 0.4, 'hidden_units': 8, 'learning_rate': 1e-05}. Best is trial 6 with value: 0.9179350105067362.\n",
            "/home/n.emmolo/miniconda3/envs/env/lib/python3.10/site-packages/keras/src/layers/core/embedding.py:97: UserWarning: Argument `input_length` is deprecated. Just remove it.\n",
            "  warnings.warn(\n"
          ]
        },
        {
          "name": "stdout",
          "output_type": "stream",
          "text": [
            "\u001b[1m4/4\u001b[0m \u001b[32m━━━━━━━━━━━━━━━━━━━━\u001b[0m\u001b[37m\u001b[0m \u001b[1m1s\u001b[0m 110ms/step\n"
          ]
        },
        {
          "name": "stderr",
          "output_type": "stream",
          "text": [
            "[I 2025-10-21 17:38:48,774] Trial 20 finished with value: 0.8701682451682452 and parameters: {'filter_size': 5, 'num_filters': 96, 'dropout': 0.2, 'hidden_units': 64, 'learning_rate': 0.0001}. Best is trial 6 with value: 0.9179350105067362.\n",
            "/home/n.emmolo/miniconda3/envs/env/lib/python3.10/site-packages/keras/src/layers/core/embedding.py:97: UserWarning: Argument `input_length` is deprecated. Just remove it.\n",
            "  warnings.warn(\n"
          ]
        },
        {
          "name": "stdout",
          "output_type": "stream",
          "text": [
            "\u001b[1m4/4\u001b[0m \u001b[32m━━━━━━━━━━━━━━━━━━━━\u001b[0m\u001b[37m\u001b[0m \u001b[1m1s\u001b[0m 110ms/step\n"
          ]
        },
        {
          "name": "stderr",
          "output_type": "stream",
          "text": [
            "[I 2025-10-21 17:38:57,177] Trial 21 finished with value: 0.9090705612444742 and parameters: {'filter_size': 5, 'num_filters': 96, 'dropout': 0.2, 'hidden_units': 32, 'learning_rate': 0.001}. Best is trial 6 with value: 0.9179350105067362.\n",
            "/home/n.emmolo/miniconda3/envs/env/lib/python3.10/site-packages/keras/src/layers/core/embedding.py:97: UserWarning: Argument `input_length` is deprecated. Just remove it.\n",
            "  warnings.warn(\n"
          ]
        },
        {
          "name": "stdout",
          "output_type": "stream",
          "text": [
            "\u001b[1m4/4\u001b[0m \u001b[32m━━━━━━━━━━━━━━━━━━━━\u001b[0m\u001b[37m\u001b[0m \u001b[1m1s\u001b[0m 113ms/step\n"
          ]
        },
        {
          "name": "stderr",
          "output_type": "stream",
          "text": [
            "[I 2025-10-21 17:39:06,181] Trial 22 finished with value: 0.9010850844085616 and parameters: {'filter_size': 5, 'num_filters': 96, 'dropout': 0.2, 'hidden_units': 32, 'learning_rate': 0.001}. Best is trial 6 with value: 0.9179350105067362.\n",
            "/home/n.emmolo/miniconda3/envs/env/lib/python3.10/site-packages/keras/src/layers/core/embedding.py:97: UserWarning: Argument `input_length` is deprecated. Just remove it.\n",
            "  warnings.warn(\n"
          ]
        },
        {
          "name": "stdout",
          "output_type": "stream",
          "text": [
            "\u001b[1m4/4\u001b[0m \u001b[32m━━━━━━━━━━━━━━━━━━━━\u001b[0m\u001b[37m\u001b[0m \u001b[1m1s\u001b[0m 108ms/step\n"
          ]
        },
        {
          "name": "stderr",
          "output_type": "stream",
          "text": [
            "[I 2025-10-21 17:39:15,201] Trial 23 finished with value: 0.8711204161908388 and parameters: {'filter_size': 5, 'num_filters': 96, 'dropout': 0.2, 'hidden_units': 32, 'learning_rate': 0.001}. Best is trial 6 with value: 0.9179350105067362.\n",
            "/home/n.emmolo/miniconda3/envs/env/lib/python3.10/site-packages/keras/src/layers/core/embedding.py:97: UserWarning: Argument `input_length` is deprecated. Just remove it.\n",
            "  warnings.warn(\n"
          ]
        },
        {
          "name": "stdout",
          "output_type": "stream",
          "text": [
            "\u001b[1m4/4\u001b[0m \u001b[32m━━━━━━━━━━━━━━━━━━━━\u001b[0m\u001b[37m\u001b[0m \u001b[1m1s\u001b[0m 114ms/step\n"
          ]
        },
        {
          "name": "stderr",
          "output_type": "stream",
          "text": [
            "[I 2025-10-21 17:39:23,527] Trial 24 finished with value: 0.879897158378171 and parameters: {'filter_size': 5, 'num_filters': 96, 'dropout': 0.2, 'hidden_units': 32, 'learning_rate': 0.001}. Best is trial 6 with value: 0.9179350105067362.\n",
            "/home/n.emmolo/miniconda3/envs/env/lib/python3.10/site-packages/keras/src/layers/core/embedding.py:97: UserWarning: Argument `input_length` is deprecated. Just remove it.\n",
            "  warnings.warn(\n"
          ]
        },
        {
          "name": "stdout",
          "output_type": "stream",
          "text": [
            "\u001b[1m4/4\u001b[0m \u001b[32m━━━━━━━━━━━━━━━━━━━━\u001b[0m\u001b[37m\u001b[0m \u001b[1m1s\u001b[0m 107ms/step\n"
          ]
        },
        {
          "name": "stderr",
          "output_type": "stream",
          "text": [
            "[I 2025-10-21 17:39:32,825] Trial 25 finished with value: 0.821562787277073 and parameters: {'filter_size': 5, 'num_filters': 16, 'dropout': 0.4, 'hidden_units': 32, 'learning_rate': 0.001}. Best is trial 6 with value: 0.9179350105067362.\n",
            "/home/n.emmolo/miniconda3/envs/env/lib/python3.10/site-packages/keras/src/layers/core/embedding.py:97: UserWarning: Argument `input_length` is deprecated. Just remove it.\n",
            "  warnings.warn(\n"
          ]
        },
        {
          "name": "stdout",
          "output_type": "stream",
          "text": [
            "\u001b[1m4/4\u001b[0m \u001b[32m━━━━━━━━━━━━━━━━━━━━\u001b[0m\u001b[37m\u001b[0m \u001b[1m1s\u001b[0m 110ms/step\n"
          ]
        },
        {
          "name": "stderr",
          "output_type": "stream",
          "text": [
            "[I 2025-10-21 17:39:48,668] Trial 26 finished with value: 0.8179719687974514 and parameters: {'filter_size': 5, 'num_filters': 32, 'dropout': 0.8, 'hidden_units': 32, 'learning_rate': 0.001}. Best is trial 6 with value: 0.9179350105067362.\n",
            "/home/n.emmolo/miniconda3/envs/env/lib/python3.10/site-packages/keras/src/layers/core/embedding.py:97: UserWarning: Argument `input_length` is deprecated. Just remove it.\n",
            "  warnings.warn(\n"
          ]
        },
        {
          "name": "stdout",
          "output_type": "stream",
          "text": [
            "\u001b[1m4/4\u001b[0m \u001b[32m━━━━━━━━━━━━━━━━━━━━\u001b[0m\u001b[37m\u001b[0m \u001b[1m1s\u001b[0m 109ms/step\n"
          ]
        },
        {
          "name": "stderr",
          "output_type": "stream",
          "text": [
            "[I 2025-10-21 17:39:59,451] Trial 27 finished with value: 0.8603381706829983 and parameters: {'filter_size': 5, 'num_filters': 64, 'dropout': 0.6, 'hidden_units': 32, 'learning_rate': 0.001}. Best is trial 6 with value: 0.9179350105067362.\n",
            "/home/n.emmolo/miniconda3/envs/env/lib/python3.10/site-packages/keras/src/layers/core/embedding.py:97: UserWarning: Argument `input_length` is deprecated. Just remove it.\n",
            "  warnings.warn(\n"
          ]
        },
        {
          "name": "stdout",
          "output_type": "stream",
          "text": [
            "\u001b[1m4/4\u001b[0m \u001b[32m━━━━━━━━━━━━━━━━━━━━\u001b[0m\u001b[37m\u001b[0m \u001b[1m1s\u001b[0m 108ms/step\n"
          ]
        },
        {
          "name": "stderr",
          "output_type": "stream",
          "text": [
            "[I 2025-10-21 17:40:07,827] Trial 28 finished with value: 0.8895317853064332 and parameters: {'filter_size': 3, 'num_filters': 96, 'dropout': 0.2, 'hidden_units': 32, 'learning_rate': 0.001}. Best is trial 6 with value: 0.9179350105067362.\n",
            "/home/n.emmolo/miniconda3/envs/env/lib/python3.10/site-packages/keras/src/layers/core/embedding.py:97: UserWarning: Argument `input_length` is deprecated. Just remove it.\n",
            "  warnings.warn(\n"
          ]
        },
        {
          "name": "stdout",
          "output_type": "stream",
          "text": [
            "\u001b[1m4/4\u001b[0m \u001b[32m━━━━━━━━━━━━━━━━━━━━\u001b[0m\u001b[37m\u001b[0m \u001b[1m1s\u001b[0m 103ms/step\n"
          ]
        },
        {
          "name": "stderr",
          "output_type": "stream",
          "text": [
            "[I 2025-10-21 17:40:17,354] Trial 29 finished with value: 0.8711204161908388 and parameters: {'filter_size': 4, 'num_filters': 96, 'dropout': 0.4, 'hidden_units': 32, 'learning_rate': 0.001}. Best is trial 6 with value: 0.9179350105067362.\n",
            "/home/n.emmolo/miniconda3/envs/env/lib/python3.10/site-packages/keras/src/layers/core/embedding.py:97: UserWarning: Argument `input_length` is deprecated. Just remove it.\n",
            "  warnings.warn(\n"
          ]
        },
        {
          "name": "stdout",
          "output_type": "stream",
          "text": [
            "\u001b[1m4/4\u001b[0m \u001b[32m━━━━━━━━━━━━━━━━━━━━\u001b[0m\u001b[37m\u001b[0m \u001b[1m1s\u001b[0m 110ms/step\n"
          ]
        },
        {
          "name": "stderr",
          "output_type": "stream",
          "text": [
            "[I 2025-10-21 17:40:27,086] Trial 30 finished with value: 0.879897158378171 and parameters: {'filter_size': 5, 'num_filters': 96, 'dropout': 0.4, 'hidden_units': 32, 'learning_rate': 0.001}. Best is trial 6 with value: 0.9179350105067362.\n",
            "/home/n.emmolo/miniconda3/envs/env/lib/python3.10/site-packages/keras/src/layers/core/embedding.py:97: UserWarning: Argument `input_length` is deprecated. Just remove it.\n",
            "  warnings.warn(\n"
          ]
        },
        {
          "name": "stdout",
          "output_type": "stream",
          "text": [
            "\u001b[1m4/4\u001b[0m \u001b[32m━━━━━━━━━━━━━━━━━━━━\u001b[0m\u001b[37m\u001b[0m \u001b[1m1s\u001b[0m 110ms/step\n"
          ]
        },
        {
          "name": "stderr",
          "output_type": "stream",
          "text": [
            "[I 2025-10-21 17:40:45,229] Trial 31 finished with value: 0.879897158378171 and parameters: {'filter_size': 5, 'num_filters': 96, 'dropout': 0.2, 'hidden_units': 64, 'learning_rate': 0.0001}. Best is trial 6 with value: 0.9179350105067362.\n",
            "/home/n.emmolo/miniconda3/envs/env/lib/python3.10/site-packages/keras/src/layers/core/embedding.py:97: UserWarning: Argument `input_length` is deprecated. Just remove it.\n",
            "  warnings.warn(\n"
          ]
        },
        {
          "name": "stdout",
          "output_type": "stream",
          "text": [
            "\u001b[1m4/4\u001b[0m \u001b[32m━━━━━━━━━━━━━━━━━━━━\u001b[0m\u001b[37m\u001b[0m \u001b[1m1s\u001b[0m 110ms/step\n"
          ]
        },
        {
          "name": "stderr",
          "output_type": "stream",
          "text": [
            "[I 2025-10-21 17:40:54,138] Trial 32 finished with value: 0.8895317853064332 and parameters: {'filter_size': 5, 'num_filters': 96, 'dropout': 0.2, 'hidden_units': 64, 'learning_rate': 0.001}. Best is trial 6 with value: 0.9179350105067362.\n",
            "/home/n.emmolo/miniconda3/envs/env/lib/python3.10/site-packages/keras/src/layers/core/embedding.py:97: UserWarning: Argument `input_length` is deprecated. Just remove it.\n",
            "  warnings.warn(\n"
          ]
        },
        {
          "name": "stdout",
          "output_type": "stream",
          "text": [
            "\u001b[1m4/4\u001b[0m \u001b[32m━━━━━━━━━━━━━━━━━━━━\u001b[0m\u001b[37m\u001b[0m \u001b[1m1s\u001b[0m 108ms/step\n"
          ]
        },
        {
          "name": "stderr",
          "output_type": "stream",
          "text": [
            "[I 2025-10-21 17:41:01,138] Trial 33 finished with value: 0.853671092695483 and parameters: {'filter_size': 5, 'num_filters': 96, 'dropout': 0.2, 'hidden_units': 32, 'learning_rate': 0.01}. Best is trial 6 with value: 0.9179350105067362.\n",
            "/home/n.emmolo/miniconda3/envs/env/lib/python3.10/site-packages/keras/src/layers/core/embedding.py:97: UserWarning: Argument `input_length` is deprecated. Just remove it.\n",
            "  warnings.warn(\n"
          ]
        },
        {
          "name": "stdout",
          "output_type": "stream",
          "text": [
            "\u001b[1m4/4\u001b[0m \u001b[32m━━━━━━━━━━━━━━━━━━━━\u001b[0m\u001b[37m\u001b[0m \u001b[1m1s\u001b[0m 105ms/step\n"
          ]
        },
        {
          "name": "stderr",
          "output_type": "stream",
          "text": [
            "[I 2025-10-21 17:41:18,516] Trial 34 finished with value: 0.8301680058436814 and parameters: {'filter_size': 5, 'num_filters': 64, 'dropout': 0.2, 'hidden_units': 8, 'learning_rate': 0.0001}. Best is trial 6 with value: 0.9179350105067362.\n",
            "/home/n.emmolo/miniconda3/envs/env/lib/python3.10/site-packages/keras/src/layers/core/embedding.py:97: UserWarning: Argument `input_length` is deprecated. Just remove it.\n",
            "  warnings.warn(\n"
          ]
        },
        {
          "name": "stdout",
          "output_type": "stream",
          "text": [
            "\u001b[1m4/4\u001b[0m \u001b[32m━━━━━━━━━━━━━━━━━━━━\u001b[0m\u001b[37m\u001b[0m \u001b[1m1s\u001b[0m 113ms/step\n"
          ]
        },
        {
          "name": "stderr",
          "output_type": "stream",
          "text": [
            "[I 2025-10-21 17:41:46,251] Trial 35 finished with value: 0.7153516419645453 and parameters: {'filter_size': 5, 'num_filters': 96, 'dropout': 0.2, 'hidden_units': 64, 'learning_rate': 1e-05}. Best is trial 6 with value: 0.9179350105067362.\n",
            "/home/n.emmolo/miniconda3/envs/env/lib/python3.10/site-packages/keras/src/layers/core/embedding.py:97: UserWarning: Argument `input_length` is deprecated. Just remove it.\n",
            "  warnings.warn(\n"
          ]
        },
        {
          "name": "stdout",
          "output_type": "stream",
          "text": [
            "\u001b[1m4/4\u001b[0m \u001b[32m━━━━━━━━━━━━━━━━━━━━\u001b[0m\u001b[37m\u001b[0m \u001b[1m1s\u001b[0m 311ms/step\n"
          ]
        },
        {
          "name": "stderr",
          "output_type": "stream",
          "text": [
            "[I 2025-10-21 17:41:59,591] Trial 36 finished with value: 0.8403456517742233 and parameters: {'filter_size': 3, 'num_filters': 32, 'dropout': 0.6, 'hidden_units': 16, 'learning_rate': 0.001}. Best is trial 6 with value: 0.9179350105067362.\n",
            "/home/n.emmolo/miniconda3/envs/env/lib/python3.10/site-packages/keras/src/layers/core/embedding.py:97: UserWarning: Argument `input_length` is deprecated. Just remove it.\n",
            "  warnings.warn(\n"
          ]
        },
        {
          "name": "stdout",
          "output_type": "stream",
          "text": [
            "\u001b[1m4/4\u001b[0m \u001b[32m━━━━━━━━━━━━━━━━━━━━\u001b[0m\u001b[37m\u001b[0m \u001b[1m1s\u001b[0m 111ms/step\n"
          ]
        },
        {
          "name": "stderr",
          "output_type": "stream",
          "text": [
            "[I 2025-10-21 17:42:07,210] Trial 37 finished with value: 0.8711204161908388 and parameters: {'filter_size': 5, 'num_filters': 64, 'dropout': 0.4, 'hidden_units': 32, 'learning_rate': 0.01}. Best is trial 6 with value: 0.9179350105067362.\n",
            "/home/n.emmolo/miniconda3/envs/env/lib/python3.10/site-packages/keras/src/layers/core/embedding.py:97: UserWarning: Argument `input_length` is deprecated. Just remove it.\n",
            "  warnings.warn(\n"
          ]
        },
        {
          "name": "stdout",
          "output_type": "stream",
          "text": [
            "\u001b[1m4/4\u001b[0m \u001b[32m━━━━━━━━━━━━━━━━━━━━\u001b[0m\u001b[37m\u001b[0m \u001b[1m1s\u001b[0m 118ms/step\n"
          ]
        },
        {
          "name": "stderr",
          "output_type": "stream",
          "text": [
            "[I 2025-10-21 17:42:24,978] Trial 38 finished with value: 0.8711204161908388 and parameters: {'filter_size': 3, 'num_filters': 128, 'dropout': 0.2, 'hidden_units': 64, 'learning_rate': 0.0001}. Best is trial 6 with value: 0.9179350105067362.\n",
            "/home/n.emmolo/miniconda3/envs/env/lib/python3.10/site-packages/keras/src/layers/core/embedding.py:97: UserWarning: Argument `input_length` is deprecated. Just remove it.\n",
            "  warnings.warn(\n"
          ]
        },
        {
          "name": "stdout",
          "output_type": "stream",
          "text": [
            "\u001b[1m4/4\u001b[0m \u001b[32m━━━━━━━━━━━━━━━━━━━━\u001b[0m\u001b[37m\u001b[0m \u001b[1m1s\u001b[0m 120ms/step\n"
          ]
        },
        {
          "name": "stderr",
          "output_type": "stream",
          "text": [
            "[I 2025-10-21 17:42:53,029] Trial 39 finished with value: 0.47458305763390507 and parameters: {'filter_size': 5, 'num_filters': 16, 'dropout': 0.2, 'hidden_units': 16, 'learning_rate': 1e-05}. Best is trial 6 with value: 0.9179350105067362.\n",
            "/home/n.emmolo/miniconda3/envs/env/lib/python3.10/site-packages/keras/src/layers/core/embedding.py:97: UserWarning: Argument `input_length` is deprecated. Just remove it.\n",
            "  warnings.warn(\n"
          ]
        },
        {
          "name": "stdout",
          "output_type": "stream",
          "text": [
            "\u001b[1m4/4\u001b[0m \u001b[32m━━━━━━━━━━━━━━━━━━━━\u001b[0m\u001b[37m\u001b[0m \u001b[1m1s\u001b[0m 118ms/step\n"
          ]
        },
        {
          "name": "stderr",
          "output_type": "stream",
          "text": [
            "[I 2025-10-21 17:43:02,971] Trial 40 finished with value: 0.8503997869535 and parameters: {'filter_size': 5, 'num_filters': 128, 'dropout': 0.4, 'hidden_units': 32, 'learning_rate': 0.001}. Best is trial 6 with value: 0.9179350105067362.\n",
            "/home/n.emmolo/miniconda3/envs/env/lib/python3.10/site-packages/keras/src/layers/core/embedding.py:97: UserWarning: Argument `input_length` is deprecated. Just remove it.\n",
            "  warnings.warn(\n"
          ]
        },
        {
          "name": "stdout",
          "output_type": "stream",
          "text": [
            "\u001b[1m4/4\u001b[0m \u001b[32m━━━━━━━━━━━━━━━━━━━━\u001b[0m\u001b[37m\u001b[0m \u001b[1m1s\u001b[0m 107ms/step\n"
          ]
        },
        {
          "name": "stderr",
          "output_type": "stream",
          "text": [
            "[I 2025-10-21 17:43:11,753] Trial 41 finished with value: 0.8807294291927862 and parameters: {'filter_size': 3, 'num_filters': 96, 'dropout': 0.2, 'hidden_units': 32, 'learning_rate': 0.001}. Best is trial 6 with value: 0.9179350105067362.\n",
            "/home/n.emmolo/miniconda3/envs/env/lib/python3.10/site-packages/keras/src/layers/core/embedding.py:97: UserWarning: Argument `input_length` is deprecated. Just remove it.\n",
            "  warnings.warn(\n"
          ]
        },
        {
          "name": "stdout",
          "output_type": "stream",
          "text": [
            "\u001b[1m4/4\u001b[0m \u001b[32m━━━━━━━━━━━━━━━━━━━━\u001b[0m\u001b[37m\u001b[0m \u001b[1m1s\u001b[0m 109ms/step\n"
          ]
        },
        {
          "name": "stderr",
          "output_type": "stream",
          "text": [
            "[I 2025-10-21 17:43:20,076] Trial 42 finished with value: 0.8996983461749 and parameters: {'filter_size': 3, 'num_filters': 96, 'dropout': 0.2, 'hidden_units': 32, 'learning_rate': 0.001}. Best is trial 6 with value: 0.9179350105067362.\n",
            "/home/n.emmolo/miniconda3/envs/env/lib/python3.10/site-packages/keras/src/layers/core/embedding.py:97: UserWarning: Argument `input_length` is deprecated. Just remove it.\n",
            "  warnings.warn(\n"
          ]
        },
        {
          "name": "stdout",
          "output_type": "stream",
          "text": [
            "\u001b[1m4/4\u001b[0m \u001b[32m━━━━━━━━━━━━━━━━━━━━\u001b[0m\u001b[37m\u001b[0m \u001b[1m1s\u001b[0m 109ms/step\n"
          ]
        },
        {
          "name": "stderr",
          "output_type": "stream",
          "text": [
            "[I 2025-10-21 17:43:28,744] Trial 43 finished with value: 0.8807294291927862 and parameters: {'filter_size': 3, 'num_filters': 96, 'dropout': 0.2, 'hidden_units': 32, 'learning_rate': 0.001}. Best is trial 6 with value: 0.9179350105067362.\n",
            "/home/n.emmolo/miniconda3/envs/env/lib/python3.10/site-packages/keras/src/layers/core/embedding.py:97: UserWarning: Argument `input_length` is deprecated. Just remove it.\n",
            "  warnings.warn(\n"
          ]
        },
        {
          "name": "stdout",
          "output_type": "stream",
          "text": [
            "\u001b[1m4/4\u001b[0m \u001b[32m━━━━━━━━━━━━━━━━━━━━\u001b[0m\u001b[37m\u001b[0m \u001b[1m1s\u001b[0m 114ms/step\n"
          ]
        },
        {
          "name": "stderr",
          "output_type": "stream",
          "text": [
            "[I 2025-10-21 17:43:38,910] Trial 44 finished with value: 0.9187532359946153 and parameters: {'filter_size': 3, 'num_filters': 96, 'dropout': 0.2, 'hidden_units': 32, 'learning_rate': 0.001}. Best is trial 44 with value: 0.9187532359946153.\n",
            "/home/n.emmolo/miniconda3/envs/env/lib/python3.10/site-packages/keras/src/layers/core/embedding.py:97: UserWarning: Argument `input_length` is deprecated. Just remove it.\n",
            "  warnings.warn(\n"
          ]
        },
        {
          "name": "stdout",
          "output_type": "stream",
          "text": [
            "\u001b[1m4/4\u001b[0m \u001b[32m━━━━━━━━━━━━━━━━━━━━\u001b[0m\u001b[37m\u001b[0m \u001b[1m1s\u001b[0m 110ms/step\n"
          ]
        },
        {
          "name": "stderr",
          "output_type": "stream",
          "text": [
            "[I 2025-10-21 17:43:47,873] Trial 45 finished with value: 0.8814616818430635 and parameters: {'filter_size': 3, 'num_filters': 32, 'dropout': 0.2, 'hidden_units': 32, 'learning_rate': 0.001}. Best is trial 44 with value: 0.9187532359946153.\n",
            "/home/n.emmolo/miniconda3/envs/env/lib/python3.10/site-packages/keras/src/layers/core/embedding.py:97: UserWarning: Argument `input_length` is deprecated. Just remove it.\n",
            "  warnings.warn(\n"
          ]
        },
        {
          "name": "stdout",
          "output_type": "stream",
          "text": [
            "\u001b[1m4/4\u001b[0m \u001b[32m━━━━━━━━━━━━━━━━━━━━\u001b[0m\u001b[37m\u001b[0m \u001b[1m1s\u001b[0m 111ms/step\n"
          ]
        },
        {
          "name": "stderr",
          "output_type": "stream",
          "text": [
            "[I 2025-10-21 17:43:57,208] Trial 46 finished with value: 0.45439821844316225 and parameters: {'filter_size': 3, 'num_filters': 96, 'dropout': 0.8, 'hidden_units': 32, 'learning_rate': 0.001}. Best is trial 44 with value: 0.9187532359946153.\n",
            "/home/n.emmolo/miniconda3/envs/env/lib/python3.10/site-packages/keras/src/layers/core/embedding.py:97: UserWarning: Argument `input_length` is deprecated. Just remove it.\n",
            "  warnings.warn(\n"
          ]
        },
        {
          "name": "stdout",
          "output_type": "stream",
          "text": [
            "\u001b[1m4/4\u001b[0m \u001b[32m━━━━━━━━━━━━━━━━━━━━\u001b[0m\u001b[37m\u001b[0m \u001b[1m1s\u001b[0m 119ms/step\n"
          ]
        },
        {
          "name": "stderr",
          "output_type": "stream",
          "text": [
            "[I 2025-10-21 17:44:05,641] Trial 47 finished with value: 0.8814616818430635 and parameters: {'filter_size': 3, 'num_filters': 96, 'dropout': 0.2, 'hidden_units': 32, 'learning_rate': 0.001}. Best is trial 44 with value: 0.9187532359946153.\n",
            "/home/n.emmolo/miniconda3/envs/env/lib/python3.10/site-packages/keras/src/layers/core/embedding.py:97: UserWarning: Argument `input_length` is deprecated. Just remove it.\n",
            "  warnings.warn(\n"
          ]
        },
        {
          "name": "stdout",
          "output_type": "stream",
          "text": [
            "\u001b[1m4/4\u001b[0m \u001b[32m━━━━━━━━━━━━━━━━━━━━\u001b[0m\u001b[37m\u001b[0m \u001b[1m1s\u001b[0m 108ms/step\n"
          ]
        },
        {
          "name": "stderr",
          "output_type": "stream",
          "text": [
            "[I 2025-10-21 17:44:14,737] Trial 48 finished with value: 0.8996983461749 and parameters: {'filter_size': 3, 'num_filters': 96, 'dropout': 0.6, 'hidden_units': 32, 'learning_rate': 0.01}. Best is trial 44 with value: 0.9187532359946153.\n",
            "/home/n.emmolo/miniconda3/envs/env/lib/python3.10/site-packages/keras/src/layers/core/embedding.py:97: UserWarning: Argument `input_length` is deprecated. Just remove it.\n",
            "  warnings.warn(\n"
          ]
        },
        {
          "name": "stdout",
          "output_type": "stream",
          "text": [
            "\u001b[1m4/4\u001b[0m \u001b[32m━━━━━━━━━━━━━━━━━━━━\u001b[0m\u001b[37m\u001b[0m \u001b[1m1s\u001b[0m 110ms/step\n"
          ]
        },
        {
          "name": "stderr",
          "output_type": "stream",
          "text": [
            "[I 2025-10-21 17:44:23,796] Trial 49 finished with value: 0.8895317853064332 and parameters: {'filter_size': 3, 'num_filters': 128, 'dropout': 0.2, 'hidden_units': 8, 'learning_rate': 0.001}. Best is trial 44 with value: 0.9187532359946153.\n"
          ]
        },
        {
          "name": "stdout",
          "output_type": "stream",
          "text": [
            "Best parameters: {'filter_size': 3, 'num_filters': 96, 'dropout': 0.2, 'hidden_units': 32, 'learning_rate': 0.001}\n"
          ]
        }
      ],
      "source": [
        "# ----------------------------\n",
        "# Hyperparameter optimization\n",
        "# ----------------------------\n",
        "\n",
        "study = optuna.create_study(direction=\"maximize\") # maximize F1-score\n",
        "study.optimize(objectiveCNN, n_trials=50) # 50 trials for demonstration; increase for better results\n",
        "\n",
        "print(\"Best parameters:\", study.best_params)"
      ]
    },
    {
      "cell_type": "code",
      "execution_count": 64,
      "metadata": {
        "colab": {
          "base_uri": "https://localhost:8080/"
        },
        "id": "CZdUSqSCC83Z",
        "outputId": "02f34758-89f8-4c13-ea77-7ace905e6be9"
      },
      "outputs": [
        {
          "name": "stderr",
          "output_type": "stream",
          "text": [
            "/home/n.emmolo/miniconda3/envs/env/lib/python3.10/site-packages/keras/src/layers/core/embedding.py:97: UserWarning: Argument `input_length` is deprecated. Just remove it.\n",
            "  warnings.warn(\n"
          ]
        },
        {
          "name": "stdout",
          "output_type": "stream",
          "text": [
            "\u001b[1m4/4\u001b[0m \u001b[32m━━━━━━━━━━━━━━━━━━━━\u001b[0m\u001b[37m\u001b[0m \u001b[1m1s\u001b[0m 106ms/step\n",
            "\n",
            "Classification Report:\n",
            "              precision    recall  f1-score   support\n",
            "\n",
            "           0       0.90      0.96      0.93        68\n",
            "           1       0.92      0.84      0.88        43\n",
            "\n",
            "    accuracy                           0.91       111\n",
            "   macro avg       0.91      0.90      0.90       111\n",
            "weighted avg       0.91      0.91      0.91       111\n",
            "\n",
            "Confusion Matrix:\n",
            "[[65  3]\n",
            " [ 7 36]]\n",
            "Weighted F1-score: 0.9089995919264212\n"
          ]
        }
      ],
      "source": [
        "# -----------\n",
        "# Final training and evaluation\n",
        "# -----------\n",
        "\n",
        "best_params = study.best_params\n",
        "best_model = Sequential([\n",
        "    Embedding(num_words, embedding_dim, weights=[embedding_matrix], input_length=max_len, trainable=True),\n",
        "    Dropout(best_params[\"dropout\"]),\n",
        "    Conv1D(best_params[\"num_filters\"], best_params[\"filter_size\"], activation='relu'),\n",
        "    GlobalMaxPooling1D(),\n",
        "    Dense(best_params[\"hidden_units\"], activation='relu'),\n",
        "    Dropout(best_params[\"dropout\"]),\n",
        "    Dense(1, activation='sigmoid')\n",
        "])\n",
        "\n",
        "best_model.compile(\n",
        "    optimizer=Adam(learning_rate=best_params[\"learning_rate\"]),\n",
        "    loss='binary_crossentropy',\n",
        "    metrics=['accuracy']\n",
        ")\n",
        "best_model.fit(\n",
        "    np.concatenate((X_train, X_val)), \n",
        "    np.concatenate((y_train, y_val)),\n",
        "    epochs=50,\n",
        "    batch_size=8,\n",
        "    callbacks=[EarlyStopping(monitor='loss', patience=2, restore_best_weights=True, verbose=0)],\n",
        "    verbose=0\n",
        ")\n",
        "y_pred = (best_model.predict(X_test) > 0.5).astype(int)\n",
        "\n",
        "print(\"\\nClassification Report:\")\n",
        "print(classification_report(y_test, y_pred))\n",
        "print(\"Confusion Matrix:\")\n",
        "print(confusion_matrix(y_test, y_pred))\n",
        "print(\"Weighted F1-score:\", f1_score(y_test, y_pred, average=\"weighted\"))"
      ]
    },
    {
      "cell_type": "markdown",
      "metadata": {
        "id": "FpgknmYSP2Gc"
      },
      "source": [
        "# **BIDIRECTIONAL LSTM**"
      ]
    },
    {
      "cell_type": "code",
      "execution_count": 65,
      "metadata": {
        "id": "KIcxl2jdC8yZ"
      },
      "outputs": [],
      "source": [
        "import pandas as pd\n",
        "import numpy as np\n",
        "from sklearn.model_selection import train_test_split\n",
        "from sklearn.preprocessing import LabelEncoder\n",
        "from sklearn.metrics import classification_report, confusion_matrix, f1_score\n",
        "from tensorflow.keras.preprocessing.text import Tokenizer\n",
        "from tensorflow.keras.preprocessing.sequence import pad_sequences\n",
        "from tensorflow.keras.models import Sequential\n",
        "from tensorflow.keras.layers import Embedding, Bidirectional, LSTM, Dense, Dropout\n",
        "from tensorflow.keras.optimizers import Adam\n",
        "from tensorflow.keras.callbacks import EarlyStopping\n",
        "from gensim.models import KeyedVectors\n",
        "import optuna"
      ]
    },
    {
      "cell_type": "code",
      "execution_count": 67,
      "metadata": {
        "id": "yN45DE-cC8fF"
      },
      "outputs": [],
      "source": [
        "# ----------------\n",
        "# Load dataset\n",
        "# ----------------\n",
        "\n",
        "path_file = \"datasets/Unipi_NDF/df_ndf.csv\"\n",
        "df = pd.read_csv(path_file, sep=\"\\t\", encoding=\"utf-8\")\n",
        "df.head()\n",
        "\n",
        "texts = df[\"texts\"].astype(str).tolist()\n",
        "labels = df[\"labels\"].values"
      ]
    },
    {
      "cell_type": "code",
      "execution_count": 68,
      "metadata": {
        "id": "YKIRX_gHeK1n"
      },
      "outputs": [],
      "source": [
        "# ------------------------------\n",
        "# Preprocessing and tokenization\n",
        "# ------------------------------\n",
        "max_words = 20000     # vocabulary size\n",
        "max_len = 300         # maximum sequence length\n",
        "\n",
        "tokenizer = Tokenizer(num_words=max_words, oov_token=\"<OOV>\") # tokenizer with OOV token\n",
        "tokenizer.fit_on_texts(texts) # create vocabulary {word: index}\n",
        "\n",
        "sequences = tokenizer.texts_to_sequences(texts) # convert texts to sequences of integers\n",
        "X = pad_sequences(sequences, maxlen=max_len, padding=\"post\", truncating=\"post\") # padd/truncate sequences to max_len\n",
        "\n",
        "encoder = LabelEncoder() # encode labels to integers\n",
        "y = encoder.fit_transform(labels)\n",
        "\n",
        "# split train/validation/test (0.6 / 0.2 / 0.2): stratify to maintain label distribution\n",
        "X_train, X_temp, y_train, y_temp = train_test_split(X, y, test_size=0.4, stratify=y, random_state=42)\n",
        "X_val, X_test, y_val, y_test = train_test_split(X_temp, y_temp, test_size=0.5, stratify=y_temp, random_state=42)"
      ]
    },
    {
      "cell_type": "code",
      "execution_count": 69,
      "metadata": {
        "colab": {
          "base_uri": "https://localhost:8080/"
        },
        "id": "YGoQ-pJIeUfy",
        "outputId": "08bcccc0-d8af-40ba-a79f-107576b347f5"
      },
      "outputs": [
        {
          "name": "stdout",
          "output_type": "stream",
          "text": [
            "Loading pre-trained Word2Vec model (may take time)...\n"
          ]
        }
      ],
      "source": [
        "# -----------------------------------------------------------\n",
        "# Load pre-trained Word2Vec embeddings (Google News)\n",
        "# -----------------------------------------------------------\n",
        "\n",
        "print(\"Loading pre-trained Word2Vec model (may take time)...\")\n",
        "w2v_path = \"Word2Vec_GoogleNews300/word2vec-google-news-300.model\"\n",
        "w2v_model = KeyedVectors.load(w2v_path, mmap='r') # load model with memory mapping (mmap='r' for only reading)\n",
        "\n",
        "embedding_dim = 300                             # dimension of Word2Vec embeddings\n",
        "word_index = tokenizer.word_index               # vocabulary from tokenizer {word: index}\n",
        "num_words = min(max_words, len(word_index) + 1) # number of words to consider (max_words or vocab size)\n",
        "\n",
        "# create embedding matrix: each row corresponds to a word index from tokenizer, each column to an embedding dimension\n",
        "embedding_matrix = np.zeros((num_words, embedding_dim))\n",
        "for word, i in word_index.items():\n",
        "    if i >= max_words: # skip because we only consider top max_words\n",
        "        continue\n",
        "    if word in w2v_model: # if word has a pre-trained embedding\n",
        "        embedding_matrix[i] = w2v_model[word]"
      ]
    },
    {
      "cell_type": "code",
      "execution_count": 70,
      "metadata": {
        "colab": {
          "base_uri": "https://localhost:8080/",
          "height": 375
        },
        "id": "4vzoL5Z4eZx4",
        "outputId": "fc75f139-4dd3-4f43-9bd8-5009c68e3511"
      },
      "outputs": [],
      "source": [
        "# ------------------------------\n",
        "# Optuna objective function\n",
        "# ------------------------------\n",
        "\n",
        "def objectiveBiLSTM(trial):\n",
        "    num_units = trial.suggest_categorical(\"num_units\", [16, 32, 64, 96, 128])            # number of LSTM units\n",
        "    dropout = trial.suggest_categorical(\"dropout\", [0.2, 0.4, 0.6, 0.8])                 # dropout rate\n",
        "    hidden_units = trial.suggest_categorical(\"hidden_units\", [8, 16, 32, 64])            # number of units in dense layer\n",
        "    learning_rate = trial.suggest_categorical(\"learning_rate\", [1e-5, 1e-4, 1e-3, 1e-2]) # learning rate for Adam optimizer\n",
        "\n",
        "    # BiLSTM model\n",
        "    model = Sequential([\n",
        "        Embedding(num_words, embedding_dim, weights=[embedding_matrix], input_length=max_len, trainable=True), # embedding layer with pre-trained weights\n",
        "        Bidirectional(LSTM(num_units, return_sequences=False, dropout=dropout, recurrent_dropout=0.0)),\n",
        "        Dense(hidden_units, activation='relu'),\n",
        "        Dropout(dropout),\n",
        "        Dense(1, activation='sigmoid')\n",
        "    ])\n",
        "\n",
        "    # Compile model with Adam optimizer\n",
        "    optimizer = Adam(learning_rate=learning_rate)\n",
        "    model.compile(optimizer=optimizer, loss='binary_crossentropy', metrics=['accuracy'])\n",
        "\n",
        "    # Train model with early stopping\n",
        "    es = EarlyStopping(monitor='val_loss', patience=2, restore_best_weights=True, verbose=0)\n",
        "    model.fit(\n",
        "        X_train, y_train,\n",
        "        validation_data=(X_val, y_val),\n",
        "        epochs=50,\n",
        "        batch_size=8,\n",
        "        callbacks=[es], # early stopping\n",
        "        verbose=0\n",
        "    )\n",
        "\n",
        "    # dummy_input = np.zeros((1, max_len), dtype='int32')  # input fittizio per inizializzare i layer\n",
        "    # model(dummy_input)  # forza la costruzione del modello\n",
        "    # model.summary()\n",
        "\n",
        "    preds_val = (model.predict(X_val) > 0.5).astype(int)\n",
        "    f1 = f1_score(y_val, preds_val)\n",
        "    return f1"
      ]
    },
    {
      "cell_type": "code",
      "execution_count": 71,
      "metadata": {},
      "outputs": [
        {
          "name": "stderr",
          "output_type": "stream",
          "text": [
            "[I 2025-10-21 17:50:36,732] A new study created in memory with name: no-name-b3503c06-a6de-448f-bc4b-21ac122ee401\n",
            "/home/n.emmolo/miniconda3/envs/env/lib/python3.10/site-packages/keras/src/layers/core/embedding.py:97: UserWarning: Argument `input_length` is deprecated. Just remove it.\n",
            "  warnings.warn(\n"
          ]
        },
        {
          "name": "stdout",
          "output_type": "stream",
          "text": [
            "\u001b[1m4/4\u001b[0m \u001b[32m━━━━━━━━━━━━━━━━━━━━\u001b[0m\u001b[37m\u001b[0m \u001b[1m0s\u001b[0m 78ms/step\n"
          ]
        },
        {
          "name": "stderr",
          "output_type": "stream",
          "text": [
            "[I 2025-10-21 17:50:57,053] Trial 0 finished with value: 0.8372093023255814 and parameters: {'num_units': 16, 'dropout': 0.6, 'hidden_units': 32, 'learning_rate': 0.001}. Best is trial 0 with value: 0.8372093023255814.\n",
            "/home/n.emmolo/miniconda3/envs/env/lib/python3.10/site-packages/keras/src/layers/core/embedding.py:97: UserWarning: Argument `input_length` is deprecated. Just remove it.\n",
            "  warnings.warn(\n"
          ]
        },
        {
          "name": "stdout",
          "output_type": "stream",
          "text": [
            "\u001b[1m4/4\u001b[0m \u001b[32m━━━━━━━━━━━━━━━━━━━━\u001b[0m\u001b[37m\u001b[0m \u001b[1m0s\u001b[0m 78ms/step\n"
          ]
        },
        {
          "name": "stderr",
          "output_type": "stream",
          "text": [
            "[I 2025-10-21 17:51:12,355] Trial 1 finished with value: 0.0 and parameters: {'num_units': 64, 'dropout': 0.6, 'hidden_units': 16, 'learning_rate': 0.01}. Best is trial 0 with value: 0.8372093023255814.\n",
            "/home/n.emmolo/miniconda3/envs/env/lib/python3.10/site-packages/keras/src/layers/core/embedding.py:97: UserWarning: Argument `input_length` is deprecated. Just remove it.\n",
            "  warnings.warn(\n"
          ]
        },
        {
          "name": "stdout",
          "output_type": "stream",
          "text": [
            "\u001b[1m4/4\u001b[0m \u001b[32m━━━━━━━━━━━━━━━━━━━━\u001b[0m\u001b[37m\u001b[0m \u001b[1m0s\u001b[0m 75ms/step\n"
          ]
        },
        {
          "name": "stderr",
          "output_type": "stream",
          "text": [
            "[I 2025-10-21 17:51:21,374] Trial 2 finished with value: 0.7469879518072289 and parameters: {'num_units': 96, 'dropout': 0.4, 'hidden_units': 64, 'learning_rate': 0.01}. Best is trial 0 with value: 0.8372093023255814.\n",
            "/home/n.emmolo/miniconda3/envs/env/lib/python3.10/site-packages/keras/src/layers/core/embedding.py:97: UserWarning: Argument `input_length` is deprecated. Just remove it.\n",
            "  warnings.warn(\n"
          ]
        },
        {
          "name": "stdout",
          "output_type": "stream",
          "text": [
            "\u001b[1m4/4\u001b[0m \u001b[32m━━━━━━━━━━━━━━━━━━━━\u001b[0m\u001b[37m\u001b[0m \u001b[1m0s\u001b[0m 76ms/step\n"
          ]
        },
        {
          "name": "stderr",
          "output_type": "stream",
          "text": [
            "[I 2025-10-21 17:53:09,470] Trial 3 finished with value: 0.044444444444444446 and parameters: {'num_units': 16, 'dropout': 0.6, 'hidden_units': 16, 'learning_rate': 1e-05}. Best is trial 0 with value: 0.8372093023255814.\n",
            "/home/n.emmolo/miniconda3/envs/env/lib/python3.10/site-packages/keras/src/layers/core/embedding.py:97: UserWarning: Argument `input_length` is deprecated. Just remove it.\n",
            "  warnings.warn(\n"
          ]
        },
        {
          "name": "stdout",
          "output_type": "stream",
          "text": [
            "\u001b[1m4/4\u001b[0m \u001b[32m━━━━━━━━━━━━━━━━━━━━\u001b[0m\u001b[37m\u001b[0m \u001b[1m0s\u001b[0m 73ms/step\n"
          ]
        },
        {
          "name": "stderr",
          "output_type": "stream",
          "text": [
            "[I 2025-10-21 17:53:26,993] Trial 4 finished with value: 0.9069767441860465 and parameters: {'num_units': 16, 'dropout': 0.8, 'hidden_units': 64, 'learning_rate': 0.01}. Best is trial 4 with value: 0.9069767441860465.\n",
            "/home/n.emmolo/miniconda3/envs/env/lib/python3.10/site-packages/keras/src/layers/core/embedding.py:97: UserWarning: Argument `input_length` is deprecated. Just remove it.\n",
            "  warnings.warn(\n"
          ]
        },
        {
          "name": "stdout",
          "output_type": "stream",
          "text": [
            "\u001b[1m4/4\u001b[0m \u001b[32m━━━━━━━━━━━━━━━━━━━━\u001b[0m\u001b[37m\u001b[0m \u001b[1m0s\u001b[0m 79ms/step\n"
          ]
        },
        {
          "name": "stderr",
          "output_type": "stream",
          "text": [
            "[I 2025-10-21 17:53:40,161] Trial 5 finished with value: 0.8470588235294118 and parameters: {'num_units': 96, 'dropout': 0.2, 'hidden_units': 16, 'learning_rate': 0.001}. Best is trial 4 with value: 0.9069767441860465.\n",
            "/home/n.emmolo/miniconda3/envs/env/lib/python3.10/site-packages/keras/src/layers/core/embedding.py:97: UserWarning: Argument `input_length` is deprecated. Just remove it.\n",
            "  warnings.warn(\n"
          ]
        },
        {
          "name": "stdout",
          "output_type": "stream",
          "text": [
            "\u001b[1m4/4\u001b[0m \u001b[32m━━━━━━━━━━━━━━━━━━━━\u001b[0m\u001b[37m\u001b[0m \u001b[1m0s\u001b[0m 77ms/step\n"
          ]
        },
        {
          "name": "stderr",
          "output_type": "stream",
          "text": [
            "[I 2025-10-21 17:53:55,575] Trial 6 finished with value: 0.8888888888888888 and parameters: {'num_units': 128, 'dropout': 0.6, 'hidden_units': 32, 'learning_rate': 0.001}. Best is trial 4 with value: 0.9069767441860465.\n",
            "/home/n.emmolo/miniconda3/envs/env/lib/python3.10/site-packages/keras/src/layers/core/embedding.py:97: UserWarning: Argument `input_length` is deprecated. Just remove it.\n",
            "  warnings.warn(\n"
          ]
        },
        {
          "name": "stdout",
          "output_type": "stream",
          "text": [
            "\u001b[1m4/4\u001b[0m \u001b[32m━━━━━━━━━━━━━━━━━━━━\u001b[0m\u001b[37m\u001b[0m \u001b[1m0s\u001b[0m 80ms/step\n"
          ]
        },
        {
          "name": "stderr",
          "output_type": "stream",
          "text": [
            "[I 2025-10-21 17:54:12,155] Trial 7 finished with value: 0.8333333333333334 and parameters: {'num_units': 64, 'dropout': 0.4, 'hidden_units': 8, 'learning_rate': 0.001}. Best is trial 4 with value: 0.9069767441860465.\n",
            "/home/n.emmolo/miniconda3/envs/env/lib/python3.10/site-packages/keras/src/layers/core/embedding.py:97: UserWarning: Argument `input_length` is deprecated. Just remove it.\n",
            "  warnings.warn(\n"
          ]
        },
        {
          "name": "stdout",
          "output_type": "stream",
          "text": [
            "\u001b[1m4/4\u001b[0m \u001b[32m━━━━━━━━━━━━━━━━━━━━\u001b[0m\u001b[37m\u001b[0m \u001b[1m0s\u001b[0m 77ms/step\n"
          ]
        },
        {
          "name": "stderr",
          "output_type": "stream",
          "text": [
            "[I 2025-10-21 17:56:01,903] Trial 8 finished with value: 0.0 and parameters: {'num_units': 128, 'dropout': 0.6, 'hidden_units': 16, 'learning_rate': 1e-05}. Best is trial 4 with value: 0.9069767441860465.\n",
            "/home/n.emmolo/miniconda3/envs/env/lib/python3.10/site-packages/keras/src/layers/core/embedding.py:97: UserWarning: Argument `input_length` is deprecated. Just remove it.\n",
            "  warnings.warn(\n"
          ]
        },
        {
          "name": "stdout",
          "output_type": "stream",
          "text": [
            "\u001b[1m4/4\u001b[0m \u001b[32m━━━━━━━━━━━━━━━━━━━━\u001b[0m\u001b[37m\u001b[0m \u001b[1m0s\u001b[0m 77ms/step\n"
          ]
        },
        {
          "name": "stderr",
          "output_type": "stream",
          "text": [
            "[I 2025-10-21 17:57:41,447] Trial 9 finished with value: 0.5084745762711864 and parameters: {'num_units': 32, 'dropout': 0.8, 'hidden_units': 64, 'learning_rate': 0.0001}. Best is trial 4 with value: 0.9069767441860465.\n",
            "/home/n.emmolo/miniconda3/envs/env/lib/python3.10/site-packages/keras/src/layers/core/embedding.py:97: UserWarning: Argument `input_length` is deprecated. Just remove it.\n",
            "  warnings.warn(\n"
          ]
        },
        {
          "name": "stdout",
          "output_type": "stream",
          "text": [
            "\u001b[1m4/4\u001b[0m \u001b[32m━━━━━━━━━━━━━━━━━━━━\u001b[0m\u001b[37m\u001b[0m \u001b[1m0s\u001b[0m 75ms/step\n"
          ]
        },
        {
          "name": "stderr",
          "output_type": "stream",
          "text": [
            "[I 2025-10-21 17:57:52,539] Trial 10 finished with value: 0.7222222222222222 and parameters: {'num_units': 16, 'dropout': 0.8, 'hidden_units': 64, 'learning_rate': 0.01}. Best is trial 4 with value: 0.9069767441860465.\n",
            "/home/n.emmolo/miniconda3/envs/env/lib/python3.10/site-packages/keras/src/layers/core/embedding.py:97: UserWarning: Argument `input_length` is deprecated. Just remove it.\n",
            "  warnings.warn(\n"
          ]
        },
        {
          "name": "stdout",
          "output_type": "stream",
          "text": [
            "\u001b[1m4/4\u001b[0m \u001b[32m━━━━━━━━━━━━━━━━━━━━\u001b[0m\u001b[37m\u001b[0m \u001b[1m0s\u001b[0m 86ms/step\n"
          ]
        },
        {
          "name": "stderr",
          "output_type": "stream",
          "text": [
            "[I 2025-10-21 17:58:58,942] Trial 11 finished with value: 0.7567567567567568 and parameters: {'num_units': 128, 'dropout': 0.8, 'hidden_units': 32, 'learning_rate': 0.0001}. Best is trial 4 with value: 0.9069767441860465.\n",
            "/home/n.emmolo/miniconda3/envs/env/lib/python3.10/site-packages/keras/src/layers/core/embedding.py:97: UserWarning: Argument `input_length` is deprecated. Just remove it.\n",
            "  warnings.warn(\n"
          ]
        },
        {
          "name": "stdout",
          "output_type": "stream",
          "text": [
            "\u001b[1m4/4\u001b[0m \u001b[32m━━━━━━━━━━━━━━━━━━━━\u001b[0m\u001b[37m\u001b[0m \u001b[1m0s\u001b[0m 81ms/step\n"
          ]
        },
        {
          "name": "stderr",
          "output_type": "stream",
          "text": [
            "[I 2025-10-21 17:59:08,097] Trial 12 finished with value: 0.5084745762711864 and parameters: {'num_units': 128, 'dropout': 0.2, 'hidden_units': 32, 'learning_rate': 0.01}. Best is trial 4 with value: 0.9069767441860465.\n",
            "/home/n.emmolo/miniconda3/envs/env/lib/python3.10/site-packages/keras/src/layers/core/embedding.py:97: UserWarning: Argument `input_length` is deprecated. Just remove it.\n",
            "  warnings.warn(\n"
          ]
        },
        {
          "name": "stdout",
          "output_type": "stream",
          "text": [
            "\u001b[1m4/4\u001b[0m \u001b[32m━━━━━━━━━━━━━━━━━━━━\u001b[0m\u001b[37m\u001b[0m \u001b[1m0s\u001b[0m 81ms/step\n"
          ]
        },
        {
          "name": "stderr",
          "output_type": "stream",
          "text": [
            "[I 2025-10-21 17:59:17,177] Trial 13 finished with value: 0.12244897959183673 and parameters: {'num_units': 32, 'dropout': 0.8, 'hidden_units': 8, 'learning_rate': 0.001}. Best is trial 4 with value: 0.9069767441860465.\n",
            "/home/n.emmolo/miniconda3/envs/env/lib/python3.10/site-packages/keras/src/layers/core/embedding.py:97: UserWarning: Argument `input_length` is deprecated. Just remove it.\n",
            "  warnings.warn(\n"
          ]
        },
        {
          "name": "stdout",
          "output_type": "stream",
          "text": [
            "\u001b[1m4/4\u001b[0m \u001b[32m━━━━━━━━━━━━━━━━━━━━\u001b[0m\u001b[37m\u001b[0m \u001b[1m0s\u001b[0m 75ms/step\n"
          ]
        },
        {
          "name": "stderr",
          "output_type": "stream",
          "text": [
            "[I 2025-10-21 17:59:32,638] Trial 14 finished with value: 0.525 and parameters: {'num_units': 128, 'dropout': 0.8, 'hidden_units': 64, 'learning_rate': 0.01}. Best is trial 4 with value: 0.9069767441860465.\n",
            "/home/n.emmolo/miniconda3/envs/env/lib/python3.10/site-packages/keras/src/layers/core/embedding.py:97: UserWarning: Argument `input_length` is deprecated. Just remove it.\n",
            "  warnings.warn(\n"
          ]
        },
        {
          "name": "stdout",
          "output_type": "stream",
          "text": [
            "\u001b[1m4/4\u001b[0m \u001b[32m━━━━━━━━━━━━━━━━━━━━\u001b[0m\u001b[37m\u001b[0m \u001b[1m0s\u001b[0m 91ms/step\n"
          ]
        },
        {
          "name": "stderr",
          "output_type": "stream",
          "text": [
            "[I 2025-10-21 17:59:51,482] Trial 15 finished with value: 0.8863636363636364 and parameters: {'num_units': 16, 'dropout': 0.6, 'hidden_units': 32, 'learning_rate': 0.001}. Best is trial 4 with value: 0.9069767441860465.\n",
            "/home/n.emmolo/miniconda3/envs/env/lib/python3.10/site-packages/keras/src/layers/core/embedding.py:97: UserWarning: Argument `input_length` is deprecated. Just remove it.\n",
            "  warnings.warn(\n"
          ]
        },
        {
          "name": "stdout",
          "output_type": "stream",
          "text": [
            "\u001b[1m4/4\u001b[0m \u001b[32m━━━━━━━━━━━━━━━━━━━━\u001b[0m\u001b[37m\u001b[0m \u001b[1m0s\u001b[0m 82ms/step\n"
          ]
        },
        {
          "name": "stderr",
          "output_type": "stream",
          "text": [
            "[I 2025-10-21 18:01:43,108] Trial 16 finished with value: 0.6153846153846154 and parameters: {'num_units': 128, 'dropout': 0.4, 'hidden_units': 64, 'learning_rate': 1e-05}. Best is trial 4 with value: 0.9069767441860465.\n",
            "/home/n.emmolo/miniconda3/envs/env/lib/python3.10/site-packages/keras/src/layers/core/embedding.py:97: UserWarning: Argument `input_length` is deprecated. Just remove it.\n",
            "  warnings.warn(\n"
          ]
        },
        {
          "name": "stdout",
          "output_type": "stream",
          "text": [
            "\u001b[1m4/4\u001b[0m \u001b[32m━━━━━━━━━━━━━━━━━━━━\u001b[0m\u001b[37m\u001b[0m \u001b[1m0s\u001b[0m 79ms/step\n"
          ]
        },
        {
          "name": "stderr",
          "output_type": "stream",
          "text": [
            "[I 2025-10-21 18:02:18,123] Trial 17 finished with value: 0.8863636363636364 and parameters: {'num_units': 16, 'dropout': 0.2, 'hidden_units': 32, 'learning_rate': 0.0001}. Best is trial 4 with value: 0.9069767441860465.\n",
            "/home/n.emmolo/miniconda3/envs/env/lib/python3.10/site-packages/keras/src/layers/core/embedding.py:97: UserWarning: Argument `input_length` is deprecated. Just remove it.\n",
            "  warnings.warn(\n"
          ]
        },
        {
          "name": "stdout",
          "output_type": "stream",
          "text": [
            "\u001b[1m4/4\u001b[0m \u001b[32m━━━━━━━━━━━━━━━━━━━━\u001b[0m\u001b[37m\u001b[0m \u001b[1m0s\u001b[0m 80ms/step\n"
          ]
        },
        {
          "name": "stderr",
          "output_type": "stream",
          "text": [
            "[I 2025-10-21 18:02:31,447] Trial 18 finished with value: 0.0 and parameters: {'num_units': 32, 'dropout': 0.8, 'hidden_units': 8, 'learning_rate': 0.01}. Best is trial 4 with value: 0.9069767441860465.\n",
            "/home/n.emmolo/miniconda3/envs/env/lib/python3.10/site-packages/keras/src/layers/core/embedding.py:97: UserWarning: Argument `input_length` is deprecated. Just remove it.\n",
            "  warnings.warn(\n"
          ]
        },
        {
          "name": "stdout",
          "output_type": "stream",
          "text": [
            "\u001b[1m4/4\u001b[0m \u001b[32m━━━━━━━━━━━━━━━━━━━━\u001b[0m\u001b[37m\u001b[0m \u001b[1m0s\u001b[0m 78ms/step\n"
          ]
        },
        {
          "name": "stderr",
          "output_type": "stream",
          "text": [
            "[I 2025-10-21 18:02:49,024] Trial 19 finished with value: 0.8181818181818182 and parameters: {'num_units': 96, 'dropout': 0.6, 'hidden_units': 64, 'learning_rate': 0.001}. Best is trial 4 with value: 0.9069767441860465.\n",
            "/home/n.emmolo/miniconda3/envs/env/lib/python3.10/site-packages/keras/src/layers/core/embedding.py:97: UserWarning: Argument `input_length` is deprecated. Just remove it.\n",
            "  warnings.warn(\n"
          ]
        },
        {
          "name": "stdout",
          "output_type": "stream",
          "text": [
            "\u001b[1m4/4\u001b[0m \u001b[32m━━━━━━━━━━━━━━━━━━━━\u001b[0m\u001b[37m\u001b[0m \u001b[1m0s\u001b[0m 78ms/step\n"
          ]
        },
        {
          "name": "stderr",
          "output_type": "stream",
          "text": [
            "[I 2025-10-21 18:03:14,058] Trial 20 finished with value: 0.813953488372093 and parameters: {'num_units': 64, 'dropout': 0.8, 'hidden_units': 32, 'learning_rate': 0.01}. Best is trial 4 with value: 0.9069767441860465.\n",
            "/home/n.emmolo/miniconda3/envs/env/lib/python3.10/site-packages/keras/src/layers/core/embedding.py:97: UserWarning: Argument `input_length` is deprecated. Just remove it.\n",
            "  warnings.warn(\n"
          ]
        },
        {
          "name": "stdout",
          "output_type": "stream",
          "text": [
            "\u001b[1m4/4\u001b[0m \u001b[32m━━━━━━━━━━━━━━━━━━━━\u001b[0m\u001b[37m\u001b[0m \u001b[1m0s\u001b[0m 78ms/step\n"
          ]
        },
        {
          "name": "stderr",
          "output_type": "stream",
          "text": [
            "[I 2025-10-21 18:03:33,631] Trial 21 finished with value: 0.8631578947368421 and parameters: {'num_units': 16, 'dropout': 0.6, 'hidden_units': 32, 'learning_rate': 0.001}. Best is trial 4 with value: 0.9069767441860465.\n",
            "/home/n.emmolo/miniconda3/envs/env/lib/python3.10/site-packages/keras/src/layers/core/embedding.py:97: UserWarning: Argument `input_length` is deprecated. Just remove it.\n",
            "  warnings.warn(\n"
          ]
        },
        {
          "name": "stdout",
          "output_type": "stream",
          "text": [
            "\u001b[1m4/4\u001b[0m \u001b[32m━━━━━━━━━━━━━━━━━━━━\u001b[0m\u001b[37m\u001b[0m \u001b[1m0s\u001b[0m 78ms/step\n"
          ]
        },
        {
          "name": "stderr",
          "output_type": "stream",
          "text": [
            "[I 2025-10-21 18:03:53,319] Trial 22 finished with value: 0.9213483146067416 and parameters: {'num_units': 16, 'dropout': 0.6, 'hidden_units': 32, 'learning_rate': 0.001}. Best is trial 22 with value: 0.9213483146067416.\n",
            "/home/n.emmolo/miniconda3/envs/env/lib/python3.10/site-packages/keras/src/layers/core/embedding.py:97: UserWarning: Argument `input_length` is deprecated. Just remove it.\n",
            "  warnings.warn(\n"
          ]
        },
        {
          "name": "stdout",
          "output_type": "stream",
          "text": [
            "\u001b[1m4/4\u001b[0m \u001b[32m━━━━━━━━━━━━━━━━━━━━\u001b[0m\u001b[37m\u001b[0m \u001b[1m0s\u001b[0m 81ms/step\n"
          ]
        },
        {
          "name": "stderr",
          "output_type": "stream",
          "text": [
            "[I 2025-10-21 18:04:10,965] Trial 23 finished with value: 0.8505747126436781 and parameters: {'num_units': 16, 'dropout': 0.6, 'hidden_units': 32, 'learning_rate': 0.001}. Best is trial 22 with value: 0.9213483146067416.\n",
            "/home/n.emmolo/miniconda3/envs/env/lib/python3.10/site-packages/keras/src/layers/core/embedding.py:97: UserWarning: Argument `input_length` is deprecated. Just remove it.\n",
            "  warnings.warn(\n"
          ]
        },
        {
          "name": "stdout",
          "output_type": "stream",
          "text": [
            "\u001b[1m4/4\u001b[0m \u001b[32m━━━━━━━━━━━━━━━━━━━━\u001b[0m\u001b[37m\u001b[0m \u001b[1m0s\u001b[0m 81ms/step\n"
          ]
        },
        {
          "name": "stderr",
          "output_type": "stream",
          "text": [
            "[I 2025-10-21 18:04:29,621] Trial 24 finished with value: 0.7848101265822784 and parameters: {'num_units': 16, 'dropout': 0.6, 'hidden_units': 32, 'learning_rate': 0.001}. Best is trial 22 with value: 0.9213483146067416.\n",
            "/home/n.emmolo/miniconda3/envs/env/lib/python3.10/site-packages/keras/src/layers/core/embedding.py:97: UserWarning: Argument `input_length` is deprecated. Just remove it.\n",
            "  warnings.warn(\n"
          ]
        },
        {
          "name": "stdout",
          "output_type": "stream",
          "text": [
            "\u001b[1m4/4\u001b[0m \u001b[32m━━━━━━━━━━━━━━━━━━━━\u001b[0m\u001b[37m\u001b[0m \u001b[1m0s\u001b[0m 79ms/step\n"
          ]
        },
        {
          "name": "stderr",
          "output_type": "stream",
          "text": [
            "[I 2025-10-21 18:04:44,944] Trial 25 finished with value: 0.8695652173913043 and parameters: {'num_units': 128, 'dropout': 0.6, 'hidden_units': 32, 'learning_rate': 0.001}. Best is trial 22 with value: 0.9213483146067416.\n",
            "/home/n.emmolo/miniconda3/envs/env/lib/python3.10/site-packages/keras/src/layers/core/embedding.py:97: UserWarning: Argument `input_length` is deprecated. Just remove it.\n",
            "  warnings.warn(\n"
          ]
        },
        {
          "name": "stdout",
          "output_type": "stream",
          "text": [
            "\u001b[1m4/4\u001b[0m \u001b[32m━━━━━━━━━━━━━━━━━━━━\u001b[0m\u001b[37m\u001b[0m \u001b[1m0s\u001b[0m 74ms/step\n"
          ]
        },
        {
          "name": "stderr",
          "output_type": "stream",
          "text": [
            "[I 2025-10-21 18:06:34,774] Trial 26 finished with value: 0.0 and parameters: {'num_units': 16, 'dropout': 0.2, 'hidden_units': 64, 'learning_rate': 1e-05}. Best is trial 22 with value: 0.9213483146067416.\n",
            "/home/n.emmolo/miniconda3/envs/env/lib/python3.10/site-packages/keras/src/layers/core/embedding.py:97: UserWarning: Argument `input_length` is deprecated. Just remove it.\n",
            "  warnings.warn(\n"
          ]
        },
        {
          "name": "stdout",
          "output_type": "stream",
          "text": [
            "\u001b[1m4/4\u001b[0m \u001b[32m━━━━━━━━━━━━━━━━━━━━\u001b[0m\u001b[37m\u001b[0m \u001b[1m0s\u001b[0m 75ms/step\n"
          ]
        },
        {
          "name": "stderr",
          "output_type": "stream",
          "text": [
            "[I 2025-10-21 18:07:16,193] Trial 27 finished with value: 0.7901234567901234 and parameters: {'num_units': 16, 'dropout': 0.4, 'hidden_units': 8, 'learning_rate': 0.0001}. Best is trial 22 with value: 0.9213483146067416.\n",
            "/home/n.emmolo/miniconda3/envs/env/lib/python3.10/site-packages/keras/src/layers/core/embedding.py:97: UserWarning: Argument `input_length` is deprecated. Just remove it.\n",
            "  warnings.warn(\n"
          ]
        },
        {
          "name": "stdout",
          "output_type": "stream",
          "text": [
            "\u001b[1m4/4\u001b[0m \u001b[32m━━━━━━━━━━━━━━━━━━━━\u001b[0m\u001b[37m\u001b[0m \u001b[1m0s\u001b[0m 85ms/step\n"
          ]
        },
        {
          "name": "stderr",
          "output_type": "stream",
          "text": [
            "[I 2025-10-21 18:07:30,563] Trial 28 finished with value: 0.8604651162790697 and parameters: {'num_units': 128, 'dropout': 0.6, 'hidden_units': 32, 'learning_rate': 0.001}. Best is trial 22 with value: 0.9213483146067416.\n",
            "/home/n.emmolo/miniconda3/envs/env/lib/python3.10/site-packages/keras/src/layers/core/embedding.py:97: UserWarning: Argument `input_length` is deprecated. Just remove it.\n",
            "  warnings.warn(\n"
          ]
        },
        {
          "name": "stdout",
          "output_type": "stream",
          "text": [
            "\u001b[1m4/4\u001b[0m \u001b[32m━━━━━━━━━━━━━━━━━━━━\u001b[0m\u001b[37m\u001b[0m \u001b[1m0s\u001b[0m 83ms/step\n"
          ]
        },
        {
          "name": "stderr",
          "output_type": "stream",
          "text": [
            "[I 2025-10-21 18:07:54,813] Trial 29 finished with value: 0.8354430379746836 and parameters: {'num_units': 16, 'dropout': 0.6, 'hidden_units': 32, 'learning_rate': 0.001}. Best is trial 22 with value: 0.9213483146067416.\n",
            "/home/n.emmolo/miniconda3/envs/env/lib/python3.10/site-packages/keras/src/layers/core/embedding.py:97: UserWarning: Argument `input_length` is deprecated. Just remove it.\n",
            "  warnings.warn(\n"
          ]
        },
        {
          "name": "stdout",
          "output_type": "stream",
          "text": [
            "\u001b[1m4/4\u001b[0m \u001b[32m━━━━━━━━━━━━━━━━━━━━\u001b[0m\u001b[37m\u001b[0m \u001b[1m0s\u001b[0m 78ms/step\n"
          ]
        },
        {
          "name": "stderr",
          "output_type": "stream",
          "text": [
            "[I 2025-10-21 18:08:06,075] Trial 30 finished with value: 0.6666666666666666 and parameters: {'num_units': 32, 'dropout': 0.8, 'hidden_units': 64, 'learning_rate': 0.01}. Best is trial 22 with value: 0.9213483146067416.\n",
            "/home/n.emmolo/miniconda3/envs/env/lib/python3.10/site-packages/keras/src/layers/core/embedding.py:97: UserWarning: Argument `input_length` is deprecated. Just remove it.\n",
            "  warnings.warn(\n"
          ]
        },
        {
          "name": "stdout",
          "output_type": "stream",
          "text": [
            "\u001b[1m4/4\u001b[0m \u001b[32m━━━━━━━━━━━━━━━━━━━━\u001b[0m\u001b[37m\u001b[0m \u001b[1m0s\u001b[0m 77ms/step\n"
          ]
        },
        {
          "name": "stderr",
          "output_type": "stream",
          "text": [
            "[I 2025-10-21 18:08:25,674] Trial 31 finished with value: 0.8095238095238095 and parameters: {'num_units': 16, 'dropout': 0.6, 'hidden_units': 32, 'learning_rate': 0.001}. Best is trial 22 with value: 0.9213483146067416.\n",
            "/home/n.emmolo/miniconda3/envs/env/lib/python3.10/site-packages/keras/src/layers/core/embedding.py:97: UserWarning: Argument `input_length` is deprecated. Just remove it.\n",
            "  warnings.warn(\n"
          ]
        },
        {
          "name": "stdout",
          "output_type": "stream",
          "text": [
            "\u001b[1m4/4\u001b[0m \u001b[32m━━━━━━━━━━━━━━━━━━━━\u001b[0m\u001b[37m\u001b[0m \u001b[1m0s\u001b[0m 78ms/step\n"
          ]
        },
        {
          "name": "stderr",
          "output_type": "stream",
          "text": [
            "[I 2025-10-21 18:08:41,070] Trial 32 finished with value: 0.7777777777777778 and parameters: {'num_units': 16, 'dropout': 0.6, 'hidden_units': 32, 'learning_rate': 0.001}. Best is trial 22 with value: 0.9213483146067416.\n",
            "/home/n.emmolo/miniconda3/envs/env/lib/python3.10/site-packages/keras/src/layers/core/embedding.py:97: UserWarning: Argument `input_length` is deprecated. Just remove it.\n",
            "  warnings.warn(\n"
          ]
        },
        {
          "name": "stdout",
          "output_type": "stream",
          "text": [
            "\u001b[1m4/4\u001b[0m \u001b[32m━━━━━━━━━━━━━━━━━━━━\u001b[0m\u001b[37m\u001b[0m \u001b[1m0s\u001b[0m 78ms/step\n"
          ]
        },
        {
          "name": "stderr",
          "output_type": "stream",
          "text": [
            "[I 2025-10-21 18:09:01,562] Trial 33 finished with value: 0.8913043478260869 and parameters: {'num_units': 16, 'dropout': 0.6, 'hidden_units': 32, 'learning_rate': 0.001}. Best is trial 22 with value: 0.9213483146067416.\n",
            "/home/n.emmolo/miniconda3/envs/env/lib/python3.10/site-packages/keras/src/layers/core/embedding.py:97: UserWarning: Argument `input_length` is deprecated. Just remove it.\n",
            "  warnings.warn(\n"
          ]
        },
        {
          "name": "stdout",
          "output_type": "stream",
          "text": [
            "\u001b[1m4/4\u001b[0m \u001b[32m━━━━━━━━━━━━━━━━━━━━\u001b[0m\u001b[37m\u001b[0m \u001b[1m0s\u001b[0m 77ms/step\n"
          ]
        },
        {
          "name": "stderr",
          "output_type": "stream",
          "text": [
            "[I 2025-10-21 18:09:19,156] Trial 34 finished with value: 0.9010989010989011 and parameters: {'num_units': 64, 'dropout': 0.6, 'hidden_units': 32, 'learning_rate': 0.001}. Best is trial 22 with value: 0.9213483146067416.\n",
            "/home/n.emmolo/miniconda3/envs/env/lib/python3.10/site-packages/keras/src/layers/core/embedding.py:97: UserWarning: Argument `input_length` is deprecated. Just remove it.\n",
            "  warnings.warn(\n"
          ]
        },
        {
          "name": "stdout",
          "output_type": "stream",
          "text": [
            "\u001b[1m4/4\u001b[0m \u001b[32m━━━━━━━━━━━━━━━━━━━━\u001b[0m\u001b[37m\u001b[0m \u001b[1m0s\u001b[0m 76ms/step\n"
          ]
        },
        {
          "name": "stderr",
          "output_type": "stream",
          "text": [
            "[I 2025-10-21 18:09:30,193] Trial 35 finished with value: 0.5757575757575758 and parameters: {'num_units': 64, 'dropout': 0.6, 'hidden_units': 16, 'learning_rate': 0.01}. Best is trial 22 with value: 0.9213483146067416.\n",
            "/home/n.emmolo/miniconda3/envs/env/lib/python3.10/site-packages/keras/src/layers/core/embedding.py:97: UserWarning: Argument `input_length` is deprecated. Just remove it.\n",
            "  warnings.warn(\n"
          ]
        },
        {
          "name": "stdout",
          "output_type": "stream",
          "text": [
            "\u001b[1m4/4\u001b[0m \u001b[32m━━━━━━━━━━━━━━━━━━━━\u001b[0m\u001b[37m\u001b[0m \u001b[1m0s\u001b[0m 79ms/step\n"
          ]
        },
        {
          "name": "stderr",
          "output_type": "stream",
          "text": [
            "[I 2025-10-21 18:09:47,256] Trial 36 finished with value: 0.8863636363636364 and parameters: {'num_units': 64, 'dropout': 0.6, 'hidden_units': 32, 'learning_rate': 0.001}. Best is trial 22 with value: 0.9213483146067416.\n",
            "/home/n.emmolo/miniconda3/envs/env/lib/python3.10/site-packages/keras/src/layers/core/embedding.py:97: UserWarning: Argument `input_length` is deprecated. Just remove it.\n",
            "  warnings.warn(\n"
          ]
        },
        {
          "name": "stdout",
          "output_type": "stream",
          "text": [
            "\u001b[1m4/4\u001b[0m \u001b[32m━━━━━━━━━━━━━━━━━━━━\u001b[0m\u001b[37m\u001b[0m \u001b[1m0s\u001b[0m 79ms/step\n"
          ]
        },
        {
          "name": "stderr",
          "output_type": "stream",
          "text": [
            "[I 2025-10-21 18:10:07,731] Trial 37 finished with value: 0.8541666666666666 and parameters: {'num_units': 64, 'dropout': 0.4, 'hidden_units': 16, 'learning_rate': 0.001}. Best is trial 22 with value: 0.9213483146067416.\n",
            "/home/n.emmolo/miniconda3/envs/env/lib/python3.10/site-packages/keras/src/layers/core/embedding.py:97: UserWarning: Argument `input_length` is deprecated. Just remove it.\n",
            "  warnings.warn(\n"
          ]
        },
        {
          "name": "stdout",
          "output_type": "stream",
          "text": [
            "\u001b[1m4/4\u001b[0m \u001b[32m━━━━━━━━━━━━━━━━━━━━\u001b[0m\u001b[37m\u001b[0m \u001b[1m0s\u001b[0m 77ms/step\n"
          ]
        },
        {
          "name": "stderr",
          "output_type": "stream",
          "text": [
            "[I 2025-10-21 18:11:56,964] Trial 38 finished with value: 0.0 and parameters: {'num_units': 96, 'dropout': 0.6, 'hidden_units': 32, 'learning_rate': 1e-05}. Best is trial 22 with value: 0.9213483146067416.\n",
            "/home/n.emmolo/miniconda3/envs/env/lib/python3.10/site-packages/keras/src/layers/core/embedding.py:97: UserWarning: Argument `input_length` is deprecated. Just remove it.\n",
            "  warnings.warn(\n"
          ]
        },
        {
          "name": "stdout",
          "output_type": "stream",
          "text": [
            "\u001b[1m4/4\u001b[0m \u001b[32m━━━━━━━━━━━━━━━━━━━━\u001b[0m\u001b[37m\u001b[0m \u001b[1m0s\u001b[0m 72ms/step\n"
          ]
        },
        {
          "name": "stderr",
          "output_type": "stream",
          "text": [
            "[I 2025-10-21 18:12:08,033] Trial 39 finished with value: 0.8292682926829268 and parameters: {'num_units': 64, 'dropout': 0.2, 'hidden_units': 64, 'learning_rate': 0.001}. Best is trial 22 with value: 0.9213483146067416.\n",
            "/home/n.emmolo/miniconda3/envs/env/lib/python3.10/site-packages/keras/src/layers/core/embedding.py:97: UserWarning: Argument `input_length` is deprecated. Just remove it.\n",
            "  warnings.warn(\n"
          ]
        },
        {
          "name": "stdout",
          "output_type": "stream",
          "text": [
            "\u001b[1m4/4\u001b[0m \u001b[32m━━━━━━━━━━━━━━━━━━━━\u001b[0m\u001b[37m\u001b[0m \u001b[1m0s\u001b[0m 75ms/step\n"
          ]
        },
        {
          "name": "stderr",
          "output_type": "stream",
          "text": [
            "[I 2025-10-21 18:12:19,021] Trial 40 finished with value: 0.8051948051948052 and parameters: {'num_units': 16, 'dropout': 0.6, 'hidden_units': 16, 'learning_rate': 0.01}. Best is trial 22 with value: 0.9213483146067416.\n",
            "/home/n.emmolo/miniconda3/envs/env/lib/python3.10/site-packages/keras/src/layers/core/embedding.py:97: UserWarning: Argument `input_length` is deprecated. Just remove it.\n",
            "  warnings.warn(\n"
          ]
        },
        {
          "name": "stdout",
          "output_type": "stream",
          "text": [
            "\u001b[1m4/4\u001b[0m \u001b[32m━━━━━━━━━━━━━━━━━━━━\u001b[0m\u001b[37m\u001b[0m \u001b[1m0s\u001b[0m 89ms/step\n"
          ]
        },
        {
          "name": "stderr",
          "output_type": "stream",
          "text": [
            "[I 2025-10-21 18:12:35,624] Trial 41 finished with value: 0.8292682926829268 and parameters: {'num_units': 64, 'dropout': 0.6, 'hidden_units': 32, 'learning_rate': 0.001}. Best is trial 22 with value: 0.9213483146067416.\n",
            "/home/n.emmolo/miniconda3/envs/env/lib/python3.10/site-packages/keras/src/layers/core/embedding.py:97: UserWarning: Argument `input_length` is deprecated. Just remove it.\n",
            "  warnings.warn(\n"
          ]
        },
        {
          "name": "stdout",
          "output_type": "stream",
          "text": [
            "\u001b[1m4/4\u001b[0m \u001b[32m━━━━━━━━━━━━━━━━━━━━\u001b[0m\u001b[37m\u001b[0m \u001b[1m0s\u001b[0m 79ms/step\n"
          ]
        },
        {
          "name": "stderr",
          "output_type": "stream",
          "text": [
            "[I 2025-10-21 18:12:51,229] Trial 42 finished with value: 0.8636363636363636 and parameters: {'num_units': 96, 'dropout': 0.6, 'hidden_units': 32, 'learning_rate': 0.001}. Best is trial 22 with value: 0.9213483146067416.\n",
            "/home/n.emmolo/miniconda3/envs/env/lib/python3.10/site-packages/keras/src/layers/core/embedding.py:97: UserWarning: Argument `input_length` is deprecated. Just remove it.\n",
            "  warnings.warn(\n"
          ]
        },
        {
          "name": "stdout",
          "output_type": "stream",
          "text": [
            "\u001b[1m4/4\u001b[0m \u001b[32m━━━━━━━━━━━━━━━━━━━━\u001b[0m\u001b[37m\u001b[0m \u001b[1m0s\u001b[0m 79ms/step\n"
          ]
        },
        {
          "name": "stderr",
          "output_type": "stream",
          "text": [
            "[I 2025-10-21 18:13:09,180] Trial 43 finished with value: 0.8863636363636364 and parameters: {'num_units': 16, 'dropout': 0.6, 'hidden_units': 32, 'learning_rate': 0.001}. Best is trial 22 with value: 0.9213483146067416.\n",
            "/home/n.emmolo/miniconda3/envs/env/lib/python3.10/site-packages/keras/src/layers/core/embedding.py:97: UserWarning: Argument `input_length` is deprecated. Just remove it.\n",
            "  warnings.warn(\n"
          ]
        },
        {
          "name": "stdout",
          "output_type": "stream",
          "text": [
            "\u001b[1m4/4\u001b[0m \u001b[32m━━━━━━━━━━━━━━━━━━━━\u001b[0m\u001b[37m\u001b[0m \u001b[1m0s\u001b[0m 75ms/step\n"
          ]
        },
        {
          "name": "stderr",
          "output_type": "stream",
          "text": [
            "[I 2025-10-21 18:14:07,507] Trial 44 finished with value: 0.37037037037037035 and parameters: {'num_units': 128, 'dropout': 0.8, 'hidden_units': 8, 'learning_rate': 0.0001}. Best is trial 22 with value: 0.9213483146067416.\n",
            "/home/n.emmolo/miniconda3/envs/env/lib/python3.10/site-packages/keras/src/layers/core/embedding.py:97: UserWarning: Argument `input_length` is deprecated. Just remove it.\n",
            "  warnings.warn(\n"
          ]
        },
        {
          "name": "stdout",
          "output_type": "stream",
          "text": [
            "\u001b[1m4/4\u001b[0m \u001b[32m━━━━━━━━━━━━━━━━━━━━\u001b[0m\u001b[37m\u001b[0m \u001b[1m1s\u001b[0m 90ms/step\n"
          ]
        },
        {
          "name": "stderr",
          "output_type": "stream",
          "text": [
            "[I 2025-10-21 18:14:29,836] Trial 45 finished with value: 0.8571428571428571 and parameters: {'num_units': 16, 'dropout': 0.6, 'hidden_units': 32, 'learning_rate': 0.001}. Best is trial 22 with value: 0.9213483146067416.\n",
            "/home/n.emmolo/miniconda3/envs/env/lib/python3.10/site-packages/keras/src/layers/core/embedding.py:97: UserWarning: Argument `input_length` is deprecated. Just remove it.\n",
            "  warnings.warn(\n"
          ]
        },
        {
          "name": "stdout",
          "output_type": "stream",
          "text": [
            "\u001b[1m4/4\u001b[0m \u001b[32m━━━━━━━━━━━━━━━━━━━━\u001b[0m\u001b[37m\u001b[0m \u001b[1m0s\u001b[0m 80ms/step\n"
          ]
        },
        {
          "name": "stderr",
          "output_type": "stream",
          "text": [
            "[I 2025-10-21 18:14:45,311] Trial 46 finished with value: 0.8636363636363636 and parameters: {'num_units': 64, 'dropout': 0.4, 'hidden_units': 64, 'learning_rate': 0.001}. Best is trial 22 with value: 0.9213483146067416.\n",
            "/home/n.emmolo/miniconda3/envs/env/lib/python3.10/site-packages/keras/src/layers/core/embedding.py:97: UserWarning: Argument `input_length` is deprecated. Just remove it.\n",
            "  warnings.warn(\n"
          ]
        },
        {
          "name": "stdout",
          "output_type": "stream",
          "text": [
            "\u001b[1m4/4\u001b[0m \u001b[32m━━━━━━━━━━━━━━━━━━━━\u001b[0m\u001b[37m\u001b[0m \u001b[1m0s\u001b[0m 78ms/step\n"
          ]
        },
        {
          "name": "stderr",
          "output_type": "stream",
          "text": [
            "[I 2025-10-21 18:16:35,900] Trial 47 finished with value: 0.0 and parameters: {'num_units': 128, 'dropout': 0.8, 'hidden_units': 32, 'learning_rate': 1e-05}. Best is trial 22 with value: 0.9213483146067416.\n",
            "/home/n.emmolo/miniconda3/envs/env/lib/python3.10/site-packages/keras/src/layers/core/embedding.py:97: UserWarning: Argument `input_length` is deprecated. Just remove it.\n",
            "  warnings.warn(\n"
          ]
        },
        {
          "name": "stdout",
          "output_type": "stream",
          "text": [
            "\u001b[1m4/4\u001b[0m \u001b[32m━━━━━━━━━━━━━━━━━━━━\u001b[0m\u001b[37m\u001b[0m \u001b[1m0s\u001b[0m 79ms/step\n"
          ]
        },
        {
          "name": "stderr",
          "output_type": "stream",
          "text": [
            "[I 2025-10-21 18:16:47,013] Trial 48 finished with value: 0.4406779661016949 and parameters: {'num_units': 32, 'dropout': 0.6, 'hidden_units': 32, 'learning_rate': 0.01}. Best is trial 22 with value: 0.9213483146067416.\n",
            "/home/n.emmolo/miniconda3/envs/env/lib/python3.10/site-packages/keras/src/layers/core/embedding.py:97: UserWarning: Argument `input_length` is deprecated. Just remove it.\n",
            "  warnings.warn(\n"
          ]
        },
        {
          "name": "stdout",
          "output_type": "stream",
          "text": [
            "\u001b[1m4/4\u001b[0m \u001b[32m━━━━━━━━━━━━━━━━━━━━\u001b[0m\u001b[37m\u001b[0m \u001b[1m0s\u001b[0m 79ms/step\n"
          ]
        },
        {
          "name": "stderr",
          "output_type": "stream",
          "text": [
            "[I 2025-10-21 18:17:00,108] Trial 49 finished with value: 0.8333333333333334 and parameters: {'num_units': 16, 'dropout': 0.2, 'hidden_units': 64, 'learning_rate': 0.001}. Best is trial 22 with value: 0.9213483146067416.\n"
          ]
        },
        {
          "name": "stdout",
          "output_type": "stream",
          "text": [
            "Best parameters: {'num_units': 16, 'dropout': 0.6, 'hidden_units': 32, 'learning_rate': 0.001}\n"
          ]
        }
      ],
      "source": [
        "# ----------------------------\n",
        "# Hyperparameter optimization\n",
        "# ----------------------------\n",
        "\n",
        "study = optuna.create_study(direction=\"maximize\") # maximize F1-score\n",
        "study.optimize(objectiveBiLSTM, n_trials=50) # 50 trials for demonstration\n",
        "\n",
        "print(\"Best parameters:\", study.best_params)"
      ]
    },
    {
      "cell_type": "code",
      "execution_count": 73,
      "metadata": {
        "colab": {
          "base_uri": "https://localhost:8080/"
        },
        "id": "I1Cz-V5meZm-",
        "outputId": "7cf50063-e21d-4f05-ccfe-8c22db28cc71"
      },
      "outputs": [
        {
          "name": "stdout",
          "output_type": "stream",
          "text": [
            "\u001b[1m4/4\u001b[0m \u001b[32m━━━━━━━━━━━━━━━━━━━━\u001b[0m\u001b[37m\u001b[0m \u001b[1m0s\u001b[0m 85ms/step\n",
            "\n",
            "Classification Report:\n",
            "              precision    recall  f1-score   support\n",
            "\n",
            "           0       0.88      0.90      0.89        68\n",
            "           1       0.83      0.81      0.82        43\n",
            "\n",
            "    accuracy                           0.86       111\n",
            "   macro avg       0.86      0.86      0.86       111\n",
            "weighted avg       0.86      0.86      0.86       111\n",
            "\n",
            "Confusion Matrix:\n",
            "[[61  7]\n",
            " [ 8 35]]\n",
            "Weighted F1-score: 0.8645631462290972\n"
          ]
        }
      ],
      "source": [
        "# -----------\n",
        "# Final training and evaluation\n",
        "# -----------\n",
        "\n",
        "best_params = study.best_params\n",
        "best_model = Sequential([\n",
        "    Embedding(num_words, embedding_dim, weights=[embedding_matrix], input_length=max_len, trainable=True),\n",
        "    Bidirectional(LSTM(best_params[\"num_units\"], return_sequences=False, dropout=best_params[\"dropout\"], recurrent_dropout=0.0)),\n",
        "    Dense(best_params[\"hidden_units\"], activation='relu'),\n",
        "    Dropout(best_params[\"dropout\"]),\n",
        "    Dense(1, activation='sigmoid')\n",
        "])\n",
        "best_model.compile(\n",
        "    optimizer=Adam(learning_rate=best_params[\"learning_rate\"]),\n",
        "    loss='binary_crossentropy',\n",
        "    metrics=['accuracy']\n",
        ")\n",
        "best_model.fit(\n",
        "    np.concatenate((X_train, X_val)), \n",
        "    np.concatenate((y_train, y_val)),\n",
        "    epochs=50,\n",
        "    batch_size=8,\n",
        "    callbacks=[EarlyStopping(monitor='loss', patience=2, restore_best_weights=True, verbose=0)],\n",
        "    verbose=0\n",
        ")\n",
        "y_pred = (best_model.predict(X_test) > 0.5).astype(int)\n",
        "\n",
        "print(\"\\nClassification Report:\")\n",
        "print(classification_report(y_test, y_pred))\n",
        "print(\"Confusion Matrix:\")\n",
        "print(confusion_matrix(y_test, y_pred))\n",
        "print(\"Weighted F1-score:\", f1_score(y_test, y_pred, average=\"weighted\"))"
      ]
    },
    {
      "cell_type": "markdown",
      "metadata": {
        "id": "8r4R_bSzeqEV"
      },
      "source": [
        "# **CNN-BERT (FakeBERT)**"
      ]
    },
    {
      "cell_type": "code",
      "execution_count": 16,
      "metadata": {
        "id": "XsWF94roeyw4"
      },
      "outputs": [],
      "source": [
        "import numpy as np\n",
        "import pandas as pd\n",
        "from sklearn.model_selection import train_test_split\n",
        "from sklearn.metrics import f1_score, classification_report, confusion_matrix\n",
        "from tensorflow.keras.models import Sequential\n",
        "from tensorflow.keras.layers import Conv1D, GlobalMaxPooling1D, Dense, Dropout, Input\n",
        "from tensorflow.keras.optimizers import Adam\n",
        "from tensorflow.keras.callbacks import EarlyStopping\n",
        "from transformers import BertTokenizer, TFBertModel\n",
        "import tensorflow as tf\n",
        "import optuna"
      ]
    },
    {
      "cell_type": "code",
      "execution_count": 5,
      "metadata": {
        "id": "5phKcrDQeypf"
      },
      "outputs": [],
      "source": [
        "# ----------------\n",
        "# Load dataset\n",
        "# ----------------\n",
        "\n",
        "path_file = \"datasets/Unipi_NDF/df_ndf.csv\"\n",
        "df = pd.read_csv(path_file, sep=\"\\t\", encoding=\"utf-8\")\n",
        "df.head()\n",
        "\n",
        "texts = df[\"texts\"].astype(str).tolist()\n",
        "labels = df[\"labels\"].values"
      ]
    },
    {
      "cell_type": "code",
      "execution_count": 10,
      "metadata": {
        "id": "O8_ECVKyeyi8"
      },
      "outputs": [
        {
          "name": "stderr",
          "output_type": "stream",
          "text": [
            "Some weights of the PyTorch model were not used when initializing the TF 2.0 model TFBertModel: ['cls.predictions.bias', 'cls.seq_relationship.bias', 'cls.predictions.transform.dense.weight', 'cls.predictions.transform.LayerNorm.bias', 'cls.seq_relationship.weight', 'cls.predictions.decoder.weight', 'cls.predictions.transform.dense.bias', 'cls.predictions.transform.LayerNorm.weight']\n",
            "- This IS expected if you are initializing TFBertModel from a PyTorch model trained on another task or with another architecture (e.g. initializing a TFBertForSequenceClassification model from a BertForPreTraining model).\n",
            "- This IS NOT expected if you are initializing TFBertModel from a PyTorch model that you expect to be exactly identical (e.g. initializing a TFBertForSequenceClassification model from a BertForSequenceClassification model).\n",
            "All the weights of TFBertModel were initialized from the PyTorch model.\n",
            "If your task is similar to the task the model of the checkpoint was trained on, you can already use TFBertModel for predictions without further training.\n"
          ]
        }
      ],
      "source": [
        "# ------------------------------\n",
        "# Preprocessing and tokenization\n",
        "# ------------------------------\n",
        "\n",
        "# split train/validation/test (0.6 / 0.2 / 0.2): stratify to maintain label distribution\n",
        "X_train, X_temp, y_train, y_temp = train_test_split(texts, labels, test_size=0.4, stratify=labels, random_state=42)\n",
        "X_val, X_test, y_val, y_test = train_test_split(X_temp, y_temp, test_size=0.5, stratify=y_temp, random_state=42)\n",
        "\n",
        "# Initialize BERT tokenizer and model\n",
        "tokenizer = BertTokenizer.from_pretrained(\"bert-base-cased\")\n",
        "bert_model = TFBertModel.from_pretrained(\"bert-base-cased\", from_pt=True)\n",
        "\n",
        "max_len = 128 # maximum length for BERT inputs\n",
        "\n",
        "def get_bert_embeddings(texts):\n",
        "    \"\"\" Extract BERT [CLS] embeddings for a list of texts. \"\"\"\n",
        "    input_enc = tokenizer(\n",
        "        texts, truncation=True, padding=True, max_length=max_len, return_tensors='tf'\n",
        "    )\n",
        "    outputs = bert_model(input_enc)\n",
        "\n",
        "    # For each input, get the embeddings of all tokens\n",
        "    token_embeddings = outputs.last_hidden_state  # shape: (N, max_len, 768)\n",
        "    return token_embeddings.numpy()\n",
        "\n",
        "# Extract BERT embeddings for train, validation, and test sets\n",
        "X_train_emb = get_bert_embeddings(X_train)\n",
        "X_val_emb = get_bert_embeddings(X_val)\n",
        "X_test_emb = get_bert_embeddings(X_test)"
      ]
    },
    {
      "cell_type": "code",
      "execution_count": 13,
      "metadata": {},
      "outputs": [],
      "source": [
        "# ----------------------------\n",
        "# Optuna objective function\n",
        "# ----------------------------\n",
        "\n",
        "def objectiveCNNBERT(trial):\n",
        "    cnn_filters = trial.suggest_categorical(\"cnn_filters\", [64, 96, 128])\n",
        "    kernel_size = trial.suggest_categorical(\"kernel_size\", [3, 4, 5])\n",
        "    dense_units = trial.suggest_categorical(\"dense_units\", [16, 32, 64])\n",
        "    learning_rate = trial.suggest_categorical(\"learning_rate\", [1e-5, 1e-4, 1e-3, 1e-2])\n",
        "\n",
        "    model = Sequential([\n",
        "        Input(shape=(max_len, X_train_emb.shape[2])),\n",
        "        Conv1D(filters=cnn_filters, kernel_size=kernel_size, activation='relu'),\n",
        "        GlobalMaxPooling1D(),\n",
        "        Dense(dense_units, activation='relu'),\n",
        "        Dropout(0.3),\n",
        "        Dense(1, activation='sigmoid')\n",
        "    ])\n",
        "\n",
        "    model.compile(optimizer=Adam(learning_rate=learning_rate),\n",
        "                  loss='binary_crossentropy', metrics=['accuracy'])\n",
        "\n",
        "    es = EarlyStopping(monitor='val_loss', patience=2, restore_best_weights=True, verbose=0)\n",
        "    model.fit(X_train_emb, y_train,\n",
        "              validation_data=(X_val_emb, y_val),\n",
        "              epochs=50,\n",
        "              batch_size=8,\n",
        "              callbacks=[es],\n",
        "              verbose=0)\n",
        "\n",
        "    preds_val = (model.predict(X_val_emb) > 0.5).astype(int)\n",
        "    f1 = f1_score(y_val, preds_val)\n",
        "    return f1"
      ]
    },
    {
      "cell_type": "code",
      "execution_count": 14,
      "metadata": {},
      "outputs": [
        {
          "name": "stderr",
          "output_type": "stream",
          "text": [
            "[I 2025-10-22 11:49:25,543] A new study created in memory with name: no-name-ace195d6-6aed-43c3-8ec8-6d1dc2a0bd09\n",
            "2025-10-22 11:49:26.540116: I external/local_xla/xla/service/service.cc:163] XLA service 0x7980a4005340 initialized for platform CUDA (this does not guarantee that XLA will be used). Devices:\n",
            "2025-10-22 11:49:26.540156: I external/local_xla/xla/service/service.cc:171]   StreamExecutor device (0): Tesla V100S-PCIE-32GB, Compute Capability 7.0\n",
            "2025-10-22 11:49:26.582372: I tensorflow/compiler/mlir/tensorflow/utils/dump_mlir_util.cc:269] disabling MLIR crash reproducer, set env var `MLIR_CRASH_REPRODUCER_DIRECTORY` to enable.\n",
            "2025-10-22 11:49:26.735743: I external/local_xla/xla/stream_executor/cuda/cuda_dnn.cc:473] Loaded cuDNN version 91002\n",
            "I0000 00:00:1761126567.852105 2988730 device_compiler.h:196] Compiled cluster using XLA!  This line is logged at most once for the lifetime of the process.\n",
            "2025-10-22 11:49:28.702946: E external/local_xla/xla/stream_executor/cuda/cuda_timer.cc:86] Delay kernel timed out: measured time has sub-optimal accuracy. There may be a missing warmup execution, please investigate in Nsight Systems.\n",
            "2025-10-22 11:49:28.960572: E external/local_xla/xla/stream_executor/cuda/cuda_timer.cc:86] Delay kernel timed out: measured time has sub-optimal accuracy. There may be a missing warmup execution, please investigate in Nsight Systems.\n",
            "2025-10-22 11:49:30.894624: E external/local_xla/xla/stream_executor/cuda/cuda_timer.cc:86] Delay kernel timed out: measured time has sub-optimal accuracy. There may be a missing warmup execution, please investigate in Nsight Systems.\n",
            "2025-10-22 11:49:31.147729: E external/local_xla/xla/stream_executor/cuda/cuda_timer.cc:86] Delay kernel timed out: measured time has sub-optimal accuracy. There may be a missing warmup execution, please investigate in Nsight Systems.\n"
          ]
        },
        {
          "name": "stdout",
          "output_type": "stream",
          "text": [
            "\u001b[1m1/4\u001b[0m \u001b[32m━━━━━\u001b[0m\u001b[37m━━━━━━━━━━━━━━━\u001b[0m \u001b[1m0s\u001b[0m 291ms/step"
          ]
        },
        {
          "name": "stderr",
          "output_type": "stream",
          "text": [
            "2025-10-22 11:49:39.538043: E external/local_xla/xla/stream_executor/cuda/cuda_timer.cc:86] Delay kernel timed out: measured time has sub-optimal accuracy. There may be a missing warmup execution, please investigate in Nsight Systems.\n",
            "2025-10-22 11:49:39.802049: E external/local_xla/xla/stream_executor/cuda/cuda_timer.cc:86] Delay kernel timed out: measured time has sub-optimal accuracy. There may be a missing warmup execution, please investigate in Nsight Systems.\n"
          ]
        },
        {
          "name": "stdout",
          "output_type": "stream",
          "text": [
            "\u001b[1m4/4\u001b[0m \u001b[32m━━━━━━━━━━━━━━━━━━━━\u001b[0m\u001b[37m\u001b[0m \u001b[1m1s\u001b[0m 344ms/step\n"
          ]
        },
        {
          "name": "stderr",
          "output_type": "stream",
          "text": [
            "[I 2025-10-22 11:49:40,163] Trial 0 finished with value: 0.775 and parameters: {'cnn_filters': 64, 'kernel_size': 5, 'dense_units': 64, 'learning_rate': 0.0001}. Best is trial 0 with value: 0.775.\n",
            "2025-10-22 11:49:43.019069: E external/local_xla/xla/stream_executor/cuda/cuda_timer.cc:86] Delay kernel timed out: measured time has sub-optimal accuracy. There may be a missing warmup execution, please investigate in Nsight Systems.\n",
            "2025-10-22 11:49:43.289064: E external/local_xla/xla/stream_executor/cuda/cuda_timer.cc:86] Delay kernel timed out: measured time has sub-optimal accuracy. There may be a missing warmup execution, please investigate in Nsight Systems.\n",
            "2025-10-22 11:49:45.252198: E external/local_xla/xla/stream_executor/cuda/cuda_timer.cc:86] Delay kernel timed out: measured time has sub-optimal accuracy. There may be a missing warmup execution, please investigate in Nsight Systems.\n",
            "2025-10-22 11:49:45.523739: E external/local_xla/xla/stream_executor/cuda/cuda_timer.cc:86] Delay kernel timed out: measured time has sub-optimal accuracy. There may be a missing warmup execution, please investigate in Nsight Systems.\n"
          ]
        },
        {
          "name": "stdout",
          "output_type": "stream",
          "text": [
            "\u001b[1m1/4\u001b[0m \u001b[32m━━━━━\u001b[0m\u001b[37m━━━━━━━━━━━━━━━\u001b[0m \u001b[1m0s\u001b[0m 306ms/step"
          ]
        },
        {
          "name": "stderr",
          "output_type": "stream",
          "text": [
            "2025-10-22 11:49:47.904452: E external/local_xla/xla/stream_executor/cuda/cuda_timer.cc:86] Delay kernel timed out: measured time has sub-optimal accuracy. There may be a missing warmup execution, please investigate in Nsight Systems.\n",
            "2025-10-22 11:49:48.178138: E external/local_xla/xla/stream_executor/cuda/cuda_timer.cc:86] Delay kernel timed out: measured time has sub-optimal accuracy. There may be a missing warmup execution, please investigate in Nsight Systems.\n"
          ]
        },
        {
          "name": "stdout",
          "output_type": "stream",
          "text": [
            "\u001b[1m4/4\u001b[0m \u001b[32m━━━━━━━━━━━━━━━━━━━━\u001b[0m\u001b[37m\u001b[0m \u001b[1m1s\u001b[0m 346ms/step\n"
          ]
        },
        {
          "name": "stderr",
          "output_type": "stream",
          "text": [
            "[I 2025-10-22 11:49:48,533] Trial 1 finished with value: 0.4383561643835616 and parameters: {'cnn_filters': 128, 'kernel_size': 5, 'dense_units': 32, 'learning_rate': 0.01}. Best is trial 0 with value: 0.775.\n",
            "2025-10-22 11:49:51.383464: E external/local_xla/xla/stream_executor/cuda/cuda_timer.cc:86] Delay kernel timed out: measured time has sub-optimal accuracy. There may be a missing warmup execution, please investigate in Nsight Systems.\n",
            "2025-10-22 11:49:51.653657: E external/local_xla/xla/stream_executor/cuda/cuda_timer.cc:86] Delay kernel timed out: measured time has sub-optimal accuracy. There may be a missing warmup execution, please investigate in Nsight Systems.\n",
            "2025-10-22 11:49:53.580617: E external/local_xla/xla/stream_executor/cuda/cuda_timer.cc:86] Delay kernel timed out: measured time has sub-optimal accuracy. There may be a missing warmup execution, please investigate in Nsight Systems.\n",
            "2025-10-22 11:49:53.851587: E external/local_xla/xla/stream_executor/cuda/cuda_timer.cc:86] Delay kernel timed out: measured time has sub-optimal accuracy. There may be a missing warmup execution, please investigate in Nsight Systems.\n"
          ]
        },
        {
          "name": "stdout",
          "output_type": "stream",
          "text": [
            "WARNING:tensorflow:5 out of the last 9 calls to <function TensorFlowTrainer.make_predict_function.<locals>.one_step_on_data_distributed at 0x7984faea4c10> triggered tf.function retracing. Tracing is expensive and the excessive number of tracings could be due to (1) creating @tf.function repeatedly in a loop, (2) passing tensors with different shapes, (3) passing Python objects instead of tensors. For (1), please define your @tf.function outside of the loop. For (2), @tf.function has reduce_retracing=True option that can avoid unnecessary retracing. For (3), please refer to https://www.tensorflow.org/guide/function#controlling_retracing and https://www.tensorflow.org/api_docs/python/tf/function for  more details.\n",
            "\u001b[1m1/4\u001b[0m \u001b[32m━━━━━\u001b[0m\u001b[37m━━━━━━━━━━━━━━━\u001b[0m \u001b[1m0s\u001b[0m 276ms/step"
          ]
        },
        {
          "name": "stderr",
          "output_type": "stream",
          "text": [
            "2025-10-22 11:49:59.986695: E external/local_xla/xla/stream_executor/cuda/cuda_timer.cc:86] Delay kernel timed out: measured time has sub-optimal accuracy. There may be a missing warmup execution, please investigate in Nsight Systems.\n",
            "2025-10-22 11:50:00.260549: E external/local_xla/xla/stream_executor/cuda/cuda_timer.cc:86] Delay kernel timed out: measured time has sub-optimal accuracy. There may be a missing warmup execution, please investigate in Nsight Systems.\n"
          ]
        },
        {
          "name": "stdout",
          "output_type": "stream",
          "text": [
            "WARNING:tensorflow:6 out of the last 12 calls to <function TensorFlowTrainer.make_predict_function.<locals>.one_step_on_data_distributed at 0x7984faea4c10> triggered tf.function retracing. Tracing is expensive and the excessive number of tracings could be due to (1) creating @tf.function repeatedly in a loop, (2) passing tensors with different shapes, (3) passing Python objects instead of tensors. For (1), please define your @tf.function outside of the loop. For (2), @tf.function has reduce_retracing=True option that can avoid unnecessary retracing. For (3), please refer to https://www.tensorflow.org/guide/function#controlling_retracing and https://www.tensorflow.org/api_docs/python/tf/function for  more details.\n",
            "\u001b[1m4/4\u001b[0m \u001b[32m━━━━━━━━━━━━━━━━━━━━\u001b[0m\u001b[37m\u001b[0m \u001b[1m1s\u001b[0m 340ms/step\n"
          ]
        },
        {
          "name": "stderr",
          "output_type": "stream",
          "text": [
            "[I 2025-10-22 11:50:00,600] Trial 2 finished with value: 0.9069767441860465 and parameters: {'cnn_filters': 128, 'kernel_size': 4, 'dense_units': 16, 'learning_rate': 0.001}. Best is trial 2 with value: 0.9069767441860465.\n"
          ]
        },
        {
          "name": "stdout",
          "output_type": "stream",
          "text": [
            "\u001b[1m4/4\u001b[0m \u001b[32m━━━━━━━━━━━━━━━━━━━━\u001b[0m\u001b[37m\u001b[0m \u001b[1m1s\u001b[0m 112ms/step\n"
          ]
        },
        {
          "name": "stderr",
          "output_type": "stream",
          "text": [
            "[I 2025-10-22 11:50:32,115] Trial 3 finished with value: 0.6571428571428571 and parameters: {'cnn_filters': 96, 'kernel_size': 3, 'dense_units': 64, 'learning_rate': 1e-05}. Best is trial 2 with value: 0.9069767441860465.\n"
          ]
        },
        {
          "name": "stdout",
          "output_type": "stream",
          "text": [
            "\u001b[1m4/4\u001b[0m \u001b[32m━━━━━━━━━━━━━━━━━━━━\u001b[0m\u001b[37m\u001b[0m \u001b[1m1s\u001b[0m 100ms/step\n"
          ]
        },
        {
          "name": "stderr",
          "output_type": "stream",
          "text": [
            "[I 2025-10-22 11:50:44,301] Trial 4 finished with value: 0.8 and parameters: {'cnn_filters': 64, 'kernel_size': 5, 'dense_units': 16, 'learning_rate': 0.0001}. Best is trial 2 with value: 0.9069767441860465.\n"
          ]
        },
        {
          "name": "stdout",
          "output_type": "stream",
          "text": [
            "\u001b[1m4/4\u001b[0m \u001b[32m━━━━━━━━━━━━━━━━━━━━\u001b[0m\u001b[37m\u001b[0m \u001b[1m1s\u001b[0m 113ms/step\n"
          ]
        },
        {
          "name": "stderr",
          "output_type": "stream",
          "text": [
            "[I 2025-10-22 11:51:15,898] Trial 5 finished with value: 0.676056338028169 and parameters: {'cnn_filters': 96, 'kernel_size': 4, 'dense_units': 16, 'learning_rate': 1e-05}. Best is trial 2 with value: 0.9069767441860465.\n"
          ]
        },
        {
          "name": "stdout",
          "output_type": "stream",
          "text": [
            "\u001b[1m4/4\u001b[0m \u001b[32m━━━━━━━━━━━━━━━━━━━━\u001b[0m\u001b[37m\u001b[0m \u001b[1m1s\u001b[0m 94ms/step\n"
          ]
        },
        {
          "name": "stderr",
          "output_type": "stream",
          "text": [
            "[I 2025-10-22 11:51:45,585] Trial 6 finished with value: 0.7123287671232876 and parameters: {'cnn_filters': 96, 'kernel_size': 4, 'dense_units': 16, 'learning_rate': 1e-05}. Best is trial 2 with value: 0.9069767441860465.\n"
          ]
        },
        {
          "name": "stdout",
          "output_type": "stream",
          "text": [
            "\u001b[1m4/4\u001b[0m \u001b[32m━━━━━━━━━━━━━━━━━━━━\u001b[0m\u001b[37m\u001b[0m \u001b[1m1s\u001b[0m 96ms/step\n"
          ]
        },
        {
          "name": "stderr",
          "output_type": "stream",
          "text": [
            "[I 2025-10-22 11:52:12,646] Trial 7 finished with value: 0.810126582278481 and parameters: {'cnn_filters': 128, 'kernel_size': 4, 'dense_units': 32, 'learning_rate': 1e-05}. Best is trial 2 with value: 0.9069767441860465.\n"
          ]
        },
        {
          "name": "stdout",
          "output_type": "stream",
          "text": [
            "\u001b[1m4/4\u001b[0m \u001b[32m━━━━━━━━━━━━━━━━━━━━\u001b[0m\u001b[37m\u001b[0m \u001b[1m1s\u001b[0m 117ms/step\n"
          ]
        },
        {
          "name": "stderr",
          "output_type": "stream",
          "text": [
            "[I 2025-10-22 11:52:20,420] Trial 8 finished with value: 0.8735632183908046 and parameters: {'cnn_filters': 128, 'kernel_size': 3, 'dense_units': 64, 'learning_rate': 0.001}. Best is trial 2 with value: 0.9069767441860465.\n",
            "2025-10-22 11:52:23.219573: E external/local_xla/xla/stream_executor/cuda/cuda_timer.cc:86] Delay kernel timed out: measured time has sub-optimal accuracy. There may be a missing warmup execution, please investigate in Nsight Systems.\n",
            "2025-10-22 11:52:23.478125: E external/local_xla/xla/stream_executor/cuda/cuda_timer.cc:86] Delay kernel timed out: measured time has sub-optimal accuracy. There may be a missing warmup execution, please investigate in Nsight Systems.\n",
            "2025-10-22 11:52:25.319693: E external/local_xla/xla/stream_executor/cuda/cuda_timer.cc:86] Delay kernel timed out: measured time has sub-optimal accuracy. There may be a missing warmup execution, please investigate in Nsight Systems.\n",
            "2025-10-22 11:52:25.572827: E external/local_xla/xla/stream_executor/cuda/cuda_timer.cc:86] Delay kernel timed out: measured time has sub-optimal accuracy. There may be a missing warmup execution, please investigate in Nsight Systems.\n"
          ]
        },
        {
          "name": "stdout",
          "output_type": "stream",
          "text": [
            "\u001b[1m1/4\u001b[0m \u001b[32m━━━━━\u001b[0m\u001b[37m━━━━━━━━━━━━━━━\u001b[0m \u001b[1m0s\u001b[0m 265ms/step"
          ]
        },
        {
          "name": "stderr",
          "output_type": "stream",
          "text": [
            "2025-10-22 11:52:53.704019: E external/local_xla/xla/stream_executor/cuda/cuda_timer.cc:86] Delay kernel timed out: measured time has sub-optimal accuracy. There may be a missing warmup execution, please investigate in Nsight Systems.\n",
            "2025-10-22 11:52:53.964516: E external/local_xla/xla/stream_executor/cuda/cuda_timer.cc:86] Delay kernel timed out: measured time has sub-optimal accuracy. There may be a missing warmup execution, please investigate in Nsight Systems.\n"
          ]
        },
        {
          "name": "stdout",
          "output_type": "stream",
          "text": [
            "\u001b[1m4/4\u001b[0m \u001b[32m━━━━━━━━━━━━━━━━━━━━\u001b[0m\u001b[37m\u001b[0m \u001b[1m1s\u001b[0m 329ms/step\n"
          ]
        },
        {
          "name": "stderr",
          "output_type": "stream",
          "text": [
            "[I 2025-10-22 11:52:54,287] Trial 9 finished with value: 0.6470588235294118 and parameters: {'cnn_filters': 64, 'kernel_size': 4, 'dense_units': 16, 'learning_rate': 1e-05}. Best is trial 2 with value: 0.9069767441860465.\n"
          ]
        },
        {
          "name": "stdout",
          "output_type": "stream",
          "text": [
            "\u001b[1m4/4\u001b[0m \u001b[32m━━━━━━━━━━━━━━━━━━━━\u001b[0m\u001b[37m\u001b[0m \u001b[1m1s\u001b[0m 95ms/step\n"
          ]
        },
        {
          "name": "stderr",
          "output_type": "stream",
          "text": [
            "[I 2025-10-22 11:53:01,165] Trial 10 finished with value: 0.5974025974025974 and parameters: {'cnn_filters': 128, 'kernel_size': 4, 'dense_units': 16, 'learning_rate': 0.001}. Best is trial 2 with value: 0.9069767441860465.\n"
          ]
        },
        {
          "name": "stdout",
          "output_type": "stream",
          "text": [
            "\u001b[1m4/4\u001b[0m \u001b[32m━━━━━━━━━━━━━━━━━━━━\u001b[0m\u001b[37m\u001b[0m \u001b[1m1s\u001b[0m 107ms/step\n"
          ]
        },
        {
          "name": "stderr",
          "output_type": "stream",
          "text": [
            "[I 2025-10-22 11:53:09,082] Trial 11 finished with value: 0.8764044943820225 and parameters: {'cnn_filters': 128, 'kernel_size': 3, 'dense_units': 64, 'learning_rate': 0.001}. Best is trial 2 with value: 0.9069767441860465.\n"
          ]
        },
        {
          "name": "stdout",
          "output_type": "stream",
          "text": [
            "\u001b[1m4/4\u001b[0m \u001b[32m━━━━━━━━━━━━━━━━━━━━\u001b[0m\u001b[37m\u001b[0m \u001b[1m1s\u001b[0m 99ms/step\n"
          ]
        },
        {
          "name": "stderr",
          "output_type": "stream",
          "text": [
            "[I 2025-10-22 11:53:17,162] Trial 12 finished with value: 0.8470588235294118 and parameters: {'cnn_filters': 128, 'kernel_size': 3, 'dense_units': 64, 'learning_rate': 0.001}. Best is trial 2 with value: 0.9069767441860465.\n"
          ]
        },
        {
          "name": "stdout",
          "output_type": "stream",
          "text": [
            "\u001b[1m4/4\u001b[0m \u001b[32m━━━━━━━━━━━━━━━━━━━━\u001b[0m\u001b[37m\u001b[0m \u001b[1m1s\u001b[0m 100ms/step\n"
          ]
        },
        {
          "name": "stderr",
          "output_type": "stream",
          "text": [
            "[I 2025-10-22 11:53:24,624] Trial 13 finished with value: 0.8627450980392157 and parameters: {'cnn_filters': 128, 'kernel_size': 3, 'dense_units': 64, 'learning_rate': 0.001}. Best is trial 2 with value: 0.9069767441860465.\n"
          ]
        },
        {
          "name": "stdout",
          "output_type": "stream",
          "text": [
            "\u001b[1m4/4\u001b[0m \u001b[32m━━━━━━━━━━━━━━━━━━━━\u001b[0m\u001b[37m\u001b[0m \u001b[1m1s\u001b[0m 93ms/step\n"
          ]
        },
        {
          "name": "stderr",
          "output_type": "stream",
          "text": [
            "[I 2025-10-22 11:53:33,163] Trial 14 finished with value: 0.8354430379746836 and parameters: {'cnn_filters': 128, 'kernel_size': 3, 'dense_units': 32, 'learning_rate': 0.001}. Best is trial 2 with value: 0.9069767441860465.\n"
          ]
        },
        {
          "name": "stdout",
          "output_type": "stream",
          "text": [
            "\u001b[1m4/4\u001b[0m \u001b[32m━━━━━━━━━━━━━━━━━━━━\u001b[0m\u001b[37m\u001b[0m \u001b[1m1s\u001b[0m 93ms/step\n"
          ]
        },
        {
          "name": "stderr",
          "output_type": "stream",
          "text": [
            "[I 2025-10-22 11:53:42,261] Trial 15 finished with value: 0.0 and parameters: {'cnn_filters': 128, 'kernel_size': 4, 'dense_units': 16, 'learning_rate': 0.01}. Best is trial 2 with value: 0.9069767441860465.\n"
          ]
        },
        {
          "name": "stdout",
          "output_type": "stream",
          "text": [
            "\u001b[1m4/4\u001b[0m \u001b[32m━━━━━━━━━━━━━━━━━━━━\u001b[0m\u001b[37m\u001b[0m \u001b[1m1s\u001b[0m 96ms/step\n"
          ]
        },
        {
          "name": "stderr",
          "output_type": "stream",
          "text": [
            "[I 2025-10-22 11:53:50,842] Trial 16 finished with value: 0.8433734939759037 and parameters: {'cnn_filters': 128, 'kernel_size': 3, 'dense_units': 64, 'learning_rate': 0.001}. Best is trial 2 with value: 0.9069767441860465.\n"
          ]
        },
        {
          "name": "stdout",
          "output_type": "stream",
          "text": [
            "\u001b[1m4/4\u001b[0m \u001b[32m━━━━━━━━━━━━━━━━━━━━\u001b[0m\u001b[37m\u001b[0m \u001b[1m1s\u001b[0m 97ms/step\n"
          ]
        },
        {
          "name": "stderr",
          "output_type": "stream",
          "text": [
            "[I 2025-10-22 11:53:57,673] Trial 17 finished with value: 0.8157894736842105 and parameters: {'cnn_filters': 128, 'kernel_size': 4, 'dense_units': 64, 'learning_rate': 0.001}. Best is trial 2 with value: 0.9069767441860465.\n"
          ]
        },
        {
          "name": "stdout",
          "output_type": "stream",
          "text": [
            "\u001b[1m4/4\u001b[0m \u001b[32m━━━━━━━━━━━━━━━━━━━━\u001b[0m\u001b[37m\u001b[0m \u001b[1m1s\u001b[0m 97ms/step\n"
          ]
        },
        {
          "name": "stderr",
          "output_type": "stream",
          "text": [
            "[I 2025-10-22 11:54:07,377] Trial 18 finished with value: 0.8571428571428571 and parameters: {'cnn_filters': 96, 'kernel_size': 3, 'dense_units': 16, 'learning_rate': 0.001}. Best is trial 2 with value: 0.9069767441860465.\n"
          ]
        },
        {
          "name": "stdout",
          "output_type": "stream",
          "text": [
            "\u001b[1m4/4\u001b[0m \u001b[32m━━━━━━━━━━━━━━━━━━━━\u001b[0m\u001b[37m\u001b[0m \u001b[1m1s\u001b[0m 100ms/step\n"
          ]
        },
        {
          "name": "stderr",
          "output_type": "stream",
          "text": [
            "[I 2025-10-22 11:54:17,157] Trial 19 finished with value: 0.7297297297297297 and parameters: {'cnn_filters': 64, 'kernel_size': 5, 'dense_units': 32, 'learning_rate': 0.0001}. Best is trial 2 with value: 0.9069767441860465.\n"
          ]
        },
        {
          "name": "stdout",
          "output_type": "stream",
          "text": [
            "Best parameters: {'cnn_filters': 128, 'kernel_size': 4, 'dense_units': 16, 'learning_rate': 0.001}\n"
          ]
        }
      ],
      "source": [
        "# ----------------------------\n",
        "# Hyperparameter optimization\n",
        "# ----------------------------\n",
        "\n",
        "study = optuna.create_study(direction=\"maximize\") # maximize F1-score\n",
        "study.optimize(objectiveCNNBERT, n_trials=20) # 20 trials for demonstration\n",
        "\n",
        "print(\"Best parameters:\", study.best_params)"
      ]
    },
    {
      "cell_type": "code",
      "execution_count": 17,
      "metadata": {
        "id": "nadDRJhXfG0f"
      },
      "outputs": [
        {
          "name": "stdout",
          "output_type": "stream",
          "text": [
            "\u001b[1m4/4\u001b[0m \u001b[32m━━━━━━━━━━━━━━━━━━━━\u001b[0m\u001b[37m\u001b[0m \u001b[1m1s\u001b[0m 97ms/step\n",
            "\n",
            "Classification Report:\n",
            "              precision    recall  f1-score   support\n",
            "\n",
            "           0       0.93      0.97      0.95        68\n",
            "           1       0.95      0.88      0.92        43\n",
            "\n",
            "    accuracy                           0.94       111\n",
            "   macro avg       0.94      0.93      0.93       111\n",
            "weighted avg       0.94      0.94      0.94       111\n",
            "\n",
            "Confusion Matrix:\n",
            "[[66  2]\n",
            " [ 5 38]]\n",
            "Weighted F1-score: 0.9364777796779183\n"
          ]
        }
      ],
      "source": [
        "# -----------\n",
        "# Final training and evaluation\n",
        "# -----------\n",
        "\n",
        "best_params = study.best_params\n",
        "best_model = Sequential([\n",
        "    Input(shape=(max_len, X_train_emb.shape[2])),\n",
        "    Conv1D(filters=best_params[\"cnn_filters\"], kernel_size=best_params[\"kernel_size\"], activation='relu'),\n",
        "    GlobalMaxPooling1D(),\n",
        "    Dense(best_params[\"dense_units\"], activation='relu'),\n",
        "    Dropout(0.3),\n",
        "    Dense(1, activation='sigmoid')\n",
        "])\n",
        "best_model.compile(\n",
        "    optimizer=Adam(learning_rate=best_params[\"learning_rate\"]),\n",
        "    loss='binary_crossentropy',\n",
        "    metrics=['accuracy']\n",
        ")\n",
        "best_model.fit(\n",
        "    np.concatenate((X_train_emb, X_val_emb)), \n",
        "    np.concatenate((y_train, y_val)),\n",
        "    epochs=50,\n",
        "    batch_size=8,\n",
        "    callbacks=[EarlyStopping(monitor='loss', patience=2, restore_best_weights=True, verbose=0)],\n",
        "    verbose=0\n",
        ")\n",
        "\n",
        "y_pred = (best_model.predict(X_test_emb) > 0.5).astype(int)\n",
        "\n",
        "print(\"\\nClassification Report:\")\n",
        "print(classification_report(y_test, y_pred))\n",
        "print(\"Confusion Matrix:\")\n",
        "print(confusion_matrix(y_test, y_pred))\n",
        "print(\"Weighted F1-score:\", f1_score(y_test, y_pred, average=\"weighted\"))"
      ]
    },
    {
      "cell_type": "markdown",
      "metadata": {
        "id": "aHgL_CfHfM6Z"
      },
      "source": [
        "# **BERT**"
      ]
    },
    {
      "cell_type": "code",
      "execution_count": 3,
      "metadata": {
        "id": "g7sI_1qZfGsU"
      },
      "outputs": [
        {
          "name": "stderr",
          "output_type": "stream",
          "text": [
            "/home/n.emmolo/miniconda3/envs/env/lib/python3.10/site-packages/tqdm/auto.py:21: TqdmWarning: IProgress not found. Please update jupyter and ipywidgets. See https://ipywidgets.readthedocs.io/en/stable/user_install.html\n",
            "  from .autonotebook import tqdm as notebook_tqdm\n",
            "2025-10-22 15:48:37.435721: I tensorflow/core/util/port.cc:153] oneDNN custom operations are on. You may see slightly different numerical results due to floating-point round-off errors from different computation orders. To turn them off, set the environment variable `TF_ENABLE_ONEDNN_OPTS=0`.\n",
            "2025-10-22 15:48:37.493556: I tensorflow/core/platform/cpu_feature_guard.cc:210] This TensorFlow binary is optimized to use available CPU instructions in performance-critical operations.\n",
            "To enable the following instructions: AVX2 AVX512F AVX512_VNNI FMA, in other operations, rebuild TensorFlow with the appropriate compiler flags.\n",
            "2025-10-22 15:48:38.771766: I tensorflow/core/util/port.cc:153] oneDNN custom operations are on. You may see slightly different numerical results due to floating-point round-off errors from different computation orders. To turn them off, set the environment variable `TF_ENABLE_ONEDNN_OPTS=0`.\n"
          ]
        }
      ],
      "source": [
        "import numpy as np\n",
        "import pandas as pd\n",
        "from sklearn.model_selection import train_test_split\n",
        "from sklearn.preprocessing import LabelEncoder\n",
        "from datasets import Dataset\n",
        "from transformers import (\n",
        "    BertTokenizer,\n",
        "    BertForSequenceClassification,\n",
        "    Trainer,\n",
        "    TrainingArguments,\n",
        "    EarlyStoppingCallback\n",
        ")\n",
        "from sklearn.metrics import f1_score, classification_report, confusion_matrix\n",
        "import optuna\n",
        "import gc"
      ]
    },
    {
      "cell_type": "code",
      "execution_count": null,
      "metadata": {},
      "outputs": [],
      "source": [
        "# ----------------\n",
        "# Load dataset\n",
        "# ----------------\n",
        "\n",
        "path_file = \"datasets/Unipi_NDF/df_ndf.csv\"\n",
        "df = pd.read_csv(path_file, sep=\"\\t\", encoding=\"utf-8\")\n",
        "df.head()\n",
        "\n",
        "texts = df[\"texts\"].astype(str).tolist()\n",
        "labels = df[\"labels\"].values"
      ]
    },
    {
      "cell_type": "code",
      "execution_count": 4,
      "metadata": {},
      "outputs": [],
      "source": [
        "# ----------------\n",
        "# Load dataset\n",
        "# ----------------\n",
        "\n",
        "path_file = \"datasets/Unipi_NDF/df_ndf.csv\"\n",
        "df = pd.read_csv(path_file, sep=\"\\t\", encoding=\"utf-8\")\n",
        "df.head()\n",
        "\n",
        "texts = df[\"texts\"].astype(str).tolist()\n",
        "labels = df[\"labels\"].values"
      ]
    },
    {
      "cell_type": "code",
      "execution_count": 5,
      "metadata": {},
      "outputs": [
        {
          "name": "stdout",
          "output_type": "stream",
          "text": [
            "Train labels: {0, 1}\n",
            "Val labels: {0, 1}\n",
            "Test labels: {0, 1}\n"
          ]
        }
      ],
      "source": [
        "# ------------------------------\n",
        "# Preprocessing and tokenization\n",
        "# ------------------------------\n",
        "\n",
        "# split train/validation/test (0.6 / 0.2 / 0.2): stratify to maintain label distribution\n",
        "X_train, X_temp, y_train, y_temp = train_test_split(texts, labels, test_size=0.4, stratify=labels, random_state=42)\n",
        "X_val, X_test, y_val, y_test = train_test_split(X_temp, y_temp, test_size=0.5, stratify=y_temp, random_state=42)\n",
        "y_train = y_train.astype('int64')\n",
        "y_val = y_val.astype('int64')\n",
        "y_test = y_test.astype('int64')\n",
        "print(\"Train labels:\", set(y_train))\n",
        "print(\"Val labels:\", set(y_val))\n",
        "print(\"Test labels:\", set(y_test))\n",
        "\n",
        "\n",
        "max_len = 128\n",
        "\n",
        "tokenizer = BertTokenizer.from_pretrained(\"bert-base-cased\")\n",
        "\n",
        "def tokenize_texts(texts):\n",
        "    \"\"\" Tokenize a list of texts using BERT tokenizer. \"\"\"\n",
        "    return tokenizer(\n",
        "        texts, truncation=True, padding=True, max_length=max_len\n",
        "    )\n",
        "\n",
        "train_enc = tokenize_texts(X_train)\n",
        "val_enc = tokenize_texts(X_val)\n",
        "test_enc = tokenize_texts(X_test)\n",
        "\n",
        "train_enc = Dataset.from_dict({\n",
        "    'input_ids': train_enc['input_ids'],\n",
        "    'attention_mask': train_enc['attention_mask'],\n",
        "    'labels': y_train\n",
        "})\n",
        "\n",
        "val_enc = Dataset.from_dict({\n",
        "    'input_ids': val_enc['input_ids'],\n",
        "    'attention_mask': val_enc['attention_mask'],\n",
        "    'labels': y_val\n",
        "})\n",
        "\n",
        "test_enc = Dataset.from_dict({\n",
        "    'input_ids': test_enc['input_ids'],\n",
        "    'attention_mask': test_enc['attention_mask'],\n",
        "    'labels': y_test\n",
        "})"
      ]
    },
    {
      "cell_type": "code",
      "execution_count": 6,
      "metadata": {},
      "outputs": [],
      "source": [
        "# ----------------------------\n",
        "# Evaluation metrics\n",
        "# ----------------------------\n",
        "\n",
        "def compute_metrics(pred):\n",
        "    preds = np.argmax(pred.predictions, axis=1)\n",
        "    f1 = f1_score(pred.label_ids, preds)\n",
        "    return {\"f1\": f1}"
      ]
    },
    {
      "cell_type": "code",
      "execution_count": 13,
      "metadata": {
        "id": "hgoDIJaVfUmo"
      },
      "outputs": [],
      "source": [
        "# ----------------------------\n",
        "# Optuna objective function\n",
        "# ----------------------------\n",
        "\n",
        "def objectiveBERT(trial):\n",
        "    learning_rate = trial.suggest_categorical(\"learning_rate\", [4e-5, 2e-5, 3e-2])\n",
        "    weight_decay = trial.suggest_categorical(\"weight_decay\", [0.001, 0.01, 0.1, None])\n",
        "\n",
        "    model = BertForSequenceClassification.from_pretrained(\n",
        "            \"bert-base-cased\",\n",
        "            num_labels=2\n",
        "        )\n",
        "    model.to(device)\n",
        "    \n",
        "    training_args = TrainingArguments(\n",
        "        output_dir=f\"./bert_fake_news_{trial.number}\",\n",
        "        eval_strategy=\"epoch\", # Changed from evaluation_strategy\n",
        "        save_strategy=\"epoch\",\n",
        "        learning_rate=learning_rate,\n",
        "        weight_decay=weight_decay if weight_decay is not None else 0.0,\n",
        "        per_device_train_batch_size=2,\n",
        "        per_device_eval_batch_size=2,\n",
        "        num_train_epochs=50,\n",
        "        load_best_model_at_end=True,\n",
        "        metric_for_best_model=\"f1\",\n",
        "        greater_is_better=True,\n",
        "        logging_dir=f\"./logs_bert_fake_news_{trial.number}\",\n",
        "        logging_strategy=\"epoch\",\n",
        "        save_total_limit=2,\n",
        "        disable_tqdm=True,\n",
        "        report_to=\"none\",\n",
        "        remove_unused_columns=False,\n",
        "        fp16=False,                     # mixed precision training (meno memoria, più veloce)\n",
        "        gradient_accumulation_steps=2, # riduce batch effettivo in GPU\n",
        "        dataloader_num_workers=2,      # numero di worker per il caricamento dei dati\n",
        "    )\n",
        "\n",
        "    trainer = Trainer(\n",
        "        model=model,\n",
        "        args=training_args,\n",
        "        train_dataset=train_enc,\n",
        "        eval_dataset=val_enc,\n",
        "        compute_metrics=compute_metrics,\n",
        "        callbacks=[EarlyStoppingCallback(early_stopping_patience=2)]\n",
        "    )\n",
        "\n",
        "    trainer.train()\n",
        "    metrics = trainer.evaluate()\n",
        "\n",
        "    # Libera memoria GPU\n",
        "    del trainer\n",
        "    del model\n",
        "    torch.cuda.empty_cache()\n",
        "    gc.collect()\n",
        "\n",
        "    return metrics[\"eval_f1\"]"
      ]
    },
    {
      "cell_type": "code",
      "execution_count": 14,
      "metadata": {},
      "outputs": [
        {
          "name": "stderr",
          "output_type": "stream",
          "text": [
            "Some weights of BertForSequenceClassification were not initialized from the model checkpoint at bert-base-cased and are newly initialized: ['classifier.bias', 'classifier.weight']\n",
            "You should probably TRAIN this model on a down-stream task to be able to use it for predictions and inference.\n"
          ]
        },
        {
          "name": "stdout",
          "output_type": "stream",
          "text": [
            "Forward pass OK\n"
          ]
        }
      ],
      "source": [
        "batch = {k: torch.tensor(v[:2]) for k,v in train_enc[:2].items()}\n",
        "model = BertForSequenceClassification.from_pretrained(\"bert-base-cased\", num_labels=2)\n",
        "outputs = model(**batch)\n",
        "print(\"Forward pass OK\")"
      ]
    },
    {
      "cell_type": "code",
      "execution_count": 15,
      "metadata": {},
      "outputs": [
        {
          "name": "stderr",
          "output_type": "stream",
          "text": [
            "[I 2025-10-22 15:49:41,903] A new study created in memory with name: no-name-ca733b52-b840-4860-8a5f-3e505e6b0e1a\n",
            "Some weights of BertForSequenceClassification were not initialized from the model checkpoint at bert-base-cased and are newly initialized: ['classifier.bias', 'classifier.weight']\n",
            "You should probably TRAIN this model on a down-stream task to be able to use it for predictions and inference.\n",
            "[W 2025-10-22 15:49:42,250] Trial 0 failed with parameters: {'learning_rate': 0.03, 'weight_decay': None} because of the following error: AcceleratorError('CUDA error: device-side assert triggered\\nCUDA kernel errors might be asynchronously reported at some other API call, so the stacktrace below might be incorrect.\\nFor debugging consider passing CUDA_LAUNCH_BLOCKING=1\\nCompile with `TORCH_USE_CUDA_DSA` to enable device-side assertions.\\n').\n",
            "Traceback (most recent call last):\n",
            "  File \"/home/n.emmolo/miniconda3/envs/env/lib/python3.10/site-packages/optuna/study/_optimize.py\", line 201, in _run_trial\n",
            "    value_or_values = func(trial)\n",
            "  File \"/tmp/ipykernel_3205778/37825680.py\", line 13, in objectiveBERT\n",
            "    model.to(device)\n",
            "  File \"/home/n.emmolo/miniconda3/envs/env/lib/python3.10/site-packages/transformers/modeling_utils.py\", line 4343, in to\n",
            "    return super().to(*args, **kwargs)\n",
            "  File \"/home/n.emmolo/miniconda3/envs/env/lib/python3.10/site-packages/torch/nn/modules/module.py\", line 1369, in to\n",
            "    return self._apply(convert)\n",
            "  File \"/home/n.emmolo/miniconda3/envs/env/lib/python3.10/site-packages/torch/nn/modules/module.py\", line 928, in _apply\n",
            "    module._apply(fn)\n",
            "  File \"/home/n.emmolo/miniconda3/envs/env/lib/python3.10/site-packages/torch/nn/modules/module.py\", line 928, in _apply\n",
            "    module._apply(fn)\n",
            "  File \"/home/n.emmolo/miniconda3/envs/env/lib/python3.10/site-packages/torch/nn/modules/module.py\", line 928, in _apply\n",
            "    module._apply(fn)\n",
            "  File \"/home/n.emmolo/miniconda3/envs/env/lib/python3.10/site-packages/torch/nn/modules/module.py\", line 955, in _apply\n",
            "    param_applied = fn(param)\n",
            "  File \"/home/n.emmolo/miniconda3/envs/env/lib/python3.10/site-packages/torch/nn/modules/module.py\", line 1355, in convert\n",
            "    return t.to(\n",
            "torch.AcceleratorError: CUDA error: device-side assert triggered\n",
            "CUDA kernel errors might be asynchronously reported at some other API call, so the stacktrace below might be incorrect.\n",
            "For debugging consider passing CUDA_LAUNCH_BLOCKING=1\n",
            "Compile with `TORCH_USE_CUDA_DSA` to enable device-side assertions.\n",
            "\n",
            "[W 2025-10-22 15:49:42,251] Trial 0 failed with value None.\n"
          ]
        },
        {
          "ename": "AcceleratorError",
          "evalue": "CUDA error: device-side assert triggered\nCUDA kernel errors might be asynchronously reported at some other API call, so the stacktrace below might be incorrect.\nFor debugging consider passing CUDA_LAUNCH_BLOCKING=1\nCompile with `TORCH_USE_CUDA_DSA` to enable device-side assertions.\n",
          "output_type": "error",
          "traceback": [
            "\u001b[0;31m---------------------------------------------------------------------------\u001b[0m",
            "\u001b[0;31mAcceleratorError\u001b[0m                          Traceback (most recent call last)",
            "Cell \u001b[0;32mIn[15], line 6\u001b[0m\n\u001b[1;32m      1\u001b[0m \u001b[38;5;66;03m# ----------------------------\u001b[39;00m\n\u001b[1;32m      2\u001b[0m \u001b[38;5;66;03m# Hyperparameter optimization\u001b[39;00m\n\u001b[1;32m      3\u001b[0m \u001b[38;5;66;03m# ----------------------------\u001b[39;00m\n\u001b[1;32m      5\u001b[0m study \u001b[38;5;241m=\u001b[39m optuna\u001b[38;5;241m.\u001b[39mcreate_study(direction\u001b[38;5;241m=\u001b[39m\u001b[38;5;124m\"\u001b[39m\u001b[38;5;124mmaximize\u001b[39m\u001b[38;5;124m\"\u001b[39m) \u001b[38;5;66;03m# maximize F1-score\u001b[39;00m\n\u001b[0;32m----> 6\u001b[0m \u001b[43mstudy\u001b[49m\u001b[38;5;241;43m.\u001b[39;49m\u001b[43moptimize\u001b[49m\u001b[43m(\u001b[49m\u001b[43mobjectiveBERT\u001b[49m\u001b[43m,\u001b[49m\u001b[43m \u001b[49m\u001b[43mn_trials\u001b[49m\u001b[38;5;241;43m=\u001b[39;49m\u001b[38;5;241;43m5\u001b[39;49m\u001b[43m)\u001b[49m \u001b[38;5;66;03m# 5 trials for demonstration; increase for better results\u001b[39;00m\n\u001b[1;32m      8\u001b[0m \u001b[38;5;28mprint\u001b[39m(\u001b[38;5;124m\"\u001b[39m\u001b[38;5;124mBest parameters:\u001b[39m\u001b[38;5;124m\"\u001b[39m, study\u001b[38;5;241m.\u001b[39mbest_params)\n",
            "File \u001b[0;32m~/miniconda3/envs/env/lib/python3.10/site-packages/optuna/study/study.py:490\u001b[0m, in \u001b[0;36mStudy.optimize\u001b[0;34m(self, func, n_trials, timeout, n_jobs, catch, callbacks, gc_after_trial, show_progress_bar)\u001b[0m\n\u001b[1;32m    388\u001b[0m \u001b[38;5;28;01mdef\u001b[39;00m\u001b[38;5;250m \u001b[39m\u001b[38;5;21moptimize\u001b[39m(\n\u001b[1;32m    389\u001b[0m     \u001b[38;5;28mself\u001b[39m,\n\u001b[1;32m    390\u001b[0m     func: ObjectiveFuncType,\n\u001b[0;32m   (...)\u001b[0m\n\u001b[1;32m    397\u001b[0m     show_progress_bar: \u001b[38;5;28mbool\u001b[39m \u001b[38;5;241m=\u001b[39m \u001b[38;5;28;01mFalse\u001b[39;00m,\n\u001b[1;32m    398\u001b[0m ) \u001b[38;5;241m-\u001b[39m\u001b[38;5;241m>\u001b[39m \u001b[38;5;28;01mNone\u001b[39;00m:\n\u001b[1;32m    399\u001b[0m \u001b[38;5;250m    \u001b[39m\u001b[38;5;124;03m\"\"\"Optimize an objective function.\u001b[39;00m\n\u001b[1;32m    400\u001b[0m \n\u001b[1;32m    401\u001b[0m \u001b[38;5;124;03m    Optimization is done by choosing a suitable set of hyperparameter values from a given\u001b[39;00m\n\u001b[0;32m   (...)\u001b[0m\n\u001b[1;32m    488\u001b[0m \u001b[38;5;124;03m            If nested invocation of this method occurs.\u001b[39;00m\n\u001b[1;32m    489\u001b[0m \u001b[38;5;124;03m    \"\"\"\u001b[39;00m\n\u001b[0;32m--> 490\u001b[0m     \u001b[43m_optimize\u001b[49m\u001b[43m(\u001b[49m\n\u001b[1;32m    491\u001b[0m \u001b[43m        \u001b[49m\u001b[43mstudy\u001b[49m\u001b[38;5;241;43m=\u001b[39;49m\u001b[38;5;28;43mself\u001b[39;49m\u001b[43m,\u001b[49m\n\u001b[1;32m    492\u001b[0m \u001b[43m        \u001b[49m\u001b[43mfunc\u001b[49m\u001b[38;5;241;43m=\u001b[39;49m\u001b[43mfunc\u001b[49m\u001b[43m,\u001b[49m\n\u001b[1;32m    493\u001b[0m \u001b[43m        \u001b[49m\u001b[43mn_trials\u001b[49m\u001b[38;5;241;43m=\u001b[39;49m\u001b[43mn_trials\u001b[49m\u001b[43m,\u001b[49m\n\u001b[1;32m    494\u001b[0m \u001b[43m        \u001b[49m\u001b[43mtimeout\u001b[49m\u001b[38;5;241;43m=\u001b[39;49m\u001b[43mtimeout\u001b[49m\u001b[43m,\u001b[49m\n\u001b[1;32m    495\u001b[0m \u001b[43m        \u001b[49m\u001b[43mn_jobs\u001b[49m\u001b[38;5;241;43m=\u001b[39;49m\u001b[43mn_jobs\u001b[49m\u001b[43m,\u001b[49m\n\u001b[1;32m    496\u001b[0m \u001b[43m        \u001b[49m\u001b[43mcatch\u001b[49m\u001b[38;5;241;43m=\u001b[39;49m\u001b[38;5;28;43mtuple\u001b[39;49m\u001b[43m(\u001b[49m\u001b[43mcatch\u001b[49m\u001b[43m)\u001b[49m\u001b[43m \u001b[49m\u001b[38;5;28;43;01mif\u001b[39;49;00m\u001b[43m \u001b[49m\u001b[38;5;28;43misinstance\u001b[39;49m\u001b[43m(\u001b[49m\u001b[43mcatch\u001b[49m\u001b[43m,\u001b[49m\u001b[43m \u001b[49m\u001b[43mIterable\u001b[49m\u001b[43m)\u001b[49m\u001b[43m \u001b[49m\u001b[38;5;28;43;01melse\u001b[39;49;00m\u001b[43m \u001b[49m\u001b[43m(\u001b[49m\u001b[43mcatch\u001b[49m\u001b[43m,\u001b[49m\u001b[43m)\u001b[49m\u001b[43m,\u001b[49m\n\u001b[1;32m    497\u001b[0m \u001b[43m        \u001b[49m\u001b[43mcallbacks\u001b[49m\u001b[38;5;241;43m=\u001b[39;49m\u001b[43mcallbacks\u001b[49m\u001b[43m,\u001b[49m\n\u001b[1;32m    498\u001b[0m \u001b[43m        \u001b[49m\u001b[43mgc_after_trial\u001b[49m\u001b[38;5;241;43m=\u001b[39;49m\u001b[43mgc_after_trial\u001b[49m\u001b[43m,\u001b[49m\n\u001b[1;32m    499\u001b[0m \u001b[43m        \u001b[49m\u001b[43mshow_progress_bar\u001b[49m\u001b[38;5;241;43m=\u001b[39;49m\u001b[43mshow_progress_bar\u001b[49m\u001b[43m,\u001b[49m\n\u001b[1;32m    500\u001b[0m \u001b[43m    \u001b[49m\u001b[43m)\u001b[49m\n",
            "File \u001b[0;32m~/miniconda3/envs/env/lib/python3.10/site-packages/optuna/study/_optimize.py:63\u001b[0m, in \u001b[0;36m_optimize\u001b[0;34m(study, func, n_trials, timeout, n_jobs, catch, callbacks, gc_after_trial, show_progress_bar)\u001b[0m\n\u001b[1;32m     61\u001b[0m \u001b[38;5;28;01mtry\u001b[39;00m:\n\u001b[1;32m     62\u001b[0m     \u001b[38;5;28;01mif\u001b[39;00m n_jobs \u001b[38;5;241m==\u001b[39m \u001b[38;5;241m1\u001b[39m:\n\u001b[0;32m---> 63\u001b[0m         \u001b[43m_optimize_sequential\u001b[49m\u001b[43m(\u001b[49m\n\u001b[1;32m     64\u001b[0m \u001b[43m            \u001b[49m\u001b[43mstudy\u001b[49m\u001b[43m,\u001b[49m\n\u001b[1;32m     65\u001b[0m \u001b[43m            \u001b[49m\u001b[43mfunc\u001b[49m\u001b[43m,\u001b[49m\n\u001b[1;32m     66\u001b[0m \u001b[43m            \u001b[49m\u001b[43mn_trials\u001b[49m\u001b[43m,\u001b[49m\n\u001b[1;32m     67\u001b[0m \u001b[43m            \u001b[49m\u001b[43mtimeout\u001b[49m\u001b[43m,\u001b[49m\n\u001b[1;32m     68\u001b[0m \u001b[43m            \u001b[49m\u001b[43mcatch\u001b[49m\u001b[43m,\u001b[49m\n\u001b[1;32m     69\u001b[0m \u001b[43m            \u001b[49m\u001b[43mcallbacks\u001b[49m\u001b[43m,\u001b[49m\n\u001b[1;32m     70\u001b[0m \u001b[43m            \u001b[49m\u001b[43mgc_after_trial\u001b[49m\u001b[43m,\u001b[49m\n\u001b[1;32m     71\u001b[0m \u001b[43m            \u001b[49m\u001b[43mreseed_sampler_rng\u001b[49m\u001b[38;5;241;43m=\u001b[39;49m\u001b[38;5;28;43;01mFalse\u001b[39;49;00m\u001b[43m,\u001b[49m\n\u001b[1;32m     72\u001b[0m \u001b[43m            \u001b[49m\u001b[43mtime_start\u001b[49m\u001b[38;5;241;43m=\u001b[39;49m\u001b[38;5;28;43;01mNone\u001b[39;49;00m\u001b[43m,\u001b[49m\n\u001b[1;32m     73\u001b[0m \u001b[43m            \u001b[49m\u001b[43mprogress_bar\u001b[49m\u001b[38;5;241;43m=\u001b[39;49m\u001b[43mprogress_bar\u001b[49m\u001b[43m,\u001b[49m\n\u001b[1;32m     74\u001b[0m \u001b[43m        \u001b[49m\u001b[43m)\u001b[49m\n\u001b[1;32m     75\u001b[0m     \u001b[38;5;28;01melse\u001b[39;00m:\n\u001b[1;32m     76\u001b[0m         \u001b[38;5;28;01mif\u001b[39;00m n_jobs \u001b[38;5;241m==\u001b[39m \u001b[38;5;241m-\u001b[39m\u001b[38;5;241m1\u001b[39m:\n",
            "File \u001b[0;32m~/miniconda3/envs/env/lib/python3.10/site-packages/optuna/study/_optimize.py:160\u001b[0m, in \u001b[0;36m_optimize_sequential\u001b[0;34m(study, func, n_trials, timeout, catch, callbacks, gc_after_trial, reseed_sampler_rng, time_start, progress_bar)\u001b[0m\n\u001b[1;32m    157\u001b[0m         \u001b[38;5;28;01mbreak\u001b[39;00m\n\u001b[1;32m    159\u001b[0m \u001b[38;5;28;01mtry\u001b[39;00m:\n\u001b[0;32m--> 160\u001b[0m     frozen_trial_id \u001b[38;5;241m=\u001b[39m \u001b[43m_run_trial\u001b[49m\u001b[43m(\u001b[49m\u001b[43mstudy\u001b[49m\u001b[43m,\u001b[49m\u001b[43m \u001b[49m\u001b[43mfunc\u001b[49m\u001b[43m,\u001b[49m\u001b[43m \u001b[49m\u001b[43mcatch\u001b[49m\u001b[43m)\u001b[49m\n\u001b[1;32m    161\u001b[0m \u001b[38;5;28;01mfinally\u001b[39;00m:\n\u001b[1;32m    162\u001b[0m     \u001b[38;5;66;03m# The following line mitigates memory problems that can be occurred in some\u001b[39;00m\n\u001b[1;32m    163\u001b[0m     \u001b[38;5;66;03m# environments (e.g., services that use computing containers such as GitHub Actions).\u001b[39;00m\n\u001b[1;32m    164\u001b[0m     \u001b[38;5;66;03m# Please refer to the following PR for further details:\u001b[39;00m\n\u001b[1;32m    165\u001b[0m     \u001b[38;5;66;03m# https://github.com/optuna/optuna/pull/325.\u001b[39;00m\n\u001b[1;32m    166\u001b[0m     \u001b[38;5;28;01mif\u001b[39;00m gc_after_trial:\n",
            "File \u001b[0;32m~/miniconda3/envs/env/lib/python3.10/site-packages/optuna/study/_optimize.py:258\u001b[0m, in \u001b[0;36m_run_trial\u001b[0;34m(study, func, catch)\u001b[0m\n\u001b[1;32m    251\u001b[0m         \u001b[38;5;28;01massert\u001b[39;00m \u001b[38;5;28;01mFalse\u001b[39;00m, \u001b[38;5;124m\"\u001b[39m\u001b[38;5;124mShould not reach.\u001b[39m\u001b[38;5;124m\"\u001b[39m\n\u001b[1;32m    253\u001b[0m \u001b[38;5;28;01mif\u001b[39;00m (\n\u001b[1;32m    254\u001b[0m     updated_state \u001b[38;5;241m==\u001b[39m TrialState\u001b[38;5;241m.\u001b[39mFAIL\n\u001b[1;32m    255\u001b[0m     \u001b[38;5;129;01mand\u001b[39;00m func_err \u001b[38;5;129;01mis\u001b[39;00m \u001b[38;5;129;01mnot\u001b[39;00m \u001b[38;5;28;01mNone\u001b[39;00m\n\u001b[1;32m    256\u001b[0m     \u001b[38;5;129;01mand\u001b[39;00m \u001b[38;5;129;01mnot\u001b[39;00m \u001b[38;5;28misinstance\u001b[39m(func_err, catch)\n\u001b[1;32m    257\u001b[0m ):\n\u001b[0;32m--> 258\u001b[0m     \u001b[38;5;28;01mraise\u001b[39;00m func_err\n\u001b[1;32m    259\u001b[0m \u001b[38;5;28;01mreturn\u001b[39;00m trial\u001b[38;5;241m.\u001b[39m_trial_id\n",
            "File \u001b[0;32m~/miniconda3/envs/env/lib/python3.10/site-packages/optuna/study/_optimize.py:201\u001b[0m, in \u001b[0;36m_run_trial\u001b[0;34m(study, func, catch)\u001b[0m\n\u001b[1;32m    199\u001b[0m \u001b[38;5;28;01mwith\u001b[39;00m get_heartbeat_thread(trial\u001b[38;5;241m.\u001b[39m_trial_id, study\u001b[38;5;241m.\u001b[39m_storage):\n\u001b[1;32m    200\u001b[0m     \u001b[38;5;28;01mtry\u001b[39;00m:\n\u001b[0;32m--> 201\u001b[0m         value_or_values \u001b[38;5;241m=\u001b[39m \u001b[43mfunc\u001b[49m\u001b[43m(\u001b[49m\u001b[43mtrial\u001b[49m\u001b[43m)\u001b[49m\n\u001b[1;32m    202\u001b[0m     \u001b[38;5;28;01mexcept\u001b[39;00m exceptions\u001b[38;5;241m.\u001b[39mTrialPruned \u001b[38;5;28;01mas\u001b[39;00m e:\n\u001b[1;32m    203\u001b[0m         \u001b[38;5;66;03m# TODO(mamu): Handle multi-objective cases.\u001b[39;00m\n\u001b[1;32m    204\u001b[0m         state \u001b[38;5;241m=\u001b[39m TrialState\u001b[38;5;241m.\u001b[39mPRUNED\n",
            "Cell \u001b[0;32mIn[13], line 13\u001b[0m, in \u001b[0;36mobjectiveBERT\u001b[0;34m(trial)\u001b[0m\n\u001b[1;32m      7\u001b[0m weight_decay \u001b[38;5;241m=\u001b[39m trial\u001b[38;5;241m.\u001b[39msuggest_categorical(\u001b[38;5;124m\"\u001b[39m\u001b[38;5;124mweight_decay\u001b[39m\u001b[38;5;124m\"\u001b[39m, [\u001b[38;5;241m0.001\u001b[39m, \u001b[38;5;241m0.01\u001b[39m, \u001b[38;5;241m0.1\u001b[39m, \u001b[38;5;28;01mNone\u001b[39;00m])\n\u001b[1;32m      9\u001b[0m model \u001b[38;5;241m=\u001b[39m BertForSequenceClassification\u001b[38;5;241m.\u001b[39mfrom_pretrained(\n\u001b[1;32m     10\u001b[0m         \u001b[38;5;124m\"\u001b[39m\u001b[38;5;124mbert-base-cased\u001b[39m\u001b[38;5;124m\"\u001b[39m,\n\u001b[1;32m     11\u001b[0m         num_labels\u001b[38;5;241m=\u001b[39m\u001b[38;5;241m2\u001b[39m\n\u001b[1;32m     12\u001b[0m     )\n\u001b[0;32m---> 13\u001b[0m \u001b[43mmodel\u001b[49m\u001b[38;5;241;43m.\u001b[39;49m\u001b[43mto\u001b[49m\u001b[43m(\u001b[49m\u001b[43mdevice\u001b[49m\u001b[43m)\u001b[49m\n\u001b[1;32m     15\u001b[0m training_args \u001b[38;5;241m=\u001b[39m TrainingArguments(\n\u001b[1;32m     16\u001b[0m     output_dir\u001b[38;5;241m=\u001b[39m\u001b[38;5;124mf\u001b[39m\u001b[38;5;124m\"\u001b[39m\u001b[38;5;124m./bert_fake_news_\u001b[39m\u001b[38;5;132;01m{\u001b[39;00mtrial\u001b[38;5;241m.\u001b[39mnumber\u001b[38;5;132;01m}\u001b[39;00m\u001b[38;5;124m\"\u001b[39m,\n\u001b[1;32m     17\u001b[0m     eval_strategy\u001b[38;5;241m=\u001b[39m\u001b[38;5;124m\"\u001b[39m\u001b[38;5;124mepoch\u001b[39m\u001b[38;5;124m\"\u001b[39m, \u001b[38;5;66;03m# Changed from evaluation_strategy\u001b[39;00m\n\u001b[0;32m   (...)\u001b[0m\n\u001b[1;32m     35\u001b[0m     dataloader_num_workers\u001b[38;5;241m=\u001b[39m\u001b[38;5;241m2\u001b[39m,      \u001b[38;5;66;03m# numero di worker per il caricamento dei dati\u001b[39;00m\n\u001b[1;32m     36\u001b[0m )\n\u001b[1;32m     38\u001b[0m trainer \u001b[38;5;241m=\u001b[39m Trainer(\n\u001b[1;32m     39\u001b[0m     model\u001b[38;5;241m=\u001b[39mmodel,\n\u001b[1;32m     40\u001b[0m     args\u001b[38;5;241m=\u001b[39mtraining_args,\n\u001b[0;32m   (...)\u001b[0m\n\u001b[1;32m     44\u001b[0m     callbacks\u001b[38;5;241m=\u001b[39m[EarlyStoppingCallback(early_stopping_patience\u001b[38;5;241m=\u001b[39m\u001b[38;5;241m2\u001b[39m)]\n\u001b[1;32m     45\u001b[0m )\n",
            "File \u001b[0;32m~/miniconda3/envs/env/lib/python3.10/site-packages/transformers/modeling_utils.py:4343\u001b[0m, in \u001b[0;36mPreTrainedModel.to\u001b[0;34m(self, *args, **kwargs)\u001b[0m\n\u001b[1;32m   4338\u001b[0m     \u001b[38;5;28;01mif\u001b[39;00m dtype_present_in_args:\n\u001b[1;32m   4339\u001b[0m         \u001b[38;5;28;01mraise\u001b[39;00m \u001b[38;5;167;01mValueError\u001b[39;00m(\n\u001b[1;32m   4340\u001b[0m             \u001b[38;5;124m\"\u001b[39m\u001b[38;5;124mYou cannot cast a GPTQ model in a new `dtype`. Make sure to load the model using `from_pretrained` using the desired\u001b[39m\u001b[38;5;124m\"\u001b[39m\n\u001b[1;32m   4341\u001b[0m             \u001b[38;5;124m\"\u001b[39m\u001b[38;5;124m `dtype` by passing the correct `dtype` argument.\u001b[39m\u001b[38;5;124m\"\u001b[39m\n\u001b[1;32m   4342\u001b[0m         )\n\u001b[0;32m-> 4343\u001b[0m \u001b[38;5;28;01mreturn\u001b[39;00m \u001b[38;5;28;43msuper\u001b[39;49m\u001b[43m(\u001b[49m\u001b[43m)\u001b[49m\u001b[38;5;241;43m.\u001b[39;49m\u001b[43mto\u001b[49m\u001b[43m(\u001b[49m\u001b[38;5;241;43m*\u001b[39;49m\u001b[43margs\u001b[49m\u001b[43m,\u001b[49m\u001b[43m \u001b[49m\u001b[38;5;241;43m*\u001b[39;49m\u001b[38;5;241;43m*\u001b[39;49m\u001b[43mkwargs\u001b[49m\u001b[43m)\u001b[49m\n",
            "File \u001b[0;32m~/miniconda3/envs/env/lib/python3.10/site-packages/torch/nn/modules/module.py:1369\u001b[0m, in \u001b[0;36mModule.to\u001b[0;34m(self, *args, **kwargs)\u001b[0m\n\u001b[1;32m   1366\u001b[0m         \u001b[38;5;28;01melse\u001b[39;00m:\n\u001b[1;32m   1367\u001b[0m             \u001b[38;5;28;01mraise\u001b[39;00m\n\u001b[0;32m-> 1369\u001b[0m \u001b[38;5;28;01mreturn\u001b[39;00m \u001b[38;5;28;43mself\u001b[39;49m\u001b[38;5;241;43m.\u001b[39;49m\u001b[43m_apply\u001b[49m\u001b[43m(\u001b[49m\u001b[43mconvert\u001b[49m\u001b[43m)\u001b[49m\n",
            "File \u001b[0;32m~/miniconda3/envs/env/lib/python3.10/site-packages/torch/nn/modules/module.py:928\u001b[0m, in \u001b[0;36mModule._apply\u001b[0;34m(self, fn, recurse)\u001b[0m\n\u001b[1;32m    926\u001b[0m \u001b[38;5;28;01mif\u001b[39;00m recurse:\n\u001b[1;32m    927\u001b[0m     \u001b[38;5;28;01mfor\u001b[39;00m module \u001b[38;5;129;01min\u001b[39;00m \u001b[38;5;28mself\u001b[39m\u001b[38;5;241m.\u001b[39mchildren():\n\u001b[0;32m--> 928\u001b[0m         \u001b[43mmodule\u001b[49m\u001b[38;5;241;43m.\u001b[39;49m\u001b[43m_apply\u001b[49m\u001b[43m(\u001b[49m\u001b[43mfn\u001b[49m\u001b[43m)\u001b[49m\n\u001b[1;32m    930\u001b[0m \u001b[38;5;28;01mdef\u001b[39;00m\u001b[38;5;250m \u001b[39m\u001b[38;5;21mcompute_should_use_set_data\u001b[39m(tensor, tensor_applied):\n\u001b[1;32m    931\u001b[0m     \u001b[38;5;28;01mif\u001b[39;00m torch\u001b[38;5;241m.\u001b[39m_has_compatible_shallow_copy_type(tensor, tensor_applied):\n\u001b[1;32m    932\u001b[0m         \u001b[38;5;66;03m# If the new tensor has compatible tensor type as the existing tensor,\u001b[39;00m\n\u001b[1;32m    933\u001b[0m         \u001b[38;5;66;03m# the current behavior is to change the tensor in-place using `.data =`,\u001b[39;00m\n\u001b[0;32m   (...)\u001b[0m\n\u001b[1;32m    938\u001b[0m         \u001b[38;5;66;03m# global flag to let the user control whether they want the future\u001b[39;00m\n\u001b[1;32m    939\u001b[0m         \u001b[38;5;66;03m# behavior of overwriting the existing tensor or not.\u001b[39;00m\n",
            "File \u001b[0;32m~/miniconda3/envs/env/lib/python3.10/site-packages/torch/nn/modules/module.py:928\u001b[0m, in \u001b[0;36mModule._apply\u001b[0;34m(self, fn, recurse)\u001b[0m\n\u001b[1;32m    926\u001b[0m \u001b[38;5;28;01mif\u001b[39;00m recurse:\n\u001b[1;32m    927\u001b[0m     \u001b[38;5;28;01mfor\u001b[39;00m module \u001b[38;5;129;01min\u001b[39;00m \u001b[38;5;28mself\u001b[39m\u001b[38;5;241m.\u001b[39mchildren():\n\u001b[0;32m--> 928\u001b[0m         \u001b[43mmodule\u001b[49m\u001b[38;5;241;43m.\u001b[39;49m\u001b[43m_apply\u001b[49m\u001b[43m(\u001b[49m\u001b[43mfn\u001b[49m\u001b[43m)\u001b[49m\n\u001b[1;32m    930\u001b[0m \u001b[38;5;28;01mdef\u001b[39;00m\u001b[38;5;250m \u001b[39m\u001b[38;5;21mcompute_should_use_set_data\u001b[39m(tensor, tensor_applied):\n\u001b[1;32m    931\u001b[0m     \u001b[38;5;28;01mif\u001b[39;00m torch\u001b[38;5;241m.\u001b[39m_has_compatible_shallow_copy_type(tensor, tensor_applied):\n\u001b[1;32m    932\u001b[0m         \u001b[38;5;66;03m# If the new tensor has compatible tensor type as the existing tensor,\u001b[39;00m\n\u001b[1;32m    933\u001b[0m         \u001b[38;5;66;03m# the current behavior is to change the tensor in-place using `.data =`,\u001b[39;00m\n\u001b[0;32m   (...)\u001b[0m\n\u001b[1;32m    938\u001b[0m         \u001b[38;5;66;03m# global flag to let the user control whether they want the future\u001b[39;00m\n\u001b[1;32m    939\u001b[0m         \u001b[38;5;66;03m# behavior of overwriting the existing tensor or not.\u001b[39;00m\n",
            "File \u001b[0;32m~/miniconda3/envs/env/lib/python3.10/site-packages/torch/nn/modules/module.py:928\u001b[0m, in \u001b[0;36mModule._apply\u001b[0;34m(self, fn, recurse)\u001b[0m\n\u001b[1;32m    926\u001b[0m \u001b[38;5;28;01mif\u001b[39;00m recurse:\n\u001b[1;32m    927\u001b[0m     \u001b[38;5;28;01mfor\u001b[39;00m module \u001b[38;5;129;01min\u001b[39;00m \u001b[38;5;28mself\u001b[39m\u001b[38;5;241m.\u001b[39mchildren():\n\u001b[0;32m--> 928\u001b[0m         \u001b[43mmodule\u001b[49m\u001b[38;5;241;43m.\u001b[39;49m\u001b[43m_apply\u001b[49m\u001b[43m(\u001b[49m\u001b[43mfn\u001b[49m\u001b[43m)\u001b[49m\n\u001b[1;32m    930\u001b[0m \u001b[38;5;28;01mdef\u001b[39;00m\u001b[38;5;250m \u001b[39m\u001b[38;5;21mcompute_should_use_set_data\u001b[39m(tensor, tensor_applied):\n\u001b[1;32m    931\u001b[0m     \u001b[38;5;28;01mif\u001b[39;00m torch\u001b[38;5;241m.\u001b[39m_has_compatible_shallow_copy_type(tensor, tensor_applied):\n\u001b[1;32m    932\u001b[0m         \u001b[38;5;66;03m# If the new tensor has compatible tensor type as the existing tensor,\u001b[39;00m\n\u001b[1;32m    933\u001b[0m         \u001b[38;5;66;03m# the current behavior is to change the tensor in-place using `.data =`,\u001b[39;00m\n\u001b[0;32m   (...)\u001b[0m\n\u001b[1;32m    938\u001b[0m         \u001b[38;5;66;03m# global flag to let the user control whether they want the future\u001b[39;00m\n\u001b[1;32m    939\u001b[0m         \u001b[38;5;66;03m# behavior of overwriting the existing tensor or not.\u001b[39;00m\n",
            "File \u001b[0;32m~/miniconda3/envs/env/lib/python3.10/site-packages/torch/nn/modules/module.py:955\u001b[0m, in \u001b[0;36mModule._apply\u001b[0;34m(self, fn, recurse)\u001b[0m\n\u001b[1;32m    951\u001b[0m \u001b[38;5;66;03m# Tensors stored in modules are graph leaves, and we don't want to\u001b[39;00m\n\u001b[1;32m    952\u001b[0m \u001b[38;5;66;03m# track autograd history of `param_applied`, so we have to use\u001b[39;00m\n\u001b[1;32m    953\u001b[0m \u001b[38;5;66;03m# `with torch.no_grad():`\u001b[39;00m\n\u001b[1;32m    954\u001b[0m \u001b[38;5;28;01mwith\u001b[39;00m torch\u001b[38;5;241m.\u001b[39mno_grad():\n\u001b[0;32m--> 955\u001b[0m     param_applied \u001b[38;5;241m=\u001b[39m \u001b[43mfn\u001b[49m\u001b[43m(\u001b[49m\u001b[43mparam\u001b[49m\u001b[43m)\u001b[49m\n\u001b[1;32m    956\u001b[0m p_should_use_set_data \u001b[38;5;241m=\u001b[39m compute_should_use_set_data(param, param_applied)\n\u001b[1;32m    958\u001b[0m \u001b[38;5;28;01mfrom\u001b[39;00m\u001b[38;5;250m \u001b[39m\u001b[38;5;21;01mtorch\u001b[39;00m\u001b[38;5;21;01m.\u001b[39;00m\u001b[38;5;21;01m_subclasses\u001b[39;00m\u001b[38;5;21;01m.\u001b[39;00m\u001b[38;5;21;01mfake_tensor\u001b[39;00m\u001b[38;5;250m \u001b[39m\u001b[38;5;28;01mimport\u001b[39;00m FakeTensor\n",
            "File \u001b[0;32m~/miniconda3/envs/env/lib/python3.10/site-packages/torch/nn/modules/module.py:1355\u001b[0m, in \u001b[0;36mModule.to.<locals>.convert\u001b[0;34m(t)\u001b[0m\n\u001b[1;32m   1348\u001b[0m     \u001b[38;5;28;01mif\u001b[39;00m convert_to_format \u001b[38;5;129;01mis\u001b[39;00m \u001b[38;5;129;01mnot\u001b[39;00m \u001b[38;5;28;01mNone\u001b[39;00m \u001b[38;5;129;01mand\u001b[39;00m t\u001b[38;5;241m.\u001b[39mdim() \u001b[38;5;129;01min\u001b[39;00m (\u001b[38;5;241m4\u001b[39m, \u001b[38;5;241m5\u001b[39m):\n\u001b[1;32m   1349\u001b[0m         \u001b[38;5;28;01mreturn\u001b[39;00m t\u001b[38;5;241m.\u001b[39mto(\n\u001b[1;32m   1350\u001b[0m             device,\n\u001b[1;32m   1351\u001b[0m             dtype \u001b[38;5;28;01mif\u001b[39;00m t\u001b[38;5;241m.\u001b[39mis_floating_point() \u001b[38;5;129;01mor\u001b[39;00m t\u001b[38;5;241m.\u001b[39mis_complex() \u001b[38;5;28;01melse\u001b[39;00m \u001b[38;5;28;01mNone\u001b[39;00m,\n\u001b[1;32m   1352\u001b[0m             non_blocking,\n\u001b[1;32m   1353\u001b[0m             memory_format\u001b[38;5;241m=\u001b[39mconvert_to_format,\n\u001b[1;32m   1354\u001b[0m         )\n\u001b[0;32m-> 1355\u001b[0m     \u001b[38;5;28;01mreturn\u001b[39;00m \u001b[43mt\u001b[49m\u001b[38;5;241;43m.\u001b[39;49m\u001b[43mto\u001b[49m\u001b[43m(\u001b[49m\n\u001b[1;32m   1356\u001b[0m \u001b[43m        \u001b[49m\u001b[43mdevice\u001b[49m\u001b[43m,\u001b[49m\n\u001b[1;32m   1357\u001b[0m \u001b[43m        \u001b[49m\u001b[43mdtype\u001b[49m\u001b[43m \u001b[49m\u001b[38;5;28;43;01mif\u001b[39;49;00m\u001b[43m \u001b[49m\u001b[43mt\u001b[49m\u001b[38;5;241;43m.\u001b[39;49m\u001b[43mis_floating_point\u001b[49m\u001b[43m(\u001b[49m\u001b[43m)\u001b[49m\u001b[43m \u001b[49m\u001b[38;5;129;43;01mor\u001b[39;49;00m\u001b[43m \u001b[49m\u001b[43mt\u001b[49m\u001b[38;5;241;43m.\u001b[39;49m\u001b[43mis_complex\u001b[49m\u001b[43m(\u001b[49m\u001b[43m)\u001b[49m\u001b[43m \u001b[49m\u001b[38;5;28;43;01melse\u001b[39;49;00m\u001b[43m \u001b[49m\u001b[38;5;28;43;01mNone\u001b[39;49;00m\u001b[43m,\u001b[49m\n\u001b[1;32m   1358\u001b[0m \u001b[43m        \u001b[49m\u001b[43mnon_blocking\u001b[49m\u001b[43m,\u001b[49m\n\u001b[1;32m   1359\u001b[0m \u001b[43m    \u001b[49m\u001b[43m)\u001b[49m\n\u001b[1;32m   1360\u001b[0m \u001b[38;5;28;01mexcept\u001b[39;00m \u001b[38;5;167;01mNotImplementedError\u001b[39;00m \u001b[38;5;28;01mas\u001b[39;00m e:\n\u001b[1;32m   1361\u001b[0m     \u001b[38;5;28;01mif\u001b[39;00m \u001b[38;5;28mstr\u001b[39m(e) \u001b[38;5;241m==\u001b[39m \u001b[38;5;124m\"\u001b[39m\u001b[38;5;124mCannot copy out of meta tensor; no data!\u001b[39m\u001b[38;5;124m\"\u001b[39m:\n",
            "\u001b[0;31mAcceleratorError\u001b[0m: CUDA error: device-side assert triggered\nCUDA kernel errors might be asynchronously reported at some other API call, so the stacktrace below might be incorrect.\nFor debugging consider passing CUDA_LAUNCH_BLOCKING=1\nCompile with `TORCH_USE_CUDA_DSA` to enable device-side assertions.\n"
          ]
        }
      ],
      "source": [
        "# ----------------------------\n",
        "# Hyperparameter optimization\n",
        "# ----------------------------\n",
        "\n",
        "study = optuna.create_study(direction=\"maximize\") # maximize F1-score\n",
        "study.optimize(objectiveBERT, n_trials=5) # 5 trials for demonstration; increase for better results\n",
        "\n",
        "print(\"Best parameters:\", study.best_params)"
      ]
    },
    {
      "cell_type": "code",
      "execution_count": null,
      "metadata": {},
      "outputs": [],
      "source": [
        "# ----------------------------\n",
        "# Final training and evaluation\n",
        "# ----------------------------\n",
        "\n",
        "best_params = study.best_params\n",
        "best_model = BertForSequenceClassification.from_pretrained(\n",
        "    \"bert-base-cased\",\n",
        "    num_labels=2\n",
        ")\n",
        "best_training_args = TrainingArguments(\n",
        "    output_dir=\"./bert_fake_news_final\",\n",
        "    eval_strategy=\"epoch\",\n",
        "    save_strategy=\"epoch\",\n",
        "    learning_rate=best_params[\"learning_rate\"],\n",
        "    weight_decay=best_params[\"weight_decay\"] if best_params[\"weight_decay\"] is not None else 0.0,\n",
        "    per_device_train_batch_size=2,\n",
        "    per_device_eval_batch_size=2,\n",
        "    num_train_epochs=50,\n",
        "    load_best_model_at_end=True,\n",
        "    metric_for_best_model=\"f1\",\n",
        "    greater_is_better=True,\n",
        "    logging_dir=\"./logs_bert_fake_news_final\",\n",
        "    logging_strategy=\"epoch\",\n",
        "    save_total_limit=2,\n",
        "    fp16=False,\n",
        "    gradient_accumulation_steps=2,\n",
        "    dataloader_num_workers=2,\n",
        ")\n",
        "best_trainer = Trainer(\n",
        "    model=best_model,\n",
        "    args=best_training_args,\n",
        "    train_dataset=train_enc,\n",
        "    eval_dataset=val_enc,\n",
        "    compute_metrics=compute_metrics,\n",
        "    callbacks=[EarlyStoppingCallback(early_stopping_patience=2)]\n",
        ")\n",
        "best_trainer.train()\n",
        "\n",
        "y_pred = np.argmax(best_trainer.predict(test_enc).predictions, axis=1)\n",
        "\n",
        "print(\"\\nClassification Report:\")\n",
        "print(classification_report(y_test, y_pred))\n",
        "print(\"Confusion Matrix:\")\n",
        "print(confusion_matrix(y_test, y_pred))\n",
        "print(\"Weighted F1-score:\", f1_score(y_test, y_pred, average=\"weighted\"))"
      ]
    },
    {
      "cell_type": "markdown",
      "metadata": {
        "id": "lEHiTzLmfttD"
      },
      "source": [
        "# **DeBERTa**"
      ]
    },
    {
      "cell_type": "code",
      "execution_count": null,
      "metadata": {
        "id": "8eeEyaOPfTln"
      },
      "outputs": [],
      "source": [
        "import pandas as pd\n",
        "from sklearn.model_selection import train_test_split\n",
        "from sklearn.preprocessing import LabelEncoder\n",
        "from datasets import Dataset\n",
        "from transformers import (\n",
        "    DebertaTokenizer,\n",
        "    DebertaForSequenceClassification,\n",
        "    Trainer,\n",
        "    TrainingArguments,\n",
        ")\n",
        "import numpy as np\n",
        "from sklearn.metrics import accuracy_score, precision_recall_fscore_support"
      ]
    },
    {
      "cell_type": "code",
      "execution_count": null,
      "metadata": {
        "id": "Cwta8EsafTem"
      },
      "outputs": [],
      "source": [
        "# ----------------\n",
        "# Load dataset\n",
        "# ----------------\n",
        "\n",
        "path_file = \"/content/df_ndf.csv\"\n",
        "df = pd.read_csv(path_file, sep=\"\\t\", encoding=\"utf-8\")\n",
        "df.head()\n",
        "\n",
        "texts = df[\"texts\"].astype(str).tolist()\n",
        "labels = df[\"labels\"].values\n",
        "\n",
        "\n",
        "\n",
        "# Codifica etichette\n",
        "encoder = LabelEncoder()\n",
        "df[\"labels\"] = encoder.fit_transform(df[\"labels\"])\n",
        "\n",
        "# Split train/test\n",
        "train_texts, test_texts, train_labels, test_labels = train_test_split(\n",
        "    df[\"texts\"].tolist(),\n",
        "    df[\"labels\"].tolist(),\n",
        "    test_size=0.2,\n",
        "    stratify=df[\"labels\"],\n",
        "    random_state=42,\n",
        ")"
      ]
    },
    {
      "cell_type": "code",
      "execution_count": null,
      "metadata": {
        "colab": {
          "base_uri": "https://localhost:8080/",
          "height": 145,
          "referenced_widgets": [
            "61497f93c92b4386887fb132940fab8c",
            "0e0cdf131268430e83bac3f8a486acb0",
            "14accac53f284e69bc5b02361cce11c1",
            "d311dd24826646fcbe95900652215866",
            "ee016dfedcdf411aaa4b52990922eba6",
            "e557ae47345145518e187673554374f7",
            "129b63d793ad41e48e19951677bf5032",
            "7aed6c93896e448dab798a446463e506",
            "6ed5e3c8df724825b9164a2907fe70c4",
            "14b400d284b84184a727b23f8eff2821",
            "a9bdf86333c2442792432e6cad44897a",
            "253244a4b77d4cb28caa583dce2607db",
            "590634e981ed4701a72a6704fa735d3e",
            "10c670bc481a456290391f89d77d3fa3",
            "178a7f27104447c1ae6d313516119cc2",
            "6a71fa1538fd4321b39d78befcb01bd7",
            "245f4633225d44048f554783525627c8",
            "5f3c4d6842ec47d88f38fddce4f8bf41",
            "f8aad74ffb174f0f8504dbb100a45df8",
            "7e8c94f7c892473ea26fcce19497225a",
            "496c31e6dac1472daa4b0ec2aa629dc5",
            "16de9ca5c9864e9982a3f653faaebdbd",
            "c20268743cde4a059d3560fa21f6e3c4",
            "802dc564c1fd4bffbbf6c2cb6583a1f0",
            "26c0366b9b27443bb4e8109d7eaaf237",
            "f7967c01a75c4abdaea4c704491e4e92",
            "be50f67b4983427e854deb8152bd819b",
            "60678304dca146d8b77d7a74329f2f65",
            "3f3bf03a7fbe446ebf128069f5ee3ebf",
            "0902a801122f4ccb9917c73dce67cd22",
            "2797ed1d9eb14a1aa3ac5fad45df0058",
            "e007bd58d95f4147a0d5b7720ce5ed1d",
            "1b85517fa8d74ad6b2f51a3c5a5e070b",
            "c125e39363e3480183231a8292024318",
            "72f81fcd75cf415198021a99a1c1cd94",
            "a8b362a39e05440c9b0c54a8f6950414",
            "9c3a16a32efe49bcbf3d02560559b5c9",
            "b25f517205874c11a0caae63a83cd808",
            "7a6f5c9f5d88482fb63e85ace184972b",
            "09adacd427634f17bd23c093023108fc",
            "4eedcfb50a4443069ba18de64c5bb023",
            "cc1ca5c67b80448cac16229adcf139af",
            "5a8391d2c1df4fa4a680d072efb96f5b",
            "81a77b32d354433ebf4ac9662a00cf9a"
          ]
        },
        "id": "wFU9Bu_1fTXw",
        "outputId": "c99f63ce-8a51-48e9-e7c6-cedbb895c961"
      },
      "outputs": [],
      "source": [
        "# -----------------------------\n",
        "# Tokenizzazione con DeBERTa\n",
        "# -----------------------------\n",
        "tokenizer = DebertaTokenizer.from_pretrained(\"microsoft/deberta-base\")\n",
        "\n",
        "max_len = 256  # coerente con fine-tuning BERT nel paper\n",
        "train_encodings = tokenizer(train_texts, truncation=True, padding=True, max_length=max_len)\n",
        "test_encodings = tokenizer(test_texts, truncation=True, padding=True, max_length=max_len)\n"
      ]
    },
    {
      "cell_type": "code",
      "execution_count": null,
      "metadata": {
        "id": "pdcGwltPf6ZG"
      },
      "outputs": [],
      "source": [
        "# -----------------------------------\n",
        "# Conversione in Dataset Hugging Face\n",
        "# -----------------------------------\n",
        "train_dataset = Dataset.from_dict(\n",
        "    {\n",
        "        \"input_ids\": train_encodings[\"input_ids\"],\n",
        "        \"attention_mask\": train_encodings[\"attention_mask\"],\n",
        "        \"labels\": train_labels,\n",
        "    }\n",
        ")\n",
        "\n",
        "test_dataset = Dataset.from_dict(\n",
        "    {\n",
        "        \"input_ids\": test_encodings[\"input_ids\"],\n",
        "        \"attention_mask\": test_encodings[\"attention_mask\"],\n",
        "        \"labels\": test_labels,\n",
        "    }\n",
        ")"
      ]
    },
    {
      "cell_type": "code",
      "execution_count": null,
      "metadata": {
        "colab": {
          "base_uri": "https://localhost:8080/",
          "height": 135,
          "referenced_widgets": [
            "7df800fe35c444a098810169e2b349e8",
            "80381b13d9004802af07f7e8b496b9bb",
            "d6fff1002bd041b39a287764f47026cf",
            "ca2cdeda822847e8bf9521fbe1b411dd",
            "4f112a6dacef486f908d7f1abbcc8b81",
            "5a047640f5164ff0b7323dd5ca41f159",
            "5f2090ecb89d4ba793c0caadd766e084",
            "a543cd3574d64bbd9cd0d964b956606d",
            "a1eb35c4b4a5410691cf5ac740cd8984",
            "c737e97bc92b40789d9c5d51a574063f",
            "58c81daa5a2549aab057ac2d1695d619",
            "95fe2ecaec8d47e7973b3ca49bf75abd",
            "699c207aa3ef42a9893286fe766c11a8",
            "57dd17b2ce38459095fead4b6c419a24",
            "b880ef6ae8614a2da4d8944f9a56506f",
            "d94b547c52ce4c1287b6431ed7045564",
            "2bab484ca96d4d8ba7b19f7ea2d5fc4c",
            "9e416aa4240148be9ecccee3df039197",
            "cf2208788f604b2b9aef96d9e0625891",
            "d87798382117475e9d3e845004431589",
            "448e4f67258e49bba2152e0c1a7a59fb",
            "1f3dcde6bc504930999dbc7ed13ddf6b"
          ]
        },
        "id": "2zvURUxnf6Nk",
        "outputId": "7fa01663-1713-40cc-ff64-028c1116ce64"
      },
      "outputs": [],
      "source": [
        "# ---------------------------\n",
        "# Caricamento modello DeBERTa\n",
        "# ---------------------------\n",
        "model = DebertaForSequenceClassification.from_pretrained(\n",
        "    \"microsoft/deberta-base\",\n",
        "    num_labels=2  # classificazione binaria\n",
        ")"
      ]
    },
    {
      "cell_type": "code",
      "execution_count": null,
      "metadata": {
        "id": "mNMyG0yjf6FM"
      },
      "outputs": [],
      "source": [
        "# -----------------------\n",
        "# Metriche di valutazione\n",
        "# -----------------------\n",
        "def compute_metrics(pred):\n",
        "    labels = pred.label_ids\n",
        "    preds = np.argmax(pred.predictions, axis=1)\n",
        "    precision, recall, f1, _ = precision_recall_fscore_support(\n",
        "        labels, preds, average=\"weighted\"\n",
        "    )\n",
        "    acc = accuracy_score(labels, preds)\n",
        "    return {\"accuracy\": acc, \"f1\": f1, \"precision\": precision, \"recall\": recall}"
      ]
    },
    {
      "cell_type": "code",
      "execution_count": null,
      "metadata": {
        "id": "pizEswA0f58b"
      },
      "outputs": [],
      "source": [
        "# --------------------------------------\n",
        "# Impostazioni di training (Trainer API)\n",
        "# --------------------------------------\n",
        "training_args = TrainingArguments(\n",
        "    output_dir=\"./deberta_fake_news\",\n",
        "    eval_strategy=\"epoch\",\n",
        "    save_strategy=\"epoch\",\n",
        "    learning_rate=2e-5,\n",
        "    per_device_train_batch_size=8,\n",
        "    per_device_eval_batch_size=8,\n",
        "    num_train_epochs=3,\n",
        "    weight_decay=0.01,\n",
        "    logging_dir=\"./logs\",\n",
        "    load_best_model_at_end=True,\n",
        "    metric_for_best_model=\"f1\",\n",
        "    save_total_limit=2,\n",
        ")"
      ]
    },
    {
      "cell_type": "code",
      "execution_count": null,
      "metadata": {
        "colab": {
          "base_uri": "https://localhost:8080/",
          "height": 179
        },
        "id": "Z7FI1N94fTPX",
        "outputId": "20fa6eb4-e1ae-41aa-88a9-fd917c100c20"
      },
      "outputs": [],
      "source": [
        "# -------------------------\n",
        "# Addestramento con Trainer\n",
        "# -------------------------\n",
        "trainer = Trainer(\n",
        "    model=model,\n",
        "    args=training_args,\n",
        "    train_dataset=train_dataset,\n",
        "    eval_dataset=test_dataset,\n",
        "    tokenizer=tokenizer,\n",
        "    compute_metrics=compute_metrics,\n",
        ")\n",
        "\n",
        "trainer.train()"
      ]
    },
    {
      "cell_type": "code",
      "execution_count": null,
      "metadata": {
        "id": "G_OxVk2EgHOD"
      },
      "outputs": [],
      "source": [
        "# -----------\n",
        "# Valutazione\n",
        "# -----------\n",
        "metrics = trainer.evaluate()\n",
        "print(\"\\n=== Risultati Finali (DeBERTa) ===\")\n",
        "for k, v in metrics.items():\n",
        "    print(f\"{k}: {v:.4f}\")"
      ]
    }
  ],
  "metadata": {
    "colab": {
      "provenance": []
    },
    "kernelspec": {
      "display_name": "env",
      "language": "python",
      "name": "python3"
    },
    "language_info": {
      "codemirror_mode": {
        "name": "ipython",
        "version": 3
      },
      "file_extension": ".py",
      "mimetype": "text/x-python",
      "name": "python",
      "nbconvert_exporter": "python",
      "pygments_lexer": "ipython3",
      "version": "3.10.18"
    },
    "widgets": {
      "application/vnd.jupyter.widget-state+json": {
        "0902a801122f4ccb9917c73dce67cd22": {
          "model_module": "@jupyter-widgets/base",
          "model_module_version": "1.2.0",
          "model_name": "LayoutModel",
          "state": {
            "_model_module": "@jupyter-widgets/base",
            "_model_module_version": "1.2.0",
            "_model_name": "LayoutModel",
            "_view_count": null,
            "_view_module": "@jupyter-widgets/base",
            "_view_module_version": "1.2.0",
            "_view_name": "LayoutView",
            "align_content": null,
            "align_items": null,
            "align_self": null,
            "border": null,
            "bottom": null,
            "display": null,
            "flex": null,
            "flex_flow": null,
            "grid_area": null,
            "grid_auto_columns": null,
            "grid_auto_flow": null,
            "grid_auto_rows": null,
            "grid_column": null,
            "grid_gap": null,
            "grid_row": null,
            "grid_template_areas": null,
            "grid_template_columns": null,
            "grid_template_rows": null,
            "height": null,
            "justify_content": null,
            "justify_items": null,
            "left": null,
            "margin": null,
            "max_height": null,
            "max_width": null,
            "min_height": null,
            "min_width": null,
            "object_fit": null,
            "object_position": null,
            "order": null,
            "overflow": null,
            "overflow_x": null,
            "overflow_y": null,
            "padding": null,
            "right": null,
            "top": null,
            "visibility": null,
            "width": "20px"
          }
        },
        "09adacd427634f17bd23c093023108fc": {
          "model_module": "@jupyter-widgets/controls",
          "model_module_version": "1.5.0",
          "model_name": "DescriptionStyleModel",
          "state": {
            "_model_module": "@jupyter-widgets/controls",
            "_model_module_version": "1.5.0",
            "_model_name": "DescriptionStyleModel",
            "_view_count": null,
            "_view_module": "@jupyter-widgets/base",
            "_view_module_version": "1.2.0",
            "_view_name": "StyleView",
            "description_width": ""
          }
        },
        "0bbda6e948614a42b60eb93f563be1dc": {
          "model_module": "@jupyter-widgets/controls",
          "model_module_version": "1.5.0",
          "model_name": "ProgressStyleModel",
          "state": {
            "_model_module": "@jupyter-widgets/controls",
            "_model_module_version": "1.5.0",
            "_model_name": "ProgressStyleModel",
            "_view_count": null,
            "_view_module": "@jupyter-widgets/base",
            "_view_module_version": "1.2.0",
            "_view_name": "StyleView",
            "bar_color": null,
            "description_width": ""
          }
        },
        "0c4a5091255c4794804715fcc86dc3cf": {
          "model_module": "@jupyter-widgets/controls",
          "model_module_version": "1.5.0",
          "model_name": "ProgressStyleModel",
          "state": {
            "_model_module": "@jupyter-widgets/controls",
            "_model_module_version": "1.5.0",
            "_model_name": "ProgressStyleModel",
            "_view_count": null,
            "_view_module": "@jupyter-widgets/base",
            "_view_module_version": "1.2.0",
            "_view_name": "StyleView",
            "bar_color": null,
            "description_width": ""
          }
        },
        "0e0cdf131268430e83bac3f8a486acb0": {
          "model_module": "@jupyter-widgets/controls",
          "model_module_version": "1.5.0",
          "model_name": "HTMLModel",
          "state": {
            "_dom_classes": [],
            "_model_module": "@jupyter-widgets/controls",
            "_model_module_version": "1.5.0",
            "_model_name": "HTMLModel",
            "_view_count": null,
            "_view_module": "@jupyter-widgets/controls",
            "_view_module_version": "1.5.0",
            "_view_name": "HTMLView",
            "description": "",
            "description_tooltip": null,
            "layout": "IPY_MODEL_e557ae47345145518e187673554374f7",
            "placeholder": "​",
            "style": "IPY_MODEL_129b63d793ad41e48e19951677bf5032",
            "value": "tokenizer_config.json: 100%"
          }
        },
        "0e5b425edc4045acb51911244ae86931": {
          "model_module": "@jupyter-widgets/controls",
          "model_module_version": "1.5.0",
          "model_name": "FloatProgressModel",
          "state": {
            "_dom_classes": [],
            "_model_module": "@jupyter-widgets/controls",
            "_model_module_version": "1.5.0",
            "_model_name": "FloatProgressModel",
            "_view_count": null,
            "_view_module": "@jupyter-widgets/controls",
            "_view_module_version": "1.5.0",
            "_view_name": "ProgressView",
            "bar_style": "success",
            "description": "",
            "description_tooltip": null,
            "layout": "IPY_MODEL_a9b2fb7f6f4441d8a4d791f7879179d5",
            "max": 49,
            "min": 0,
            "orientation": "horizontal",
            "style": "IPY_MODEL_4f4ca206f9654a46b0abaf6bfe7409b5",
            "value": 49
          }
        },
        "0ee5f2af5cf64671a7918373f964c6de": {
          "model_module": "@jupyter-widgets/base",
          "model_module_version": "1.2.0",
          "model_name": "LayoutModel",
          "state": {
            "_model_module": "@jupyter-widgets/base",
            "_model_module_version": "1.2.0",
            "_model_name": "LayoutModel",
            "_view_count": null,
            "_view_module": "@jupyter-widgets/base",
            "_view_module_version": "1.2.0",
            "_view_name": "LayoutView",
            "align_content": null,
            "align_items": null,
            "align_self": null,
            "border": null,
            "bottom": null,
            "display": null,
            "flex": null,
            "flex_flow": null,
            "grid_area": null,
            "grid_auto_columns": null,
            "grid_auto_flow": null,
            "grid_auto_rows": null,
            "grid_column": null,
            "grid_gap": null,
            "grid_row": null,
            "grid_template_areas": null,
            "grid_template_columns": null,
            "grid_template_rows": null,
            "height": null,
            "justify_content": null,
            "justify_items": null,
            "left": null,
            "margin": null,
            "max_height": null,
            "max_width": null,
            "min_height": null,
            "min_width": null,
            "object_fit": null,
            "object_position": null,
            "order": null,
            "overflow": null,
            "overflow_x": null,
            "overflow_y": null,
            "padding": null,
            "right": null,
            "top": null,
            "visibility": null,
            "width": null
          }
        },
        "10c670bc481a456290391f89d77d3fa3": {
          "model_module": "@jupyter-widgets/controls",
          "model_module_version": "1.5.0",
          "model_name": "FloatProgressModel",
          "state": {
            "_dom_classes": [],
            "_model_module": "@jupyter-widgets/controls",
            "_model_module_version": "1.5.0",
            "_model_name": "FloatProgressModel",
            "_view_count": null,
            "_view_module": "@jupyter-widgets/controls",
            "_view_module_version": "1.5.0",
            "_view_name": "ProgressView",
            "bar_style": "success",
            "description": "",
            "description_tooltip": null,
            "layout": "IPY_MODEL_f8aad74ffb174f0f8504dbb100a45df8",
            "max": 1,
            "min": 0,
            "orientation": "horizontal",
            "style": "IPY_MODEL_7e8c94f7c892473ea26fcce19497225a",
            "value": 1
          }
        },
        "123b0fec260f4bd99bc70b305427b4e9": {
          "model_module": "@jupyter-widgets/base",
          "model_module_version": "1.2.0",
          "model_name": "LayoutModel",
          "state": {
            "_model_module": "@jupyter-widgets/base",
            "_model_module_version": "1.2.0",
            "_model_name": "LayoutModel",
            "_view_count": null,
            "_view_module": "@jupyter-widgets/base",
            "_view_module_version": "1.2.0",
            "_view_name": "LayoutView",
            "align_content": null,
            "align_items": null,
            "align_self": null,
            "border": null,
            "bottom": null,
            "display": null,
            "flex": null,
            "flex_flow": null,
            "grid_area": null,
            "grid_auto_columns": null,
            "grid_auto_flow": null,
            "grid_auto_rows": null,
            "grid_column": null,
            "grid_gap": null,
            "grid_row": null,
            "grid_template_areas": null,
            "grid_template_columns": null,
            "grid_template_rows": null,
            "height": null,
            "justify_content": null,
            "justify_items": null,
            "left": null,
            "margin": null,
            "max_height": null,
            "max_width": null,
            "min_height": null,
            "min_width": null,
            "object_fit": null,
            "object_position": null,
            "order": null,
            "overflow": null,
            "overflow_x": null,
            "overflow_y": null,
            "padding": null,
            "right": null,
            "top": null,
            "visibility": null,
            "width": null
          }
        },
        "129b63d793ad41e48e19951677bf5032": {
          "model_module": "@jupyter-widgets/controls",
          "model_module_version": "1.5.0",
          "model_name": "DescriptionStyleModel",
          "state": {
            "_model_module": "@jupyter-widgets/controls",
            "_model_module_version": "1.5.0",
            "_model_name": "DescriptionStyleModel",
            "_view_count": null,
            "_view_module": "@jupyter-widgets/base",
            "_view_module_version": "1.2.0",
            "_view_name": "StyleView",
            "description_width": ""
          }
        },
        "12ff6e6542e349288a954ddf4fe0c610": {
          "model_module": "@jupyter-widgets/controls",
          "model_module_version": "1.5.0",
          "model_name": "HTMLModel",
          "state": {
            "_dom_classes": [],
            "_model_module": "@jupyter-widgets/controls",
            "_model_module_version": "1.5.0",
            "_model_name": "HTMLModel",
            "_view_count": null,
            "_view_module": "@jupyter-widgets/controls",
            "_view_module_version": "1.5.0",
            "_view_name": "HTMLView",
            "description": "",
            "description_tooltip": null,
            "layout": "IPY_MODEL_997a1843eb364dcf9aaf1d8d878fb80f",
            "placeholder": "​",
            "style": "IPY_MODEL_2e97d7ff22f1400393267956bc017508",
            "value": " 570/570 [00:00&lt;00:00, 24.0kB/s]"
          }
        },
        "145e46d4681b42a5837e07d428566ece": {
          "model_module": "@jupyter-widgets/base",
          "model_module_version": "1.2.0",
          "model_name": "LayoutModel",
          "state": {
            "_model_module": "@jupyter-widgets/base",
            "_model_module_version": "1.2.0",
            "_model_name": "LayoutModel",
            "_view_count": null,
            "_view_module": "@jupyter-widgets/base",
            "_view_module_version": "1.2.0",
            "_view_name": "LayoutView",
            "align_content": null,
            "align_items": null,
            "align_self": null,
            "border": null,
            "bottom": null,
            "display": null,
            "flex": null,
            "flex_flow": null,
            "grid_area": null,
            "grid_auto_columns": null,
            "grid_auto_flow": null,
            "grid_auto_rows": null,
            "grid_column": null,
            "grid_gap": null,
            "grid_row": null,
            "grid_template_areas": null,
            "grid_template_columns": null,
            "grid_template_rows": null,
            "height": null,
            "justify_content": null,
            "justify_items": null,
            "left": null,
            "margin": null,
            "max_height": null,
            "max_width": null,
            "min_height": null,
            "min_width": null,
            "object_fit": null,
            "object_position": null,
            "order": null,
            "overflow": null,
            "overflow_x": null,
            "overflow_y": null,
            "padding": null,
            "right": null,
            "top": null,
            "visibility": null,
            "width": null
          }
        },
        "14accac53f284e69bc5b02361cce11c1": {
          "model_module": "@jupyter-widgets/controls",
          "model_module_version": "1.5.0",
          "model_name": "FloatProgressModel",
          "state": {
            "_dom_classes": [],
            "_model_module": "@jupyter-widgets/controls",
            "_model_module_version": "1.5.0",
            "_model_name": "FloatProgressModel",
            "_view_count": null,
            "_view_module": "@jupyter-widgets/controls",
            "_view_module_version": "1.5.0",
            "_view_name": "ProgressView",
            "bar_style": "success",
            "description": "",
            "description_tooltip": null,
            "layout": "IPY_MODEL_7aed6c93896e448dab798a446463e506",
            "max": 52,
            "min": 0,
            "orientation": "horizontal",
            "style": "IPY_MODEL_6ed5e3c8df724825b9164a2907fe70c4",
            "value": 52
          }
        },
        "14b400d284b84184a727b23f8eff2821": {
          "model_module": "@jupyter-widgets/base",
          "model_module_version": "1.2.0",
          "model_name": "LayoutModel",
          "state": {
            "_model_module": "@jupyter-widgets/base",
            "_model_module_version": "1.2.0",
            "_model_name": "LayoutModel",
            "_view_count": null,
            "_view_module": "@jupyter-widgets/base",
            "_view_module_version": "1.2.0",
            "_view_name": "LayoutView",
            "align_content": null,
            "align_items": null,
            "align_self": null,
            "border": null,
            "bottom": null,
            "display": null,
            "flex": null,
            "flex_flow": null,
            "grid_area": null,
            "grid_auto_columns": null,
            "grid_auto_flow": null,
            "grid_auto_rows": null,
            "grid_column": null,
            "grid_gap": null,
            "grid_row": null,
            "grid_template_areas": null,
            "grid_template_columns": null,
            "grid_template_rows": null,
            "height": null,
            "justify_content": null,
            "justify_items": null,
            "left": null,
            "margin": null,
            "max_height": null,
            "max_width": null,
            "min_height": null,
            "min_width": null,
            "object_fit": null,
            "object_position": null,
            "order": null,
            "overflow": null,
            "overflow_x": null,
            "overflow_y": null,
            "padding": null,
            "right": null,
            "top": null,
            "visibility": null,
            "width": null
          }
        },
        "166d7ab4fe0443e492169bcc9d531a5b": {
          "model_module": "@jupyter-widgets/controls",
          "model_module_version": "1.5.0",
          "model_name": "HTMLModel",
          "state": {
            "_dom_classes": [],
            "_model_module": "@jupyter-widgets/controls",
            "_model_module_version": "1.5.0",
            "_model_name": "HTMLModel",
            "_view_count": null,
            "_view_module": "@jupyter-widgets/controls",
            "_view_module_version": "1.5.0",
            "_view_name": "HTMLView",
            "description": "",
            "description_tooltip": null,
            "layout": "IPY_MODEL_fe93dcc28ee9402da306f11567aaa488",
            "placeholder": "​",
            "style": "IPY_MODEL_a00d1a5383564f96839755d8f4c7aaa5",
            "value": " 436k/436k [00:00&lt;00:00, 6.21MB/s]"
          }
        },
        "16de9ca5c9864e9982a3f653faaebdbd": {
          "model_module": "@jupyter-widgets/controls",
          "model_module_version": "1.5.0",
          "model_name": "DescriptionStyleModel",
          "state": {
            "_model_module": "@jupyter-widgets/controls",
            "_model_module_version": "1.5.0",
            "_model_name": "DescriptionStyleModel",
            "_view_count": null,
            "_view_module": "@jupyter-widgets/base",
            "_view_module_version": "1.2.0",
            "_view_name": "StyleView",
            "description_width": ""
          }
        },
        "16ece40ff8c04c72ae0c41d4e67ff3be": {
          "model_module": "@jupyter-widgets/controls",
          "model_module_version": "1.5.0",
          "model_name": "HTMLModel",
          "state": {
            "_dom_classes": [],
            "_model_module": "@jupyter-widgets/controls",
            "_model_module_version": "1.5.0",
            "_model_name": "HTMLModel",
            "_view_count": null,
            "_view_module": "@jupyter-widgets/controls",
            "_view_module_version": "1.5.0",
            "_view_name": "HTMLView",
            "description": "",
            "description_tooltip": null,
            "layout": "IPY_MODEL_fc008a56a12c4c82b004681ccb9d79c9",
            "placeholder": "​",
            "style": "IPY_MODEL_2bef9953605d44a3b0e9616601ba258b",
            "value": "config.json: 100%"
          }
        },
        "178a7f27104447c1ae6d313516119cc2": {
          "model_module": "@jupyter-widgets/controls",
          "model_module_version": "1.5.0",
          "model_name": "HTMLModel",
          "state": {
            "_dom_classes": [],
            "_model_module": "@jupyter-widgets/controls",
            "_model_module_version": "1.5.0",
            "_model_name": "HTMLModel",
            "_view_count": null,
            "_view_module": "@jupyter-widgets/controls",
            "_view_module_version": "1.5.0",
            "_view_name": "HTMLView",
            "description": "",
            "description_tooltip": null,
            "layout": "IPY_MODEL_496c31e6dac1472daa4b0ec2aa629dc5",
            "placeholder": "​",
            "style": "IPY_MODEL_16de9ca5c9864e9982a3f653faaebdbd",
            "value": " 899k/? [00:00&lt;00:00, 14.6MB/s]"
          }
        },
        "19379eca15be4517bcd34adbd29482cc": {
          "model_module": "@jupyter-widgets/controls",
          "model_module_version": "1.5.0",
          "model_name": "HTMLModel",
          "state": {
            "_dom_classes": [],
            "_model_module": "@jupyter-widgets/controls",
            "_model_module_version": "1.5.0",
            "_model_name": "HTMLModel",
            "_view_count": null,
            "_view_module": "@jupyter-widgets/controls",
            "_view_module_version": "1.5.0",
            "_view_name": "HTMLView",
            "description": "",
            "description_tooltip": null,
            "layout": "IPY_MODEL_123b0fec260f4bd99bc70b305427b4e9",
            "placeholder": "​",
            "style": "IPY_MODEL_cc3c3555e3fa4d3bb04c1fa4c8ffbe6b",
            "value": "vocab.txt: 100%"
          }
        },
        "1b85517fa8d74ad6b2f51a3c5a5e070b": {
          "model_module": "@jupyter-widgets/controls",
          "model_module_version": "1.5.0",
          "model_name": "DescriptionStyleModel",
          "state": {
            "_model_module": "@jupyter-widgets/controls",
            "_model_module_version": "1.5.0",
            "_model_name": "DescriptionStyleModel",
            "_view_count": null,
            "_view_module": "@jupyter-widgets/base",
            "_view_module_version": "1.2.0",
            "_view_name": "StyleView",
            "description_width": ""
          }
        },
        "1d63bb2ad95f42fa8e31e76e5336f6c0": {
          "model_module": "@jupyter-widgets/controls",
          "model_module_version": "1.5.0",
          "model_name": "HTMLModel",
          "state": {
            "_dom_classes": [],
            "_model_module": "@jupyter-widgets/controls",
            "_model_module_version": "1.5.0",
            "_model_name": "HTMLModel",
            "_view_count": null,
            "_view_module": "@jupyter-widgets/controls",
            "_view_module_version": "1.5.0",
            "_view_name": "HTMLView",
            "description": "",
            "description_tooltip": null,
            "layout": "IPY_MODEL_41822e446494494d8b81d46651a5cbef",
            "placeholder": "​",
            "style": "IPY_MODEL_36c42500d50f42f28f52fb3a355ae66b",
            "value": " 436M/436M [00:23&lt;00:00, 18.2MB/s]"
          }
        },
        "1f3dcde6bc504930999dbc7ed13ddf6b": {
          "model_module": "@jupyter-widgets/controls",
          "model_module_version": "1.5.0",
          "model_name": "DescriptionStyleModel",
          "state": {
            "_model_module": "@jupyter-widgets/controls",
            "_model_module_version": "1.5.0",
            "_model_name": "DescriptionStyleModel",
            "_view_count": null,
            "_view_module": "@jupyter-widgets/base",
            "_view_module_version": "1.2.0",
            "_view_name": "StyleView",
            "description_width": ""
          }
        },
        "245f4633225d44048f554783525627c8": {
          "model_module": "@jupyter-widgets/base",
          "model_module_version": "1.2.0",
          "model_name": "LayoutModel",
          "state": {
            "_model_module": "@jupyter-widgets/base",
            "_model_module_version": "1.2.0",
            "_model_name": "LayoutModel",
            "_view_count": null,
            "_view_module": "@jupyter-widgets/base",
            "_view_module_version": "1.2.0",
            "_view_name": "LayoutView",
            "align_content": null,
            "align_items": null,
            "align_self": null,
            "border": null,
            "bottom": null,
            "display": null,
            "flex": null,
            "flex_flow": null,
            "grid_area": null,
            "grid_auto_columns": null,
            "grid_auto_flow": null,
            "grid_auto_rows": null,
            "grid_column": null,
            "grid_gap": null,
            "grid_row": null,
            "grid_template_areas": null,
            "grid_template_columns": null,
            "grid_template_rows": null,
            "height": null,
            "justify_content": null,
            "justify_items": null,
            "left": null,
            "margin": null,
            "max_height": null,
            "max_width": null,
            "min_height": null,
            "min_width": null,
            "object_fit": null,
            "object_position": null,
            "order": null,
            "overflow": null,
            "overflow_x": null,
            "overflow_y": null,
            "padding": null,
            "right": null,
            "top": null,
            "visibility": null,
            "width": null
          }
        },
        "2485932ec8fc44b0bc15618f2540f930": {
          "model_module": "@jupyter-widgets/controls",
          "model_module_version": "1.5.0",
          "model_name": "FloatProgressModel",
          "state": {
            "_dom_classes": [],
            "_model_module": "@jupyter-widgets/controls",
            "_model_module_version": "1.5.0",
            "_model_name": "FloatProgressModel",
            "_view_count": null,
            "_view_module": "@jupyter-widgets/controls",
            "_view_module_version": "1.5.0",
            "_view_name": "ProgressView",
            "bar_style": "success",
            "description": "",
            "description_tooltip": null,
            "layout": "IPY_MODEL_e35819c20e384eb8b65b95389a8de3b7",
            "max": 435755784,
            "min": 0,
            "orientation": "horizontal",
            "style": "IPY_MODEL_f5f9b117e8944d148dedd263c4b2429b",
            "value": 435755784
          }
        },
        "253244a4b77d4cb28caa583dce2607db": {
          "model_module": "@jupyter-widgets/controls",
          "model_module_version": "1.5.0",
          "model_name": "HBoxModel",
          "state": {
            "_dom_classes": [],
            "_model_module": "@jupyter-widgets/controls",
            "_model_module_version": "1.5.0",
            "_model_name": "HBoxModel",
            "_view_count": null,
            "_view_module": "@jupyter-widgets/controls",
            "_view_module_version": "1.5.0",
            "_view_name": "HBoxView",
            "box_style": "",
            "children": [
              "IPY_MODEL_590634e981ed4701a72a6704fa735d3e",
              "IPY_MODEL_10c670bc481a456290391f89d77d3fa3",
              "IPY_MODEL_178a7f27104447c1ae6d313516119cc2"
            ],
            "layout": "IPY_MODEL_6a71fa1538fd4321b39d78befcb01bd7"
          }
        },
        "26c0366b9b27443bb4e8109d7eaaf237": {
          "model_module": "@jupyter-widgets/controls",
          "model_module_version": "1.5.0",
          "model_name": "FloatProgressModel",
          "state": {
            "_dom_classes": [],
            "_model_module": "@jupyter-widgets/controls",
            "_model_module_version": "1.5.0",
            "_model_name": "FloatProgressModel",
            "_view_count": null,
            "_view_module": "@jupyter-widgets/controls",
            "_view_module_version": "1.5.0",
            "_view_name": "ProgressView",
            "bar_style": "success",
            "description": "",
            "description_tooltip": null,
            "layout": "IPY_MODEL_0902a801122f4ccb9917c73dce67cd22",
            "max": 1,
            "min": 0,
            "orientation": "horizontal",
            "style": "IPY_MODEL_2797ed1d9eb14a1aa3ac5fad45df0058",
            "value": 1
          }
        },
        "2797ed1d9eb14a1aa3ac5fad45df0058": {
          "model_module": "@jupyter-widgets/controls",
          "model_module_version": "1.5.0",
          "model_name": "ProgressStyleModel",
          "state": {
            "_model_module": "@jupyter-widgets/controls",
            "_model_module_version": "1.5.0",
            "_model_name": "ProgressStyleModel",
            "_view_count": null,
            "_view_module": "@jupyter-widgets/base",
            "_view_module_version": "1.2.0",
            "_view_name": "StyleView",
            "bar_color": null,
            "description_width": ""
          }
        },
        "2b317c92bc714c97bd649adfaf02f120": {
          "model_module": "@jupyter-widgets/controls",
          "model_module_version": "1.5.0",
          "model_name": "DescriptionStyleModel",
          "state": {
            "_model_module": "@jupyter-widgets/controls",
            "_model_module_version": "1.5.0",
            "_model_name": "DescriptionStyleModel",
            "_view_count": null,
            "_view_module": "@jupyter-widgets/base",
            "_view_module_version": "1.2.0",
            "_view_name": "StyleView",
            "description_width": ""
          }
        },
        "2bab484ca96d4d8ba7b19f7ea2d5fc4c": {
          "model_module": "@jupyter-widgets/base",
          "model_module_version": "1.2.0",
          "model_name": "LayoutModel",
          "state": {
            "_model_module": "@jupyter-widgets/base",
            "_model_module_version": "1.2.0",
            "_model_name": "LayoutModel",
            "_view_count": null,
            "_view_module": "@jupyter-widgets/base",
            "_view_module_version": "1.2.0",
            "_view_name": "LayoutView",
            "align_content": null,
            "align_items": null,
            "align_self": null,
            "border": null,
            "bottom": null,
            "display": null,
            "flex": null,
            "flex_flow": null,
            "grid_area": null,
            "grid_auto_columns": null,
            "grid_auto_flow": null,
            "grid_auto_rows": null,
            "grid_column": null,
            "grid_gap": null,
            "grid_row": null,
            "grid_template_areas": null,
            "grid_template_columns": null,
            "grid_template_rows": null,
            "height": null,
            "justify_content": null,
            "justify_items": null,
            "left": null,
            "margin": null,
            "max_height": null,
            "max_width": null,
            "min_height": null,
            "min_width": null,
            "object_fit": null,
            "object_position": null,
            "order": null,
            "overflow": null,
            "overflow_x": null,
            "overflow_y": null,
            "padding": null,
            "right": null,
            "top": null,
            "visibility": null,
            "width": null
          }
        },
        "2bef9953605d44a3b0e9616601ba258b": {
          "model_module": "@jupyter-widgets/controls",
          "model_module_version": "1.5.0",
          "model_name": "DescriptionStyleModel",
          "state": {
            "_model_module": "@jupyter-widgets/controls",
            "_model_module_version": "1.5.0",
            "_model_name": "DescriptionStyleModel",
            "_view_count": null,
            "_view_module": "@jupyter-widgets/base",
            "_view_module_version": "1.2.0",
            "_view_name": "StyleView",
            "description_width": ""
          }
        },
        "2c18a36789c949278005a778b3320e61": {
          "model_module": "@jupyter-widgets/controls",
          "model_module_version": "1.5.0",
          "model_name": "ProgressStyleModel",
          "state": {
            "_model_module": "@jupyter-widgets/controls",
            "_model_module_version": "1.5.0",
            "_model_name": "ProgressStyleModel",
            "_view_count": null,
            "_view_module": "@jupyter-widgets/base",
            "_view_module_version": "1.2.0",
            "_view_name": "StyleView",
            "bar_color": null,
            "description_width": ""
          }
        },
        "2e0569df11004c639ee51e406421a035": {
          "model_module": "@jupyter-widgets/controls",
          "model_module_version": "1.5.0",
          "model_name": "HBoxModel",
          "state": {
            "_dom_classes": [],
            "_model_module": "@jupyter-widgets/controls",
            "_model_module_version": "1.5.0",
            "_model_name": "HBoxModel",
            "_view_count": null,
            "_view_module": "@jupyter-widgets/controls",
            "_view_module_version": "1.5.0",
            "_view_name": "HBoxView",
            "box_style": "",
            "children": [
              "IPY_MODEL_302849715aa84e1a8c5266aab86e24c1",
              "IPY_MODEL_7f437a5d5c3e47568d7994f057a15609",
              "IPY_MODEL_557db2a95b2249a3abb792cb5ab967be"
            ],
            "layout": "IPY_MODEL_145e46d4681b42a5837e07d428566ece"
          }
        },
        "2e97d7ff22f1400393267956bc017508": {
          "model_module": "@jupyter-widgets/controls",
          "model_module_version": "1.5.0",
          "model_name": "DescriptionStyleModel",
          "state": {
            "_model_module": "@jupyter-widgets/controls",
            "_model_module_version": "1.5.0",
            "_model_name": "DescriptionStyleModel",
            "_view_count": null,
            "_view_module": "@jupyter-widgets/base",
            "_view_module_version": "1.2.0",
            "_view_name": "StyleView",
            "description_width": ""
          }
        },
        "302849715aa84e1a8c5266aab86e24c1": {
          "model_module": "@jupyter-widgets/controls",
          "model_module_version": "1.5.0",
          "model_name": "HTMLModel",
          "state": {
            "_dom_classes": [],
            "_model_module": "@jupyter-widgets/controls",
            "_model_module_version": "1.5.0",
            "_model_name": "HTMLModel",
            "_view_count": null,
            "_view_module": "@jupyter-widgets/controls",
            "_view_module_version": "1.5.0",
            "_view_name": "HTMLView",
            "description": "",
            "description_tooltip": null,
            "layout": "IPY_MODEL_ed20d11021874c37be0dea1708a5c664",
            "placeholder": "​",
            "style": "IPY_MODEL_53cac6c6b67c41a0ab066594126564da",
            "value": "model.safetensors: 100%"
          }
        },
        "35fdbb163b914caf82117f53d5951c80": {
          "model_module": "@jupyter-widgets/controls",
          "model_module_version": "1.5.0",
          "model_name": "HTMLModel",
          "state": {
            "_dom_classes": [],
            "_model_module": "@jupyter-widgets/controls",
            "_model_module_version": "1.5.0",
            "_model_name": "HTMLModel",
            "_view_count": null,
            "_view_module": "@jupyter-widgets/controls",
            "_view_module_version": "1.5.0",
            "_view_name": "HTMLView",
            "description": "",
            "description_tooltip": null,
            "layout": "IPY_MODEL_a1e703ab65524074b58901451e37da37",
            "placeholder": "​",
            "style": "IPY_MODEL_51fd0ba884384b4887474088876cf7fa",
            "value": "tokenizer_config.json: 100%"
          }
        },
        "36c42500d50f42f28f52fb3a355ae66b": {
          "model_module": "@jupyter-widgets/controls",
          "model_module_version": "1.5.0",
          "model_name": "DescriptionStyleModel",
          "state": {
            "_model_module": "@jupyter-widgets/controls",
            "_model_module_version": "1.5.0",
            "_model_name": "DescriptionStyleModel",
            "_view_count": null,
            "_view_module": "@jupyter-widgets/base",
            "_view_module_version": "1.2.0",
            "_view_name": "StyleView",
            "description_width": ""
          }
        },
        "37cf5407b3ad471db99356aa2c03b1be": {
          "model_module": "@jupyter-widgets/base",
          "model_module_version": "1.2.0",
          "model_name": "LayoutModel",
          "state": {
            "_model_module": "@jupyter-widgets/base",
            "_model_module_version": "1.2.0",
            "_model_name": "LayoutModel",
            "_view_count": null,
            "_view_module": "@jupyter-widgets/base",
            "_view_module_version": "1.2.0",
            "_view_name": "LayoutView",
            "align_content": null,
            "align_items": null,
            "align_self": null,
            "border": null,
            "bottom": null,
            "display": null,
            "flex": null,
            "flex_flow": null,
            "grid_area": null,
            "grid_auto_columns": null,
            "grid_auto_flow": null,
            "grid_auto_rows": null,
            "grid_column": null,
            "grid_gap": null,
            "grid_row": null,
            "grid_template_areas": null,
            "grid_template_columns": null,
            "grid_template_rows": null,
            "height": null,
            "justify_content": null,
            "justify_items": null,
            "left": null,
            "margin": null,
            "max_height": null,
            "max_width": null,
            "min_height": null,
            "min_width": null,
            "object_fit": null,
            "object_position": null,
            "order": null,
            "overflow": null,
            "overflow_x": null,
            "overflow_y": null,
            "padding": null,
            "right": null,
            "top": null,
            "visibility": null,
            "width": null
          }
        },
        "3f3bf03a7fbe446ebf128069f5ee3ebf": {
          "model_module": "@jupyter-widgets/controls",
          "model_module_version": "1.5.0",
          "model_name": "DescriptionStyleModel",
          "state": {
            "_model_module": "@jupyter-widgets/controls",
            "_model_module_version": "1.5.0",
            "_model_name": "DescriptionStyleModel",
            "_view_count": null,
            "_view_module": "@jupyter-widgets/base",
            "_view_module_version": "1.2.0",
            "_view_name": "StyleView",
            "description_width": ""
          }
        },
        "40bf33271762464aa8de983d3a7555ee": {
          "model_module": "@jupyter-widgets/base",
          "model_module_version": "1.2.0",
          "model_name": "LayoutModel",
          "state": {
            "_model_module": "@jupyter-widgets/base",
            "_model_module_version": "1.2.0",
            "_model_name": "LayoutModel",
            "_view_count": null,
            "_view_module": "@jupyter-widgets/base",
            "_view_module_version": "1.2.0",
            "_view_name": "LayoutView",
            "align_content": null,
            "align_items": null,
            "align_self": null,
            "border": null,
            "bottom": null,
            "display": null,
            "flex": null,
            "flex_flow": null,
            "grid_area": null,
            "grid_auto_columns": null,
            "grid_auto_flow": null,
            "grid_auto_rows": null,
            "grid_column": null,
            "grid_gap": null,
            "grid_row": null,
            "grid_template_areas": null,
            "grid_template_columns": null,
            "grid_template_rows": null,
            "height": null,
            "justify_content": null,
            "justify_items": null,
            "left": null,
            "margin": null,
            "max_height": null,
            "max_width": null,
            "min_height": null,
            "min_width": null,
            "object_fit": null,
            "object_position": null,
            "order": null,
            "overflow": null,
            "overflow_x": null,
            "overflow_y": null,
            "padding": null,
            "right": null,
            "top": null,
            "visibility": null,
            "width": null
          }
        },
        "41822e446494494d8b81d46651a5cbef": {
          "model_module": "@jupyter-widgets/base",
          "model_module_version": "1.2.0",
          "model_name": "LayoutModel",
          "state": {
            "_model_module": "@jupyter-widgets/base",
            "_model_module_version": "1.2.0",
            "_model_name": "LayoutModel",
            "_view_count": null,
            "_view_module": "@jupyter-widgets/base",
            "_view_module_version": "1.2.0",
            "_view_name": "LayoutView",
            "align_content": null,
            "align_items": null,
            "align_self": null,
            "border": null,
            "bottom": null,
            "display": null,
            "flex": null,
            "flex_flow": null,
            "grid_area": null,
            "grid_auto_columns": null,
            "grid_auto_flow": null,
            "grid_auto_rows": null,
            "grid_column": null,
            "grid_gap": null,
            "grid_row": null,
            "grid_template_areas": null,
            "grid_template_columns": null,
            "grid_template_rows": null,
            "height": null,
            "justify_content": null,
            "justify_items": null,
            "left": null,
            "margin": null,
            "max_height": null,
            "max_width": null,
            "min_height": null,
            "min_width": null,
            "object_fit": null,
            "object_position": null,
            "order": null,
            "overflow": null,
            "overflow_x": null,
            "overflow_y": null,
            "padding": null,
            "right": null,
            "top": null,
            "visibility": null,
            "width": null
          }
        },
        "448e4f67258e49bba2152e0c1a7a59fb": {
          "model_module": "@jupyter-widgets/base",
          "model_module_version": "1.2.0",
          "model_name": "LayoutModel",
          "state": {
            "_model_module": "@jupyter-widgets/base",
            "_model_module_version": "1.2.0",
            "_model_name": "LayoutModel",
            "_view_count": null,
            "_view_module": "@jupyter-widgets/base",
            "_view_module_version": "1.2.0",
            "_view_name": "LayoutView",
            "align_content": null,
            "align_items": null,
            "align_self": null,
            "border": null,
            "bottom": null,
            "display": null,
            "flex": null,
            "flex_flow": null,
            "grid_area": null,
            "grid_auto_columns": null,
            "grid_auto_flow": null,
            "grid_auto_rows": null,
            "grid_column": null,
            "grid_gap": null,
            "grid_row": null,
            "grid_template_areas": null,
            "grid_template_columns": null,
            "grid_template_rows": null,
            "height": null,
            "justify_content": null,
            "justify_items": null,
            "left": null,
            "margin": null,
            "max_height": null,
            "max_width": null,
            "min_height": null,
            "min_width": null,
            "object_fit": null,
            "object_position": null,
            "order": null,
            "overflow": null,
            "overflow_x": null,
            "overflow_y": null,
            "padding": null,
            "right": null,
            "top": null,
            "visibility": null,
            "width": null
          }
        },
        "48904dc616624013a4b59311b700b7c1": {
          "model_module": "@jupyter-widgets/base",
          "model_module_version": "1.2.0",
          "model_name": "LayoutModel",
          "state": {
            "_model_module": "@jupyter-widgets/base",
            "_model_module_version": "1.2.0",
            "_model_name": "LayoutModel",
            "_view_count": null,
            "_view_module": "@jupyter-widgets/base",
            "_view_module_version": "1.2.0",
            "_view_name": "LayoutView",
            "align_content": null,
            "align_items": null,
            "align_self": null,
            "border": null,
            "bottom": null,
            "display": null,
            "flex": null,
            "flex_flow": null,
            "grid_area": null,
            "grid_auto_columns": null,
            "grid_auto_flow": null,
            "grid_auto_rows": null,
            "grid_column": null,
            "grid_gap": null,
            "grid_row": null,
            "grid_template_areas": null,
            "grid_template_columns": null,
            "grid_template_rows": null,
            "height": null,
            "justify_content": null,
            "justify_items": null,
            "left": null,
            "margin": null,
            "max_height": null,
            "max_width": null,
            "min_height": null,
            "min_width": null,
            "object_fit": null,
            "object_position": null,
            "order": null,
            "overflow": null,
            "overflow_x": null,
            "overflow_y": null,
            "padding": null,
            "right": null,
            "top": null,
            "visibility": null,
            "width": null
          }
        },
        "496c31e6dac1472daa4b0ec2aa629dc5": {
          "model_module": "@jupyter-widgets/base",
          "model_module_version": "1.2.0",
          "model_name": "LayoutModel",
          "state": {
            "_model_module": "@jupyter-widgets/base",
            "_model_module_version": "1.2.0",
            "_model_name": "LayoutModel",
            "_view_count": null,
            "_view_module": "@jupyter-widgets/base",
            "_view_module_version": "1.2.0",
            "_view_name": "LayoutView",
            "align_content": null,
            "align_items": null,
            "align_self": null,
            "border": null,
            "bottom": null,
            "display": null,
            "flex": null,
            "flex_flow": null,
            "grid_area": null,
            "grid_auto_columns": null,
            "grid_auto_flow": null,
            "grid_auto_rows": null,
            "grid_column": null,
            "grid_gap": null,
            "grid_row": null,
            "grid_template_areas": null,
            "grid_template_columns": null,
            "grid_template_rows": null,
            "height": null,
            "justify_content": null,
            "justify_items": null,
            "left": null,
            "margin": null,
            "max_height": null,
            "max_width": null,
            "min_height": null,
            "min_width": null,
            "object_fit": null,
            "object_position": null,
            "order": null,
            "overflow": null,
            "overflow_x": null,
            "overflow_y": null,
            "padding": null,
            "right": null,
            "top": null,
            "visibility": null,
            "width": null
          }
        },
        "4eedcfb50a4443069ba18de64c5bb023": {
          "model_module": "@jupyter-widgets/base",
          "model_module_version": "1.2.0",
          "model_name": "LayoutModel",
          "state": {
            "_model_module": "@jupyter-widgets/base",
            "_model_module_version": "1.2.0",
            "_model_name": "LayoutModel",
            "_view_count": null,
            "_view_module": "@jupyter-widgets/base",
            "_view_module_version": "1.2.0",
            "_view_name": "LayoutView",
            "align_content": null,
            "align_items": null,
            "align_self": null,
            "border": null,
            "bottom": null,
            "display": null,
            "flex": null,
            "flex_flow": null,
            "grid_area": null,
            "grid_auto_columns": null,
            "grid_auto_flow": null,
            "grid_auto_rows": null,
            "grid_column": null,
            "grid_gap": null,
            "grid_row": null,
            "grid_template_areas": null,
            "grid_template_columns": null,
            "grid_template_rows": null,
            "height": null,
            "justify_content": null,
            "justify_items": null,
            "left": null,
            "margin": null,
            "max_height": null,
            "max_width": null,
            "min_height": null,
            "min_width": null,
            "object_fit": null,
            "object_position": null,
            "order": null,
            "overflow": null,
            "overflow_x": null,
            "overflow_y": null,
            "padding": null,
            "right": null,
            "top": null,
            "visibility": null,
            "width": null
          }
        },
        "4f112a6dacef486f908d7f1abbcc8b81": {
          "model_module": "@jupyter-widgets/base",
          "model_module_version": "1.2.0",
          "model_name": "LayoutModel",
          "state": {
            "_model_module": "@jupyter-widgets/base",
            "_model_module_version": "1.2.0",
            "_model_name": "LayoutModel",
            "_view_count": null,
            "_view_module": "@jupyter-widgets/base",
            "_view_module_version": "1.2.0",
            "_view_name": "LayoutView",
            "align_content": null,
            "align_items": null,
            "align_self": null,
            "border": null,
            "bottom": null,
            "display": null,
            "flex": null,
            "flex_flow": null,
            "grid_area": null,
            "grid_auto_columns": null,
            "grid_auto_flow": null,
            "grid_auto_rows": null,
            "grid_column": null,
            "grid_gap": null,
            "grid_row": null,
            "grid_template_areas": null,
            "grid_template_columns": null,
            "grid_template_rows": null,
            "height": null,
            "justify_content": null,
            "justify_items": null,
            "left": null,
            "margin": null,
            "max_height": null,
            "max_width": null,
            "min_height": null,
            "min_width": null,
            "object_fit": null,
            "object_position": null,
            "order": null,
            "overflow": null,
            "overflow_x": null,
            "overflow_y": null,
            "padding": null,
            "right": null,
            "top": null,
            "visibility": null,
            "width": null
          }
        },
        "4f4ca206f9654a46b0abaf6bfe7409b5": {
          "model_module": "@jupyter-widgets/controls",
          "model_module_version": "1.5.0",
          "model_name": "ProgressStyleModel",
          "state": {
            "_model_module": "@jupyter-widgets/controls",
            "_model_module_version": "1.5.0",
            "_model_name": "ProgressStyleModel",
            "_view_count": null,
            "_view_module": "@jupyter-widgets/base",
            "_view_module_version": "1.2.0",
            "_view_name": "StyleView",
            "bar_color": null,
            "description_width": ""
          }
        },
        "5007a148c1144688991fafb554610820": {
          "model_module": "@jupyter-widgets/base",
          "model_module_version": "1.2.0",
          "model_name": "LayoutModel",
          "state": {
            "_model_module": "@jupyter-widgets/base",
            "_model_module_version": "1.2.0",
            "_model_name": "LayoutModel",
            "_view_count": null,
            "_view_module": "@jupyter-widgets/base",
            "_view_module_version": "1.2.0",
            "_view_name": "LayoutView",
            "align_content": null,
            "align_items": null,
            "align_self": null,
            "border": null,
            "bottom": null,
            "display": null,
            "flex": null,
            "flex_flow": null,
            "grid_area": null,
            "grid_auto_columns": null,
            "grid_auto_flow": null,
            "grid_auto_rows": null,
            "grid_column": null,
            "grid_gap": null,
            "grid_row": null,
            "grid_template_areas": null,
            "grid_template_columns": null,
            "grid_template_rows": null,
            "height": null,
            "justify_content": null,
            "justify_items": null,
            "left": null,
            "margin": null,
            "max_height": null,
            "max_width": null,
            "min_height": null,
            "min_width": null,
            "object_fit": null,
            "object_position": null,
            "order": null,
            "overflow": null,
            "overflow_x": null,
            "overflow_y": null,
            "padding": null,
            "right": null,
            "top": null,
            "visibility": null,
            "width": null
          }
        },
        "51fd0ba884384b4887474088876cf7fa": {
          "model_module": "@jupyter-widgets/controls",
          "model_module_version": "1.5.0",
          "model_name": "DescriptionStyleModel",
          "state": {
            "_model_module": "@jupyter-widgets/controls",
            "_model_module_version": "1.5.0",
            "_model_name": "DescriptionStyleModel",
            "_view_count": null,
            "_view_module": "@jupyter-widgets/base",
            "_view_module_version": "1.2.0",
            "_view_name": "StyleView",
            "description_width": ""
          }
        },
        "53319e4d26ed40d4b34e1e5dba7e8abe": {
          "model_module": "@jupyter-widgets/controls",
          "model_module_version": "1.5.0",
          "model_name": "HBoxModel",
          "state": {
            "_dom_classes": [],
            "_model_module": "@jupyter-widgets/controls",
            "_model_module_version": "1.5.0",
            "_model_name": "HBoxModel",
            "_view_count": null,
            "_view_module": "@jupyter-widgets/controls",
            "_view_module_version": "1.5.0",
            "_view_name": "HBoxView",
            "box_style": "",
            "children": [
              "IPY_MODEL_653840011ad44177afa4f04cea767259",
              "IPY_MODEL_c68ac525f3fb4396bd90fdcc501711d9",
              "IPY_MODEL_166d7ab4fe0443e492169bcc9d531a5b"
            ],
            "layout": "IPY_MODEL_5a30ae76a7544001ae9c7363192cbdf8"
          }
        },
        "53cac6c6b67c41a0ab066594126564da": {
          "model_module": "@jupyter-widgets/controls",
          "model_module_version": "1.5.0",
          "model_name": "DescriptionStyleModel",
          "state": {
            "_model_module": "@jupyter-widgets/controls",
            "_model_module_version": "1.5.0",
            "_model_name": "DescriptionStyleModel",
            "_view_count": null,
            "_view_module": "@jupyter-widgets/base",
            "_view_module_version": "1.2.0",
            "_view_name": "StyleView",
            "description_width": ""
          }
        },
        "557db2a95b2249a3abb792cb5ab967be": {
          "model_module": "@jupyter-widgets/controls",
          "model_module_version": "1.5.0",
          "model_name": "HTMLModel",
          "state": {
            "_dom_classes": [],
            "_model_module": "@jupyter-widgets/controls",
            "_model_module_version": "1.5.0",
            "_model_name": "HTMLModel",
            "_view_count": null,
            "_view_module": "@jupyter-widgets/controls",
            "_view_module_version": "1.5.0",
            "_view_name": "HTMLView",
            "description": "",
            "description_tooltip": null,
            "layout": "IPY_MODEL_48904dc616624013a4b59311b700b7c1",
            "placeholder": "​",
            "style": "IPY_MODEL_9646664baa1140a5ad9c998fc9669a7e",
            "value": " 440M/440M [00:12&lt;00:00, 39.1MB/s]"
          }
        },
        "57dd17b2ce38459095fead4b6c419a24": {
          "model_module": "@jupyter-widgets/controls",
          "model_module_version": "1.5.0",
          "model_name": "FloatProgressModel",
          "state": {
            "_dom_classes": [],
            "_model_module": "@jupyter-widgets/controls",
            "_model_module_version": "1.5.0",
            "_model_name": "FloatProgressModel",
            "_view_count": null,
            "_view_module": "@jupyter-widgets/controls",
            "_view_module_version": "1.5.0",
            "_view_name": "ProgressView",
            "bar_style": "success",
            "description": "",
            "description_tooltip": null,
            "layout": "IPY_MODEL_cf2208788f604b2b9aef96d9e0625891",
            "max": 558573788,
            "min": 0,
            "orientation": "horizontal",
            "style": "IPY_MODEL_d87798382117475e9d3e845004431589",
            "value": 558573788
          }
        },
        "58c81daa5a2549aab057ac2d1695d619": {
          "model_module": "@jupyter-widgets/controls",
          "model_module_version": "1.5.0",
          "model_name": "DescriptionStyleModel",
          "state": {
            "_model_module": "@jupyter-widgets/controls",
            "_model_module_version": "1.5.0",
            "_model_name": "DescriptionStyleModel",
            "_view_count": null,
            "_view_module": "@jupyter-widgets/base",
            "_view_module_version": "1.2.0",
            "_view_name": "StyleView",
            "description_width": ""
          }
        },
        "590634e981ed4701a72a6704fa735d3e": {
          "model_module": "@jupyter-widgets/controls",
          "model_module_version": "1.5.0",
          "model_name": "HTMLModel",
          "state": {
            "_dom_classes": [],
            "_model_module": "@jupyter-widgets/controls",
            "_model_module_version": "1.5.0",
            "_model_name": "HTMLModel",
            "_view_count": null,
            "_view_module": "@jupyter-widgets/controls",
            "_view_module_version": "1.5.0",
            "_view_name": "HTMLView",
            "description": "",
            "description_tooltip": null,
            "layout": "IPY_MODEL_245f4633225d44048f554783525627c8",
            "placeholder": "​",
            "style": "IPY_MODEL_5f3c4d6842ec47d88f38fddce4f8bf41",
            "value": "vocab.json: "
          }
        },
        "5a047640f5164ff0b7323dd5ca41f159": {
          "model_module": "@jupyter-widgets/base",
          "model_module_version": "1.2.0",
          "model_name": "LayoutModel",
          "state": {
            "_model_module": "@jupyter-widgets/base",
            "_model_module_version": "1.2.0",
            "_model_name": "LayoutModel",
            "_view_count": null,
            "_view_module": "@jupyter-widgets/base",
            "_view_module_version": "1.2.0",
            "_view_name": "LayoutView",
            "align_content": null,
            "align_items": null,
            "align_self": null,
            "border": null,
            "bottom": null,
            "display": null,
            "flex": null,
            "flex_flow": null,
            "grid_area": null,
            "grid_auto_columns": null,
            "grid_auto_flow": null,
            "grid_auto_rows": null,
            "grid_column": null,
            "grid_gap": null,
            "grid_row": null,
            "grid_template_areas": null,
            "grid_template_columns": null,
            "grid_template_rows": null,
            "height": null,
            "justify_content": null,
            "justify_items": null,
            "left": null,
            "margin": null,
            "max_height": null,
            "max_width": null,
            "min_height": null,
            "min_width": null,
            "object_fit": null,
            "object_position": null,
            "order": null,
            "overflow": null,
            "overflow_x": null,
            "overflow_y": null,
            "padding": null,
            "right": null,
            "top": null,
            "visibility": null,
            "width": null
          }
        },
        "5a30ae76a7544001ae9c7363192cbdf8": {
          "model_module": "@jupyter-widgets/base",
          "model_module_version": "1.2.0",
          "model_name": "LayoutModel",
          "state": {
            "_model_module": "@jupyter-widgets/base",
            "_model_module_version": "1.2.0",
            "_model_name": "LayoutModel",
            "_view_count": null,
            "_view_module": "@jupyter-widgets/base",
            "_view_module_version": "1.2.0",
            "_view_name": "LayoutView",
            "align_content": null,
            "align_items": null,
            "align_self": null,
            "border": null,
            "bottom": null,
            "display": null,
            "flex": null,
            "flex_flow": null,
            "grid_area": null,
            "grid_auto_columns": null,
            "grid_auto_flow": null,
            "grid_auto_rows": null,
            "grid_column": null,
            "grid_gap": null,
            "grid_row": null,
            "grid_template_areas": null,
            "grid_template_columns": null,
            "grid_template_rows": null,
            "height": null,
            "justify_content": null,
            "justify_items": null,
            "left": null,
            "margin": null,
            "max_height": null,
            "max_width": null,
            "min_height": null,
            "min_width": null,
            "object_fit": null,
            "object_position": null,
            "order": null,
            "overflow": null,
            "overflow_x": null,
            "overflow_y": null,
            "padding": null,
            "right": null,
            "top": null,
            "visibility": null,
            "width": null
          }
        },
        "5a8391d2c1df4fa4a680d072efb96f5b": {
          "model_module": "@jupyter-widgets/base",
          "model_module_version": "1.2.0",
          "model_name": "LayoutModel",
          "state": {
            "_model_module": "@jupyter-widgets/base",
            "_model_module_version": "1.2.0",
            "_model_name": "LayoutModel",
            "_view_count": null,
            "_view_module": "@jupyter-widgets/base",
            "_view_module_version": "1.2.0",
            "_view_name": "LayoutView",
            "align_content": null,
            "align_items": null,
            "align_self": null,
            "border": null,
            "bottom": null,
            "display": null,
            "flex": null,
            "flex_flow": null,
            "grid_area": null,
            "grid_auto_columns": null,
            "grid_auto_flow": null,
            "grid_auto_rows": null,
            "grid_column": null,
            "grid_gap": null,
            "grid_row": null,
            "grid_template_areas": null,
            "grid_template_columns": null,
            "grid_template_rows": null,
            "height": null,
            "justify_content": null,
            "justify_items": null,
            "left": null,
            "margin": null,
            "max_height": null,
            "max_width": null,
            "min_height": null,
            "min_width": null,
            "object_fit": null,
            "object_position": null,
            "order": null,
            "overflow": null,
            "overflow_x": null,
            "overflow_y": null,
            "padding": null,
            "right": null,
            "top": null,
            "visibility": null,
            "width": null
          }
        },
        "5f2090ecb89d4ba793c0caadd766e084": {
          "model_module": "@jupyter-widgets/controls",
          "model_module_version": "1.5.0",
          "model_name": "DescriptionStyleModel",
          "state": {
            "_model_module": "@jupyter-widgets/controls",
            "_model_module_version": "1.5.0",
            "_model_name": "DescriptionStyleModel",
            "_view_count": null,
            "_view_module": "@jupyter-widgets/base",
            "_view_module_version": "1.2.0",
            "_view_name": "StyleView",
            "description_width": ""
          }
        },
        "5f3c4d6842ec47d88f38fddce4f8bf41": {
          "model_module": "@jupyter-widgets/controls",
          "model_module_version": "1.5.0",
          "model_name": "DescriptionStyleModel",
          "state": {
            "_model_module": "@jupyter-widgets/controls",
            "_model_module_version": "1.5.0",
            "_model_name": "DescriptionStyleModel",
            "_view_count": null,
            "_view_module": "@jupyter-widgets/base",
            "_view_module_version": "1.2.0",
            "_view_name": "StyleView",
            "description_width": ""
          }
        },
        "60678304dca146d8b77d7a74329f2f65": {
          "model_module": "@jupyter-widgets/base",
          "model_module_version": "1.2.0",
          "model_name": "LayoutModel",
          "state": {
            "_model_module": "@jupyter-widgets/base",
            "_model_module_version": "1.2.0",
            "_model_name": "LayoutModel",
            "_view_count": null,
            "_view_module": "@jupyter-widgets/base",
            "_view_module_version": "1.2.0",
            "_view_name": "LayoutView",
            "align_content": null,
            "align_items": null,
            "align_self": null,
            "border": null,
            "bottom": null,
            "display": null,
            "flex": null,
            "flex_flow": null,
            "grid_area": null,
            "grid_auto_columns": null,
            "grid_auto_flow": null,
            "grid_auto_rows": null,
            "grid_column": null,
            "grid_gap": null,
            "grid_row": null,
            "grid_template_areas": null,
            "grid_template_columns": null,
            "grid_template_rows": null,
            "height": null,
            "justify_content": null,
            "justify_items": null,
            "left": null,
            "margin": null,
            "max_height": null,
            "max_width": null,
            "min_height": null,
            "min_width": null,
            "object_fit": null,
            "object_position": null,
            "order": null,
            "overflow": null,
            "overflow_x": null,
            "overflow_y": null,
            "padding": null,
            "right": null,
            "top": null,
            "visibility": null,
            "width": null
          }
        },
        "61497f93c92b4386887fb132940fab8c": {
          "model_module": "@jupyter-widgets/controls",
          "model_module_version": "1.5.0",
          "model_name": "HBoxModel",
          "state": {
            "_dom_classes": [],
            "_model_module": "@jupyter-widgets/controls",
            "_model_module_version": "1.5.0",
            "_model_name": "HBoxModel",
            "_view_count": null,
            "_view_module": "@jupyter-widgets/controls",
            "_view_module_version": "1.5.0",
            "_view_name": "HBoxView",
            "box_style": "",
            "children": [
              "IPY_MODEL_0e0cdf131268430e83bac3f8a486acb0",
              "IPY_MODEL_14accac53f284e69bc5b02361cce11c1",
              "IPY_MODEL_d311dd24826646fcbe95900652215866"
            ],
            "layout": "IPY_MODEL_ee016dfedcdf411aaa4b52990922eba6"
          }
        },
        "6331849a60b74073afa2fba38105728b": {
          "model_module": "@jupyter-widgets/controls",
          "model_module_version": "1.5.0",
          "model_name": "HBoxModel",
          "state": {
            "_dom_classes": [],
            "_model_module": "@jupyter-widgets/controls",
            "_model_module_version": "1.5.0",
            "_model_name": "HBoxModel",
            "_view_count": null,
            "_view_module": "@jupyter-widgets/controls",
            "_view_module_version": "1.5.0",
            "_view_name": "HBoxView",
            "box_style": "",
            "children": [
              "IPY_MODEL_16ece40ff8c04c72ae0c41d4e67ff3be",
              "IPY_MODEL_c33f973ad1c04f919b5180492a68a802",
              "IPY_MODEL_12ff6e6542e349288a954ddf4fe0c610"
            ],
            "layout": "IPY_MODEL_b4c64e05a05040eb8883902fb1578b03"
          }
        },
        "653840011ad44177afa4f04cea767259": {
          "model_module": "@jupyter-widgets/controls",
          "model_module_version": "1.5.0",
          "model_name": "HTMLModel",
          "state": {
            "_dom_classes": [],
            "_model_module": "@jupyter-widgets/controls",
            "_model_module_version": "1.5.0",
            "_model_name": "HTMLModel",
            "_view_count": null,
            "_view_module": "@jupyter-widgets/controls",
            "_view_module_version": "1.5.0",
            "_view_name": "HTMLView",
            "description": "",
            "description_tooltip": null,
            "layout": "IPY_MODEL_781940dc3f604363805560f446dee921",
            "placeholder": "​",
            "style": "IPY_MODEL_c6b4ed2f4db74350882c09f9a0e09938",
            "value": "tokenizer.json: 100%"
          }
        },
        "66b88e430d124248aa4117f4513d193d": {
          "model_module": "@jupyter-widgets/controls",
          "model_module_version": "1.5.0",
          "model_name": "ProgressStyleModel",
          "state": {
            "_model_module": "@jupyter-widgets/controls",
            "_model_module_version": "1.5.0",
            "_model_name": "ProgressStyleModel",
            "_view_count": null,
            "_view_module": "@jupyter-widgets/base",
            "_view_module_version": "1.2.0",
            "_view_name": "StyleView",
            "bar_color": null,
            "description_width": ""
          }
        },
        "699c207aa3ef42a9893286fe766c11a8": {
          "model_module": "@jupyter-widgets/controls",
          "model_module_version": "1.5.0",
          "model_name": "HTMLModel",
          "state": {
            "_dom_classes": [],
            "_model_module": "@jupyter-widgets/controls",
            "_model_module_version": "1.5.0",
            "_model_name": "HTMLModel",
            "_view_count": null,
            "_view_module": "@jupyter-widgets/controls",
            "_view_module_version": "1.5.0",
            "_view_name": "HTMLView",
            "description": "",
            "description_tooltip": null,
            "layout": "IPY_MODEL_2bab484ca96d4d8ba7b19f7ea2d5fc4c",
            "placeholder": "​",
            "style": "IPY_MODEL_9e416aa4240148be9ecccee3df039197",
            "value": "model.safetensors: 100%"
          }
        },
        "6a71fa1538fd4321b39d78befcb01bd7": {
          "model_module": "@jupyter-widgets/base",
          "model_module_version": "1.2.0",
          "model_name": "LayoutModel",
          "state": {
            "_model_module": "@jupyter-widgets/base",
            "_model_module_version": "1.2.0",
            "_model_name": "LayoutModel",
            "_view_count": null,
            "_view_module": "@jupyter-widgets/base",
            "_view_module_version": "1.2.0",
            "_view_name": "LayoutView",
            "align_content": null,
            "align_items": null,
            "align_self": null,
            "border": null,
            "bottom": null,
            "display": null,
            "flex": null,
            "flex_flow": null,
            "grid_area": null,
            "grid_auto_columns": null,
            "grid_auto_flow": null,
            "grid_auto_rows": null,
            "grid_column": null,
            "grid_gap": null,
            "grid_row": null,
            "grid_template_areas": null,
            "grid_template_columns": null,
            "grid_template_rows": null,
            "height": null,
            "justify_content": null,
            "justify_items": null,
            "left": null,
            "margin": null,
            "max_height": null,
            "max_width": null,
            "min_height": null,
            "min_width": null,
            "object_fit": null,
            "object_position": null,
            "order": null,
            "overflow": null,
            "overflow_x": null,
            "overflow_y": null,
            "padding": null,
            "right": null,
            "top": null,
            "visibility": null,
            "width": null
          }
        },
        "6ed5e3c8df724825b9164a2907fe70c4": {
          "model_module": "@jupyter-widgets/controls",
          "model_module_version": "1.5.0",
          "model_name": "ProgressStyleModel",
          "state": {
            "_model_module": "@jupyter-widgets/controls",
            "_model_module_version": "1.5.0",
            "_model_name": "ProgressStyleModel",
            "_view_count": null,
            "_view_module": "@jupyter-widgets/base",
            "_view_module_version": "1.2.0",
            "_view_name": "StyleView",
            "bar_color": null,
            "description_width": ""
          }
        },
        "72f81fcd75cf415198021a99a1c1cd94": {
          "model_module": "@jupyter-widgets/controls",
          "model_module_version": "1.5.0",
          "model_name": "HTMLModel",
          "state": {
            "_dom_classes": [],
            "_model_module": "@jupyter-widgets/controls",
            "_model_module_version": "1.5.0",
            "_model_name": "HTMLModel",
            "_view_count": null,
            "_view_module": "@jupyter-widgets/controls",
            "_view_module_version": "1.5.0",
            "_view_name": "HTMLView",
            "description": "",
            "description_tooltip": null,
            "layout": "IPY_MODEL_7a6f5c9f5d88482fb63e85ace184972b",
            "placeholder": "​",
            "style": "IPY_MODEL_09adacd427634f17bd23c093023108fc",
            "value": "config.json: 100%"
          }
        },
        "781940dc3f604363805560f446dee921": {
          "model_module": "@jupyter-widgets/base",
          "model_module_version": "1.2.0",
          "model_name": "LayoutModel",
          "state": {
            "_model_module": "@jupyter-widgets/base",
            "_model_module_version": "1.2.0",
            "_model_name": "LayoutModel",
            "_view_count": null,
            "_view_module": "@jupyter-widgets/base",
            "_view_module_version": "1.2.0",
            "_view_name": "LayoutView",
            "align_content": null,
            "align_items": null,
            "align_self": null,
            "border": null,
            "bottom": null,
            "display": null,
            "flex": null,
            "flex_flow": null,
            "grid_area": null,
            "grid_auto_columns": null,
            "grid_auto_flow": null,
            "grid_auto_rows": null,
            "grid_column": null,
            "grid_gap": null,
            "grid_row": null,
            "grid_template_areas": null,
            "grid_template_columns": null,
            "grid_template_rows": null,
            "height": null,
            "justify_content": null,
            "justify_items": null,
            "left": null,
            "margin": null,
            "max_height": null,
            "max_width": null,
            "min_height": null,
            "min_width": null,
            "object_fit": null,
            "object_position": null,
            "order": null,
            "overflow": null,
            "overflow_x": null,
            "overflow_y": null,
            "padding": null,
            "right": null,
            "top": null,
            "visibility": null,
            "width": null
          }
        },
        "7a6f5c9f5d88482fb63e85ace184972b": {
          "model_module": "@jupyter-widgets/base",
          "model_module_version": "1.2.0",
          "model_name": "LayoutModel",
          "state": {
            "_model_module": "@jupyter-widgets/base",
            "_model_module_version": "1.2.0",
            "_model_name": "LayoutModel",
            "_view_count": null,
            "_view_module": "@jupyter-widgets/base",
            "_view_module_version": "1.2.0",
            "_view_name": "LayoutView",
            "align_content": null,
            "align_items": null,
            "align_self": null,
            "border": null,
            "bottom": null,
            "display": null,
            "flex": null,
            "flex_flow": null,
            "grid_area": null,
            "grid_auto_columns": null,
            "grid_auto_flow": null,
            "grid_auto_rows": null,
            "grid_column": null,
            "grid_gap": null,
            "grid_row": null,
            "grid_template_areas": null,
            "grid_template_columns": null,
            "grid_template_rows": null,
            "height": null,
            "justify_content": null,
            "justify_items": null,
            "left": null,
            "margin": null,
            "max_height": null,
            "max_width": null,
            "min_height": null,
            "min_width": null,
            "object_fit": null,
            "object_position": null,
            "order": null,
            "overflow": null,
            "overflow_x": null,
            "overflow_y": null,
            "padding": null,
            "right": null,
            "top": null,
            "visibility": null,
            "width": null
          }
        },
        "7aed6c93896e448dab798a446463e506": {
          "model_module": "@jupyter-widgets/base",
          "model_module_version": "1.2.0",
          "model_name": "LayoutModel",
          "state": {
            "_model_module": "@jupyter-widgets/base",
            "_model_module_version": "1.2.0",
            "_model_name": "LayoutModel",
            "_view_count": null,
            "_view_module": "@jupyter-widgets/base",
            "_view_module_version": "1.2.0",
            "_view_name": "LayoutView",
            "align_content": null,
            "align_items": null,
            "align_self": null,
            "border": null,
            "bottom": null,
            "display": null,
            "flex": null,
            "flex_flow": null,
            "grid_area": null,
            "grid_auto_columns": null,
            "grid_auto_flow": null,
            "grid_auto_rows": null,
            "grid_column": null,
            "grid_gap": null,
            "grid_row": null,
            "grid_template_areas": null,
            "grid_template_columns": null,
            "grid_template_rows": null,
            "height": null,
            "justify_content": null,
            "justify_items": null,
            "left": null,
            "margin": null,
            "max_height": null,
            "max_width": null,
            "min_height": null,
            "min_width": null,
            "object_fit": null,
            "object_position": null,
            "order": null,
            "overflow": null,
            "overflow_x": null,
            "overflow_y": null,
            "padding": null,
            "right": null,
            "top": null,
            "visibility": null,
            "width": null
          }
        },
        "7df800fe35c444a098810169e2b349e8": {
          "model_module": "@jupyter-widgets/controls",
          "model_module_version": "1.5.0",
          "model_name": "HBoxModel",
          "state": {
            "_dom_classes": [],
            "_model_module": "@jupyter-widgets/controls",
            "_model_module_version": "1.5.0",
            "_model_name": "HBoxModel",
            "_view_count": null,
            "_view_module": "@jupyter-widgets/controls",
            "_view_module_version": "1.5.0",
            "_view_name": "HBoxView",
            "box_style": "",
            "children": [
              "IPY_MODEL_80381b13d9004802af07f7e8b496b9bb",
              "IPY_MODEL_d6fff1002bd041b39a287764f47026cf",
              "IPY_MODEL_ca2cdeda822847e8bf9521fbe1b411dd"
            ],
            "layout": "IPY_MODEL_4f112a6dacef486f908d7f1abbcc8b81"
          }
        },
        "7e8c94f7c892473ea26fcce19497225a": {
          "model_module": "@jupyter-widgets/controls",
          "model_module_version": "1.5.0",
          "model_name": "ProgressStyleModel",
          "state": {
            "_model_module": "@jupyter-widgets/controls",
            "_model_module_version": "1.5.0",
            "_model_name": "ProgressStyleModel",
            "_view_count": null,
            "_view_module": "@jupyter-widgets/base",
            "_view_module_version": "1.2.0",
            "_view_name": "StyleView",
            "bar_color": null,
            "description_width": ""
          }
        },
        "7f437a5d5c3e47568d7994f057a15609": {
          "model_module": "@jupyter-widgets/controls",
          "model_module_version": "1.5.0",
          "model_name": "FloatProgressModel",
          "state": {
            "_dom_classes": [],
            "_model_module": "@jupyter-widgets/controls",
            "_model_module_version": "1.5.0",
            "_model_name": "FloatProgressModel",
            "_view_count": null,
            "_view_module": "@jupyter-widgets/controls",
            "_view_module_version": "1.5.0",
            "_view_name": "ProgressView",
            "bar_style": "success",
            "description": "",
            "description_tooltip": null,
            "layout": "IPY_MODEL_84ad87955c924d17b46167389eb5010d",
            "max": 440449768,
            "min": 0,
            "orientation": "horizontal",
            "style": "IPY_MODEL_0bbda6e948614a42b60eb93f563be1dc",
            "value": 440449768
          }
        },
        "802dc564c1fd4bffbbf6c2cb6583a1f0": {
          "model_module": "@jupyter-widgets/controls",
          "model_module_version": "1.5.0",
          "model_name": "HTMLModel",
          "state": {
            "_dom_classes": [],
            "_model_module": "@jupyter-widgets/controls",
            "_model_module_version": "1.5.0",
            "_model_name": "HTMLModel",
            "_view_count": null,
            "_view_module": "@jupyter-widgets/controls",
            "_view_module_version": "1.5.0",
            "_view_name": "HTMLView",
            "description": "",
            "description_tooltip": null,
            "layout": "IPY_MODEL_60678304dca146d8b77d7a74329f2f65",
            "placeholder": "​",
            "style": "IPY_MODEL_3f3bf03a7fbe446ebf128069f5ee3ebf",
            "value": "merges.txt: "
          }
        },
        "80381b13d9004802af07f7e8b496b9bb": {
          "model_module": "@jupyter-widgets/controls",
          "model_module_version": "1.5.0",
          "model_name": "HTMLModel",
          "state": {
            "_dom_classes": [],
            "_model_module": "@jupyter-widgets/controls",
            "_model_module_version": "1.5.0",
            "_model_name": "HTMLModel",
            "_view_count": null,
            "_view_module": "@jupyter-widgets/controls",
            "_view_module_version": "1.5.0",
            "_view_name": "HTMLView",
            "description": "",
            "description_tooltip": null,
            "layout": "IPY_MODEL_5a047640f5164ff0b7323dd5ca41f159",
            "placeholder": "​",
            "style": "IPY_MODEL_5f2090ecb89d4ba793c0caadd766e084",
            "value": "pytorch_model.bin: 100%"
          }
        },
        "81a77b32d354433ebf4ac9662a00cf9a": {
          "model_module": "@jupyter-widgets/controls",
          "model_module_version": "1.5.0",
          "model_name": "DescriptionStyleModel",
          "state": {
            "_model_module": "@jupyter-widgets/controls",
            "_model_module_version": "1.5.0",
            "_model_name": "DescriptionStyleModel",
            "_view_count": null,
            "_view_module": "@jupyter-widgets/base",
            "_view_module_version": "1.2.0",
            "_view_name": "StyleView",
            "description_width": ""
          }
        },
        "84ad87955c924d17b46167389eb5010d": {
          "model_module": "@jupyter-widgets/base",
          "model_module_version": "1.2.0",
          "model_name": "LayoutModel",
          "state": {
            "_model_module": "@jupyter-widgets/base",
            "_model_module_version": "1.2.0",
            "_model_name": "LayoutModel",
            "_view_count": null,
            "_view_module": "@jupyter-widgets/base",
            "_view_module_version": "1.2.0",
            "_view_name": "LayoutView",
            "align_content": null,
            "align_items": null,
            "align_self": null,
            "border": null,
            "bottom": null,
            "display": null,
            "flex": null,
            "flex_flow": null,
            "grid_area": null,
            "grid_auto_columns": null,
            "grid_auto_flow": null,
            "grid_auto_rows": null,
            "grid_column": null,
            "grid_gap": null,
            "grid_row": null,
            "grid_template_areas": null,
            "grid_template_columns": null,
            "grid_template_rows": null,
            "height": null,
            "justify_content": null,
            "justify_items": null,
            "left": null,
            "margin": null,
            "max_height": null,
            "max_width": null,
            "min_height": null,
            "min_width": null,
            "object_fit": null,
            "object_position": null,
            "order": null,
            "overflow": null,
            "overflow_x": null,
            "overflow_y": null,
            "padding": null,
            "right": null,
            "top": null,
            "visibility": null,
            "width": null
          }
        },
        "86f2d2d816b64fba926d627f6684882d": {
          "model_module": "@jupyter-widgets/controls",
          "model_module_version": "1.5.0",
          "model_name": "DescriptionStyleModel",
          "state": {
            "_model_module": "@jupyter-widgets/controls",
            "_model_module_version": "1.5.0",
            "_model_name": "DescriptionStyleModel",
            "_view_count": null,
            "_view_module": "@jupyter-widgets/base",
            "_view_module_version": "1.2.0",
            "_view_name": "StyleView",
            "description_width": ""
          }
        },
        "90c92607f24348629d5153d0428c8b77": {
          "model_module": "@jupyter-widgets/controls",
          "model_module_version": "1.5.0",
          "model_name": "HBoxModel",
          "state": {
            "_dom_classes": [],
            "_model_module": "@jupyter-widgets/controls",
            "_model_module_version": "1.5.0",
            "_model_name": "HBoxModel",
            "_view_count": null,
            "_view_module": "@jupyter-widgets/controls",
            "_view_module_version": "1.5.0",
            "_view_name": "HBoxView",
            "box_style": "",
            "children": [
              "IPY_MODEL_19379eca15be4517bcd34adbd29482cc",
              "IPY_MODEL_fe69e914d7404e018cf45880d84b6c16",
              "IPY_MODEL_c427a2e26cc64504954aabd1992cdd3f"
            ],
            "layout": "IPY_MODEL_5007a148c1144688991fafb554610820"
          }
        },
        "95fe2ecaec8d47e7973b3ca49bf75abd": {
          "model_module": "@jupyter-widgets/controls",
          "model_module_version": "1.5.0",
          "model_name": "HBoxModel",
          "state": {
            "_dom_classes": [],
            "_model_module": "@jupyter-widgets/controls",
            "_model_module_version": "1.5.0",
            "_model_name": "HBoxModel",
            "_view_count": null,
            "_view_module": "@jupyter-widgets/controls",
            "_view_module_version": "1.5.0",
            "_view_name": "HBoxView",
            "box_style": "",
            "children": [
              "IPY_MODEL_699c207aa3ef42a9893286fe766c11a8",
              "IPY_MODEL_57dd17b2ce38459095fead4b6c419a24",
              "IPY_MODEL_b880ef6ae8614a2da4d8944f9a56506f"
            ],
            "layout": "IPY_MODEL_d94b547c52ce4c1287b6431ed7045564"
          }
        },
        "9646664baa1140a5ad9c998fc9669a7e": {
          "model_module": "@jupyter-widgets/controls",
          "model_module_version": "1.5.0",
          "model_name": "DescriptionStyleModel",
          "state": {
            "_model_module": "@jupyter-widgets/controls",
            "_model_module_version": "1.5.0",
            "_model_name": "DescriptionStyleModel",
            "_view_count": null,
            "_view_module": "@jupyter-widgets/base",
            "_view_module_version": "1.2.0",
            "_view_name": "StyleView",
            "description_width": ""
          }
        },
        "98faae82f13c49fead6f5d1eb8994ba7": {
          "model_module": "@jupyter-widgets/controls",
          "model_module_version": "1.5.0",
          "model_name": "HTMLModel",
          "state": {
            "_dom_classes": [],
            "_model_module": "@jupyter-widgets/controls",
            "_model_module_version": "1.5.0",
            "_model_name": "HTMLModel",
            "_view_count": null,
            "_view_module": "@jupyter-widgets/controls",
            "_view_module_version": "1.5.0",
            "_view_name": "HTMLView",
            "description": "",
            "description_tooltip": null,
            "layout": "IPY_MODEL_40bf33271762464aa8de983d3a7555ee",
            "placeholder": "​",
            "style": "IPY_MODEL_db05d6a6b0df43c58569a3a43fe60c6c",
            "value": "model.safetensors: 100%"
          }
        },
        "997a1843eb364dcf9aaf1d8d878fb80f": {
          "model_module": "@jupyter-widgets/base",
          "model_module_version": "1.2.0",
          "model_name": "LayoutModel",
          "state": {
            "_model_module": "@jupyter-widgets/base",
            "_model_module_version": "1.2.0",
            "_model_name": "LayoutModel",
            "_view_count": null,
            "_view_module": "@jupyter-widgets/base",
            "_view_module_version": "1.2.0",
            "_view_name": "LayoutView",
            "align_content": null,
            "align_items": null,
            "align_self": null,
            "border": null,
            "bottom": null,
            "display": null,
            "flex": null,
            "flex_flow": null,
            "grid_area": null,
            "grid_auto_columns": null,
            "grid_auto_flow": null,
            "grid_auto_rows": null,
            "grid_column": null,
            "grid_gap": null,
            "grid_row": null,
            "grid_template_areas": null,
            "grid_template_columns": null,
            "grid_template_rows": null,
            "height": null,
            "justify_content": null,
            "justify_items": null,
            "left": null,
            "margin": null,
            "max_height": null,
            "max_width": null,
            "min_height": null,
            "min_width": null,
            "object_fit": null,
            "object_position": null,
            "order": null,
            "overflow": null,
            "overflow_x": null,
            "overflow_y": null,
            "padding": null,
            "right": null,
            "top": null,
            "visibility": null,
            "width": null
          }
        },
        "9c3a16a32efe49bcbf3d02560559b5c9": {
          "model_module": "@jupyter-widgets/controls",
          "model_module_version": "1.5.0",
          "model_name": "HTMLModel",
          "state": {
            "_dom_classes": [],
            "_model_module": "@jupyter-widgets/controls",
            "_model_module_version": "1.5.0",
            "_model_name": "HTMLModel",
            "_view_count": null,
            "_view_module": "@jupyter-widgets/controls",
            "_view_module_version": "1.5.0",
            "_view_name": "HTMLView",
            "description": "",
            "description_tooltip": null,
            "layout": "IPY_MODEL_5a8391d2c1df4fa4a680d072efb96f5b",
            "placeholder": "​",
            "style": "IPY_MODEL_81a77b32d354433ebf4ac9662a00cf9a",
            "value": " 474/474 [00:00&lt;00:00, 45.1kB/s]"
          }
        },
        "9d1b2e2afcba475faf05151513a59f4e": {
          "model_module": "@jupyter-widgets/base",
          "model_module_version": "1.2.0",
          "model_name": "LayoutModel",
          "state": {
            "_model_module": "@jupyter-widgets/base",
            "_model_module_version": "1.2.0",
            "_model_name": "LayoutModel",
            "_view_count": null,
            "_view_module": "@jupyter-widgets/base",
            "_view_module_version": "1.2.0",
            "_view_name": "LayoutView",
            "align_content": null,
            "align_items": null,
            "align_self": null,
            "border": null,
            "bottom": null,
            "display": null,
            "flex": null,
            "flex_flow": null,
            "grid_area": null,
            "grid_auto_columns": null,
            "grid_auto_flow": null,
            "grid_auto_rows": null,
            "grid_column": null,
            "grid_gap": null,
            "grid_row": null,
            "grid_template_areas": null,
            "grid_template_columns": null,
            "grid_template_rows": null,
            "height": null,
            "justify_content": null,
            "justify_items": null,
            "left": null,
            "margin": null,
            "max_height": null,
            "max_width": null,
            "min_height": null,
            "min_width": null,
            "object_fit": null,
            "object_position": null,
            "order": null,
            "overflow": null,
            "overflow_x": null,
            "overflow_y": null,
            "padding": null,
            "right": null,
            "top": null,
            "visibility": null,
            "width": null
          }
        },
        "9e030b91e21143a291b96b66aedf7705": {
          "model_module": "@jupyter-widgets/base",
          "model_module_version": "1.2.0",
          "model_name": "LayoutModel",
          "state": {
            "_model_module": "@jupyter-widgets/base",
            "_model_module_version": "1.2.0",
            "_model_name": "LayoutModel",
            "_view_count": null,
            "_view_module": "@jupyter-widgets/base",
            "_view_module_version": "1.2.0",
            "_view_name": "LayoutView",
            "align_content": null,
            "align_items": null,
            "align_self": null,
            "border": null,
            "bottom": null,
            "display": null,
            "flex": null,
            "flex_flow": null,
            "grid_area": null,
            "grid_auto_columns": null,
            "grid_auto_flow": null,
            "grid_auto_rows": null,
            "grid_column": null,
            "grid_gap": null,
            "grid_row": null,
            "grid_template_areas": null,
            "grid_template_columns": null,
            "grid_template_rows": null,
            "height": null,
            "justify_content": null,
            "justify_items": null,
            "left": null,
            "margin": null,
            "max_height": null,
            "max_width": null,
            "min_height": null,
            "min_width": null,
            "object_fit": null,
            "object_position": null,
            "order": null,
            "overflow": null,
            "overflow_x": null,
            "overflow_y": null,
            "padding": null,
            "right": null,
            "top": null,
            "visibility": null,
            "width": null
          }
        },
        "9e416aa4240148be9ecccee3df039197": {
          "model_module": "@jupyter-widgets/controls",
          "model_module_version": "1.5.0",
          "model_name": "DescriptionStyleModel",
          "state": {
            "_model_module": "@jupyter-widgets/controls",
            "_model_module_version": "1.5.0",
            "_model_name": "DescriptionStyleModel",
            "_view_count": null,
            "_view_module": "@jupyter-widgets/base",
            "_view_module_version": "1.2.0",
            "_view_name": "StyleView",
            "description_width": ""
          }
        },
        "a00d1a5383564f96839755d8f4c7aaa5": {
          "model_module": "@jupyter-widgets/controls",
          "model_module_version": "1.5.0",
          "model_name": "DescriptionStyleModel",
          "state": {
            "_model_module": "@jupyter-widgets/controls",
            "_model_module_version": "1.5.0",
            "_model_name": "DescriptionStyleModel",
            "_view_count": null,
            "_view_module": "@jupyter-widgets/base",
            "_view_module_version": "1.2.0",
            "_view_name": "StyleView",
            "description_width": ""
          }
        },
        "a1e703ab65524074b58901451e37da37": {
          "model_module": "@jupyter-widgets/base",
          "model_module_version": "1.2.0",
          "model_name": "LayoutModel",
          "state": {
            "_model_module": "@jupyter-widgets/base",
            "_model_module_version": "1.2.0",
            "_model_name": "LayoutModel",
            "_view_count": null,
            "_view_module": "@jupyter-widgets/base",
            "_view_module_version": "1.2.0",
            "_view_name": "LayoutView",
            "align_content": null,
            "align_items": null,
            "align_self": null,
            "border": null,
            "bottom": null,
            "display": null,
            "flex": null,
            "flex_flow": null,
            "grid_area": null,
            "grid_auto_columns": null,
            "grid_auto_flow": null,
            "grid_auto_rows": null,
            "grid_column": null,
            "grid_gap": null,
            "grid_row": null,
            "grid_template_areas": null,
            "grid_template_columns": null,
            "grid_template_rows": null,
            "height": null,
            "justify_content": null,
            "justify_items": null,
            "left": null,
            "margin": null,
            "max_height": null,
            "max_width": null,
            "min_height": null,
            "min_width": null,
            "object_fit": null,
            "object_position": null,
            "order": null,
            "overflow": null,
            "overflow_x": null,
            "overflow_y": null,
            "padding": null,
            "right": null,
            "top": null,
            "visibility": null,
            "width": null
          }
        },
        "a1eb35c4b4a5410691cf5ac740cd8984": {
          "model_module": "@jupyter-widgets/controls",
          "model_module_version": "1.5.0",
          "model_name": "ProgressStyleModel",
          "state": {
            "_model_module": "@jupyter-widgets/controls",
            "_model_module_version": "1.5.0",
            "_model_name": "ProgressStyleModel",
            "_view_count": null,
            "_view_module": "@jupyter-widgets/base",
            "_view_module_version": "1.2.0",
            "_view_name": "StyleView",
            "bar_color": null,
            "description_width": ""
          }
        },
        "a543cd3574d64bbd9cd0d964b956606d": {
          "model_module": "@jupyter-widgets/base",
          "model_module_version": "1.2.0",
          "model_name": "LayoutModel",
          "state": {
            "_model_module": "@jupyter-widgets/base",
            "_model_module_version": "1.2.0",
            "_model_name": "LayoutModel",
            "_view_count": null,
            "_view_module": "@jupyter-widgets/base",
            "_view_module_version": "1.2.0",
            "_view_name": "LayoutView",
            "align_content": null,
            "align_items": null,
            "align_self": null,
            "border": null,
            "bottom": null,
            "display": null,
            "flex": null,
            "flex_flow": null,
            "grid_area": null,
            "grid_auto_columns": null,
            "grid_auto_flow": null,
            "grid_auto_rows": null,
            "grid_column": null,
            "grid_gap": null,
            "grid_row": null,
            "grid_template_areas": null,
            "grid_template_columns": null,
            "grid_template_rows": null,
            "height": null,
            "justify_content": null,
            "justify_items": null,
            "left": null,
            "margin": null,
            "max_height": null,
            "max_width": null,
            "min_height": null,
            "min_width": null,
            "object_fit": null,
            "object_position": null,
            "order": null,
            "overflow": null,
            "overflow_x": null,
            "overflow_y": null,
            "padding": null,
            "right": null,
            "top": null,
            "visibility": null,
            "width": null
          }
        },
        "a8b362a39e05440c9b0c54a8f6950414": {
          "model_module": "@jupyter-widgets/controls",
          "model_module_version": "1.5.0",
          "model_name": "FloatProgressModel",
          "state": {
            "_dom_classes": [],
            "_model_module": "@jupyter-widgets/controls",
            "_model_module_version": "1.5.0",
            "_model_name": "FloatProgressModel",
            "_view_count": null,
            "_view_module": "@jupyter-widgets/controls",
            "_view_module_version": "1.5.0",
            "_view_name": "ProgressView",
            "bar_style": "success",
            "description": "",
            "description_tooltip": null,
            "layout": "IPY_MODEL_4eedcfb50a4443069ba18de64c5bb023",
            "max": 474,
            "min": 0,
            "orientation": "horizontal",
            "style": "IPY_MODEL_cc1ca5c67b80448cac16229adcf139af",
            "value": 474
          }
        },
        "a9b2fb7f6f4441d8a4d791f7879179d5": {
          "model_module": "@jupyter-widgets/base",
          "model_module_version": "1.2.0",
          "model_name": "LayoutModel",
          "state": {
            "_model_module": "@jupyter-widgets/base",
            "_model_module_version": "1.2.0",
            "_model_name": "LayoutModel",
            "_view_count": null,
            "_view_module": "@jupyter-widgets/base",
            "_view_module_version": "1.2.0",
            "_view_name": "LayoutView",
            "align_content": null,
            "align_items": null,
            "align_self": null,
            "border": null,
            "bottom": null,
            "display": null,
            "flex": null,
            "flex_flow": null,
            "grid_area": null,
            "grid_auto_columns": null,
            "grid_auto_flow": null,
            "grid_auto_rows": null,
            "grid_column": null,
            "grid_gap": null,
            "grid_row": null,
            "grid_template_areas": null,
            "grid_template_columns": null,
            "grid_template_rows": null,
            "height": null,
            "justify_content": null,
            "justify_items": null,
            "left": null,
            "margin": null,
            "max_height": null,
            "max_width": null,
            "min_height": null,
            "min_width": null,
            "object_fit": null,
            "object_position": null,
            "order": null,
            "overflow": null,
            "overflow_x": null,
            "overflow_y": null,
            "padding": null,
            "right": null,
            "top": null,
            "visibility": null,
            "width": null
          }
        },
        "a9bdf86333c2442792432e6cad44897a": {
          "model_module": "@jupyter-widgets/controls",
          "model_module_version": "1.5.0",
          "model_name": "DescriptionStyleModel",
          "state": {
            "_model_module": "@jupyter-widgets/controls",
            "_model_module_version": "1.5.0",
            "_model_name": "DescriptionStyleModel",
            "_view_count": null,
            "_view_module": "@jupyter-widgets/base",
            "_view_module_version": "1.2.0",
            "_view_name": "StyleView",
            "description_width": ""
          }
        },
        "ac785023853b4e5b92663bd3d6edceaa": {
          "model_module": "@jupyter-widgets/controls",
          "model_module_version": "1.5.0",
          "model_name": "HBoxModel",
          "state": {
            "_dom_classes": [],
            "_model_module": "@jupyter-widgets/controls",
            "_model_module_version": "1.5.0",
            "_model_name": "HBoxModel",
            "_view_count": null,
            "_view_module": "@jupyter-widgets/controls",
            "_view_module_version": "1.5.0",
            "_view_name": "HBoxView",
            "box_style": "",
            "children": [
              "IPY_MODEL_35fdbb163b914caf82117f53d5951c80",
              "IPY_MODEL_0e5b425edc4045acb51911244ae86931",
              "IPY_MODEL_fa5ebd04c74d4d7c9e3d6db83890f2cd"
            ],
            "layout": "IPY_MODEL_0ee5f2af5cf64671a7918373f964c6de"
          }
        },
        "b25f517205874c11a0caae63a83cd808": {
          "model_module": "@jupyter-widgets/base",
          "model_module_version": "1.2.0",
          "model_name": "LayoutModel",
          "state": {
            "_model_module": "@jupyter-widgets/base",
            "_model_module_version": "1.2.0",
            "_model_name": "LayoutModel",
            "_view_count": null,
            "_view_module": "@jupyter-widgets/base",
            "_view_module_version": "1.2.0",
            "_view_name": "LayoutView",
            "align_content": null,
            "align_items": null,
            "align_self": null,
            "border": null,
            "bottom": null,
            "display": null,
            "flex": null,
            "flex_flow": null,
            "grid_area": null,
            "grid_auto_columns": null,
            "grid_auto_flow": null,
            "grid_auto_rows": null,
            "grid_column": null,
            "grid_gap": null,
            "grid_row": null,
            "grid_template_areas": null,
            "grid_template_columns": null,
            "grid_template_rows": null,
            "height": null,
            "justify_content": null,
            "justify_items": null,
            "left": null,
            "margin": null,
            "max_height": null,
            "max_width": null,
            "min_height": null,
            "min_width": null,
            "object_fit": null,
            "object_position": null,
            "order": null,
            "overflow": null,
            "overflow_x": null,
            "overflow_y": null,
            "padding": null,
            "right": null,
            "top": null,
            "visibility": null,
            "width": null
          }
        },
        "b4c64e05a05040eb8883902fb1578b03": {
          "model_module": "@jupyter-widgets/base",
          "model_module_version": "1.2.0",
          "model_name": "LayoutModel",
          "state": {
            "_model_module": "@jupyter-widgets/base",
            "_model_module_version": "1.2.0",
            "_model_name": "LayoutModel",
            "_view_count": null,
            "_view_module": "@jupyter-widgets/base",
            "_view_module_version": "1.2.0",
            "_view_name": "LayoutView",
            "align_content": null,
            "align_items": null,
            "align_self": null,
            "border": null,
            "bottom": null,
            "display": null,
            "flex": null,
            "flex_flow": null,
            "grid_area": null,
            "grid_auto_columns": null,
            "grid_auto_flow": null,
            "grid_auto_rows": null,
            "grid_column": null,
            "grid_gap": null,
            "grid_row": null,
            "grid_template_areas": null,
            "grid_template_columns": null,
            "grid_template_rows": null,
            "height": null,
            "justify_content": null,
            "justify_items": null,
            "left": null,
            "margin": null,
            "max_height": null,
            "max_width": null,
            "min_height": null,
            "min_width": null,
            "object_fit": null,
            "object_position": null,
            "order": null,
            "overflow": null,
            "overflow_x": null,
            "overflow_y": null,
            "padding": null,
            "right": null,
            "top": null,
            "visibility": null,
            "width": null
          }
        },
        "b880ef6ae8614a2da4d8944f9a56506f": {
          "model_module": "@jupyter-widgets/controls",
          "model_module_version": "1.5.0",
          "model_name": "HTMLModel",
          "state": {
            "_dom_classes": [],
            "_model_module": "@jupyter-widgets/controls",
            "_model_module_version": "1.5.0",
            "_model_name": "HTMLModel",
            "_view_count": null,
            "_view_module": "@jupyter-widgets/controls",
            "_view_module_version": "1.5.0",
            "_view_name": "HTMLView",
            "description": "",
            "description_tooltip": null,
            "layout": "IPY_MODEL_448e4f67258e49bba2152e0c1a7a59fb",
            "placeholder": "​",
            "style": "IPY_MODEL_1f3dcde6bc504930999dbc7ed13ddf6b",
            "value": " 559M/559M [01:32&lt;00:00, 8.16MB/s]"
          }
        },
        "be50f67b4983427e854deb8152bd819b": {
          "model_module": "@jupyter-widgets/base",
          "model_module_version": "1.2.0",
          "model_name": "LayoutModel",
          "state": {
            "_model_module": "@jupyter-widgets/base",
            "_model_module_version": "1.2.0",
            "_model_name": "LayoutModel",
            "_view_count": null,
            "_view_module": "@jupyter-widgets/base",
            "_view_module_version": "1.2.0",
            "_view_name": "LayoutView",
            "align_content": null,
            "align_items": null,
            "align_self": null,
            "border": null,
            "bottom": null,
            "display": null,
            "flex": null,
            "flex_flow": null,
            "grid_area": null,
            "grid_auto_columns": null,
            "grid_auto_flow": null,
            "grid_auto_rows": null,
            "grid_column": null,
            "grid_gap": null,
            "grid_row": null,
            "grid_template_areas": null,
            "grid_template_columns": null,
            "grid_template_rows": null,
            "height": null,
            "justify_content": null,
            "justify_items": null,
            "left": null,
            "margin": null,
            "max_height": null,
            "max_width": null,
            "min_height": null,
            "min_width": null,
            "object_fit": null,
            "object_position": null,
            "order": null,
            "overflow": null,
            "overflow_x": null,
            "overflow_y": null,
            "padding": null,
            "right": null,
            "top": null,
            "visibility": null,
            "width": null
          }
        },
        "c125e39363e3480183231a8292024318": {
          "model_module": "@jupyter-widgets/controls",
          "model_module_version": "1.5.0",
          "model_name": "HBoxModel",
          "state": {
            "_dom_classes": [],
            "_model_module": "@jupyter-widgets/controls",
            "_model_module_version": "1.5.0",
            "_model_name": "HBoxModel",
            "_view_count": null,
            "_view_module": "@jupyter-widgets/controls",
            "_view_module_version": "1.5.0",
            "_view_name": "HBoxView",
            "box_style": "",
            "children": [
              "IPY_MODEL_72f81fcd75cf415198021a99a1c1cd94",
              "IPY_MODEL_a8b362a39e05440c9b0c54a8f6950414",
              "IPY_MODEL_9c3a16a32efe49bcbf3d02560559b5c9"
            ],
            "layout": "IPY_MODEL_b25f517205874c11a0caae63a83cd808"
          }
        },
        "c20268743cde4a059d3560fa21f6e3c4": {
          "model_module": "@jupyter-widgets/controls",
          "model_module_version": "1.5.0",
          "model_name": "HBoxModel",
          "state": {
            "_dom_classes": [],
            "_model_module": "@jupyter-widgets/controls",
            "_model_module_version": "1.5.0",
            "_model_name": "HBoxModel",
            "_view_count": null,
            "_view_module": "@jupyter-widgets/controls",
            "_view_module_version": "1.5.0",
            "_view_name": "HBoxView",
            "box_style": "",
            "children": [
              "IPY_MODEL_802dc564c1fd4bffbbf6c2cb6583a1f0",
              "IPY_MODEL_26c0366b9b27443bb4e8109d7eaaf237",
              "IPY_MODEL_f7967c01a75c4abdaea4c704491e4e92"
            ],
            "layout": "IPY_MODEL_be50f67b4983427e854deb8152bd819b"
          }
        },
        "c33f973ad1c04f919b5180492a68a802": {
          "model_module": "@jupyter-widgets/controls",
          "model_module_version": "1.5.0",
          "model_name": "FloatProgressModel",
          "state": {
            "_dom_classes": [],
            "_model_module": "@jupyter-widgets/controls",
            "_model_module_version": "1.5.0",
            "_model_name": "FloatProgressModel",
            "_view_count": null,
            "_view_module": "@jupyter-widgets/controls",
            "_view_module_version": "1.5.0",
            "_view_name": "ProgressView",
            "bar_style": "success",
            "description": "",
            "description_tooltip": null,
            "layout": "IPY_MODEL_9e030b91e21143a291b96b66aedf7705",
            "max": 570,
            "min": 0,
            "orientation": "horizontal",
            "style": "IPY_MODEL_2c18a36789c949278005a778b3320e61",
            "value": 570
          }
        },
        "c393df03816849ddbc48e83ec420e98d": {
          "model_module": "@jupyter-widgets/base",
          "model_module_version": "1.2.0",
          "model_name": "LayoutModel",
          "state": {
            "_model_module": "@jupyter-widgets/base",
            "_model_module_version": "1.2.0",
            "_model_name": "LayoutModel",
            "_view_count": null,
            "_view_module": "@jupyter-widgets/base",
            "_view_module_version": "1.2.0",
            "_view_name": "LayoutView",
            "align_content": null,
            "align_items": null,
            "align_self": null,
            "border": null,
            "bottom": null,
            "display": null,
            "flex": null,
            "flex_flow": null,
            "grid_area": null,
            "grid_auto_columns": null,
            "grid_auto_flow": null,
            "grid_auto_rows": null,
            "grid_column": null,
            "grid_gap": null,
            "grid_row": null,
            "grid_template_areas": null,
            "grid_template_columns": null,
            "grid_template_rows": null,
            "height": null,
            "justify_content": null,
            "justify_items": null,
            "left": null,
            "margin": null,
            "max_height": null,
            "max_width": null,
            "min_height": null,
            "min_width": null,
            "object_fit": null,
            "object_position": null,
            "order": null,
            "overflow": null,
            "overflow_x": null,
            "overflow_y": null,
            "padding": null,
            "right": null,
            "top": null,
            "visibility": null,
            "width": null
          }
        },
        "c427a2e26cc64504954aabd1992cdd3f": {
          "model_module": "@jupyter-widgets/controls",
          "model_module_version": "1.5.0",
          "model_name": "HTMLModel",
          "state": {
            "_dom_classes": [],
            "_model_module": "@jupyter-widgets/controls",
            "_model_module_version": "1.5.0",
            "_model_name": "HTMLModel",
            "_view_count": null,
            "_view_module": "@jupyter-widgets/controls",
            "_view_module_version": "1.5.0",
            "_view_name": "HTMLView",
            "description": "",
            "description_tooltip": null,
            "layout": "IPY_MODEL_9d1b2e2afcba475faf05151513a59f4e",
            "placeholder": "​",
            "style": "IPY_MODEL_86f2d2d816b64fba926d627f6684882d",
            "value": " 213k/213k [00:00&lt;00:00, 1.68MB/s]"
          }
        },
        "c68ac525f3fb4396bd90fdcc501711d9": {
          "model_module": "@jupyter-widgets/controls",
          "model_module_version": "1.5.0",
          "model_name": "FloatProgressModel",
          "state": {
            "_dom_classes": [],
            "_model_module": "@jupyter-widgets/controls",
            "_model_module_version": "1.5.0",
            "_model_name": "FloatProgressModel",
            "_view_count": null,
            "_view_module": "@jupyter-widgets/controls",
            "_view_module_version": "1.5.0",
            "_view_name": "ProgressView",
            "bar_style": "success",
            "description": "",
            "description_tooltip": null,
            "layout": "IPY_MODEL_37cf5407b3ad471db99356aa2c03b1be",
            "max": 435797,
            "min": 0,
            "orientation": "horizontal",
            "style": "IPY_MODEL_0c4a5091255c4794804715fcc86dc3cf",
            "value": 435797
          }
        },
        "c6b4ed2f4db74350882c09f9a0e09938": {
          "model_module": "@jupyter-widgets/controls",
          "model_module_version": "1.5.0",
          "model_name": "DescriptionStyleModel",
          "state": {
            "_model_module": "@jupyter-widgets/controls",
            "_model_module_version": "1.5.0",
            "_model_name": "DescriptionStyleModel",
            "_view_count": null,
            "_view_module": "@jupyter-widgets/base",
            "_view_module_version": "1.2.0",
            "_view_name": "StyleView",
            "description_width": ""
          }
        },
        "c737e97bc92b40789d9c5d51a574063f": {
          "model_module": "@jupyter-widgets/base",
          "model_module_version": "1.2.0",
          "model_name": "LayoutModel",
          "state": {
            "_model_module": "@jupyter-widgets/base",
            "_model_module_version": "1.2.0",
            "_model_name": "LayoutModel",
            "_view_count": null,
            "_view_module": "@jupyter-widgets/base",
            "_view_module_version": "1.2.0",
            "_view_name": "LayoutView",
            "align_content": null,
            "align_items": null,
            "align_self": null,
            "border": null,
            "bottom": null,
            "display": null,
            "flex": null,
            "flex_flow": null,
            "grid_area": null,
            "grid_auto_columns": null,
            "grid_auto_flow": null,
            "grid_auto_rows": null,
            "grid_column": null,
            "grid_gap": null,
            "grid_row": null,
            "grid_template_areas": null,
            "grid_template_columns": null,
            "grid_template_rows": null,
            "height": null,
            "justify_content": null,
            "justify_items": null,
            "left": null,
            "margin": null,
            "max_height": null,
            "max_width": null,
            "min_height": null,
            "min_width": null,
            "object_fit": null,
            "object_position": null,
            "order": null,
            "overflow": null,
            "overflow_x": null,
            "overflow_y": null,
            "padding": null,
            "right": null,
            "top": null,
            "visibility": null,
            "width": null
          }
        },
        "ca2cdeda822847e8bf9521fbe1b411dd": {
          "model_module": "@jupyter-widgets/controls",
          "model_module_version": "1.5.0",
          "model_name": "HTMLModel",
          "state": {
            "_dom_classes": [],
            "_model_module": "@jupyter-widgets/controls",
            "_model_module_version": "1.5.0",
            "_model_name": "HTMLModel",
            "_view_count": null,
            "_view_module": "@jupyter-widgets/controls",
            "_view_module_version": "1.5.0",
            "_view_name": "HTMLView",
            "description": "",
            "description_tooltip": null,
            "layout": "IPY_MODEL_c737e97bc92b40789d9c5d51a574063f",
            "placeholder": "​",
            "style": "IPY_MODEL_58c81daa5a2549aab057ac2d1695d619",
            "value": " 559M/559M [01:34&lt;00:00, 5.80MB/s]"
          }
        },
        "cc1ca5c67b80448cac16229adcf139af": {
          "model_module": "@jupyter-widgets/controls",
          "model_module_version": "1.5.0",
          "model_name": "ProgressStyleModel",
          "state": {
            "_model_module": "@jupyter-widgets/controls",
            "_model_module_version": "1.5.0",
            "_model_name": "ProgressStyleModel",
            "_view_count": null,
            "_view_module": "@jupyter-widgets/base",
            "_view_module_version": "1.2.0",
            "_view_name": "StyleView",
            "bar_color": null,
            "description_width": ""
          }
        },
        "cc3c3555e3fa4d3bb04c1fa4c8ffbe6b": {
          "model_module": "@jupyter-widgets/controls",
          "model_module_version": "1.5.0",
          "model_name": "DescriptionStyleModel",
          "state": {
            "_model_module": "@jupyter-widgets/controls",
            "_model_module_version": "1.5.0",
            "_model_name": "DescriptionStyleModel",
            "_view_count": null,
            "_view_module": "@jupyter-widgets/base",
            "_view_module_version": "1.2.0",
            "_view_name": "StyleView",
            "description_width": ""
          }
        },
        "cf2208788f604b2b9aef96d9e0625891": {
          "model_module": "@jupyter-widgets/base",
          "model_module_version": "1.2.0",
          "model_name": "LayoutModel",
          "state": {
            "_model_module": "@jupyter-widgets/base",
            "_model_module_version": "1.2.0",
            "_model_name": "LayoutModel",
            "_view_count": null,
            "_view_module": "@jupyter-widgets/base",
            "_view_module_version": "1.2.0",
            "_view_name": "LayoutView",
            "align_content": null,
            "align_items": null,
            "align_self": null,
            "border": null,
            "bottom": null,
            "display": null,
            "flex": null,
            "flex_flow": null,
            "grid_area": null,
            "grid_auto_columns": null,
            "grid_auto_flow": null,
            "grid_auto_rows": null,
            "grid_column": null,
            "grid_gap": null,
            "grid_row": null,
            "grid_template_areas": null,
            "grid_template_columns": null,
            "grid_template_rows": null,
            "height": null,
            "justify_content": null,
            "justify_items": null,
            "left": null,
            "margin": null,
            "max_height": null,
            "max_width": null,
            "min_height": null,
            "min_width": null,
            "object_fit": null,
            "object_position": null,
            "order": null,
            "overflow": null,
            "overflow_x": null,
            "overflow_y": null,
            "padding": null,
            "right": null,
            "top": null,
            "visibility": null,
            "width": null
          }
        },
        "d311dd24826646fcbe95900652215866": {
          "model_module": "@jupyter-widgets/controls",
          "model_module_version": "1.5.0",
          "model_name": "HTMLModel",
          "state": {
            "_dom_classes": [],
            "_model_module": "@jupyter-widgets/controls",
            "_model_module_version": "1.5.0",
            "_model_name": "HTMLModel",
            "_view_count": null,
            "_view_module": "@jupyter-widgets/controls",
            "_view_module_version": "1.5.0",
            "_view_name": "HTMLView",
            "description": "",
            "description_tooltip": null,
            "layout": "IPY_MODEL_14b400d284b84184a727b23f8eff2821",
            "placeholder": "​",
            "style": "IPY_MODEL_a9bdf86333c2442792432e6cad44897a",
            "value": " 52.0/52.0 [00:00&lt;00:00, 2.14kB/s]"
          }
        },
        "d6fff1002bd041b39a287764f47026cf": {
          "model_module": "@jupyter-widgets/controls",
          "model_module_version": "1.5.0",
          "model_name": "FloatProgressModel",
          "state": {
            "_dom_classes": [],
            "_model_module": "@jupyter-widgets/controls",
            "_model_module_version": "1.5.0",
            "_model_name": "FloatProgressModel",
            "_view_count": null,
            "_view_module": "@jupyter-widgets/controls",
            "_view_module_version": "1.5.0",
            "_view_name": "ProgressView",
            "bar_style": "success",
            "description": "",
            "description_tooltip": null,
            "layout": "IPY_MODEL_a543cd3574d64bbd9cd0d964b956606d",
            "max": 558614189,
            "min": 0,
            "orientation": "horizontal",
            "style": "IPY_MODEL_a1eb35c4b4a5410691cf5ac740cd8984",
            "value": 558614189
          }
        },
        "d87798382117475e9d3e845004431589": {
          "model_module": "@jupyter-widgets/controls",
          "model_module_version": "1.5.0",
          "model_name": "ProgressStyleModel",
          "state": {
            "_model_module": "@jupyter-widgets/controls",
            "_model_module_version": "1.5.0",
            "_model_name": "ProgressStyleModel",
            "_view_count": null,
            "_view_module": "@jupyter-widgets/base",
            "_view_module_version": "1.2.0",
            "_view_name": "StyleView",
            "bar_color": null,
            "description_width": ""
          }
        },
        "d94b547c52ce4c1287b6431ed7045564": {
          "model_module": "@jupyter-widgets/base",
          "model_module_version": "1.2.0",
          "model_name": "LayoutModel",
          "state": {
            "_model_module": "@jupyter-widgets/base",
            "_model_module_version": "1.2.0",
            "_model_name": "LayoutModel",
            "_view_count": null,
            "_view_module": "@jupyter-widgets/base",
            "_view_module_version": "1.2.0",
            "_view_name": "LayoutView",
            "align_content": null,
            "align_items": null,
            "align_self": null,
            "border": null,
            "bottom": null,
            "display": null,
            "flex": null,
            "flex_flow": null,
            "grid_area": null,
            "grid_auto_columns": null,
            "grid_auto_flow": null,
            "grid_auto_rows": null,
            "grid_column": null,
            "grid_gap": null,
            "grid_row": null,
            "grid_template_areas": null,
            "grid_template_columns": null,
            "grid_template_rows": null,
            "height": null,
            "justify_content": null,
            "justify_items": null,
            "left": null,
            "margin": null,
            "max_height": null,
            "max_width": null,
            "min_height": null,
            "min_width": null,
            "object_fit": null,
            "object_position": null,
            "order": null,
            "overflow": null,
            "overflow_x": null,
            "overflow_y": null,
            "padding": null,
            "right": null,
            "top": null,
            "visibility": null,
            "width": null
          }
        },
        "db05d6a6b0df43c58569a3a43fe60c6c": {
          "model_module": "@jupyter-widgets/controls",
          "model_module_version": "1.5.0",
          "model_name": "DescriptionStyleModel",
          "state": {
            "_model_module": "@jupyter-widgets/controls",
            "_model_module_version": "1.5.0",
            "_model_name": "DescriptionStyleModel",
            "_view_count": null,
            "_view_module": "@jupyter-widgets/base",
            "_view_module_version": "1.2.0",
            "_view_name": "StyleView",
            "description_width": ""
          }
        },
        "e007bd58d95f4147a0d5b7720ce5ed1d": {
          "model_module": "@jupyter-widgets/base",
          "model_module_version": "1.2.0",
          "model_name": "LayoutModel",
          "state": {
            "_model_module": "@jupyter-widgets/base",
            "_model_module_version": "1.2.0",
            "_model_name": "LayoutModel",
            "_view_count": null,
            "_view_module": "@jupyter-widgets/base",
            "_view_module_version": "1.2.0",
            "_view_name": "LayoutView",
            "align_content": null,
            "align_items": null,
            "align_self": null,
            "border": null,
            "bottom": null,
            "display": null,
            "flex": null,
            "flex_flow": null,
            "grid_area": null,
            "grid_auto_columns": null,
            "grid_auto_flow": null,
            "grid_auto_rows": null,
            "grid_column": null,
            "grid_gap": null,
            "grid_row": null,
            "grid_template_areas": null,
            "grid_template_columns": null,
            "grid_template_rows": null,
            "height": null,
            "justify_content": null,
            "justify_items": null,
            "left": null,
            "margin": null,
            "max_height": null,
            "max_width": null,
            "min_height": null,
            "min_width": null,
            "object_fit": null,
            "object_position": null,
            "order": null,
            "overflow": null,
            "overflow_x": null,
            "overflow_y": null,
            "padding": null,
            "right": null,
            "top": null,
            "visibility": null,
            "width": null
          }
        },
        "e08ef54e12e04a4e9369539f75c7ed8b": {
          "model_module": "@jupyter-widgets/controls",
          "model_module_version": "1.5.0",
          "model_name": "HBoxModel",
          "state": {
            "_dom_classes": [],
            "_model_module": "@jupyter-widgets/controls",
            "_model_module_version": "1.5.0",
            "_model_name": "HBoxModel",
            "_view_count": null,
            "_view_module": "@jupyter-widgets/controls",
            "_view_module_version": "1.5.0",
            "_view_name": "HBoxView",
            "box_style": "",
            "children": [
              "IPY_MODEL_98faae82f13c49fead6f5d1eb8994ba7",
              "IPY_MODEL_2485932ec8fc44b0bc15618f2540f930",
              "IPY_MODEL_1d63bb2ad95f42fa8e31e76e5336f6c0"
            ],
            "layout": "IPY_MODEL_e269a3f4949347f0b37017076de12f6b"
          }
        },
        "e269a3f4949347f0b37017076de12f6b": {
          "model_module": "@jupyter-widgets/base",
          "model_module_version": "1.2.0",
          "model_name": "LayoutModel",
          "state": {
            "_model_module": "@jupyter-widgets/base",
            "_model_module_version": "1.2.0",
            "_model_name": "LayoutModel",
            "_view_count": null,
            "_view_module": "@jupyter-widgets/base",
            "_view_module_version": "1.2.0",
            "_view_name": "LayoutView",
            "align_content": null,
            "align_items": null,
            "align_self": null,
            "border": null,
            "bottom": null,
            "display": null,
            "flex": null,
            "flex_flow": null,
            "grid_area": null,
            "grid_auto_columns": null,
            "grid_auto_flow": null,
            "grid_auto_rows": null,
            "grid_column": null,
            "grid_gap": null,
            "grid_row": null,
            "grid_template_areas": null,
            "grid_template_columns": null,
            "grid_template_rows": null,
            "height": null,
            "justify_content": null,
            "justify_items": null,
            "left": null,
            "margin": null,
            "max_height": null,
            "max_width": null,
            "min_height": null,
            "min_width": null,
            "object_fit": null,
            "object_position": null,
            "order": null,
            "overflow": null,
            "overflow_x": null,
            "overflow_y": null,
            "padding": null,
            "right": null,
            "top": null,
            "visibility": null,
            "width": null
          }
        },
        "e35819c20e384eb8b65b95389a8de3b7": {
          "model_module": "@jupyter-widgets/base",
          "model_module_version": "1.2.0",
          "model_name": "LayoutModel",
          "state": {
            "_model_module": "@jupyter-widgets/base",
            "_model_module_version": "1.2.0",
            "_model_name": "LayoutModel",
            "_view_count": null,
            "_view_module": "@jupyter-widgets/base",
            "_view_module_version": "1.2.0",
            "_view_name": "LayoutView",
            "align_content": null,
            "align_items": null,
            "align_self": null,
            "border": null,
            "bottom": null,
            "display": null,
            "flex": null,
            "flex_flow": null,
            "grid_area": null,
            "grid_auto_columns": null,
            "grid_auto_flow": null,
            "grid_auto_rows": null,
            "grid_column": null,
            "grid_gap": null,
            "grid_row": null,
            "grid_template_areas": null,
            "grid_template_columns": null,
            "grid_template_rows": null,
            "height": null,
            "justify_content": null,
            "justify_items": null,
            "left": null,
            "margin": null,
            "max_height": null,
            "max_width": null,
            "min_height": null,
            "min_width": null,
            "object_fit": null,
            "object_position": null,
            "order": null,
            "overflow": null,
            "overflow_x": null,
            "overflow_y": null,
            "padding": null,
            "right": null,
            "top": null,
            "visibility": null,
            "width": null
          }
        },
        "e557ae47345145518e187673554374f7": {
          "model_module": "@jupyter-widgets/base",
          "model_module_version": "1.2.0",
          "model_name": "LayoutModel",
          "state": {
            "_model_module": "@jupyter-widgets/base",
            "_model_module_version": "1.2.0",
            "_model_name": "LayoutModel",
            "_view_count": null,
            "_view_module": "@jupyter-widgets/base",
            "_view_module_version": "1.2.0",
            "_view_name": "LayoutView",
            "align_content": null,
            "align_items": null,
            "align_self": null,
            "border": null,
            "bottom": null,
            "display": null,
            "flex": null,
            "flex_flow": null,
            "grid_area": null,
            "grid_auto_columns": null,
            "grid_auto_flow": null,
            "grid_auto_rows": null,
            "grid_column": null,
            "grid_gap": null,
            "grid_row": null,
            "grid_template_areas": null,
            "grid_template_columns": null,
            "grid_template_rows": null,
            "height": null,
            "justify_content": null,
            "justify_items": null,
            "left": null,
            "margin": null,
            "max_height": null,
            "max_width": null,
            "min_height": null,
            "min_width": null,
            "object_fit": null,
            "object_position": null,
            "order": null,
            "overflow": null,
            "overflow_x": null,
            "overflow_y": null,
            "padding": null,
            "right": null,
            "top": null,
            "visibility": null,
            "width": null
          }
        },
        "ed20d11021874c37be0dea1708a5c664": {
          "model_module": "@jupyter-widgets/base",
          "model_module_version": "1.2.0",
          "model_name": "LayoutModel",
          "state": {
            "_model_module": "@jupyter-widgets/base",
            "_model_module_version": "1.2.0",
            "_model_name": "LayoutModel",
            "_view_count": null,
            "_view_module": "@jupyter-widgets/base",
            "_view_module_version": "1.2.0",
            "_view_name": "LayoutView",
            "align_content": null,
            "align_items": null,
            "align_self": null,
            "border": null,
            "bottom": null,
            "display": null,
            "flex": null,
            "flex_flow": null,
            "grid_area": null,
            "grid_auto_columns": null,
            "grid_auto_flow": null,
            "grid_auto_rows": null,
            "grid_column": null,
            "grid_gap": null,
            "grid_row": null,
            "grid_template_areas": null,
            "grid_template_columns": null,
            "grid_template_rows": null,
            "height": null,
            "justify_content": null,
            "justify_items": null,
            "left": null,
            "margin": null,
            "max_height": null,
            "max_width": null,
            "min_height": null,
            "min_width": null,
            "object_fit": null,
            "object_position": null,
            "order": null,
            "overflow": null,
            "overflow_x": null,
            "overflow_y": null,
            "padding": null,
            "right": null,
            "top": null,
            "visibility": null,
            "width": null
          }
        },
        "ee016dfedcdf411aaa4b52990922eba6": {
          "model_module": "@jupyter-widgets/base",
          "model_module_version": "1.2.0",
          "model_name": "LayoutModel",
          "state": {
            "_model_module": "@jupyter-widgets/base",
            "_model_module_version": "1.2.0",
            "_model_name": "LayoutModel",
            "_view_count": null,
            "_view_module": "@jupyter-widgets/base",
            "_view_module_version": "1.2.0",
            "_view_name": "LayoutView",
            "align_content": null,
            "align_items": null,
            "align_self": null,
            "border": null,
            "bottom": null,
            "display": null,
            "flex": null,
            "flex_flow": null,
            "grid_area": null,
            "grid_auto_columns": null,
            "grid_auto_flow": null,
            "grid_auto_rows": null,
            "grid_column": null,
            "grid_gap": null,
            "grid_row": null,
            "grid_template_areas": null,
            "grid_template_columns": null,
            "grid_template_rows": null,
            "height": null,
            "justify_content": null,
            "justify_items": null,
            "left": null,
            "margin": null,
            "max_height": null,
            "max_width": null,
            "min_height": null,
            "min_width": null,
            "object_fit": null,
            "object_position": null,
            "order": null,
            "overflow": null,
            "overflow_x": null,
            "overflow_y": null,
            "padding": null,
            "right": null,
            "top": null,
            "visibility": null,
            "width": null
          }
        },
        "f5f9b117e8944d148dedd263c4b2429b": {
          "model_module": "@jupyter-widgets/controls",
          "model_module_version": "1.5.0",
          "model_name": "ProgressStyleModel",
          "state": {
            "_model_module": "@jupyter-widgets/controls",
            "_model_module_version": "1.5.0",
            "_model_name": "ProgressStyleModel",
            "_view_count": null,
            "_view_module": "@jupyter-widgets/base",
            "_view_module_version": "1.2.0",
            "_view_name": "StyleView",
            "bar_color": null,
            "description_width": ""
          }
        },
        "f7967c01a75c4abdaea4c704491e4e92": {
          "model_module": "@jupyter-widgets/controls",
          "model_module_version": "1.5.0",
          "model_name": "HTMLModel",
          "state": {
            "_dom_classes": [],
            "_model_module": "@jupyter-widgets/controls",
            "_model_module_version": "1.5.0",
            "_model_name": "HTMLModel",
            "_view_count": null,
            "_view_module": "@jupyter-widgets/controls",
            "_view_module_version": "1.5.0",
            "_view_name": "HTMLView",
            "description": "",
            "description_tooltip": null,
            "layout": "IPY_MODEL_e007bd58d95f4147a0d5b7720ce5ed1d",
            "placeholder": "​",
            "style": "IPY_MODEL_1b85517fa8d74ad6b2f51a3c5a5e070b",
            "value": " 456k/? [00:00&lt;00:00, 14.4MB/s]"
          }
        },
        "f8aad74ffb174f0f8504dbb100a45df8": {
          "model_module": "@jupyter-widgets/base",
          "model_module_version": "1.2.0",
          "model_name": "LayoutModel",
          "state": {
            "_model_module": "@jupyter-widgets/base",
            "_model_module_version": "1.2.0",
            "_model_name": "LayoutModel",
            "_view_count": null,
            "_view_module": "@jupyter-widgets/base",
            "_view_module_version": "1.2.0",
            "_view_name": "LayoutView",
            "align_content": null,
            "align_items": null,
            "align_self": null,
            "border": null,
            "bottom": null,
            "display": null,
            "flex": null,
            "flex_flow": null,
            "grid_area": null,
            "grid_auto_columns": null,
            "grid_auto_flow": null,
            "grid_auto_rows": null,
            "grid_column": null,
            "grid_gap": null,
            "grid_row": null,
            "grid_template_areas": null,
            "grid_template_columns": null,
            "grid_template_rows": null,
            "height": null,
            "justify_content": null,
            "justify_items": null,
            "left": null,
            "margin": null,
            "max_height": null,
            "max_width": null,
            "min_height": null,
            "min_width": null,
            "object_fit": null,
            "object_position": null,
            "order": null,
            "overflow": null,
            "overflow_x": null,
            "overflow_y": null,
            "padding": null,
            "right": null,
            "top": null,
            "visibility": null,
            "width": "20px"
          }
        },
        "fa5ebd04c74d4d7c9e3d6db83890f2cd": {
          "model_module": "@jupyter-widgets/controls",
          "model_module_version": "1.5.0",
          "model_name": "HTMLModel",
          "state": {
            "_dom_classes": [],
            "_model_module": "@jupyter-widgets/controls",
            "_model_module_version": "1.5.0",
            "_model_name": "HTMLModel",
            "_view_count": null,
            "_view_module": "@jupyter-widgets/controls",
            "_view_module_version": "1.5.0",
            "_view_name": "HTMLView",
            "description": "",
            "description_tooltip": null,
            "layout": "IPY_MODEL_c393df03816849ddbc48e83ec420e98d",
            "placeholder": "​",
            "style": "IPY_MODEL_2b317c92bc714c97bd649adfaf02f120",
            "value": " 49.0/49.0 [00:00&lt;00:00, 997B/s]"
          }
        },
        "fc008a56a12c4c82b004681ccb9d79c9": {
          "model_module": "@jupyter-widgets/base",
          "model_module_version": "1.2.0",
          "model_name": "LayoutModel",
          "state": {
            "_model_module": "@jupyter-widgets/base",
            "_model_module_version": "1.2.0",
            "_model_name": "LayoutModel",
            "_view_count": null,
            "_view_module": "@jupyter-widgets/base",
            "_view_module_version": "1.2.0",
            "_view_name": "LayoutView",
            "align_content": null,
            "align_items": null,
            "align_self": null,
            "border": null,
            "bottom": null,
            "display": null,
            "flex": null,
            "flex_flow": null,
            "grid_area": null,
            "grid_auto_columns": null,
            "grid_auto_flow": null,
            "grid_auto_rows": null,
            "grid_column": null,
            "grid_gap": null,
            "grid_row": null,
            "grid_template_areas": null,
            "grid_template_columns": null,
            "grid_template_rows": null,
            "height": null,
            "justify_content": null,
            "justify_items": null,
            "left": null,
            "margin": null,
            "max_height": null,
            "max_width": null,
            "min_height": null,
            "min_width": null,
            "object_fit": null,
            "object_position": null,
            "order": null,
            "overflow": null,
            "overflow_x": null,
            "overflow_y": null,
            "padding": null,
            "right": null,
            "top": null,
            "visibility": null,
            "width": null
          }
        },
        "fdcf070ae94449b1bc47c9bbf69df67e": {
          "model_module": "@jupyter-widgets/base",
          "model_module_version": "1.2.0",
          "model_name": "LayoutModel",
          "state": {
            "_model_module": "@jupyter-widgets/base",
            "_model_module_version": "1.2.0",
            "_model_name": "LayoutModel",
            "_view_count": null,
            "_view_module": "@jupyter-widgets/base",
            "_view_module_version": "1.2.0",
            "_view_name": "LayoutView",
            "align_content": null,
            "align_items": null,
            "align_self": null,
            "border": null,
            "bottom": null,
            "display": null,
            "flex": null,
            "flex_flow": null,
            "grid_area": null,
            "grid_auto_columns": null,
            "grid_auto_flow": null,
            "grid_auto_rows": null,
            "grid_column": null,
            "grid_gap": null,
            "grid_row": null,
            "grid_template_areas": null,
            "grid_template_columns": null,
            "grid_template_rows": null,
            "height": null,
            "justify_content": null,
            "justify_items": null,
            "left": null,
            "margin": null,
            "max_height": null,
            "max_width": null,
            "min_height": null,
            "min_width": null,
            "object_fit": null,
            "object_position": null,
            "order": null,
            "overflow": null,
            "overflow_x": null,
            "overflow_y": null,
            "padding": null,
            "right": null,
            "top": null,
            "visibility": null,
            "width": null
          }
        },
        "fe69e914d7404e018cf45880d84b6c16": {
          "model_module": "@jupyter-widgets/controls",
          "model_module_version": "1.5.0",
          "model_name": "FloatProgressModel",
          "state": {
            "_dom_classes": [],
            "_model_module": "@jupyter-widgets/controls",
            "_model_module_version": "1.5.0",
            "_model_name": "FloatProgressModel",
            "_view_count": null,
            "_view_module": "@jupyter-widgets/controls",
            "_view_module_version": "1.5.0",
            "_view_name": "ProgressView",
            "bar_style": "success",
            "description": "",
            "description_tooltip": null,
            "layout": "IPY_MODEL_fdcf070ae94449b1bc47c9bbf69df67e",
            "max": 213450,
            "min": 0,
            "orientation": "horizontal",
            "style": "IPY_MODEL_66b88e430d124248aa4117f4513d193d",
            "value": 213450
          }
        },
        "fe93dcc28ee9402da306f11567aaa488": {
          "model_module": "@jupyter-widgets/base",
          "model_module_version": "1.2.0",
          "model_name": "LayoutModel",
          "state": {
            "_model_module": "@jupyter-widgets/base",
            "_model_module_version": "1.2.0",
            "_model_name": "LayoutModel",
            "_view_count": null,
            "_view_module": "@jupyter-widgets/base",
            "_view_module_version": "1.2.0",
            "_view_name": "LayoutView",
            "align_content": null,
            "align_items": null,
            "align_self": null,
            "border": null,
            "bottom": null,
            "display": null,
            "flex": null,
            "flex_flow": null,
            "grid_area": null,
            "grid_auto_columns": null,
            "grid_auto_flow": null,
            "grid_auto_rows": null,
            "grid_column": null,
            "grid_gap": null,
            "grid_row": null,
            "grid_template_areas": null,
            "grid_template_columns": null,
            "grid_template_rows": null,
            "height": null,
            "justify_content": null,
            "justify_items": null,
            "left": null,
            "margin": null,
            "max_height": null,
            "max_width": null,
            "min_height": null,
            "min_width": null,
            "object_fit": null,
            "object_position": null,
            "order": null,
            "overflow": null,
            "overflow_x": null,
            "overflow_y": null,
            "padding": null,
            "right": null,
            "top": null,
            "visibility": null,
            "width": null
          }
        }
      }
    }
  },
  "nbformat": 4,
  "nbformat_minor": 0
}
