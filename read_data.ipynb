{
 "cells": [
  {
   "cell_type": "markdown",
   "id": "65fdfe14",
   "metadata": {},
   "source": [
    "# Analisi Dataset"
   ]
  },
  {
   "cell_type": "code",
   "execution_count": 38,
   "id": "9ccae483",
   "metadata": {},
   "outputs": [],
   "source": [
    "import pandas as pd\n",
    "import re\n",
    "from collections import Counter\n",
    "import numpy as np"
   ]
  },
  {
   "cell_type": "code",
   "execution_count": 39,
   "id": "96b69cc7",
   "metadata": {},
   "outputs": [],
   "source": [
    "# Count occurrences of years in a specific range within a text column of a DataFrame\n",
    "def count_years_in_texts(df, start_year, end_year, column='texts'):\n",
    "    years = [str(year) for year in range(start_year, end_year + 1)]\n",
    "    year_pattern = re.compile(r'\\b(' + '|'.join(years) + r')\\b')\n",
    "\n",
    "    all_years = []\n",
    "    for text in df[column]:\n",
    "        found_years = year_pattern.findall(str(text))\n",
    "        all_years.extend(found_years)\n",
    "\n",
    "    year_counts = Counter(all_years)\n",
    "    for year in years:\n",
    "        print(f\"{year}: {year_counts.get(year, 0)}\")\n",
    "    \n",
    "    return year_pattern\n",
    "\n",
    "\n",
    "# Extract the most common year from the text\n",
    "def extract_most_common_year(text, year_pattern):\n",
    "    found_years = year_pattern.findall(text)\n",
    "    if not found_years:\n",
    "        return np.nan  # or 'No year found'\n",
    "    counter = Counter(found_years)\n",
    "    # returns the most common year\n",
    "    return counter.most_common(1)[0][0]"
   ]
  },
  {
   "cell_type": "markdown",
   "id": "7c4a65db",
   "metadata": {},
   "source": [
    "## Celebrity"
   ]
  },
  {
   "cell_type": "markdown",
   "id": "804487ea",
   "metadata": {},
   "source": [
    "paper di riferimento: https://arxiv.org/abs/1708.07104\n",
    "\n",
    "tema: gossip e celebrità\n",
    "\n",
    "pubblicazione: 2017\n",
    "\n",
    "date paper: non segna date\n",
    "\n",
    "dataset originale (NON CI SONO date): https://web.eecs.umich.edu/~mihalcea/downloads.html?utm_source=chatgpt.com#FakeNews\n",
    "\n",
    "----\n",
    "\n",
    "**RISULTATO:**\n",
    "* Molto probabile dal 2010 al 2017\n",
    "* Meno probabile dal 2000 al 2009"
   ]
  },
  {
   "cell_type": "code",
   "execution_count": 40,
   "id": "1b842096",
   "metadata": {},
   "outputs": [],
   "source": [
    "percorso_file = \"datasets/Celebrity/df_celebrity.csv\"\n",
    "df = None\n",
    "df = pd.read_csv(percorso_file, sep=\"\\t\", encoding=\"utf-8\")"
   ]
  },
  {
   "cell_type": "code",
   "execution_count": 41,
   "id": "6d5180ec",
   "metadata": {},
   "outputs": [
    {
     "data": {
      "text/html": [
       "<div>\n",
       "<style scoped>\n",
       "    .dataframe tbody tr th:only-of-type {\n",
       "        vertical-align: middle;\n",
       "    }\n",
       "\n",
       "    .dataframe tbody tr th {\n",
       "        vertical-align: top;\n",
       "    }\n",
       "\n",
       "    .dataframe thead th {\n",
       "        text-align: right;\n",
       "    }\n",
       "</style>\n",
       "<table border=\"1\" class=\"dataframe\">\n",
       "  <thead>\n",
       "    <tr style=\"text-align: right;\">\n",
       "      <th></th>\n",
       "      <th>Unnamed: 0</th>\n",
       "      <th>texts</th>\n",
       "      <th>labels</th>\n",
       "    </tr>\n",
       "  </thead>\n",
       "  <tbody>\n",
       "    <tr>\n",
       "      <th>0</th>\n",
       "      <td>0</td>\n",
       "      <td>Robert Pattinson and FKA Twigs Take Cannes in ...</td>\n",
       "      <td>0</td>\n",
       "    </tr>\n",
       "    <tr>\n",
       "      <th>1</th>\n",
       "      <td>1</td>\n",
       "      <td>Kathy Griffin Wants To Get Roasted On Comedy C...</td>\n",
       "      <td>1</td>\n",
       "    </tr>\n",
       "    <tr>\n",
       "      <th>2</th>\n",
       "      <td>2</td>\n",
       "      <td>WATCH: Donald Trump's Ex-Wife Marla Maples Get...</td>\n",
       "      <td>0</td>\n",
       "    </tr>\n",
       "    <tr>\n",
       "      <th>3</th>\n",
       "      <td>3</td>\n",
       "      <td>Jennifer Hudson And Kelly Clarkson Are Coming ...</td>\n",
       "      <td>0</td>\n",
       "    </tr>\n",
       "    <tr>\n",
       "      <th>4</th>\n",
       "      <td>4</td>\n",
       "      <td>'Girl' Fight! Kanye West Confronts Anna Wintou...</td>\n",
       "      <td>1</td>\n",
       "    </tr>\n",
       "  </tbody>\n",
       "</table>\n",
       "</div>"
      ],
      "text/plain": [
       "   Unnamed: 0                                              texts  labels\n",
       "0           0  Robert Pattinson and FKA Twigs Take Cannes in ...       0\n",
       "1           1  Kathy Griffin Wants To Get Roasted On Comedy C...       1\n",
       "2           2  WATCH: Donald Trump's Ex-Wife Marla Maples Get...       0\n",
       "3           3  Jennifer Hudson And Kelly Clarkson Are Coming ...       0\n",
       "4           4  'Girl' Fight! Kanye West Confronts Anna Wintou...       1"
      ]
     },
     "execution_count": 41,
     "metadata": {},
     "output_type": "execute_result"
    }
   ],
   "source": [
    "df.head()"
   ]
  },
  {
   "cell_type": "code",
   "execution_count": 42,
   "id": "8f809697",
   "metadata": {},
   "outputs": [
    {
     "name": "stdout",
     "output_type": "stream",
     "text": [
      "Total number of rows: 500\n",
      "Number of Real News: 250\n",
      "Number of Fake News: 250\n"
     ]
    }
   ],
   "source": [
    "# print total length\n",
    "print(\"Total number of rows:\", len(df))\n",
    "\n",
    "# print number of 0 labels\n",
    "print(\"Number of Real News:\", (df['labels'] == 0).sum())\n",
    "# print number of 1 labels\n",
    "print(\"Number of Fake News:\", (df['labels'] == 1).sum())"
   ]
  },
  {
   "cell_type": "code",
   "execution_count": 43,
   "id": "eb909db3",
   "metadata": {},
   "outputs": [
    {
     "name": "stdout",
     "output_type": "stream",
     "text": [
      "2000: 11\n",
      "2001: 14\n",
      "2002: 17\n",
      "2003: 19\n",
      "2004: 17\n",
      "2005: 18\n",
      "2006: 11\n",
      "2007: 17\n",
      "2008: 22\n",
      "2009: 13\n",
      "2010: 24\n",
      "2011: 15\n",
      "2012: 29\n",
      "2013: 33\n",
      "2014: 56\n",
      "2015: 52\n",
      "2016: 83\n",
      "2017: 53\n"
     ]
    }
   ],
   "source": [
    "start_year = 2000\n",
    "end_year = 2017\n",
    "year_pattern = count_years_in_texts(df, start_year, end_year, column='texts')"
   ]
  },
  {
   "cell_type": "code",
   "execution_count": 44,
   "id": "5183de0c",
   "metadata": {},
   "outputs": [
    {
     "name": "stdout",
     "output_type": "stream",
     "text": [
      "NaN year count: 288 over 500 rows\n"
     ]
    }
   ],
   "source": [
    "df['year'] = df['texts'].apply(extract_most_common_year, year_pattern=year_pattern)\n",
    "\n",
    "# count NaN \"year\" rows\n",
    "print(f\"NaN year count: {df['year'].isnull().sum()} over {len(df)} rows\")"
   ]
  },
  {
   "cell_type": "code",
   "execution_count": 45,
   "id": "45e49cb1",
   "metadata": {},
   "outputs": [
    {
     "data": {
      "text/plain": [
       "year\n",
       "2000     2\n",
       "2001     3\n",
       "2002     5\n",
       "2003     6\n",
       "2004     6\n",
       "2005     8\n",
       "2006     4\n",
       "2007     7\n",
       "2008     9\n",
       "2009     6\n",
       "2010     9\n",
       "2011     6\n",
       "2012    12\n",
       "2013    14\n",
       "2014    20\n",
       "2015    24\n",
       "2016    38\n",
       "2017    33\n",
       "Name: count, dtype: int64"
      ]
     },
     "execution_count": 45,
     "metadata": {},
     "output_type": "execute_result"
    }
   ],
   "source": [
    "df['year'].value_counts().sort_index()"
   ]
  },
  {
   "cell_type": "markdown",
   "id": "0cddec5c",
   "metadata": {},
   "source": [
    "## CIDII"
   ]
  },
  {
   "cell_type": "markdown",
   "id": "00d79569",
   "metadata": {},
   "source": [
    "paper di riferimento: http://mjs.um.edu.my/index.php/MJCS/article/view/41935\n",
    "\n",
    "tema: problemi Islamici\n",
    "\n",
    "pubblicazione: \n",
    "\n",
    "date paper: dal 1/1/2016 al 20/1/2021\n",
    "\n",
    "dataset originale (NON CI SONO date): https://drive.google.com/drive/folders/14HBFsDAe8hbNn6S6qTJ84o-9_IETDOq0\n",
    "\n",
    "----\n",
    "\n",
    "**RISULTATO:**\n",
    "* Non si trovano date neanche nel testo"
   ]
  },
  {
   "cell_type": "code",
   "execution_count": 46,
   "id": "46dbf34d",
   "metadata": {},
   "outputs": [],
   "source": [
    "percorso_file = \"datasets/CIDII/df_cidii.csv\"\n",
    "df = None\n",
    "df = pd.read_csv(percorso_file, sep=\"\\t\", encoding=\"utf-8\")"
   ]
  },
  {
   "cell_type": "code",
   "execution_count": 47,
   "id": "f03f418e",
   "metadata": {},
   "outputs": [
    {
     "data": {
      "text/html": [
       "<div>\n",
       "<style scoped>\n",
       "    .dataframe tbody tr th:only-of-type {\n",
       "        vertical-align: middle;\n",
       "    }\n",
       "\n",
       "    .dataframe tbody tr th {\n",
       "        vertical-align: top;\n",
       "    }\n",
       "\n",
       "    .dataframe thead th {\n",
       "        text-align: right;\n",
       "    }\n",
       "</style>\n",
       "<table border=\"1\" class=\"dataframe\">\n",
       "  <thead>\n",
       "    <tr style=\"text-align: right;\">\n",
       "      <th></th>\n",
       "      <th>Unnamed: 0</th>\n",
       "      <th>texts</th>\n",
       "      <th>labels</th>\n",
       "    </tr>\n",
       "  </thead>\n",
       "  <tbody>\n",
       "    <tr>\n",
       "      <th>0</th>\n",
       "      <td>0</td>\n",
       "      <td>Muhammad permitted lying (Sahih Muslim 6303, B...</td>\n",
       "      <td>1</td>\n",
       "    </tr>\n",
       "    <tr>\n",
       "      <th>1</th>\n",
       "      <td>1</td>\n",
       "      <td>And one of His signs is that He created for yo...</td>\n",
       "      <td>0</td>\n",
       "    </tr>\n",
       "    <tr>\n",
       "      <th>2</th>\n",
       "      <td>2</td>\n",
       "      <td>She reported God's Messenger as saying, The be...</td>\n",
       "      <td>0</td>\n",
       "    </tr>\n",
       "    <tr>\n",
       "      <th>3</th>\n",
       "      <td>3</td>\n",
       "      <td>Sahl bin Hunaif and Qais bin Sad were sitting ...</td>\n",
       "      <td>0</td>\n",
       "    </tr>\n",
       "    <tr>\n",
       "      <th>4</th>\n",
       "      <td>4</td>\n",
       "      <td>It should be noted that in the long history of...</td>\n",
       "      <td>0</td>\n",
       "    </tr>\n",
       "  </tbody>\n",
       "</table>\n",
       "</div>"
      ],
      "text/plain": [
       "   Unnamed: 0                                              texts  labels\n",
       "0           0  Muhammad permitted lying (Sahih Muslim 6303, B...       1\n",
       "1           1  And one of His signs is that He created for yo...       0\n",
       "2           2  She reported God's Messenger as saying, The be...       0\n",
       "3           3  Sahl bin Hunaif and Qais bin Sad were sitting ...       0\n",
       "4           4  It should be noted that in the long history of...       0"
      ]
     },
     "execution_count": 47,
     "metadata": {},
     "output_type": "execute_result"
    }
   ],
   "source": [
    "df.head()"
   ]
  },
  {
   "cell_type": "code",
   "execution_count": 48,
   "id": "17624367",
   "metadata": {},
   "outputs": [
    {
     "name": "stdout",
     "output_type": "stream",
     "text": [
      "Total number of rows: 722\n",
      "Number of Real News: 422\n",
      "Number of Fake News: 300\n"
     ]
    }
   ],
   "source": [
    "# print total length\n",
    "print(\"Total number of rows:\", len(df))\n",
    "\n",
    "# print number of 0 labels\n",
    "print(\"Number of Real News:\", (df['labels'] == 0).sum())\n",
    "# print number of 1 labels\n",
    "print(\"Number of Fake News:\", (df['labels'] == 1).sum())"
   ]
  },
  {
   "cell_type": "code",
   "execution_count": 49,
   "id": "8897b44b",
   "metadata": {},
   "outputs": [
    {
     "name": "stdout",
     "output_type": "stream",
     "text": [
      "2016: 0\n",
      "2017: 0\n",
      "2018: 0\n",
      "2019: 0\n",
      "2020: 0\n",
      "2021: 0\n"
     ]
    }
   ],
   "source": [
    "start_year = 2016\n",
    "end_year = 2021\n",
    "year_pattern = count_years_in_texts(df, start_year, end_year, column='texts')"
   ]
  },
  {
   "cell_type": "markdown",
   "id": "4d025c91",
   "metadata": {},
   "source": [
    "## Fa-KES"
   ]
  },
  {
   "cell_type": "markdown",
   "id": "ecdc120b",
   "metadata": {},
   "source": [
    "paper di riferimento: https://ojs.aaai.org/index.php/ICWSM/article/view/3254\n",
    "\n",
    "tema: guerra in Siria\n",
    "\n",
    "pubblicazione: 2019\n",
    "\n",
    "date apper: dal 2011 al 2018\n",
    "\n",
    "dataset originale (CI SONO date): https://ojs.aaai.org/index.php/ICWSM/article/view/3254\n",
    "\n",
    "----\n",
    "\n",
    "**RISULTATO:**\n",
    "* Molte news dal 2013 al 2017\n",
    "* Poche news del 2011 e 2012"
   ]
  },
  {
   "cell_type": "code",
   "execution_count": 50,
   "id": "ec2ce25a",
   "metadata": {},
   "outputs": [],
   "source": [
    "percorso_file = \"datasets/FaKES/df_fakes.csv\"\n",
    "df = None\n",
    "df = pd.read_csv(percorso_file, sep=\"\\t\", encoding=\"utf-8\")"
   ]
  },
  {
   "cell_type": "code",
   "execution_count": 51,
   "id": "fe416f30",
   "metadata": {},
   "outputs": [
    {
     "data": {
      "text/html": [
       "<div>\n",
       "<style scoped>\n",
       "    .dataframe tbody tr th:only-of-type {\n",
       "        vertical-align: middle;\n",
       "    }\n",
       "\n",
       "    .dataframe tbody tr th {\n",
       "        vertical-align: top;\n",
       "    }\n",
       "\n",
       "    .dataframe thead th {\n",
       "        text-align: right;\n",
       "    }\n",
       "</style>\n",
       "<table border=\"1\" class=\"dataframe\">\n",
       "  <thead>\n",
       "    <tr style=\"text-align: right;\">\n",
       "      <th></th>\n",
       "      <th>Unnamed: 0</th>\n",
       "      <th>texts</th>\n",
       "      <th>labels</th>\n",
       "    </tr>\n",
       "  </thead>\n",
       "  <tbody>\n",
       "    <tr>\n",
       "      <th>0</th>\n",
       "      <td>0</td>\n",
       "      <td>6 September 2016 10 civilians killed 15 injure...</td>\n",
       "      <td>1</td>\n",
       "    </tr>\n",
       "    <tr>\n",
       "      <th>1</th>\n",
       "      <td>1</td>\n",
       "      <td>05-09-2013 Damascus Car bomb Kills Four . Four...</td>\n",
       "      <td>1</td>\n",
       "    </tr>\n",
       "    <tr>\n",
       "      <th>2</th>\n",
       "      <td>2</td>\n",
       "      <td>Thu Aug 18 2016 70 Militants Killed in Aleppos...</td>\n",
       "      <td>0</td>\n",
       "    </tr>\n",
       "    <tr>\n",
       "      <th>3</th>\n",
       "      <td>3</td>\n",
       "      <td>1 February 2016 Russian Aerospace Forces destr...</td>\n",
       "      <td>0</td>\n",
       "    </tr>\n",
       "    <tr>\n",
       "      <th>4</th>\n",
       "      <td>4</td>\n",
       "      <td>Date of publication 5 July 2016 The bomber was...</td>\n",
       "      <td>0</td>\n",
       "    </tr>\n",
       "  </tbody>\n",
       "</table>\n",
       "</div>"
      ],
      "text/plain": [
       "   Unnamed: 0                                              texts  labels\n",
       "0           0  6 September 2016 10 civilians killed 15 injure...       1\n",
       "1           1  05-09-2013 Damascus Car bomb Kills Four . Four...       1\n",
       "2           2  Thu Aug 18 2016 70 Militants Killed in Aleppos...       0\n",
       "3           3  1 February 2016 Russian Aerospace Forces destr...       0\n",
       "4           4  Date of publication 5 July 2016 The bomber was...       0"
      ]
     },
     "execution_count": 51,
     "metadata": {},
     "output_type": "execute_result"
    }
   ],
   "source": [
    "df.head()"
   ]
  },
  {
   "cell_type": "code",
   "execution_count": 52,
   "id": "a1e28a9c",
   "metadata": {},
   "outputs": [
    {
     "name": "stdout",
     "output_type": "stream",
     "text": [
      "Total number of rows: 804\n",
      "Number of Real News: 426\n",
      "Number of Fake News: 378\n"
     ]
    }
   ],
   "source": [
    "# print total length\n",
    "print(\"Total number of rows:\", len(df))\n",
    "\n",
    "# print number of 0 labels\n",
    "print(\"Number of Real News:\", (df['labels'] == 0).sum())\n",
    "# print number of 1 labels\n",
    "print(\"Number of Fake News:\", (df['labels'] == 1).sum())"
   ]
  },
  {
   "cell_type": "code",
   "execution_count": 53,
   "id": "c486a615",
   "metadata": {},
   "outputs": [
    {
     "name": "stdout",
     "output_type": "stream",
     "text": [
      "2011: 210\n",
      "2012: 54\n",
      "2013: 115\n",
      "2014: 166\n",
      "2015: 139\n",
      "2016: 482\n",
      "2017: 171\n",
      "2018: 22\n"
     ]
    }
   ],
   "source": [
    "start_year = 2011\n",
    "end_year = 2018\n",
    "year_pattern = count_years_in_texts(df, start_year, end_year, column='texts')"
   ]
  },
  {
   "cell_type": "code",
   "execution_count": null,
   "id": "e3034c39",
   "metadata": {},
   "outputs": [
    {
     "name": "stdout",
     "output_type": "stream",
     "text": [
      "39 rows without a match\n"
     ]
    }
   ],
   "source": [
    "percorso_file_date = \"datasets/FaKES/date-FA-KES-Dataset.csv\"\n",
    "df_dates = pd.read_csv(percorso_file_date, encoding=\"ISO-8859-1\")\n",
    "\n",
    "df_dates = df_dates.rename(columns={\"article_content\": \"texts\"})\n",
    "# join on \"texts\" column, keeping all rows from df, but adding \"date\" from df_dates where available\n",
    "df_merged = pd.merge(df, df_dates[['texts', 'date']], on=\"texts\", how=\"left\")\n",
    "\n",
    "\n",
    "df_dates['date'] = pd.to_datetime(df_dates['date'], errors='coerce')\n",
    "df_dates.head()\n",
    "\n",
    "# check\n",
    "print(df_merged['date'].isna().sum(), \"rows without a match\")"
   ]
  },
  {
   "cell_type": "code",
   "execution_count": 18,
   "id": "5624df19",
   "metadata": {},
   "outputs": [
    {
     "data": {
      "text/plain": [
       "year\n",
       "2011.0      2\n",
       "2012.0      2\n",
       "2013.0     51\n",
       "2014.0    114\n",
       "2015.0     84\n",
       "2016.0    392\n",
       "2017.0    158\n",
       "Name: count, dtype: int64"
      ]
     },
     "execution_count": 18,
     "metadata": {},
     "output_type": "execute_result"
    }
   ],
   "source": [
    "df_merged['year'] = pd.to_datetime(df_merged['date'], errors='coerce').dt.year\n",
    "df_merged['year'].value_counts().sort_index()"
   ]
  },
  {
   "cell_type": "markdown",
   "id": "3419cf96",
   "metadata": {},
   "source": [
    "## FakeVsSatire"
   ]
  },
  {
   "cell_type": "markdown",
   "id": "3045ab7c",
   "metadata": {},
   "source": [
    "paper di riferimento: https://www.researchgate.net/publication/325212005_Fake_News_vs_Satire_A_Dataset_and_Analysis\n",
    "\n",
    "tema: politica\n",
    "\n",
    "pubblicazione: 2018\n",
    "\n",
    "date paper: tra 01/2016 e 10/2017\n",
    "\n",
    "dataset originale (NON CI SONO date): https://github.com/jgolbeck/fakenews\n",
    "\n",
    "----\n",
    "\n",
    "**RISULTATO:**\n",
    "* Solo news del 2016 e 2017"
   ]
  },
  {
   "cell_type": "code",
   "execution_count": 19,
   "id": "848603b2",
   "metadata": {},
   "outputs": [],
   "source": [
    "percorso_file = \"datasets/FakeVsSatire/df_fakevssatire.csv\"\n",
    "df = None\n",
    "df = pd.read_csv(percorso_file, sep=\"\\t\", encoding=\"utf-8\")"
   ]
  },
  {
   "cell_type": "code",
   "execution_count": 20,
   "id": "6aaf8d50",
   "metadata": {},
   "outputs": [
    {
     "data": {
      "text/html": [
       "<div>\n",
       "<style scoped>\n",
       "    .dataframe tbody tr th:only-of-type {\n",
       "        vertical-align: middle;\n",
       "    }\n",
       "\n",
       "    .dataframe tbody tr th {\n",
       "        vertical-align: top;\n",
       "    }\n",
       "\n",
       "    .dataframe thead th {\n",
       "        text-align: right;\n",
       "    }\n",
       "</style>\n",
       "<table border=\"1\" class=\"dataframe\">\n",
       "  <thead>\n",
       "    <tr style=\"text-align: right;\">\n",
       "      <th></th>\n",
       "      <th>Unnamed: 0</th>\n",
       "      <th>texts</th>\n",
       "      <th>labels</th>\n",
       "    </tr>\n",
       "  </thead>\n",
       "  <tbody>\n",
       "    <tr>\n",
       "      <th>0</th>\n",
       "      <td>0</td>\n",
       "      <td>HOSPITAL INSIDER REVEALS Ã¢ÂÂTHE GOVERNMENT ...</td>\n",
       "      <td>1</td>\n",
       "    </tr>\n",
       "    <tr>\n",
       "      <th>1</th>\n",
       "      <td>1</td>\n",
       "      <td>Whaaaat? Trump Chief Was Wiretapped Both Befor...</td>\n",
       "      <td>1</td>\n",
       "    </tr>\n",
       "    <tr>\n",
       "      <th>2</th>\n",
       "      <td>2</td>\n",
       "      <td>Obama Challenges ISIS to Meet U.N. Emissions G...</td>\n",
       "      <td>0</td>\n",
       "    </tr>\n",
       "    <tr>\n",
       "      <th>3</th>\n",
       "      <td>3</td>\n",
       "      <td>George Soros Furious After Cops Shut Down Leth...</td>\n",
       "      <td>1</td>\n",
       "    </tr>\n",
       "    <tr>\n",
       "      <th>4</th>\n",
       "      <td>4</td>\n",
       "      <td>Civil War Monuments are uprooting themselves a...</td>\n",
       "      <td>0</td>\n",
       "    </tr>\n",
       "  </tbody>\n",
       "</table>\n",
       "</div>"
      ],
      "text/plain": [
       "   Unnamed: 0                                              texts  labels\n",
       "0           0  HOSPITAL INSIDER REVEALS Ã¢ÂÂTHE GOVERNMENT ...       1\n",
       "1           1  Whaaaat? Trump Chief Was Wiretapped Both Befor...       1\n",
       "2           2  Obama Challenges ISIS to Meet U.N. Emissions G...       0\n",
       "3           3  George Soros Furious After Cops Shut Down Leth...       1\n",
       "4           4  Civil War Monuments are uprooting themselves a...       0"
      ]
     },
     "execution_count": 20,
     "metadata": {},
     "output_type": "execute_result"
    }
   ],
   "source": [
    "df.head()"
   ]
  },
  {
   "cell_type": "code",
   "execution_count": 21,
   "id": "0e23b6e2",
   "metadata": {},
   "outputs": [
    {
     "name": "stdout",
     "output_type": "stream",
     "text": [
      "Total number of rows: 486\n",
      "Number of Real News: 203\n",
      "Number of Fake News: 283\n"
     ]
    }
   ],
   "source": [
    "# print total length\n",
    "print(\"Total number of rows:\", len(df))\n",
    "\n",
    "# print number of 0 labels\n",
    "print(\"Number of Real News:\", (df['labels'] == 0).sum())\n",
    "# print number of 1 labels\n",
    "print(\"Number of Fake News:\", (df['labels'] == 1).sum())"
   ]
  },
  {
   "cell_type": "code",
   "execution_count": 22,
   "id": "00b9375a",
   "metadata": {},
   "outputs": [
    {
     "name": "stdout",
     "output_type": "stream",
     "text": [
      "2016: 108\n",
      "2017: 233\n"
     ]
    }
   ],
   "source": [
    "start_year = 2016\n",
    "end_year = 2017\n",
    "year_pattern = count_years_in_texts(df, start_year, end_year, column='texts')"
   ]
  },
  {
   "cell_type": "code",
   "execution_count": 23,
   "id": "e0fe9de8",
   "metadata": {},
   "outputs": [
    {
     "name": "stdout",
     "output_type": "stream",
     "text": [
      "NaN year count: 241 over 486 rows\n"
     ]
    }
   ],
   "source": [
    "df['year'] = df['texts'].apply(extract_most_common_year, year_pattern=year_pattern)\n",
    "\n",
    "# count NaN \"year\" rows\n",
    "print(f\"NaN year count: {df['year'].isnull().sum()} over {len(df)} rows\")"
   ]
  },
  {
   "cell_type": "code",
   "execution_count": 24,
   "id": "1ff2745c",
   "metadata": {},
   "outputs": [
    {
     "data": {
      "text/plain": [
       "year\n",
       "2016     60\n",
       "2017    185\n",
       "Name: count, dtype: int64"
      ]
     },
     "execution_count": 24,
     "metadata": {},
     "output_type": "execute_result"
    }
   ],
   "source": [
    "df['year'].value_counts().sort_index()"
   ]
  },
  {
   "cell_type": "markdown",
   "id": "0639f5e8",
   "metadata": {},
   "source": [
    "## Horne"
   ]
  },
  {
   "cell_type": "markdown",
   "id": "f6de45a0",
   "metadata": {},
   "source": [
    "paper di riferimento: https://ojs.aaai.org/index.php/ICWSM/article/view/14976\n",
    "\n",
    "tema: politica\n",
    "\n",
    "pubblicazione: 2017\n",
    "\n",
    "date paper: probabilmente news del 2016\n",
    "\n",
    "dataset originale (NON CI SONO date): https://github.com/BenjaminDHorne/fakenewsdata1\n",
    "\n",
    "----\n",
    "\n",
    "**RISULTATO:**\n",
    "* Ci sono più news del 2016 (ma poche sul totale)\n",
    "\n"
   ]
  },
  {
   "cell_type": "code",
   "execution_count": 25,
   "id": "a618c640",
   "metadata": {},
   "outputs": [],
   "source": [
    "percorso_file = \"datasets/Horne/df_horne_all.csv\"\n",
    "df = None\n",
    "df = pd.read_csv(percorso_file, sep=\"\\t\", encoding=\"utf-8\")"
   ]
  },
  {
   "cell_type": "code",
   "execution_count": 26,
   "id": "9f06f314",
   "metadata": {},
   "outputs": [
    {
     "data": {
      "text/html": [
       "<div>\n",
       "<style scoped>\n",
       "    .dataframe tbody tr th:only-of-type {\n",
       "        vertical-align: middle;\n",
       "    }\n",
       "\n",
       "    .dataframe tbody tr th {\n",
       "        vertical-align: top;\n",
       "    }\n",
       "\n",
       "    .dataframe thead th {\n",
       "        text-align: right;\n",
       "    }\n",
       "</style>\n",
       "<table border=\"1\" class=\"dataframe\">\n",
       "  <thead>\n",
       "    <tr style=\"text-align: right;\">\n",
       "      <th></th>\n",
       "      <th>Unnamed: 0</th>\n",
       "      <th>texts</th>\n",
       "      <th>labels</th>\n",
       "    </tr>\n",
       "  </thead>\n",
       "  <tbody>\n",
       "    <tr>\n",
       "      <th>0</th>\n",
       "      <td>0</td>\n",
       "      <td>NEW YORK, NYÃÂDuring his Sunday interview wi...</td>\n",
       "      <td>0</td>\n",
       "    </tr>\n",
       "    <tr>\n",
       "      <th>1</th>\n",
       "      <td>1</td>\n",
       "      <td>Congress is preparing to do major battle next ...</td>\n",
       "      <td>0</td>\n",
       "    </tr>\n",
       "    <tr>\n",
       "      <th>2</th>\n",
       "      <td>2</td>\n",
       "      <td>President-elect Donald Trump is lashing out in...</td>\n",
       "      <td>0</td>\n",
       "    </tr>\n",
       "    <tr>\n",
       "      <th>3</th>\n",
       "      <td>3</td>\n",
       "      <td>WASHINGTON DC ÃÂ On Monday afternoon, an ext...</td>\n",
       "      <td>1</td>\n",
       "    </tr>\n",
       "    <tr>\n",
       "      <th>4</th>\n",
       "      <td>4</td>\n",
       "      <td>Senate Democrats dropped their objections Frid...</td>\n",
       "      <td>0</td>\n",
       "    </tr>\n",
       "  </tbody>\n",
       "</table>\n",
       "</div>"
      ],
      "text/plain": [
       "   Unnamed: 0                                              texts  labels\n",
       "0           0  NEW YORK, NYÃÂDuring his Sunday interview wi...       0\n",
       "1           1  Congress is preparing to do major battle next ...       0\n",
       "2           2  President-elect Donald Trump is lashing out in...       0\n",
       "3           3  WASHINGTON DC ÃÂ On Monday afternoon, an ext...       1\n",
       "4           4  Senate Democrats dropped their objections Frid...       0"
      ]
     },
     "execution_count": 26,
     "metadata": {},
     "output_type": "execute_result"
    }
   ],
   "source": [
    "df.head()"
   ]
  },
  {
   "cell_type": "code",
   "execution_count": 27,
   "id": "2282c0ca",
   "metadata": {},
   "outputs": [
    {
     "name": "stdout",
     "output_type": "stream",
     "text": [
      "Total number of rows: 326\n",
      "Number of Real News: 203\n",
      "Number of Fake News: 123\n"
     ]
    }
   ],
   "source": [
    "# print total length\n",
    "print(\"Total number of rows:\", len(df))\n",
    "\n",
    "# print number of 0 labels\n",
    "print(\"Number of Real News:\", (df['labels'] == 0).sum())\n",
    "# print number of 1 labels\n",
    "print(\"Number of Fake News:\", (df['labels'] == 1).sum())"
   ]
  },
  {
   "cell_type": "code",
   "execution_count": 28,
   "id": "19f4fa48",
   "metadata": {},
   "outputs": [
    {
     "name": "stdout",
     "output_type": "stream",
     "text": [
      "2015: 47\n",
      "2016: 153\n",
      "2017: 17\n"
     ]
    }
   ],
   "source": [
    "start_year = 2015\n",
    "end_year = 2017\n",
    "year_pattern = count_years_in_texts(df, start_year, end_year, column='texts')"
   ]
  },
  {
   "cell_type": "code",
   "execution_count": 29,
   "id": "7a1ce590",
   "metadata": {},
   "outputs": [
    {
     "name": "stdout",
     "output_type": "stream",
     "text": [
      "NaN year count: 229 over 326 rows\n"
     ]
    }
   ],
   "source": [
    "df['year'] = df['texts'].apply(extract_most_common_year, year_pattern=year_pattern)\n",
    "\n",
    "# count NaN \"year\" rows\n",
    "print(f\"NaN year count: {df['year'].isnull().sum()} over {len(df)} rows\")"
   ]
  },
  {
   "cell_type": "code",
   "execution_count": 30,
   "id": "88d0c67e",
   "metadata": {},
   "outputs": [
    {
     "data": {
      "text/plain": [
       "year\n",
       "2015    23\n",
       "2016    61\n",
       "2017    13\n",
       "Name: count, dtype: int64"
      ]
     },
     "execution_count": 30,
     "metadata": {},
     "output_type": "execute_result"
    }
   ],
   "source": [
    "df['year'].value_counts().sort_index()"
   ]
  },
  {
   "cell_type": "markdown",
   "id": "4ab0881a",
   "metadata": {},
   "source": [
    "## Infodemic"
   ]
  },
  {
   "cell_type": "markdown",
   "id": "ab494324",
   "metadata": {},
   "source": [
    "paper di riferimento: https://arxiv.org/abs/2011.03327\n",
    "\n",
    "tema: covid\n",
    "\n",
    "pubblicazione: 2021\n",
    "\n",
    "date paper: sicuramente 2020 (forse anche 2021)\n",
    "\n",
    "dataset originale (NON CI SONO date): https://competitions.codalab.org/competitions/26655#phases\n",
    "\n",
    "----\n",
    "\n",
    "**RISULTATO:**\n",
    "* Solo news del 2020 (ma poche sul totale)"
   ]
  },
  {
   "cell_type": "code",
   "execution_count": 31,
   "id": "77f8a12b",
   "metadata": {},
   "outputs": [],
   "source": [
    "percorso_file = \"datasets/Infodemic/df_infodemic.csv\"\n",
    "df = None\n",
    "df = pd.read_csv(percorso_file, sep=\"\\t\", encoding=\"utf-8\")"
   ]
  },
  {
   "cell_type": "code",
   "execution_count": 32,
   "id": "34e86cb3",
   "metadata": {},
   "outputs": [
    {
     "data": {
      "text/html": [
       "<div>\n",
       "<style scoped>\n",
       "    .dataframe tbody tr th:only-of-type {\n",
       "        vertical-align: middle;\n",
       "    }\n",
       "\n",
       "    .dataframe tbody tr th {\n",
       "        vertical-align: top;\n",
       "    }\n",
       "\n",
       "    .dataframe thead th {\n",
       "        text-align: right;\n",
       "    }\n",
       "</style>\n",
       "<table border=\"1\" class=\"dataframe\">\n",
       "  <thead>\n",
       "    <tr style=\"text-align: right;\">\n",
       "      <th></th>\n",
       "      <th>Unnamed: 0</th>\n",
       "      <th>texts</th>\n",
       "      <th>labels</th>\n",
       "    </tr>\n",
       "  </thead>\n",
       "  <tbody>\n",
       "    <tr>\n",
       "      <th>0</th>\n",
       "      <td>0</td>\n",
       "      <td>The CDC currently reports 99031 deaths. In gen...</td>\n",
       "      <td>0.0</td>\n",
       "    </tr>\n",
       "    <tr>\n",
       "      <th>1</th>\n",
       "      <td>1</td>\n",
       "      <td>States reported 1121 deaths a small rise from ...</td>\n",
       "      <td>0.0</td>\n",
       "    </tr>\n",
       "    <tr>\n",
       "      <th>2</th>\n",
       "      <td>2</td>\n",
       "      <td>Politically Correct Woman (Almost) Uses Pandem...</td>\n",
       "      <td>1.0</td>\n",
       "    </tr>\n",
       "    <tr>\n",
       "      <th>3</th>\n",
       "      <td>3</td>\n",
       "      <td>#IndiaFightsCorona: We have 1524 #COVID testin...</td>\n",
       "      <td>0.0</td>\n",
       "    </tr>\n",
       "    <tr>\n",
       "      <th>4</th>\n",
       "      <td>4</td>\n",
       "      <td>Populous states can generate large case counts...</td>\n",
       "      <td>0.0</td>\n",
       "    </tr>\n",
       "  </tbody>\n",
       "</table>\n",
       "</div>"
      ],
      "text/plain": [
       "   Unnamed: 0                                              texts  labels\n",
       "0           0  The CDC currently reports 99031 deaths. In gen...     0.0\n",
       "1           1  States reported 1121 deaths a small rise from ...     0.0\n",
       "2           2  Politically Correct Woman (Almost) Uses Pandem...     1.0\n",
       "3           3  #IndiaFightsCorona: We have 1524 #COVID testin...     0.0\n",
       "4           4  Populous states can generate large case counts...     0.0"
      ]
     },
     "execution_count": 32,
     "metadata": {},
     "output_type": "execute_result"
    }
   ],
   "source": [
    "df.head()"
   ]
  },
  {
   "cell_type": "code",
   "execution_count": 33,
   "id": "743315c5",
   "metadata": {},
   "outputs": [
    {
     "name": "stdout",
     "output_type": "stream",
     "text": [
      "Total number of rows: 10561\n",
      "Number of Real News: 5526\n",
      "Number of Fake News: 5033\n"
     ]
    }
   ],
   "source": [
    "# print total length\n",
    "print(\"Total number of rows:\", len(df))\n",
    "\n",
    "# print number of 0 labels\n",
    "print(\"Number of Real News:\", (df['labels'] == 0).sum())\n",
    "# print number of 1 labels\n",
    "print(\"Number of Fake News:\", (df['labels'] == 1).sum())"
   ]
  },
  {
   "cell_type": "code",
   "execution_count": 34,
   "id": "743691cd",
   "metadata": {},
   "outputs": [
    {
     "name": "stdout",
     "output_type": "stream",
     "text": [
      "2020: 422\n",
      "2021: 16\n"
     ]
    }
   ],
   "source": [
    "start_year = 2020\n",
    "end_year = 2021\n",
    "year_pattern = count_years_in_texts(df, start_year, end_year, column='texts')"
   ]
  },
  {
   "cell_type": "code",
   "execution_count": 35,
   "id": "c347e880",
   "metadata": {},
   "outputs": [
    {
     "name": "stdout",
     "output_type": "stream",
     "text": [
      "NaN year count: 10196 over 10561 rows\n"
     ]
    }
   ],
   "source": [
    "df['year'] = df['texts'].apply(extract_most_common_year, year_pattern=year_pattern)\n",
    "\n",
    "# count NaN \"year\" rows\n",
    "print(f\"NaN year count: {df['year'].isnull().sum()} over {len(df)} rows\")"
   ]
  },
  {
   "cell_type": "code",
   "execution_count": 36,
   "id": "a95f4669",
   "metadata": {},
   "outputs": [
    {
     "data": {
      "text/plain": [
       "year\n",
       "2020    352\n",
       "2021     13\n",
       "Name: count, dtype: int64"
      ]
     },
     "execution_count": 36,
     "metadata": {},
     "output_type": "execute_result"
    }
   ],
   "source": [
    "df['year'].value_counts().sort_index()"
   ]
  },
  {
   "cell_type": "markdown",
   "id": "fe1a3703",
   "metadata": {},
   "source": [
    "## ISOT"
   ]
  },
  {
   "cell_type": "markdown",
   "id": "df3b8176",
   "metadata": {},
   "source": [
    "paper di riferimento: https://www.researchgate.net/publication/320300831_Detection_of_Online_Fake_News_Using_N-Gram_Analysis_and_Machine_Learning_Techniques\n",
    "\n",
    "tema: Elezioni USA 2016\n",
    "\n",
    "pubblicazione: 2017\n",
    "\n",
    "date paper: news del 2016\n",
    "\n",
    "dataset originale (NON CI SONO date): https://onlineacademiccommunity.uvic.ca/isot/2022/11/27/fake-news-detection-datasets/?utm_source=chatgpt.com\n",
    "\n",
    "----\n",
    "\n",
    "**RISULTATO:**\n",
    "* Molte news del 2016\n",
    "* Possibli news del 2015 e 2017 (anni molto presenti anche se nel paper segna solo 2016)"
   ]
  },
  {
   "cell_type": "code",
   "execution_count": 37,
   "id": "91814e57",
   "metadata": {},
   "outputs": [],
   "source": [
    "percorso_file = \"datasets/ISOT/df_isot.csv\"\n",
    "df = None\n",
    "df = pd.read_csv(percorso_file, sep=\"\\t\", encoding=\"utf-8\")"
   ]
  },
  {
   "cell_type": "code",
   "execution_count": 38,
   "id": "b0f34ea6",
   "metadata": {},
   "outputs": [
    {
     "data": {
      "text/html": [
       "<div>\n",
       "<style scoped>\n",
       "    .dataframe tbody tr th:only-of-type {\n",
       "        vertical-align: middle;\n",
       "    }\n",
       "\n",
       "    .dataframe tbody tr th {\n",
       "        vertical-align: top;\n",
       "    }\n",
       "\n",
       "    .dataframe thead th {\n",
       "        text-align: right;\n",
       "    }\n",
       "</style>\n",
       "<table border=\"1\" class=\"dataframe\">\n",
       "  <thead>\n",
       "    <tr style=\"text-align: right;\">\n",
       "      <th></th>\n",
       "      <th>Unnamed: 0.1</th>\n",
       "      <th>Unnamed: 0</th>\n",
       "      <th>texts</th>\n",
       "      <th>labels</th>\n",
       "    </tr>\n",
       "  </thead>\n",
       "  <tbody>\n",
       "    <tr>\n",
       "      <th>0</th>\n",
       "      <td>0</td>\n",
       "      <td>0</td>\n",
       "      <td>WASHINGTON (Reuters) - U.S. House Speaker Paul...</td>\n",
       "      <td>0</td>\n",
       "    </tr>\n",
       "    <tr>\n",
       "      <th>1</th>\n",
       "      <td>1</td>\n",
       "      <td>1</td>\n",
       "      <td>BRUSSELS (Reuters) - The European UnionÃ¢ÂÂs...</td>\n",
       "      <td>0</td>\n",
       "    </tr>\n",
       "    <tr>\n",
       "      <th>2</th>\n",
       "      <td>2</td>\n",
       "      <td>2</td>\n",
       "      <td>MEXICO CITY (Reuters) - Mexican President Enri...</td>\n",
       "      <td>0</td>\n",
       "    </tr>\n",
       "    <tr>\n",
       "      <th>3</th>\n",
       "      <td>3</td>\n",
       "      <td>3</td>\n",
       "      <td>Far too many people don t understand the aweso...</td>\n",
       "      <td>1</td>\n",
       "    </tr>\n",
       "    <tr>\n",
       "      <th>4</th>\n",
       "      <td>4</td>\n",
       "      <td>4</td>\n",
       "      <td>MAPUTO (Reuters) - Gun battles last week betwe...</td>\n",
       "      <td>0</td>\n",
       "    </tr>\n",
       "  </tbody>\n",
       "</table>\n",
       "</div>"
      ],
      "text/plain": [
       "   Unnamed: 0.1  Unnamed: 0  \\\n",
       "0             0           0   \n",
       "1             1           1   \n",
       "2             2           2   \n",
       "3             3           3   \n",
       "4             4           4   \n",
       "\n",
       "                                               texts  labels  \n",
       "0  WASHINGTON (Reuters) - U.S. House Speaker Paul...       0  \n",
       "1  BRUSSELS (Reuters) - The European UnionÃ¢ÂÂs...       0  \n",
       "2  MEXICO CITY (Reuters) - Mexican President Enri...       0  \n",
       "3  Far too many people don t understand the aweso...       1  \n",
       "4  MAPUTO (Reuters) - Gun battles last week betwe...       0  "
      ]
     },
     "execution_count": 38,
     "metadata": {},
     "output_type": "execute_result"
    }
   ],
   "source": [
    "df.head()"
   ]
  },
  {
   "cell_type": "code",
   "execution_count": 39,
   "id": "3a8538f8",
   "metadata": {},
   "outputs": [
    {
     "name": "stdout",
     "output_type": "stream",
     "text": [
      "Total number of rows: 44271\n",
      "Number of Real News: 21416\n",
      "Number of Fake News: 22855\n"
     ]
    }
   ],
   "source": [
    "# print total length\n",
    "print(\"Total number of rows:\", len(df))\n",
    "\n",
    "# print number of 0 labels\n",
    "print(\"Number of Real News:\", (df['labels'] == 0).sum())\n",
    "# print number of 1 labels\n",
    "print(\"Number of Fake News:\", (df['labels'] == 1).sum())"
   ]
  },
  {
   "cell_type": "code",
   "execution_count": 40,
   "id": "785163e1",
   "metadata": {},
   "outputs": [
    {
     "name": "stdout",
     "output_type": "stream",
     "text": [
      "2015: 5222\n",
      "2016: 10223\n",
      "2017: 5629\n"
     ]
    }
   ],
   "source": [
    "start_year = 2015\n",
    "end_year = 2017\n",
    "year_pattern = count_years_in_texts(df, start_year, end_year, column='texts')"
   ]
  },
  {
   "cell_type": "code",
   "execution_count": 41,
   "id": "1e9e015c",
   "metadata": {},
   "outputs": [
    {
     "name": "stdout",
     "output_type": "stream",
     "text": [
      "NaN year count: 32857 over 44271 rows\n"
     ]
    }
   ],
   "source": [
    "df['year'] = df['texts'].apply(extract_most_common_year, year_pattern=year_pattern)\n",
    "\n",
    "# count NaN \"year\" rows\n",
    "print(f\"NaN year count: {df['year'].isnull().sum()} over {len(df)} rows\")"
   ]
  },
  {
   "cell_type": "code",
   "execution_count": 42,
   "id": "793a5393",
   "metadata": {},
   "outputs": [
    {
     "data": {
      "text/plain": [
       "year\n",
       "2015    3213\n",
       "2016    5759\n",
       "2017    2442\n",
       "Name: count, dtype: int64"
      ]
     },
     "execution_count": 42,
     "metadata": {},
     "output_type": "execute_result"
    }
   ],
   "source": [
    "df['year'].value_counts().sort_index()"
   ]
  },
  {
   "cell_type": "markdown",
   "id": "cc41039d",
   "metadata": {},
   "source": [
    "## Kaggle_clement"
   ]
  },
  {
   "cell_type": "markdown",
   "id": "ae8b78ae",
   "metadata": {},
   "source": [
    "tema: politica (e un po attualità)\n",
    "\n",
    "dataset originale (CI SONO date)\n",
    "\n",
    "----\n",
    "\n",
    "**RISULTATO:**\n",
    "* Solo news dal 2015 al 2017\n",
    "* Sicure dal dataset originale"
   ]
  },
  {
   "cell_type": "code",
   "execution_count": 43,
   "id": "f5c92242",
   "metadata": {},
   "outputs": [],
   "source": [
    "percorso_file = \"datasets/Kaggle_clement/df_kaggle_clement_def.csv\"\n",
    "df = None\n",
    "\n",
    "df = pd.read_csv(percorso_file, encoding=\"utf-8\")"
   ]
  },
  {
   "cell_type": "code",
   "execution_count": 44,
   "id": "cbdd347c",
   "metadata": {},
   "outputs": [
    {
     "data": {
      "text/html": [
       "<div>\n",
       "<style scoped>\n",
       "    .dataframe tbody tr th:only-of-type {\n",
       "        vertical-align: middle;\n",
       "    }\n",
       "\n",
       "    .dataframe tbody tr th {\n",
       "        vertical-align: top;\n",
       "    }\n",
       "\n",
       "    .dataframe thead th {\n",
       "        text-align: right;\n",
       "    }\n",
       "</style>\n",
       "<table border=\"1\" class=\"dataframe\">\n",
       "  <thead>\n",
       "    <tr style=\"text-align: right;\">\n",
       "      <th></th>\n",
       "      <th>Unnamed: 0</th>\n",
       "      <th>title</th>\n",
       "      <th>text</th>\n",
       "      <th>subject</th>\n",
       "      <th>date</th>\n",
       "      <th>labels</th>\n",
       "    </tr>\n",
       "  </thead>\n",
       "  <tbody>\n",
       "    <tr>\n",
       "      <th>0</th>\n",
       "      <td>0</td>\n",
       "      <td>As U.S. budget fight looms, Republicans flip t...</td>\n",
       "      <td>WASHINGTON (Reuters) - The head of a conservat...</td>\n",
       "      <td>politicsNews</td>\n",
       "      <td>December 31, 2017</td>\n",
       "      <td>0</td>\n",
       "    </tr>\n",
       "    <tr>\n",
       "      <th>1</th>\n",
       "      <td>1</td>\n",
       "      <td>U.S. military to accept transgender recruits o...</td>\n",
       "      <td>WASHINGTON (Reuters) - Transgender people will...</td>\n",
       "      <td>politicsNews</td>\n",
       "      <td>December 29, 2017</td>\n",
       "      <td>0</td>\n",
       "    </tr>\n",
       "    <tr>\n",
       "      <th>2</th>\n",
       "      <td>2</td>\n",
       "      <td>Senior U.S. Republican senator: 'Let Mr. Muell...</td>\n",
       "      <td>WASHINGTON (Reuters) - The special counsel inv...</td>\n",
       "      <td>politicsNews</td>\n",
       "      <td>December 31, 2017</td>\n",
       "      <td>0</td>\n",
       "    </tr>\n",
       "    <tr>\n",
       "      <th>3</th>\n",
       "      <td>3</td>\n",
       "      <td>FBI Russia probe helped by Australian diplomat...</td>\n",
       "      <td>WASHINGTON (Reuters) - Trump campaign adviser ...</td>\n",
       "      <td>politicsNews</td>\n",
       "      <td>December 30, 2017</td>\n",
       "      <td>0</td>\n",
       "    </tr>\n",
       "    <tr>\n",
       "      <th>4</th>\n",
       "      <td>4</td>\n",
       "      <td>Trump wants Postal Service to charge 'much mor...</td>\n",
       "      <td>SEATTLE/WASHINGTON (Reuters) - President Donal...</td>\n",
       "      <td>politicsNews</td>\n",
       "      <td>December 29, 2017</td>\n",
       "      <td>0</td>\n",
       "    </tr>\n",
       "  </tbody>\n",
       "</table>\n",
       "</div>"
      ],
      "text/plain": [
       "   Unnamed: 0                                              title  \\\n",
       "0           0  As U.S. budget fight looms, Republicans flip t...   \n",
       "1           1  U.S. military to accept transgender recruits o...   \n",
       "2           2  Senior U.S. Republican senator: 'Let Mr. Muell...   \n",
       "3           3  FBI Russia probe helped by Australian diplomat...   \n",
       "4           4  Trump wants Postal Service to charge 'much mor...   \n",
       "\n",
       "                                                text       subject  \\\n",
       "0  WASHINGTON (Reuters) - The head of a conservat...  politicsNews   \n",
       "1  WASHINGTON (Reuters) - Transgender people will...  politicsNews   \n",
       "2  WASHINGTON (Reuters) - The special counsel inv...  politicsNews   \n",
       "3  WASHINGTON (Reuters) - Trump campaign adviser ...  politicsNews   \n",
       "4  SEATTLE/WASHINGTON (Reuters) - President Donal...  politicsNews   \n",
       "\n",
       "                 date  labels  \n",
       "0  December 31, 2017        0  \n",
       "1  December 29, 2017        0  \n",
       "2  December 31, 2017        0  \n",
       "3  December 30, 2017        0  \n",
       "4  December 29, 2017        0  "
      ]
     },
     "execution_count": 44,
     "metadata": {},
     "output_type": "execute_result"
    }
   ],
   "source": [
    "df.head()"
   ]
  },
  {
   "cell_type": "code",
   "execution_count": 45,
   "id": "613e6fac",
   "metadata": {},
   "outputs": [
    {
     "data": {
      "text/plain": [
       "array(['politicsNews', 'worldnews', 'News', 'politics', 'Government News',\n",
       "       'left-news', 'US_News', 'Middle-east'], dtype=object)"
      ]
     },
     "execution_count": 45,
     "metadata": {},
     "output_type": "execute_result"
    }
   ],
   "source": [
    "# print different values of 'subject' column\n",
    "df['subject'].unique()"
   ]
  },
  {
   "cell_type": "code",
   "execution_count": 46,
   "id": "0f8d7456",
   "metadata": {},
   "outputs": [
    {
     "name": "stdout",
     "output_type": "stream",
     "text": [
      "Total number of rows: 44898\n",
      "Number of Real News: 21417\n",
      "Number of Fake News: 23481\n"
     ]
    }
   ],
   "source": [
    "# print total length\n",
    "print(\"Total number of rows:\", len(df))\n",
    "\n",
    "# print number of 0 labels\n",
    "print(\"Number of Real News:\", (df['labels'] == 0).sum())\n",
    "# print number of 1 labels\n",
    "print(\"Number of Fake News:\", (df['labels'] == 1).sum())"
   ]
  },
  {
   "cell_type": "code",
   "execution_count": 47,
   "id": "546b21a5",
   "metadata": {},
   "outputs": [
    {
     "name": "stdout",
     "output_type": "stream",
     "text": [
      "2015: 2485\n",
      "2016: 16470\n",
      "2017: 25904\n"
     ]
    }
   ],
   "source": [
    "years = [str(year) for year in range(2015, 2018)]\n",
    "year_pattern = re.compile(r'\\b(201[5-7])\\b')\n",
    "\n",
    "all_years = []\n",
    "for text in df['date']:\n",
    "    found_years = year_pattern.findall(text)\n",
    "    all_years.extend(found_years)\n",
    "\n",
    "year_counts = Counter(all_years)\n",
    "for year in years:\n",
    "    print(f\"{year}: {year_counts.get(year, 0)}\")"
   ]
  },
  {
   "cell_type": "markdown",
   "id": "e1420222",
   "metadata": {},
   "source": [
    "## Kaggle_meg"
   ]
  },
  {
   "cell_type": "markdown",
   "id": "ee17fa93",
   "metadata": {},
   "source": [
    "tema: ??\n",
    "\n",
    "dataset originale (CI SONO date): ??\n",
    "\n",
    "----\n",
    "\n",
    "**RISULTATO:**\n",
    "* TUTTE news del 2016\n",
    "* Sicure dal dataset originale\n"
   ]
  },
  {
   "cell_type": "code",
   "execution_count": 48,
   "id": "ffc95734",
   "metadata": {},
   "outputs": [],
   "source": [
    "percorso_file = \"datasets/Kaggle_meg/fake.csv\"\n",
    "df = None\n",
    "\n",
    "df = pd.read_csv(percorso_file, encoding=\"utf-8\")"
   ]
  },
  {
   "cell_type": "code",
   "execution_count": 49,
   "id": "15dd0775",
   "metadata": {},
   "outputs": [
    {
     "data": {
      "text/html": [
       "<div>\n",
       "<style scoped>\n",
       "    .dataframe tbody tr th:only-of-type {\n",
       "        vertical-align: middle;\n",
       "    }\n",
       "\n",
       "    .dataframe tbody tr th {\n",
       "        vertical-align: top;\n",
       "    }\n",
       "\n",
       "    .dataframe thead th {\n",
       "        text-align: right;\n",
       "    }\n",
       "</style>\n",
       "<table border=\"1\" class=\"dataframe\">\n",
       "  <thead>\n",
       "    <tr style=\"text-align: right;\">\n",
       "      <th></th>\n",
       "      <th>uuid</th>\n",
       "      <th>ord_in_thread</th>\n",
       "      <th>author</th>\n",
       "      <th>published</th>\n",
       "      <th>title</th>\n",
       "      <th>text</th>\n",
       "      <th>language</th>\n",
       "      <th>crawled</th>\n",
       "      <th>site_url</th>\n",
       "      <th>country</th>\n",
       "      <th>domain_rank</th>\n",
       "      <th>thread_title</th>\n",
       "      <th>spam_score</th>\n",
       "      <th>main_img_url</th>\n",
       "      <th>replies_count</th>\n",
       "      <th>participants_count</th>\n",
       "      <th>likes</th>\n",
       "      <th>comments</th>\n",
       "      <th>shares</th>\n",
       "      <th>type</th>\n",
       "    </tr>\n",
       "  </thead>\n",
       "  <tbody>\n",
       "    <tr>\n",
       "      <th>0</th>\n",
       "      <td>6a175f46bcd24d39b3e962ad0f29936721db70db</td>\n",
       "      <td>0</td>\n",
       "      <td>Barracuda Brigade</td>\n",
       "      <td>2016-10-26T21:41:00.000+03:00</td>\n",
       "      <td>Muslims BUSTED: They Stole Millions In Gov’t B...</td>\n",
       "      <td>Print They should pay all the back all the mon...</td>\n",
       "      <td>english</td>\n",
       "      <td>2016-10-27T01:49:27.168+03:00</td>\n",
       "      <td>100percentfedup.com</td>\n",
       "      <td>US</td>\n",
       "      <td>25689.0</td>\n",
       "      <td>Muslims BUSTED: They Stole Millions In Gov’t B...</td>\n",
       "      <td>0.000</td>\n",
       "      <td>http://bb4sp.com/wp-content/uploads/2016/10/Fu...</td>\n",
       "      <td>0</td>\n",
       "      <td>1</td>\n",
       "      <td>0</td>\n",
       "      <td>0</td>\n",
       "      <td>0</td>\n",
       "      <td>bias</td>\n",
       "    </tr>\n",
       "    <tr>\n",
       "      <th>1</th>\n",
       "      <td>2bdc29d12605ef9cf3f09f9875040a7113be5d5b</td>\n",
       "      <td>0</td>\n",
       "      <td>reasoning with facts</td>\n",
       "      <td>2016-10-29T08:47:11.259+03:00</td>\n",
       "      <td>Re: Why Did Attorney General Loretta Lynch Ple...</td>\n",
       "      <td>Why Did Attorney General Loretta Lynch Plead T...</td>\n",
       "      <td>english</td>\n",
       "      <td>2016-10-29T08:47:11.259+03:00</td>\n",
       "      <td>100percentfedup.com</td>\n",
       "      <td>US</td>\n",
       "      <td>25689.0</td>\n",
       "      <td>Re: Why Did Attorney General Loretta Lynch Ple...</td>\n",
       "      <td>0.000</td>\n",
       "      <td>http://bb4sp.com/wp-content/uploads/2016/10/Fu...</td>\n",
       "      <td>0</td>\n",
       "      <td>1</td>\n",
       "      <td>0</td>\n",
       "      <td>0</td>\n",
       "      <td>0</td>\n",
       "      <td>bias</td>\n",
       "    </tr>\n",
       "    <tr>\n",
       "      <th>2</th>\n",
       "      <td>c70e149fdd53de5e61c29281100b9de0ed268bc3</td>\n",
       "      <td>0</td>\n",
       "      <td>Barracuda Brigade</td>\n",
       "      <td>2016-10-31T01:41:49.479+02:00</td>\n",
       "      <td>BREAKING: Weiner Cooperating With FBI On Hilla...</td>\n",
       "      <td>Red State : \\nFox News Sunday reported this mo...</td>\n",
       "      <td>english</td>\n",
       "      <td>2016-10-31T01:41:49.479+02:00</td>\n",
       "      <td>100percentfedup.com</td>\n",
       "      <td>US</td>\n",
       "      <td>25689.0</td>\n",
       "      <td>BREAKING: Weiner Cooperating With FBI On Hilla...</td>\n",
       "      <td>0.000</td>\n",
       "      <td>http://bb4sp.com/wp-content/uploads/2016/10/Fu...</td>\n",
       "      <td>0</td>\n",
       "      <td>1</td>\n",
       "      <td>0</td>\n",
       "      <td>0</td>\n",
       "      <td>0</td>\n",
       "      <td>bias</td>\n",
       "    </tr>\n",
       "    <tr>\n",
       "      <th>3</th>\n",
       "      <td>7cf7c15731ac2a116dd7f629bd57ea468ed70284</td>\n",
       "      <td>0</td>\n",
       "      <td>Fed Up</td>\n",
       "      <td>2016-11-01T05:22:00.000+02:00</td>\n",
       "      <td>PIN DROP SPEECH BY FATHER OF DAUGHTER Kidnappe...</td>\n",
       "      <td>Email Kayla Mueller was a prisoner and torture...</td>\n",
       "      <td>english</td>\n",
       "      <td>2016-11-01T15:46:26.304+02:00</td>\n",
       "      <td>100percentfedup.com</td>\n",
       "      <td>US</td>\n",
       "      <td>25689.0</td>\n",
       "      <td>PIN DROP SPEECH BY FATHER OF DAUGHTER Kidnappe...</td>\n",
       "      <td>0.068</td>\n",
       "      <td>http://100percentfedup.com/wp-content/uploads/...</td>\n",
       "      <td>0</td>\n",
       "      <td>0</td>\n",
       "      <td>0</td>\n",
       "      <td>0</td>\n",
       "      <td>0</td>\n",
       "      <td>bias</td>\n",
       "    </tr>\n",
       "    <tr>\n",
       "      <th>4</th>\n",
       "      <td>0206b54719c7e241ffe0ad4315b808290dbe6c0f</td>\n",
       "      <td>0</td>\n",
       "      <td>Fed Up</td>\n",
       "      <td>2016-11-01T21:56:00.000+02:00</td>\n",
       "      <td>FANTASTIC! TRUMP'S 7 POINT PLAN To Reform Heal...</td>\n",
       "      <td>Email HEALTHCARE REFORM TO MAKE AMERICA GREAT ...</td>\n",
       "      <td>english</td>\n",
       "      <td>2016-11-01T23:59:42.266+02:00</td>\n",
       "      <td>100percentfedup.com</td>\n",
       "      <td>US</td>\n",
       "      <td>25689.0</td>\n",
       "      <td>FANTASTIC! TRUMP'S 7 POINT PLAN To Reform Heal...</td>\n",
       "      <td>0.865</td>\n",
       "      <td>http://100percentfedup.com/wp-content/uploads/...</td>\n",
       "      <td>0</td>\n",
       "      <td>0</td>\n",
       "      <td>0</td>\n",
       "      <td>0</td>\n",
       "      <td>0</td>\n",
       "      <td>bias</td>\n",
       "    </tr>\n",
       "  </tbody>\n",
       "</table>\n",
       "</div>"
      ],
      "text/plain": [
       "                                       uuid  ord_in_thread  \\\n",
       "0  6a175f46bcd24d39b3e962ad0f29936721db70db              0   \n",
       "1  2bdc29d12605ef9cf3f09f9875040a7113be5d5b              0   \n",
       "2  c70e149fdd53de5e61c29281100b9de0ed268bc3              0   \n",
       "3  7cf7c15731ac2a116dd7f629bd57ea468ed70284              0   \n",
       "4  0206b54719c7e241ffe0ad4315b808290dbe6c0f              0   \n",
       "\n",
       "                 author                      published  \\\n",
       "0     Barracuda Brigade  2016-10-26T21:41:00.000+03:00   \n",
       "1  reasoning with facts  2016-10-29T08:47:11.259+03:00   \n",
       "2     Barracuda Brigade  2016-10-31T01:41:49.479+02:00   \n",
       "3                Fed Up  2016-11-01T05:22:00.000+02:00   \n",
       "4                Fed Up  2016-11-01T21:56:00.000+02:00   \n",
       "\n",
       "                                               title  \\\n",
       "0  Muslims BUSTED: They Stole Millions In Gov’t B...   \n",
       "1  Re: Why Did Attorney General Loretta Lynch Ple...   \n",
       "2  BREAKING: Weiner Cooperating With FBI On Hilla...   \n",
       "3  PIN DROP SPEECH BY FATHER OF DAUGHTER Kidnappe...   \n",
       "4  FANTASTIC! TRUMP'S 7 POINT PLAN To Reform Heal...   \n",
       "\n",
       "                                                text language  \\\n",
       "0  Print They should pay all the back all the mon...  english   \n",
       "1  Why Did Attorney General Loretta Lynch Plead T...  english   \n",
       "2  Red State : \\nFox News Sunday reported this mo...  english   \n",
       "3  Email Kayla Mueller was a prisoner and torture...  english   \n",
       "4  Email HEALTHCARE REFORM TO MAKE AMERICA GREAT ...  english   \n",
       "\n",
       "                         crawled             site_url country  domain_rank  \\\n",
       "0  2016-10-27T01:49:27.168+03:00  100percentfedup.com      US      25689.0   \n",
       "1  2016-10-29T08:47:11.259+03:00  100percentfedup.com      US      25689.0   \n",
       "2  2016-10-31T01:41:49.479+02:00  100percentfedup.com      US      25689.0   \n",
       "3  2016-11-01T15:46:26.304+02:00  100percentfedup.com      US      25689.0   \n",
       "4  2016-11-01T23:59:42.266+02:00  100percentfedup.com      US      25689.0   \n",
       "\n",
       "                                        thread_title  spam_score  \\\n",
       "0  Muslims BUSTED: They Stole Millions In Gov’t B...       0.000   \n",
       "1  Re: Why Did Attorney General Loretta Lynch Ple...       0.000   \n",
       "2  BREAKING: Weiner Cooperating With FBI On Hilla...       0.000   \n",
       "3  PIN DROP SPEECH BY FATHER OF DAUGHTER Kidnappe...       0.068   \n",
       "4  FANTASTIC! TRUMP'S 7 POINT PLAN To Reform Heal...       0.865   \n",
       "\n",
       "                                        main_img_url  replies_count  \\\n",
       "0  http://bb4sp.com/wp-content/uploads/2016/10/Fu...              0   \n",
       "1  http://bb4sp.com/wp-content/uploads/2016/10/Fu...              0   \n",
       "2  http://bb4sp.com/wp-content/uploads/2016/10/Fu...              0   \n",
       "3  http://100percentfedup.com/wp-content/uploads/...              0   \n",
       "4  http://100percentfedup.com/wp-content/uploads/...              0   \n",
       "\n",
       "   participants_count  likes  comments  shares  type  \n",
       "0                   1      0         0       0  bias  \n",
       "1                   1      0         0       0  bias  \n",
       "2                   1      0         0       0  bias  \n",
       "3                   0      0         0       0  bias  \n",
       "4                   0      0         0       0  bias  "
      ]
     },
     "execution_count": 49,
     "metadata": {},
     "output_type": "execute_result"
    }
   ],
   "source": [
    "df.head()"
   ]
  },
  {
   "cell_type": "code",
   "execution_count": 50,
   "id": "df6984fb",
   "metadata": {},
   "outputs": [
    {
     "data": {
      "text/plain": [
       "array([25689.,    nan, 65078., 18533., 37161.,  5772., 78393., 25842.,\n",
       "        3734., 94243., 42160., 12993., 48959., 61606.,  6659.,  7587.,\n",
       "       93026.,   967., 16425., 22665., 10352., 87365.,   486., 23950.,\n",
       "       39980., 36674., 15846., 60570., 11584., 77628., 22680., 25709.,\n",
       "         553., 48175., 35381., 32069., 40299., 40480., 34811., 19116.,\n",
       "       12387., 70635., 51784., 56000., 78345., 60463., 17592., 67400.,\n",
       "       65917., 82758.,  2774., 68648., 32398., 79662., 53149., 44479.,\n",
       "       26413., 30230., 23040., 21114., 68691., 98679., 54210.,  6416.,\n",
       "       88660., 43327., 27046., 23349., 10414., 61423., 91187.,  4617.,\n",
       "       12191., 75353., 38347., 18495., 41475., 17423., 22432., 44451.,\n",
       "       16994., 57497., 28149., 25945.,   538., 31016., 63847., 62759.,\n",
       "       22891., 91245.,  1616., 96853., 18896., 91878., 33221., 63072.,\n",
       "       56487., 65975., 65060.,  8968., 18369., 93150.,  2182., 19375.,\n",
       "       42575., 37614.,  9645., 14958., 30890., 84363., 24453., 49688.,\n",
       "       23405., 72287., 14170., 51246.,  3921., 85288., 34478., 62087.,\n",
       "       48413., 48717., 64783., 58305.,   829., 46814., 36845., 14716.,\n",
       "       17366.,  1550., 67959., 35234., 43665.,  2435.])"
      ]
     },
     "execution_count": 50,
     "metadata": {},
     "output_type": "execute_result"
    }
   ],
   "source": [
    "# print different values of 'domain_rank' column\n",
    "df['domain_rank'].unique()"
   ]
  },
  {
   "cell_type": "code",
   "execution_count": 51,
   "id": "b7f5a404",
   "metadata": {},
   "outputs": [
    {
     "name": "stdout",
     "output_type": "stream",
     "text": [
      "Total number of rows: 12999\n",
      "Number of Real News: 12723\n",
      "Number of Fake News: 276\n"
     ]
    }
   ],
   "source": [
    "# print total length\n",
    "print(\"Total number of rows:\", len(df))\n",
    "\n",
    "\n",
    "# print number of 0 labels\n",
    "print(\"Number of Real News:\", (df['spam_score'] <= 0.5).sum())\n",
    "# print number of 1 labels\n",
    "print(\"Number of Fake News:\", (df['spam_score'] > 0.5).sum())"
   ]
  },
  {
   "cell_type": "code",
   "execution_count": 52,
   "id": "6f440a25",
   "metadata": {},
   "outputs": [
    {
     "name": "stdout",
     "output_type": "stream",
     "text": [
      "2015: 0\n",
      "2016: 12999\n",
      "2017: 0\n"
     ]
    }
   ],
   "source": [
    "years = [str(year) for year in range(2015, 2018)]\n",
    "year_pattern = re.compile(r'\\b(201[5-7])\\b')\n",
    "\n",
    "all_years = []\n",
    "for text in df['published']:\n",
    "    found_years = year_pattern.findall(text)\n",
    "    all_years.extend(found_years)\n",
    "\n",
    "year_counts = Counter(all_years)\n",
    "for year in years:\n",
    "    print(f\"{year}: {year_counts.get(year, 0)}\")"
   ]
  },
  {
   "cell_type": "markdown",
   "id": "4eaa17f2",
   "metadata": {},
   "source": [
    "## LIAR-PLUS"
   ]
  },
  {
   "cell_type": "markdown",
   "id": "36aafb39",
   "metadata": {},
   "source": [
    "paper di riferimento: https://aclanthology.org/W18-5513/ \n",
    "\n",
    "tema: politica\n",
    "\n",
    "pubblicazione: 2018\n",
    "\n",
    "date paper: non è specificato, ma è un estensione di LIAR\n",
    "\n",
    "dataset originale (NON CI SONO date): https://github.com/Tariq60/LIAR-PLUS/tree/master\n",
    "\n",
    "----\n",
    "\n",
    "**RISULTATO:**\n",
    "\n",
    "* Non si capisce che date siano"
   ]
  },
  {
   "cell_type": "code",
   "execution_count": 53,
   "id": "0996bea7",
   "metadata": {},
   "outputs": [],
   "source": [
    "percorso_file = \"datasets/LIAR-PLUS/df_liar_plus_complete.csv\"\n",
    "df = None\n",
    "df = pd.read_csv(percorso_file, sep=\"\\t\", encoding=\"utf-8\")"
   ]
  },
  {
   "cell_type": "code",
   "execution_count": 54,
   "id": "2e2d3998",
   "metadata": {},
   "outputs": [
    {
     "data": {
      "text/html": [
       "<div>\n",
       "<style scoped>\n",
       "    .dataframe tbody tr th:only-of-type {\n",
       "        vertical-align: middle;\n",
       "    }\n",
       "\n",
       "    .dataframe tbody tr th {\n",
       "        vertical-align: top;\n",
       "    }\n",
       "\n",
       "    .dataframe thead th {\n",
       "        text-align: right;\n",
       "    }\n",
       "</style>\n",
       "<table border=\"1\" class=\"dataframe\">\n",
       "  <thead>\n",
       "    <tr style=\"text-align: right;\">\n",
       "      <th></th>\n",
       "      <th>Unnamed: 0</th>\n",
       "      <th>texts</th>\n",
       "      <th>labels</th>\n",
       "    </tr>\n",
       "  </thead>\n",
       "  <tbody>\n",
       "    <tr>\n",
       "      <th>0</th>\n",
       "      <td>0</td>\n",
       "      <td>Says the Annies List political group supports ...</td>\n",
       "      <td>1.0</td>\n",
       "    </tr>\n",
       "    <tr>\n",
       "      <th>1</th>\n",
       "      <td>1</td>\n",
       "      <td>When did the decline of coal start? It started...</td>\n",
       "      <td>0.0</td>\n",
       "    </tr>\n",
       "    <tr>\n",
       "      <th>2</th>\n",
       "      <td>2</td>\n",
       "      <td>Hillary Clinton agrees with John McCain \"by vo...</td>\n",
       "      <td>0.0</td>\n",
       "    </tr>\n",
       "    <tr>\n",
       "      <th>3</th>\n",
       "      <td>3</td>\n",
       "      <td>Health care reform legislation is likely to ma...</td>\n",
       "      <td>1.0</td>\n",
       "    </tr>\n",
       "    <tr>\n",
       "      <th>4</th>\n",
       "      <td>4</td>\n",
       "      <td>The economic turnaround started at the end of ...</td>\n",
       "      <td>0.0</td>\n",
       "    </tr>\n",
       "  </tbody>\n",
       "</table>\n",
       "</div>"
      ],
      "text/plain": [
       "   Unnamed: 0                                              texts  labels\n",
       "0           0  Says the Annies List political group supports ...     1.0\n",
       "1           1  When did the decline of coal start? It started...     0.0\n",
       "2           2  Hillary Clinton agrees with John McCain \"by vo...     0.0\n",
       "3           3  Health care reform legislation is likely to ma...     1.0\n",
       "4           4  The economic turnaround started at the end of ...     0.0"
      ]
     },
     "execution_count": 54,
     "metadata": {},
     "output_type": "execute_result"
    }
   ],
   "source": [
    "df.head()"
   ]
  },
  {
   "cell_type": "code",
   "execution_count": 55,
   "id": "8b15ff74",
   "metadata": {},
   "outputs": [
    {
     "name": "stdout",
     "output_type": "stream",
     "text": [
      "Total number of rows: 12786\n",
      "Number of Real News: 7130\n",
      "Number of Fake News: 5654\n"
     ]
    }
   ],
   "source": [
    "# print total length\n",
    "print(\"Total number of rows:\", len(df))\n",
    "\n",
    "# print number of 0 labels\n",
    "print(\"Number of Real News:\", (df['labels'] == 0).sum())\n",
    "# print number of 1 labels\n",
    "print(\"Number of Fake News:\", (df['labels'] == 1).sum())"
   ]
  },
  {
   "cell_type": "code",
   "execution_count": 56,
   "id": "a0c94658",
   "metadata": {},
   "outputs": [
    {
     "name": "stdout",
     "output_type": "stream",
     "text": [
      "2005: 18\n",
      "2006: 32\n",
      "2007: 38\n",
      "2008: 87\n",
      "2009: 86\n",
      "2010: 87\n",
      "2011: 103\n",
      "2012: 87\n",
      "2013: 45\n",
      "2014: 43\n",
      "2015: 35\n",
      "2016: 24\n",
      "2017: 5\n",
      "2018: 1\n"
     ]
    }
   ],
   "source": [
    "start_year = 2005\n",
    "end_year = 2018\n",
    "year_pattern = count_years_in_texts(df, start_year, end_year, column='texts')"
   ]
  },
  {
   "cell_type": "code",
   "execution_count": 57,
   "id": "19080ab0",
   "metadata": {},
   "outputs": [
    {
     "name": "stdout",
     "output_type": "stream",
     "text": [
      "NaN year count: 12162\n"
     ]
    }
   ],
   "source": [
    "df['year'] = df['texts'].apply(extract_most_common_year, year_pattern=year_pattern)\n",
    "\n",
    "# count NaN \"year\" rows\n",
    "print(f\"NaN year count: {df['year'].isnull().sum()}\")"
   ]
  },
  {
   "cell_type": "code",
   "execution_count": 58,
   "id": "1c9ce999",
   "metadata": {},
   "outputs": [
    {
     "data": {
      "text/plain": [
       "year\n",
       "2005    18\n",
       "2006    30\n",
       "2007    34\n",
       "2008    82\n",
       "2009    85\n",
       "2010    79\n",
       "2011    89\n",
       "2012    74\n",
       "2013    40\n",
       "2014    33\n",
       "2015    30\n",
       "2016    24\n",
       "2017     5\n",
       "2018     1\n",
       "Name: count, dtype: int64"
      ]
     },
     "execution_count": 58,
     "metadata": {},
     "output_type": "execute_result"
    }
   ],
   "source": [
    "df['year'].value_counts().sort_index()"
   ]
  },
  {
   "cell_type": "markdown",
   "id": "0dae5d0a",
   "metadata": {},
   "source": [
    "## Politifact"
   ]
  },
  {
   "cell_type": "markdown",
   "id": "2dbb6015",
   "metadata": {},
   "source": [
    "paper di riferimento: https://arxiv.org/abs/1708.01967\n",
    "\n",
    "tema: politica\n",
    "\n",
    "pubblicazione: 2017\n",
    "\n",
    "date paper: non viene specificato\n",
    "\n",
    "dataset originale (NON CI SONO date, e non è Politifact ma è LIAR): https://sites.cs.ucsb.edu/~william/data/\n",
    "\n",
    "----\n",
    "\n",
    "**RISULTATO:**\n",
    "\n",
    "* Non si capisce che date siano"
   ]
  },
  {
   "cell_type": "code",
   "execution_count": 59,
   "id": "09b3bd5b",
   "metadata": {},
   "outputs": [],
   "source": [
    "percorso_file = \"datasets/Politifact (from FakeNewsNet)/df_politifact.csv\"\n",
    "df = None\n",
    "df = pd.read_csv(percorso_file, sep=\"\\t\", encoding=\"utf-8\")"
   ]
  },
  {
   "cell_type": "code",
   "execution_count": 60,
   "id": "066c47d8",
   "metadata": {},
   "outputs": [
    {
     "data": {
      "text/html": [
       "<div>\n",
       "<style scoped>\n",
       "    .dataframe tbody tr th:only-of-type {\n",
       "        vertical-align: middle;\n",
       "    }\n",
       "\n",
       "    .dataframe tbody tr th {\n",
       "        vertical-align: top;\n",
       "    }\n",
       "\n",
       "    .dataframe thead th {\n",
       "        text-align: right;\n",
       "    }\n",
       "</style>\n",
       "<table border=\"1\" class=\"dataframe\">\n",
       "  <thead>\n",
       "    <tr style=\"text-align: right;\">\n",
       "      <th></th>\n",
       "      <th>Unnamed: 0</th>\n",
       "      <th>texts</th>\n",
       "      <th>labels</th>\n",
       "    </tr>\n",
       "  </thead>\n",
       "  <tbody>\n",
       "    <tr>\n",
       "      <th>0</th>\n",
       "      <td>0</td>\n",
       "      <td>Rose Garden\\n\\n5:35 P.M. EDT\\n\\nMR. BARDEN: He...</td>\n",
       "      <td>0</td>\n",
       "    </tr>\n",
       "    <tr>\n",
       "      <th>1</th>\n",
       "      <td>1</td>\n",
       "      <td>Money woes in the most populous US state have ...</td>\n",
       "      <td>0</td>\n",
       "    </tr>\n",
       "    <tr>\n",
       "      <th>2</th>\n",
       "      <td>2</td>\n",
       "      <td>Username\\n\\nPassword\\n\\nNeed help? Contact the...</td>\n",
       "      <td>0</td>\n",
       "    </tr>\n",
       "    <tr>\n",
       "      <th>3</th>\n",
       "      <td>3</td>\n",
       "      <td>President Donald Trump has sent a strong messa...</td>\n",
       "      <td>1</td>\n",
       "    </tr>\n",
       "    <tr>\n",
       "      <th>4</th>\n",
       "      <td>4</td>\n",
       "      <td>BREAKING!\\n\\nLiberal rag Huffington Post is re...</td>\n",
       "      <td>1</td>\n",
       "    </tr>\n",
       "  </tbody>\n",
       "</table>\n",
       "</div>"
      ],
      "text/plain": [
       "   Unnamed: 0                                              texts  labels\n",
       "0           0  Rose Garden\\n\\n5:35 P.M. EDT\\n\\nMR. BARDEN: He...       0\n",
       "1           1  Money woes in the most populous US state have ...       0\n",
       "2           2  Username\\n\\nPassword\\n\\nNeed help? Contact the...       0\n",
       "3           3  President Donald Trump has sent a strong messa...       1\n",
       "4           4  BREAKING!\\n\\nLiberal rag Huffington Post is re...       1"
      ]
     },
     "execution_count": 60,
     "metadata": {},
     "output_type": "execute_result"
    }
   ],
   "source": [
    "df.head()"
   ]
  },
  {
   "cell_type": "code",
   "execution_count": 61,
   "id": "d386171f",
   "metadata": {},
   "outputs": [
    {
     "name": "stdout",
     "output_type": "stream",
     "text": [
      "Total number of rows: 504\n",
      "Number of Real News: 321\n",
      "Number of Fake News: 183\n"
     ]
    }
   ],
   "source": [
    "# print total length\n",
    "print(\"Total number of rows:\", len(df))\n",
    "\n",
    "# print number of 0 labels\n",
    "print(\"Number of Real News:\", (df['labels'] == 0).sum())\n",
    "# print number of 1 labels\n",
    "print(\"Number of Fake News:\", (df['labels'] == 1).sum())"
   ]
  },
  {
   "cell_type": "code",
   "execution_count": 62,
   "id": "225626b3",
   "metadata": {},
   "outputs": [
    {
     "name": "stdout",
     "output_type": "stream",
     "text": [
      "2005: 103\n",
      "2006: 54\n",
      "2007: 63\n",
      "2008: 96\n",
      "2009: 68\n",
      "2010: 75\n",
      "2011: 51\n",
      "2012: 46\n",
      "2013: 54\n",
      "2014: 94\n",
      "2015: 54\n",
      "2016: 86\n",
      "2017: 45\n",
      "2018: 39\n"
     ]
    }
   ],
   "source": [
    "start_year = 2005\n",
    "end_year = 2018\n",
    "year_pattern = count_years_in_texts(df, start_year, end_year, column='texts')"
   ]
  },
  {
   "cell_type": "code",
   "execution_count": 63,
   "id": "6b2f7093",
   "metadata": {},
   "outputs": [
    {
     "name": "stdout",
     "output_type": "stream",
     "text": [
      "NaN year count: 276\n"
     ]
    }
   ],
   "source": [
    "df['year'] = df['texts'].apply(extract_most_common_year, year_pattern=year_pattern)\n",
    "\n",
    "# count NaN \"year\" rows\n",
    "print(f\"NaN year count: {df['year'].isnull().sum()}\")"
   ]
  },
  {
   "cell_type": "code",
   "execution_count": 64,
   "id": "3e6b3f2d",
   "metadata": {},
   "outputs": [
    {
     "data": {
      "text/plain": [
       "year\n",
       "2005    12\n",
       "2006     9\n",
       "2007    17\n",
       "2008    29\n",
       "2009    19\n",
       "2010    23\n",
       "2011    11\n",
       "2012    11\n",
       "2013     7\n",
       "2014    13\n",
       "2015    16\n",
       "2016    36\n",
       "2017    13\n",
       "2018    12\n",
       "Name: count, dtype: int64"
      ]
     },
     "execution_count": 64,
     "metadata": {},
     "output_type": "execute_result"
    }
   ],
   "source": [
    "df['year'].value_counts().sort_index()"
   ]
  },
  {
   "cell_type": "markdown",
   "id": "b30ab7e0",
   "metadata": {},
   "source": [
    "## NDF"
   ]
  },
  {
   "cell_type": "markdown",
   "id": "75cb222b",
   "metadata": {},
   "source": [
    "paper di riferimento: https://colinglab.fileli.unipi.it/wp-content/uploads/2022/10/1-s2.0-S0020025522008167-main.pdf\n",
    "\n",
    "tema: incendio Notre Dame\n",
    "\n",
    "pubblicazione: 2022\n",
    "\n",
    "date paper: Incendio Notre-Dame di Aprile 2019\n",
    "\n",
    "dataset originale (NON CI SONO date): https://github.com/Unipisa/NDFDataset\n",
    "\n",
    "----\n",
    "\n",
    "**RISULTATO:**\n",
    "* Molte news del 2019\n",
    "* 445 su 554 sarebbero senza data"
   ]
  },
  {
   "cell_type": "code",
   "execution_count": 65,
   "id": "1c5af6ba",
   "metadata": {},
   "outputs": [],
   "source": [
    "percorso_file = \"datasets/UNIPI-NLE-NDF/df_ndf.csv\"\n",
    "df = None\n",
    "\n",
    "df = pd.read_csv(percorso_file, sep=\"\\t\", encoding=\"utf-8\")"
   ]
  },
  {
   "cell_type": "code",
   "execution_count": 66,
   "id": "9106e5d4",
   "metadata": {},
   "outputs": [
    {
     "data": {
      "text/html": [
       "<div>\n",
       "<style scoped>\n",
       "    .dataframe tbody tr th:only-of-type {\n",
       "        vertical-align: middle;\n",
       "    }\n",
       "\n",
       "    .dataframe tbody tr th {\n",
       "        vertical-align: top;\n",
       "    }\n",
       "\n",
       "    .dataframe thead th {\n",
       "        text-align: right;\n",
       "    }\n",
       "</style>\n",
       "<table border=\"1\" class=\"dataframe\">\n",
       "  <thead>\n",
       "    <tr style=\"text-align: right;\">\n",
       "      <th></th>\n",
       "      <th>Unnamed: 0</th>\n",
       "      <th>texts</th>\n",
       "      <th>labels</th>\n",
       "    </tr>\n",
       "  </thead>\n",
       "  <tbody>\n",
       "    <tr>\n",
       "      <th>0</th>\n",
       "      <td>0</td>\n",
       "      <td>So sad to see a piece of historical majesty go...</td>\n",
       "      <td>0</td>\n",
       "    </tr>\n",
       "    <tr>\n",
       "      <th>1</th>\n",
       "      <td>1</td>\n",
       "      <td>The Vice-President of the French student union...</td>\n",
       "      <td>1</td>\n",
       "    </tr>\n",
       "    <tr>\n",
       "      <th>2</th>\n",
       "      <td>2</td>\n",
       "      <td>All the wonderful craftsmanship, that has been...</td>\n",
       "      <td>0</td>\n",
       "    </tr>\n",
       "    <tr>\n",
       "      <th>3</th>\n",
       "      <td>3</td>\n",
       "      <td>Early, unconfirmed reports claim Notre Dame fi...</td>\n",
       "      <td>1</td>\n",
       "    </tr>\n",
       "    <tr>\n",
       "      <th>4</th>\n",
       "      <td>4</td>\n",
       "      <td>\"This story is from 2016 and unrelated to the ...</td>\n",
       "      <td>1</td>\n",
       "    </tr>\n",
       "  </tbody>\n",
       "</table>\n",
       "</div>"
      ],
      "text/plain": [
       "   Unnamed: 0                                              texts  labels\n",
       "0           0  So sad to see a piece of historical majesty go...       0\n",
       "1           1  The Vice-President of the French student union...       1\n",
       "2           2  All the wonderful craftsmanship, that has been...       0\n",
       "3           3  Early, unconfirmed reports claim Notre Dame fi...       1\n",
       "4           4  \"This story is from 2016 and unrelated to the ...       1"
      ]
     },
     "execution_count": 66,
     "metadata": {},
     "output_type": "execute_result"
    }
   ],
   "source": [
    "df.head()"
   ]
  },
  {
   "cell_type": "code",
   "execution_count": 67,
   "id": "5b9c9417",
   "metadata": {},
   "outputs": [
    {
     "name": "stdout",
     "output_type": "stream",
     "text": [
      "Total number of rows: 554\n",
      "Number of Real News: 338\n",
      "Number of Fake News: 216\n"
     ]
    }
   ],
   "source": [
    "# print total length\n",
    "print(\"Total number of rows:\", len(df))\n",
    "\n",
    "# print number of 0 labels\n",
    "print(\"Number of Real News:\", (df['labels'] == 0).sum())\n",
    "# print number of 1 labels\n",
    "print(\"Number of Fake News:\", (df['labels'] == 1).sum())"
   ]
  },
  {
   "cell_type": "code",
   "execution_count": 68,
   "id": "42a9e147",
   "metadata": {},
   "outputs": [
    {
     "name": "stdout",
     "output_type": "stream",
     "text": [
      "2019: 141\n"
     ]
    }
   ],
   "source": [
    "start_year = 2019\n",
    "end_year = 2019\n",
    "year_pattern = count_years_in_texts(df, start_year, end_year, column='texts')"
   ]
  },
  {
   "cell_type": "code",
   "execution_count": 69,
   "id": "4d46baae",
   "metadata": {},
   "outputs": [
    {
     "name": "stdout",
     "output_type": "stream",
     "text": [
      "NaN year count: 445 over 554 rows\n"
     ]
    }
   ],
   "source": [
    "df['year'] = df['texts'].apply(extract_most_common_year, year_pattern=year_pattern)\n",
    "\n",
    "# count NaN \"year\" rows\n",
    "print(f\"NaN year count: {df['year'].isnull().sum()} over {len(df)} rows\")"
   ]
  },
  {
   "cell_type": "code",
   "execution_count": 70,
   "id": "e4f4bd91",
   "metadata": {},
   "outputs": [
    {
     "data": {
      "text/plain": [
       "year\n",
       "2019    109\n",
       "Name: count, dtype: int64"
      ]
     },
     "execution_count": 70,
     "metadata": {},
     "output_type": "execute_result"
    }
   ],
   "source": [
    "df['year'].value_counts().sort_index()"
   ]
  },
  {
   "cell_type": "markdown",
   "id": "3099ef0e",
   "metadata": {},
   "source": [
    "## Altro"
   ]
  },
  {
   "cell_type": "markdown",
   "id": "8932a7ea",
   "metadata": {},
   "source": [
    "### Fake and Real News Dataset "
   ]
  },
  {
   "cell_type": "markdown",
   "id": "09a57829",
   "metadata": {},
   "source": [
    "**RISULTATO:**\n",
    "* Stessi dati di Kaggle_clement"
   ]
  },
  {
   "cell_type": "code",
   "execution_count": 71,
   "id": "7c21473a",
   "metadata": {},
   "outputs": [],
   "source": [
    "percorso_file_true = \"datasets/0_more/FakeAndRealNewsDataset/True.csv\"\n",
    "percorso_file_fake = \"datasets/0_more/FakeAndRealNewsDataset/Fake.csv\"\n",
    "df_true = None\n",
    "df_fake = None\n",
    "\n",
    "df_true = pd.read_csv(percorso_file_true, encoding=\"utf-8\")\n",
    "df_fake = pd.read_csv(percorso_file_fake, encoding=\"utf-8\")"
   ]
  },
  {
   "cell_type": "code",
   "execution_count": 72,
   "id": "b0a3e033",
   "metadata": {},
   "outputs": [
    {
     "data": {
      "text/html": [
       "<div>\n",
       "<style scoped>\n",
       "    .dataframe tbody tr th:only-of-type {\n",
       "        vertical-align: middle;\n",
       "    }\n",
       "\n",
       "    .dataframe tbody tr th {\n",
       "        vertical-align: top;\n",
       "    }\n",
       "\n",
       "    .dataframe thead th {\n",
       "        text-align: right;\n",
       "    }\n",
       "</style>\n",
       "<table border=\"1\" class=\"dataframe\">\n",
       "  <thead>\n",
       "    <tr style=\"text-align: right;\">\n",
       "      <th></th>\n",
       "      <th>title</th>\n",
       "      <th>text</th>\n",
       "      <th>subject</th>\n",
       "      <th>date</th>\n",
       "    </tr>\n",
       "  </thead>\n",
       "  <tbody>\n",
       "    <tr>\n",
       "      <th>0</th>\n",
       "      <td>As U.S. budget fight looms, Republicans flip t...</td>\n",
       "      <td>WASHINGTON (Reuters) - The head of a conservat...</td>\n",
       "      <td>politicsNews</td>\n",
       "      <td>December 31, 2017</td>\n",
       "    </tr>\n",
       "    <tr>\n",
       "      <th>1</th>\n",
       "      <td>U.S. military to accept transgender recruits o...</td>\n",
       "      <td>WASHINGTON (Reuters) - Transgender people will...</td>\n",
       "      <td>politicsNews</td>\n",
       "      <td>December 29, 2017</td>\n",
       "    </tr>\n",
       "    <tr>\n",
       "      <th>2</th>\n",
       "      <td>Senior U.S. Republican senator: 'Let Mr. Muell...</td>\n",
       "      <td>WASHINGTON (Reuters) - The special counsel inv...</td>\n",
       "      <td>politicsNews</td>\n",
       "      <td>December 31, 2017</td>\n",
       "    </tr>\n",
       "    <tr>\n",
       "      <th>3</th>\n",
       "      <td>FBI Russia probe helped by Australian diplomat...</td>\n",
       "      <td>WASHINGTON (Reuters) - Trump campaign adviser ...</td>\n",
       "      <td>politicsNews</td>\n",
       "      <td>December 30, 2017</td>\n",
       "    </tr>\n",
       "    <tr>\n",
       "      <th>4</th>\n",
       "      <td>Trump wants Postal Service to charge 'much mor...</td>\n",
       "      <td>SEATTLE/WASHINGTON (Reuters) - President Donal...</td>\n",
       "      <td>politicsNews</td>\n",
       "      <td>December 29, 2017</td>\n",
       "    </tr>\n",
       "  </tbody>\n",
       "</table>\n",
       "</div>"
      ],
      "text/plain": [
       "                                               title  \\\n",
       "0  As U.S. budget fight looms, Republicans flip t...   \n",
       "1  U.S. military to accept transgender recruits o...   \n",
       "2  Senior U.S. Republican senator: 'Let Mr. Muell...   \n",
       "3  FBI Russia probe helped by Australian diplomat...   \n",
       "4  Trump wants Postal Service to charge 'much mor...   \n",
       "\n",
       "                                                text       subject  \\\n",
       "0  WASHINGTON (Reuters) - The head of a conservat...  politicsNews   \n",
       "1  WASHINGTON (Reuters) - Transgender people will...  politicsNews   \n",
       "2  WASHINGTON (Reuters) - The special counsel inv...  politicsNews   \n",
       "3  WASHINGTON (Reuters) - Trump campaign adviser ...  politicsNews   \n",
       "4  SEATTLE/WASHINGTON (Reuters) - President Donal...  politicsNews   \n",
       "\n",
       "                 date  \n",
       "0  December 31, 2017   \n",
       "1  December 29, 2017   \n",
       "2  December 31, 2017   \n",
       "3  December 30, 2017   \n",
       "4  December 29, 2017   "
      ]
     },
     "execution_count": 72,
     "metadata": {},
     "output_type": "execute_result"
    }
   ],
   "source": [
    "df_true.head()"
   ]
  },
  {
   "cell_type": "code",
   "execution_count": 73,
   "id": "d4c1c910",
   "metadata": {},
   "outputs": [
    {
     "data": {
      "text/html": [
       "<div>\n",
       "<style scoped>\n",
       "    .dataframe tbody tr th:only-of-type {\n",
       "        vertical-align: middle;\n",
       "    }\n",
       "\n",
       "    .dataframe tbody tr th {\n",
       "        vertical-align: top;\n",
       "    }\n",
       "\n",
       "    .dataframe thead th {\n",
       "        text-align: right;\n",
       "    }\n",
       "</style>\n",
       "<table border=\"1\" class=\"dataframe\">\n",
       "  <thead>\n",
       "    <tr style=\"text-align: right;\">\n",
       "      <th></th>\n",
       "      <th>title</th>\n",
       "      <th>text</th>\n",
       "      <th>subject</th>\n",
       "      <th>date</th>\n",
       "    </tr>\n",
       "  </thead>\n",
       "  <tbody>\n",
       "    <tr>\n",
       "      <th>0</th>\n",
       "      <td>Donald Trump Sends Out Embarrassing New Year’...</td>\n",
       "      <td>Donald Trump just couldn t wish all Americans ...</td>\n",
       "      <td>News</td>\n",
       "      <td>December 31, 2017</td>\n",
       "    </tr>\n",
       "    <tr>\n",
       "      <th>1</th>\n",
       "      <td>Drunk Bragging Trump Staffer Started Russian ...</td>\n",
       "      <td>House Intelligence Committee Chairman Devin Nu...</td>\n",
       "      <td>News</td>\n",
       "      <td>December 31, 2017</td>\n",
       "    </tr>\n",
       "    <tr>\n",
       "      <th>2</th>\n",
       "      <td>Sheriff David Clarke Becomes An Internet Joke...</td>\n",
       "      <td>On Friday, it was revealed that former Milwauk...</td>\n",
       "      <td>News</td>\n",
       "      <td>December 30, 2017</td>\n",
       "    </tr>\n",
       "    <tr>\n",
       "      <th>3</th>\n",
       "      <td>Trump Is So Obsessed He Even Has Obama’s Name...</td>\n",
       "      <td>On Christmas day, Donald Trump announced that ...</td>\n",
       "      <td>News</td>\n",
       "      <td>December 29, 2017</td>\n",
       "    </tr>\n",
       "    <tr>\n",
       "      <th>4</th>\n",
       "      <td>Pope Francis Just Called Out Donald Trump Dur...</td>\n",
       "      <td>Pope Francis used his annual Christmas Day mes...</td>\n",
       "      <td>News</td>\n",
       "      <td>December 25, 2017</td>\n",
       "    </tr>\n",
       "  </tbody>\n",
       "</table>\n",
       "</div>"
      ],
      "text/plain": [
       "                                               title  \\\n",
       "0   Donald Trump Sends Out Embarrassing New Year’...   \n",
       "1   Drunk Bragging Trump Staffer Started Russian ...   \n",
       "2   Sheriff David Clarke Becomes An Internet Joke...   \n",
       "3   Trump Is So Obsessed He Even Has Obama’s Name...   \n",
       "4   Pope Francis Just Called Out Donald Trump Dur...   \n",
       "\n",
       "                                                text subject  \\\n",
       "0  Donald Trump just couldn t wish all Americans ...    News   \n",
       "1  House Intelligence Committee Chairman Devin Nu...    News   \n",
       "2  On Friday, it was revealed that former Milwauk...    News   \n",
       "3  On Christmas day, Donald Trump announced that ...    News   \n",
       "4  Pope Francis used his annual Christmas Day mes...    News   \n",
       "\n",
       "                date  \n",
       "0  December 31, 2017  \n",
       "1  December 31, 2017  \n",
       "2  December 30, 2017  \n",
       "3  December 29, 2017  \n",
       "4  December 25, 2017  "
      ]
     },
     "execution_count": 73,
     "metadata": {},
     "output_type": "execute_result"
    }
   ],
   "source": [
    "df_fake.head()"
   ]
  },
  {
   "cell_type": "code",
   "execution_count": 74,
   "id": "41d6b048",
   "metadata": {},
   "outputs": [],
   "source": [
    "# merde two dataset\n",
    "df_merged = pd.concat([df_true, df_fake], ignore_index=True)"
   ]
  },
  {
   "cell_type": "code",
   "execution_count": 75,
   "id": "3cdc5c41",
   "metadata": {},
   "outputs": [
    {
     "name": "stdout",
     "output_type": "stream",
     "text": [
      "Total number of rows: 44898\n",
      "Number of Real News: 21417\n",
      "Number of Fake News: 23481\n"
     ]
    }
   ],
   "source": [
    "# print total length\n",
    "print(\"Total number of rows:\", len(df_merged))\n",
    "\n",
    "print(\"Number of Real News:\", len(df_true))\n",
    "print(\"Number of Fake News:\", len(df_fake))"
   ]
  },
  {
   "cell_type": "code",
   "execution_count": 76,
   "id": "6c59120a",
   "metadata": {},
   "outputs": [
    {
     "name": "stdout",
     "output_type": "stream",
     "text": [
      "2015: 2485\n",
      "2016: 16470\n",
      "2017: 25904\n"
     ]
    }
   ],
   "source": [
    "years = [str(year) for year in range(2015, 2018)]\n",
    "year_pattern = re.compile(r'\\b(201[5-7])\\b')\n",
    "\n",
    "all_years = []\n",
    "for text in df_merged['date']:\n",
    "    found_years = year_pattern.findall(text)\n",
    "    all_years.extend(found_years)\n",
    "\n",
    "year_counts = Counter(all_years)\n",
    "for year in years:\n",
    "    print(f\"{year}: {year_counts.get(year, 0)}\")"
   ]
  },
  {
   "cell_type": "markdown",
   "id": "195bc124",
   "metadata": {},
   "source": [
    "### Getting Real About FakeNews"
   ]
  },
  {
   "cell_type": "markdown",
   "id": "b14cab3b",
   "metadata": {},
   "source": [
    "**RISULTATO:**\n",
    "* Stessi dati di Kaggle_meg"
   ]
  },
  {
   "cell_type": "code",
   "execution_count": 77,
   "id": "0c4b723f",
   "metadata": {},
   "outputs": [],
   "source": [
    "percorso_file = \"datasets/0_more/GettingRealAboutFakeNews.csv\"\n",
    "df = None\n",
    "\n",
    "df = pd.read_csv(percorso_file, encoding=\"utf-8\")"
   ]
  },
  {
   "cell_type": "code",
   "execution_count": 78,
   "id": "dd503316",
   "metadata": {},
   "outputs": [
    {
     "data": {
      "text/html": [
       "<div>\n",
       "<style scoped>\n",
       "    .dataframe tbody tr th:only-of-type {\n",
       "        vertical-align: middle;\n",
       "    }\n",
       "\n",
       "    .dataframe tbody tr th {\n",
       "        vertical-align: top;\n",
       "    }\n",
       "\n",
       "    .dataframe thead th {\n",
       "        text-align: right;\n",
       "    }\n",
       "</style>\n",
       "<table border=\"1\" class=\"dataframe\">\n",
       "  <thead>\n",
       "    <tr style=\"text-align: right;\">\n",
       "      <th></th>\n",
       "      <th>uuid</th>\n",
       "      <th>ord_in_thread</th>\n",
       "      <th>author</th>\n",
       "      <th>published</th>\n",
       "      <th>title</th>\n",
       "      <th>text</th>\n",
       "      <th>language</th>\n",
       "      <th>crawled</th>\n",
       "      <th>site_url</th>\n",
       "      <th>country</th>\n",
       "      <th>domain_rank</th>\n",
       "      <th>thread_title</th>\n",
       "      <th>spam_score</th>\n",
       "      <th>main_img_url</th>\n",
       "      <th>replies_count</th>\n",
       "      <th>participants_count</th>\n",
       "      <th>likes</th>\n",
       "      <th>comments</th>\n",
       "      <th>shares</th>\n",
       "      <th>type</th>\n",
       "    </tr>\n",
       "  </thead>\n",
       "  <tbody>\n",
       "    <tr>\n",
       "      <th>0</th>\n",
       "      <td>6a175f46bcd24d39b3e962ad0f29936721db70db</td>\n",
       "      <td>0</td>\n",
       "      <td>Barracuda Brigade</td>\n",
       "      <td>2016-10-26T21:41:00.000+03:00</td>\n",
       "      <td>Muslims BUSTED: They Stole Millions In Gov’t B...</td>\n",
       "      <td>Print They should pay all the back all the mon...</td>\n",
       "      <td>english</td>\n",
       "      <td>2016-10-27T01:49:27.168+03:00</td>\n",
       "      <td>100percentfedup.com</td>\n",
       "      <td>US</td>\n",
       "      <td>25689.0</td>\n",
       "      <td>Muslims BUSTED: They Stole Millions In Gov’t B...</td>\n",
       "      <td>0.000</td>\n",
       "      <td>http://bb4sp.com/wp-content/uploads/2016/10/Fu...</td>\n",
       "      <td>0</td>\n",
       "      <td>1</td>\n",
       "      <td>0</td>\n",
       "      <td>0</td>\n",
       "      <td>0</td>\n",
       "      <td>bias</td>\n",
       "    </tr>\n",
       "    <tr>\n",
       "      <th>1</th>\n",
       "      <td>2bdc29d12605ef9cf3f09f9875040a7113be5d5b</td>\n",
       "      <td>0</td>\n",
       "      <td>reasoning with facts</td>\n",
       "      <td>2016-10-29T08:47:11.259+03:00</td>\n",
       "      <td>Re: Why Did Attorney General Loretta Lynch Ple...</td>\n",
       "      <td>Why Did Attorney General Loretta Lynch Plead T...</td>\n",
       "      <td>english</td>\n",
       "      <td>2016-10-29T08:47:11.259+03:00</td>\n",
       "      <td>100percentfedup.com</td>\n",
       "      <td>US</td>\n",
       "      <td>25689.0</td>\n",
       "      <td>Re: Why Did Attorney General Loretta Lynch Ple...</td>\n",
       "      <td>0.000</td>\n",
       "      <td>http://bb4sp.com/wp-content/uploads/2016/10/Fu...</td>\n",
       "      <td>0</td>\n",
       "      <td>1</td>\n",
       "      <td>0</td>\n",
       "      <td>0</td>\n",
       "      <td>0</td>\n",
       "      <td>bias</td>\n",
       "    </tr>\n",
       "    <tr>\n",
       "      <th>2</th>\n",
       "      <td>c70e149fdd53de5e61c29281100b9de0ed268bc3</td>\n",
       "      <td>0</td>\n",
       "      <td>Barracuda Brigade</td>\n",
       "      <td>2016-10-31T01:41:49.479+02:00</td>\n",
       "      <td>BREAKING: Weiner Cooperating With FBI On Hilla...</td>\n",
       "      <td>Red State : \\nFox News Sunday reported this mo...</td>\n",
       "      <td>english</td>\n",
       "      <td>2016-10-31T01:41:49.479+02:00</td>\n",
       "      <td>100percentfedup.com</td>\n",
       "      <td>US</td>\n",
       "      <td>25689.0</td>\n",
       "      <td>BREAKING: Weiner Cooperating With FBI On Hilla...</td>\n",
       "      <td>0.000</td>\n",
       "      <td>http://bb4sp.com/wp-content/uploads/2016/10/Fu...</td>\n",
       "      <td>0</td>\n",
       "      <td>1</td>\n",
       "      <td>0</td>\n",
       "      <td>0</td>\n",
       "      <td>0</td>\n",
       "      <td>bias</td>\n",
       "    </tr>\n",
       "    <tr>\n",
       "      <th>3</th>\n",
       "      <td>7cf7c15731ac2a116dd7f629bd57ea468ed70284</td>\n",
       "      <td>0</td>\n",
       "      <td>Fed Up</td>\n",
       "      <td>2016-11-01T05:22:00.000+02:00</td>\n",
       "      <td>PIN DROP SPEECH BY FATHER OF DAUGHTER Kidnappe...</td>\n",
       "      <td>Email Kayla Mueller was a prisoner and torture...</td>\n",
       "      <td>english</td>\n",
       "      <td>2016-11-01T15:46:26.304+02:00</td>\n",
       "      <td>100percentfedup.com</td>\n",
       "      <td>US</td>\n",
       "      <td>25689.0</td>\n",
       "      <td>PIN DROP SPEECH BY FATHER OF DAUGHTER Kidnappe...</td>\n",
       "      <td>0.068</td>\n",
       "      <td>http://100percentfedup.com/wp-content/uploads/...</td>\n",
       "      <td>0</td>\n",
       "      <td>0</td>\n",
       "      <td>0</td>\n",
       "      <td>0</td>\n",
       "      <td>0</td>\n",
       "      <td>bias</td>\n",
       "    </tr>\n",
       "    <tr>\n",
       "      <th>4</th>\n",
       "      <td>0206b54719c7e241ffe0ad4315b808290dbe6c0f</td>\n",
       "      <td>0</td>\n",
       "      <td>Fed Up</td>\n",
       "      <td>2016-11-01T21:56:00.000+02:00</td>\n",
       "      <td>FANTASTIC! TRUMP'S 7 POINT PLAN To Reform Heal...</td>\n",
       "      <td>Email HEALTHCARE REFORM TO MAKE AMERICA GREAT ...</td>\n",
       "      <td>english</td>\n",
       "      <td>2016-11-01T23:59:42.266+02:00</td>\n",
       "      <td>100percentfedup.com</td>\n",
       "      <td>US</td>\n",
       "      <td>25689.0</td>\n",
       "      <td>FANTASTIC! TRUMP'S 7 POINT PLAN To Reform Heal...</td>\n",
       "      <td>0.865</td>\n",
       "      <td>http://100percentfedup.com/wp-content/uploads/...</td>\n",
       "      <td>0</td>\n",
       "      <td>0</td>\n",
       "      <td>0</td>\n",
       "      <td>0</td>\n",
       "      <td>0</td>\n",
       "      <td>bias</td>\n",
       "    </tr>\n",
       "  </tbody>\n",
       "</table>\n",
       "</div>"
      ],
      "text/plain": [
       "                                       uuid  ord_in_thread  \\\n",
       "0  6a175f46bcd24d39b3e962ad0f29936721db70db              0   \n",
       "1  2bdc29d12605ef9cf3f09f9875040a7113be5d5b              0   \n",
       "2  c70e149fdd53de5e61c29281100b9de0ed268bc3              0   \n",
       "3  7cf7c15731ac2a116dd7f629bd57ea468ed70284              0   \n",
       "4  0206b54719c7e241ffe0ad4315b808290dbe6c0f              0   \n",
       "\n",
       "                 author                      published  \\\n",
       "0     Barracuda Brigade  2016-10-26T21:41:00.000+03:00   \n",
       "1  reasoning with facts  2016-10-29T08:47:11.259+03:00   \n",
       "2     Barracuda Brigade  2016-10-31T01:41:49.479+02:00   \n",
       "3                Fed Up  2016-11-01T05:22:00.000+02:00   \n",
       "4                Fed Up  2016-11-01T21:56:00.000+02:00   \n",
       "\n",
       "                                               title  \\\n",
       "0  Muslims BUSTED: They Stole Millions In Gov’t B...   \n",
       "1  Re: Why Did Attorney General Loretta Lynch Ple...   \n",
       "2  BREAKING: Weiner Cooperating With FBI On Hilla...   \n",
       "3  PIN DROP SPEECH BY FATHER OF DAUGHTER Kidnappe...   \n",
       "4  FANTASTIC! TRUMP'S 7 POINT PLAN To Reform Heal...   \n",
       "\n",
       "                                                text language  \\\n",
       "0  Print They should pay all the back all the mon...  english   \n",
       "1  Why Did Attorney General Loretta Lynch Plead T...  english   \n",
       "2  Red State : \\nFox News Sunday reported this mo...  english   \n",
       "3  Email Kayla Mueller was a prisoner and torture...  english   \n",
       "4  Email HEALTHCARE REFORM TO MAKE AMERICA GREAT ...  english   \n",
       "\n",
       "                         crawled             site_url country  domain_rank  \\\n",
       "0  2016-10-27T01:49:27.168+03:00  100percentfedup.com      US      25689.0   \n",
       "1  2016-10-29T08:47:11.259+03:00  100percentfedup.com      US      25689.0   \n",
       "2  2016-10-31T01:41:49.479+02:00  100percentfedup.com      US      25689.0   \n",
       "3  2016-11-01T15:46:26.304+02:00  100percentfedup.com      US      25689.0   \n",
       "4  2016-11-01T23:59:42.266+02:00  100percentfedup.com      US      25689.0   \n",
       "\n",
       "                                        thread_title  spam_score  \\\n",
       "0  Muslims BUSTED: They Stole Millions In Gov’t B...       0.000   \n",
       "1  Re: Why Did Attorney General Loretta Lynch Ple...       0.000   \n",
       "2  BREAKING: Weiner Cooperating With FBI On Hilla...       0.000   \n",
       "3  PIN DROP SPEECH BY FATHER OF DAUGHTER Kidnappe...       0.068   \n",
       "4  FANTASTIC! TRUMP'S 7 POINT PLAN To Reform Heal...       0.865   \n",
       "\n",
       "                                        main_img_url  replies_count  \\\n",
       "0  http://bb4sp.com/wp-content/uploads/2016/10/Fu...              0   \n",
       "1  http://bb4sp.com/wp-content/uploads/2016/10/Fu...              0   \n",
       "2  http://bb4sp.com/wp-content/uploads/2016/10/Fu...              0   \n",
       "3  http://100percentfedup.com/wp-content/uploads/...              0   \n",
       "4  http://100percentfedup.com/wp-content/uploads/...              0   \n",
       "\n",
       "   participants_count  likes  comments  shares  type  \n",
       "0                   1      0         0       0  bias  \n",
       "1                   1      0         0       0  bias  \n",
       "2                   1      0         0       0  bias  \n",
       "3                   0      0         0       0  bias  \n",
       "4                   0      0         0       0  bias  "
      ]
     },
     "execution_count": 78,
     "metadata": {},
     "output_type": "execute_result"
    }
   ],
   "source": [
    "df.head()"
   ]
  },
  {
   "cell_type": "markdown",
   "id": "bf5fb3d3",
   "metadata": {},
   "source": [
    "### FakeNewsNet: BuzzFeed"
   ]
  },
  {
   "cell_type": "markdown",
   "id": "a0981c65",
   "metadata": {},
   "source": [
    "**RISULTATO:**\n",
    "* Stessi dati di Kaggle_clement"
   ]
  },
  {
   "cell_type": "code",
   "execution_count": 79,
   "id": "8f2373e1",
   "metadata": {},
   "outputs": [],
   "source": [
    "percorso_file_true = \"datasets/0_more/FakeNewsNet/BuzzFeed_real_news_content.csv\"\n",
    "percorso_file_fake = \"datasets/0_more/FakeNewsNet/BuzzFeed_fake_news_content.csv\"\n",
    "df_true = None\n",
    "df_fake = None\n",
    "\n",
    "df_true = pd.read_csv(percorso_file_true, encoding=\"utf-8\")\n",
    "df_fake = pd.read_csv(percorso_file_fake, encoding=\"utf-8\")"
   ]
  },
  {
   "cell_type": "code",
   "execution_count": 80,
   "id": "1f0e5cae",
   "metadata": {},
   "outputs": [
    {
     "data": {
      "text/html": [
       "<div>\n",
       "<style scoped>\n",
       "    .dataframe tbody tr th:only-of-type {\n",
       "        vertical-align: middle;\n",
       "    }\n",
       "\n",
       "    .dataframe tbody tr th {\n",
       "        vertical-align: top;\n",
       "    }\n",
       "\n",
       "    .dataframe thead th {\n",
       "        text-align: right;\n",
       "    }\n",
       "</style>\n",
       "<table border=\"1\" class=\"dataframe\">\n",
       "  <thead>\n",
       "    <tr style=\"text-align: right;\">\n",
       "      <th></th>\n",
       "      <th>id</th>\n",
       "      <th>title</th>\n",
       "      <th>text</th>\n",
       "      <th>url</th>\n",
       "      <th>top_img</th>\n",
       "      <th>authors</th>\n",
       "      <th>source</th>\n",
       "      <th>publish_date</th>\n",
       "      <th>movies</th>\n",
       "      <th>images</th>\n",
       "      <th>canonical_link</th>\n",
       "      <th>meta_data</th>\n",
       "    </tr>\n",
       "  </thead>\n",
       "  <tbody>\n",
       "    <tr>\n",
       "      <th>0</th>\n",
       "      <td>Real_1-Webpage</td>\n",
       "      <td>Another Terrorist Attack in NYC…Why Are we STI...</td>\n",
       "      <td>On Saturday, September 17 at 8:30 pm EST, an e...</td>\n",
       "      <td>http://eaglerising.com/36942/another-terrorist...</td>\n",
       "      <td>http://eaglerising.com/wp-content/uploads/2016...</td>\n",
       "      <td>View All Posts,Leonora Cravotta</td>\n",
       "      <td>http://eaglerising.com</td>\n",
       "      <td>{'$date': 1474528230000}</td>\n",
       "      <td>NaN</td>\n",
       "      <td>http://constitution.com/wp-content/uploads/201...</td>\n",
       "      <td>http://eaglerising.com/36942/another-terrorist...</td>\n",
       "      <td>{\"description\": \"\\u201cWe believe at this poin...</td>\n",
       "    </tr>\n",
       "    <tr>\n",
       "      <th>1</th>\n",
       "      <td>Real_10-Webpage</td>\n",
       "      <td>Donald Trump: Drugs a 'Very, Very Big Factor' ...</td>\n",
       "      <td>Less than a day after protests over the police...</td>\n",
       "      <td>http://abcn.ws/2d4lNn9</td>\n",
       "      <td>http://a.abcnews.com/images/Politics/AP_donald...</td>\n",
       "      <td>More Candace,Adam Kelsey,Abc News,More Adam</td>\n",
       "      <td>http://abcn.ws</td>\n",
       "      <td>NaN</td>\n",
       "      <td>NaN</td>\n",
       "      <td>http://www.googleadservices.com/pagead/convers...</td>\n",
       "      <td>http://abcnews.go.com/Politics/donald-trump-dr...</td>\n",
       "      <td>{\"fb_title\": \"Trump: Drugs a 'Very, Very Big F...</td>\n",
       "    </tr>\n",
       "    <tr>\n",
       "      <th>2</th>\n",
       "      <td>Real_11-Webpage</td>\n",
       "      <td>Obama To UN: ‘Giving Up Liberty, Enhances Secu...</td>\n",
       "      <td>Obama To UN: ‘Giving Up Liberty, Enhances Secu...</td>\n",
       "      <td>http://rightwingnews.com/barack-obama/obama-un...</td>\n",
       "      <td>http://rightwingnews.com/wp-content/uploads/20...</td>\n",
       "      <td>Cassy Fiano</td>\n",
       "      <td>http://rightwingnews.com</td>\n",
       "      <td>{'$date': 1474476044000}</td>\n",
       "      <td>https://www.youtube.com/embed/ji6pl5Vwrvk</td>\n",
       "      <td>http://rightwingnews.com/wp-content/uploads/20...</td>\n",
       "      <td>http://rightwingnews.com/barack-obama/obama-un...</td>\n",
       "      <td>{\"googlebot\": \"noimageindex\", \"og\": {\"site_nam...</td>\n",
       "    </tr>\n",
       "    <tr>\n",
       "      <th>3</th>\n",
       "      <td>Real_12-Webpage</td>\n",
       "      <td>Trump vs. Clinton: A Fundamental Clash over Ho...</td>\n",
       "      <td>Getty Images Wealth Of Nations Trump vs. Clint...</td>\n",
       "      <td>http://politi.co/2de2qs0</td>\n",
       "      <td>http://static.politico.com/e9/11/6144cdc24e319...</td>\n",
       "      <td>Jack Shafer,Erick Trickey,Zachary Karabell</td>\n",
       "      <td>http://politi.co</td>\n",
       "      <td>{'$date': 1474974420000}</td>\n",
       "      <td>NaN</td>\n",
       "      <td>https://static.politico.com/dims4/default/8a1c...</td>\n",
       "      <td>http://www.politico.com/magazine/story/2016/09...</td>\n",
       "      <td>{\"description\": \"He sees it as zero-sum. She b...</td>\n",
       "    </tr>\n",
       "    <tr>\n",
       "      <th>4</th>\n",
       "      <td>Real_13-Webpage</td>\n",
       "      <td>President Obama Vetoes 9/11 Victims Bill, Sett...</td>\n",
       "      <td>President Obama today vetoed a bill that would...</td>\n",
       "      <td>http://abcn.ws/2dh2NFs</td>\n",
       "      <td>http://a.abcnews.com/images/US/AP_Obama_BM_201...</td>\n",
       "      <td>John Parkinson,More John,Abc News,More Alexander</td>\n",
       "      <td>http://abcn.ws</td>\n",
       "      <td>NaN</td>\n",
       "      <td>NaN</td>\n",
       "      <td>http://www.googleadservices.com/pagead/convers...</td>\n",
       "      <td>http://abcnews.go.com/Politics/president-obama...</td>\n",
       "      <td>{\"fb_title\": \"President Obama Vetoes 9/11 Vict...</td>\n",
       "    </tr>\n",
       "  </tbody>\n",
       "</table>\n",
       "</div>"
      ],
      "text/plain": [
       "                id                                              title  \\\n",
       "0   Real_1-Webpage  Another Terrorist Attack in NYC…Why Are we STI...   \n",
       "1  Real_10-Webpage  Donald Trump: Drugs a 'Very, Very Big Factor' ...   \n",
       "2  Real_11-Webpage  Obama To UN: ‘Giving Up Liberty, Enhances Secu...   \n",
       "3  Real_12-Webpage  Trump vs. Clinton: A Fundamental Clash over Ho...   \n",
       "4  Real_13-Webpage  President Obama Vetoes 9/11 Victims Bill, Sett...   \n",
       "\n",
       "                                                text  \\\n",
       "0  On Saturday, September 17 at 8:30 pm EST, an e...   \n",
       "1  Less than a day after protests over the police...   \n",
       "2  Obama To UN: ‘Giving Up Liberty, Enhances Secu...   \n",
       "3  Getty Images Wealth Of Nations Trump vs. Clint...   \n",
       "4  President Obama today vetoed a bill that would...   \n",
       "\n",
       "                                                 url  \\\n",
       "0  http://eaglerising.com/36942/another-terrorist...   \n",
       "1                             http://abcn.ws/2d4lNn9   \n",
       "2  http://rightwingnews.com/barack-obama/obama-un...   \n",
       "3                           http://politi.co/2de2qs0   \n",
       "4                             http://abcn.ws/2dh2NFs   \n",
       "\n",
       "                                             top_img  \\\n",
       "0  http://eaglerising.com/wp-content/uploads/2016...   \n",
       "1  http://a.abcnews.com/images/Politics/AP_donald...   \n",
       "2  http://rightwingnews.com/wp-content/uploads/20...   \n",
       "3  http://static.politico.com/e9/11/6144cdc24e319...   \n",
       "4  http://a.abcnews.com/images/US/AP_Obama_BM_201...   \n",
       "\n",
       "                                            authors                    source  \\\n",
       "0                   View All Posts,Leonora Cravotta    http://eaglerising.com   \n",
       "1       More Candace,Adam Kelsey,Abc News,More Adam            http://abcn.ws   \n",
       "2                                       Cassy Fiano  http://rightwingnews.com   \n",
       "3        Jack Shafer,Erick Trickey,Zachary Karabell          http://politi.co   \n",
       "4  John Parkinson,More John,Abc News,More Alexander            http://abcn.ws   \n",
       "\n",
       "               publish_date                                     movies  \\\n",
       "0  {'$date': 1474528230000}                                        NaN   \n",
       "1                       NaN                                        NaN   \n",
       "2  {'$date': 1474476044000}  https://www.youtube.com/embed/ji6pl5Vwrvk   \n",
       "3  {'$date': 1474974420000}                                        NaN   \n",
       "4                       NaN                                        NaN   \n",
       "\n",
       "                                              images  \\\n",
       "0  http://constitution.com/wp-content/uploads/201...   \n",
       "1  http://www.googleadservices.com/pagead/convers...   \n",
       "2  http://rightwingnews.com/wp-content/uploads/20...   \n",
       "3  https://static.politico.com/dims4/default/8a1c...   \n",
       "4  http://www.googleadservices.com/pagead/convers...   \n",
       "\n",
       "                                      canonical_link  \\\n",
       "0  http://eaglerising.com/36942/another-terrorist...   \n",
       "1  http://abcnews.go.com/Politics/donald-trump-dr...   \n",
       "2  http://rightwingnews.com/barack-obama/obama-un...   \n",
       "3  http://www.politico.com/magazine/story/2016/09...   \n",
       "4  http://abcnews.go.com/Politics/president-obama...   \n",
       "\n",
       "                                           meta_data  \n",
       "0  {\"description\": \"\\u201cWe believe at this poin...  \n",
       "1  {\"fb_title\": \"Trump: Drugs a 'Very, Very Big F...  \n",
       "2  {\"googlebot\": \"noimageindex\", \"og\": {\"site_nam...  \n",
       "3  {\"description\": \"He sees it as zero-sum. She b...  \n",
       "4  {\"fb_title\": \"President Obama Vetoes 9/11 Vict...  "
      ]
     },
     "execution_count": 80,
     "metadata": {},
     "output_type": "execute_result"
    }
   ],
   "source": [
    "df_true.head()"
   ]
  },
  {
   "cell_type": "code",
   "execution_count": 81,
   "id": "9330767e",
   "metadata": {},
   "outputs": [
    {
     "data": {
      "text/html": [
       "<div>\n",
       "<style scoped>\n",
       "    .dataframe tbody tr th:only-of-type {\n",
       "        vertical-align: middle;\n",
       "    }\n",
       "\n",
       "    .dataframe tbody tr th {\n",
       "        vertical-align: top;\n",
       "    }\n",
       "\n",
       "    .dataframe thead th {\n",
       "        text-align: right;\n",
       "    }\n",
       "</style>\n",
       "<table border=\"1\" class=\"dataframe\">\n",
       "  <thead>\n",
       "    <tr style=\"text-align: right;\">\n",
       "      <th></th>\n",
       "      <th>id</th>\n",
       "      <th>title</th>\n",
       "      <th>text</th>\n",
       "      <th>url</th>\n",
       "      <th>top_img</th>\n",
       "      <th>authors</th>\n",
       "      <th>source</th>\n",
       "      <th>publish_date</th>\n",
       "      <th>movies</th>\n",
       "      <th>images</th>\n",
       "      <th>canonical_link</th>\n",
       "      <th>meta_data</th>\n",
       "    </tr>\n",
       "  </thead>\n",
       "  <tbody>\n",
       "    <tr>\n",
       "      <th>0</th>\n",
       "      <td>Fake_1-Webpage</td>\n",
       "      <td>Proof The Mainstream Media Is Manipulating The...</td>\n",
       "      <td>I woke up this morning to find a variation of ...</td>\n",
       "      <td>http://www.addictinginfo.org/2016/09/19/proof-...</td>\n",
       "      <td>http://addictinginfo.addictinginfoent.netdna-c...</td>\n",
       "      <td>Wendy Gittleson</td>\n",
       "      <td>http://www.addictinginfo.org</td>\n",
       "      <td>{'$date': 1474243200000}</td>\n",
       "      <td>NaN</td>\n",
       "      <td>http://i.imgur.com/JeqZLhj.png,http://addictin...</td>\n",
       "      <td>http://addictinginfo.com/2016/09/19/proof-the-...</td>\n",
       "      <td>{\"publisher\": \"Addicting Info | The Knowledge ...</td>\n",
       "    </tr>\n",
       "    <tr>\n",
       "      <th>1</th>\n",
       "      <td>Fake_10-Webpage</td>\n",
       "      <td>Charity: Clinton Foundation Distributed “Water...</td>\n",
       "      <td>Former President Bill Clinton and his Clinton ...</td>\n",
       "      <td>http://eaglerising.com/36899/charity-clinton-f...</td>\n",
       "      <td>http://eaglerising.com/wp-content/uploads/2016...</td>\n",
       "      <td>View All Posts</td>\n",
       "      <td>http://eaglerising.com</td>\n",
       "      <td>{'$date': 1474416521000}</td>\n",
       "      <td>NaN</td>\n",
       "      <td>http://constitution.com/wp-content/uploads/201...</td>\n",
       "      <td>http://eaglerising.com/36899/charity-clinton-f...</td>\n",
       "      <td>{\"description\": \"The possibility that CHAI dis...</td>\n",
       "    </tr>\n",
       "    <tr>\n",
       "      <th>2</th>\n",
       "      <td>Fake_11-Webpage</td>\n",
       "      <td>A Hillary Clinton Administration May be Entire...</td>\n",
       "      <td>After collapsing just before trying to step in...</td>\n",
       "      <td>http://eaglerising.com/36880/a-hillary-clinton...</td>\n",
       "      <td>http://eaglerising.com/wp-content/uploads/2016...</td>\n",
       "      <td>View All Posts,Tony Elliott</td>\n",
       "      <td>http://eaglerising.com</td>\n",
       "      <td>{'$date': 1474416638000}</td>\n",
       "      <td>NaN</td>\n",
       "      <td>http://constitution.com/wp-content/uploads/201...</td>\n",
       "      <td>http://eaglerising.com/36880/a-hillary-clinton...</td>\n",
       "      <td>{\"description\": \"Hillary Clinton may be the fi...</td>\n",
       "    </tr>\n",
       "    <tr>\n",
       "      <th>3</th>\n",
       "      <td>Fake_12-Webpage</td>\n",
       "      <td>Trump’s Latest Campaign Promise May Be His Mos...</td>\n",
       "      <td>Donald Trump is, well, deplorable. He’s sugges...</td>\n",
       "      <td>http://www.addictinginfo.org/2016/09/19/trumps...</td>\n",
       "      <td>http://addictinginfo.addictinginfoent.netdna-c...</td>\n",
       "      <td>John Prager</td>\n",
       "      <td>http://www.addictinginfo.org</td>\n",
       "      <td>{'$date': 1474243200000}</td>\n",
       "      <td>NaN</td>\n",
       "      <td>http://i.imgur.com/JeqZLhj.png,http://2.gravat...</td>\n",
       "      <td>http://addictinginfo.com/2016/09/19/trumps-lat...</td>\n",
       "      <td>{\"publisher\": \"Addicting Info | The Knowledge ...</td>\n",
       "    </tr>\n",
       "    <tr>\n",
       "      <th>4</th>\n",
       "      <td>Fake_13-Webpage</td>\n",
       "      <td>Website is Down For Maintenance</td>\n",
       "      <td>Website is Down For Maintenance</td>\n",
       "      <td>http://www.proudcons.com/clinton-foundation-ca...</td>\n",
       "      <td>NaN</td>\n",
       "      <td>NaN</td>\n",
       "      <td>http://www.proudcons.com</td>\n",
       "      <td>NaN</td>\n",
       "      <td>NaN</td>\n",
       "      <td>NaN</td>\n",
       "      <td>NaN</td>\n",
       "      <td>{\"og\": {\"url\": \"http://www.proudcons.com\", \"ty...</td>\n",
       "    </tr>\n",
       "  </tbody>\n",
       "</table>\n",
       "</div>"
      ],
      "text/plain": [
       "                id                                              title  \\\n",
       "0   Fake_1-Webpage  Proof The Mainstream Media Is Manipulating The...   \n",
       "1  Fake_10-Webpage  Charity: Clinton Foundation Distributed “Water...   \n",
       "2  Fake_11-Webpage  A Hillary Clinton Administration May be Entire...   \n",
       "3  Fake_12-Webpage  Trump’s Latest Campaign Promise May Be His Mos...   \n",
       "4  Fake_13-Webpage                    Website is Down For Maintenance   \n",
       "\n",
       "                                                text  \\\n",
       "0  I woke up this morning to find a variation of ...   \n",
       "1  Former President Bill Clinton and his Clinton ...   \n",
       "2  After collapsing just before trying to step in...   \n",
       "3  Donald Trump is, well, deplorable. He’s sugges...   \n",
       "4                    Website is Down For Maintenance   \n",
       "\n",
       "                                                 url  \\\n",
       "0  http://www.addictinginfo.org/2016/09/19/proof-...   \n",
       "1  http://eaglerising.com/36899/charity-clinton-f...   \n",
       "2  http://eaglerising.com/36880/a-hillary-clinton...   \n",
       "3  http://www.addictinginfo.org/2016/09/19/trumps...   \n",
       "4  http://www.proudcons.com/clinton-foundation-ca...   \n",
       "\n",
       "                                             top_img  \\\n",
       "0  http://addictinginfo.addictinginfoent.netdna-c...   \n",
       "1  http://eaglerising.com/wp-content/uploads/2016...   \n",
       "2  http://eaglerising.com/wp-content/uploads/2016...   \n",
       "3  http://addictinginfo.addictinginfoent.netdna-c...   \n",
       "4                                                NaN   \n",
       "\n",
       "                       authors                        source  \\\n",
       "0              Wendy Gittleson  http://www.addictinginfo.org   \n",
       "1               View All Posts        http://eaglerising.com   \n",
       "2  View All Posts,Tony Elliott        http://eaglerising.com   \n",
       "3                  John Prager  http://www.addictinginfo.org   \n",
       "4                          NaN      http://www.proudcons.com   \n",
       "\n",
       "               publish_date movies  \\\n",
       "0  {'$date': 1474243200000}    NaN   \n",
       "1  {'$date': 1474416521000}    NaN   \n",
       "2  {'$date': 1474416638000}    NaN   \n",
       "3  {'$date': 1474243200000}    NaN   \n",
       "4                       NaN    NaN   \n",
       "\n",
       "                                              images  \\\n",
       "0  http://i.imgur.com/JeqZLhj.png,http://addictin...   \n",
       "1  http://constitution.com/wp-content/uploads/201...   \n",
       "2  http://constitution.com/wp-content/uploads/201...   \n",
       "3  http://i.imgur.com/JeqZLhj.png,http://2.gravat...   \n",
       "4                                                NaN   \n",
       "\n",
       "                                      canonical_link  \\\n",
       "0  http://addictinginfo.com/2016/09/19/proof-the-...   \n",
       "1  http://eaglerising.com/36899/charity-clinton-f...   \n",
       "2  http://eaglerising.com/36880/a-hillary-clinton...   \n",
       "3  http://addictinginfo.com/2016/09/19/trumps-lat...   \n",
       "4                                                NaN   \n",
       "\n",
       "                                           meta_data  \n",
       "0  {\"publisher\": \"Addicting Info | The Knowledge ...  \n",
       "1  {\"description\": \"The possibility that CHAI dis...  \n",
       "2  {\"description\": \"Hillary Clinton may be the fi...  \n",
       "3  {\"publisher\": \"Addicting Info | The Knowledge ...  \n",
       "4  {\"og\": {\"url\": \"http://www.proudcons.com\", \"ty...  "
      ]
     },
     "execution_count": 81,
     "metadata": {},
     "output_type": "execute_result"
    }
   ],
   "source": [
    "df_fake.head()"
   ]
  },
  {
   "cell_type": "code",
   "execution_count": 82,
   "id": "5c7b86a5",
   "metadata": {},
   "outputs": [],
   "source": [
    "# merde two dataset\n",
    "df_merged = pd.concat([df_true, df_fake], ignore_index=True)"
   ]
  },
  {
   "cell_type": "code",
   "execution_count": 83,
   "id": "b577f751",
   "metadata": {},
   "outputs": [
    {
     "name": "stdout",
     "output_type": "stream",
     "text": [
      "Total number of rows: 182\n",
      "Number of Real News: 91\n",
      "Number of Fake News: 91\n"
     ]
    }
   ],
   "source": [
    "# print total length\n",
    "print(\"Total number of rows:\", len(df_merged))\n",
    "\n",
    "print(\"Number of Real News:\", len(df_true))\n",
    "print(\"Number of Fake News:\", len(df_fake))"
   ]
  },
  {
   "cell_type": "code",
   "execution_count": 84,
   "id": "de318e92",
   "metadata": {},
   "outputs": [],
   "source": [
    "import ast\n",
    "\n",
    "# Applica solo se la cella non è NaN\n",
    "df_merged['publish_date'] = df_merged['publish_date'].apply(\n",
    "    lambda x: ast.literal_eval(x)['$date'] if pd.notna(x) else x\n",
    ")\n",
    "\n",
    "# Converte solo i valori non NaN in datetime\n",
    "df_merged['publish_date'] = pd.to_datetime(\n",
    "    df_merged['publish_date'], \n",
    "    unit='ms', \n",
    "    errors='coerce'  # forza a NaT se qualcosa non è convertibile\n",
    ")\n",
    "# riconverti in stringa per l'analisi successiva\n",
    "df_merged['publish_date'] = df_merged['publish_date'].astype(str)"
   ]
  },
  {
   "cell_type": "code",
   "execution_count": 85,
   "id": "ca9394ce",
   "metadata": {},
   "outputs": [
    {
     "name": "stdout",
     "output_type": "stream",
     "text": [
      "2015: 2\n",
      "2016: 130\n",
      "2017: 1\n"
     ]
    }
   ],
   "source": [
    "years = [str(year) for year in range(2015, 2018)]\n",
    "year_pattern = re.compile(r'\\b(201[5-7])\\b')\n",
    "\n",
    "all_years = []\n",
    "for text in df_merged['publish_date']:\n",
    "    found_years = year_pattern.findall(text)\n",
    "    all_years.extend(found_years)\n",
    "\n",
    "year_counts = Counter(all_years)\n",
    "for year in years:\n",
    "    print(f\"{year}: {year_counts.get(year, 0)}\")"
   ]
  },
  {
   "cell_type": "markdown",
   "id": "0e6b74a5",
   "metadata": {},
   "source": [
    "### FakeNewsNet: PolitiFact "
   ]
  },
  {
   "cell_type": "markdown",
   "id": "42389821",
   "metadata": {},
   "source": [
    "**RISULTATO:**\n",
    "* Stessi dati di Kaggle_clement"
   ]
  },
  {
   "cell_type": "code",
   "execution_count": 86,
   "id": "3e22c91d",
   "metadata": {},
   "outputs": [],
   "source": [
    "percorso_file_true = \"datasets/0_more/FakeNewsNet/PolitiFact_real_news_content.csv\"\n",
    "percorso_file_fake = \"datasets/0_more/FakeNewsNet/PolitiFact_fake_news_content.csv\"\n",
    "df_true = None\n",
    "df_fake = None\n",
    "\n",
    "df_true = pd.read_csv(percorso_file_true, encoding=\"utf-8\")\n",
    "df_fake = pd.read_csv(percorso_file_fake, encoding=\"utf-8\")"
   ]
  },
  {
   "cell_type": "code",
   "execution_count": 87,
   "id": "497777b4",
   "metadata": {},
   "outputs": [
    {
     "data": {
      "text/html": [
       "<div>\n",
       "<style scoped>\n",
       "    .dataframe tbody tr th:only-of-type {\n",
       "        vertical-align: middle;\n",
       "    }\n",
       "\n",
       "    .dataframe tbody tr th {\n",
       "        vertical-align: top;\n",
       "    }\n",
       "\n",
       "    .dataframe thead th {\n",
       "        text-align: right;\n",
       "    }\n",
       "</style>\n",
       "<table border=\"1\" class=\"dataframe\">\n",
       "  <thead>\n",
       "    <tr style=\"text-align: right;\">\n",
       "      <th></th>\n",
       "      <th>id</th>\n",
       "      <th>title</th>\n",
       "      <th>text</th>\n",
       "      <th>url</th>\n",
       "      <th>top_img</th>\n",
       "      <th>authors</th>\n",
       "      <th>source</th>\n",
       "      <th>publish_date</th>\n",
       "      <th>movies</th>\n",
       "      <th>images</th>\n",
       "      <th>canonical_link</th>\n",
       "      <th>meta_data</th>\n",
       "    </tr>\n",
       "  </thead>\n",
       "  <tbody>\n",
       "    <tr>\n",
       "      <th>0</th>\n",
       "      <td>Real_1-Webpage</td>\n",
       "      <td>Trump Just Insulted Millions Who Lost Everythi...</td>\n",
       "      <td>16.8k SHARES SHARE THIS STORY\\n\\nHillary Clint...</td>\n",
       "      <td>http://occupydemocrats.com/2016/09/27/trump-ju...</td>\n",
       "      <td>http://occupydemocrats.com/wp-content/uploads/...</td>\n",
       "      <td>Brett Bose,Grant Stern,Steve Bernstein,Natalie...</td>\n",
       "      <td>http://occupydemocrats.com</td>\n",
       "      <td>{'$date': 1474934400000}</td>\n",
       "      <td>NaN</td>\n",
       "      <td>http://occupydemocrats.com/wp-content/uploads/...</td>\n",
       "      <td>http://occupydemocrats.com/2016/09/27/trump-ju...</td>\n",
       "      <td>{\"generator\": \"Powered by Visual Composer - dr...</td>\n",
       "    </tr>\n",
       "    <tr>\n",
       "      <th>1</th>\n",
       "      <td>Real_10-Webpage</td>\n",
       "      <td>Famous dog killed in spot she waited a year fo...</td>\n",
       "      <td>Famous dog killed in spot she waited a year fo...</td>\n",
       "      <td>http://rightwingnews.com/top-news/famous-dog-k...</td>\n",
       "      <td>http://rightwingnews.com/wp-content/uploads/20...</td>\n",
       "      <td>NaN</td>\n",
       "      <td>http://rightwingnews.com</td>\n",
       "      <td>{'$date': 1474948336000}</td>\n",
       "      <td>NaN</td>\n",
       "      <td>http://rightwingnews.com/wp-content/uploads/20...</td>\n",
       "      <td>http://rightwingnews.com/top-news/famous-dog-k...</td>\n",
       "      <td>{\"googlebot\": \"noimageindex\", \"og\": {\"site_nam...</td>\n",
       "    </tr>\n",
       "    <tr>\n",
       "      <th>2</th>\n",
       "      <td>Real_100-Webpage</td>\n",
       "      <td>House oversight panel votes Clinton IT chief i...</td>\n",
       "      <td>Story highlights The House Oversight panel vot...</td>\n",
       "      <td>http://cnn.it/2deaH2d</td>\n",
       "      <td>http://i2.cdn.cnn.com/cnnnext/dam/assets/16091...</td>\n",
       "      <td>Tom Lobianco,Deirdre Walsh</td>\n",
       "      <td>http://cnn.it</td>\n",
       "      <td>NaN</td>\n",
       "      <td>NaN</td>\n",
       "      <td>http://i2.cdn.cnn.com/cnnnext/dam/assets/17050...</td>\n",
       "      <td>http://www.cnn.com/2016/09/22/politics/bryan-p...</td>\n",
       "      <td>{\"description\": \"Members of the House Oversigh...</td>\n",
       "    </tr>\n",
       "    <tr>\n",
       "      <th>3</th>\n",
       "      <td>Real_101-Webpage</td>\n",
       "      <td>America Just Tragically Lost A Country Music I...</td>\n",
       "      <td>We are absolutely heartbroken to hear about th...</td>\n",
       "      <td>http://newsbake.com/entertainment-news/music-e...</td>\n",
       "      <td>http://newsbake.com/wp-content/uploads/2016/05...</td>\n",
       "      <td>Nancy Wells</td>\n",
       "      <td>http://newsbake.com</td>\n",
       "      <td>{'$date': 1474898600000}</td>\n",
       "      <td>https://www.youtube.com/embed/8ozTJcu-_BU</td>\n",
       "      <td>http://0.gravatar.com/avatar/0d702c6042933cd78...</td>\n",
       "      <td>http://newsbake.com/entertainment-news/music-e...</td>\n",
       "      <td>{\"shareaholic\": {\"site_name\": \"NewsBake\", \"lan...</td>\n",
       "    </tr>\n",
       "    <tr>\n",
       "      <th>4</th>\n",
       "      <td>Real_102-Webpage</td>\n",
       "      <td>Monuments to the Battle for the New South</td>\n",
       "      <td>Nine years ago, a driver lost control of his p...</td>\n",
       "      <td>http://politi.co/2dd9U1x</td>\n",
       "      <td>http://static.politico.com/25/ed/85332de14c45b...</td>\n",
       "      <td>Jack Shafer,Lisa Rab</td>\n",
       "      <td>http://politi.co</td>\n",
       "      <td>{'$date': 1473941820000}</td>\n",
       "      <td>NaN</td>\n",
       "      <td>http://static.politico.com/25/ed/85332de14c45b...</td>\n",
       "      <td>http://www.politico.com/magazine/story/2016/09...</td>\n",
       "      <td>{\"description\": \"Virginia, increasingly divers...</td>\n",
       "    </tr>\n",
       "  </tbody>\n",
       "</table>\n",
       "</div>"
      ],
      "text/plain": [
       "                 id                                              title  \\\n",
       "0    Real_1-Webpage  Trump Just Insulted Millions Who Lost Everythi...   \n",
       "1   Real_10-Webpage  Famous dog killed in spot she waited a year fo...   \n",
       "2  Real_100-Webpage  House oversight panel votes Clinton IT chief i...   \n",
       "3  Real_101-Webpage  America Just Tragically Lost A Country Music I...   \n",
       "4  Real_102-Webpage          Monuments to the Battle for the New South   \n",
       "\n",
       "                                                text  \\\n",
       "0  16.8k SHARES SHARE THIS STORY\\n\\nHillary Clint...   \n",
       "1  Famous dog killed in spot she waited a year fo...   \n",
       "2  Story highlights The House Oversight panel vot...   \n",
       "3  We are absolutely heartbroken to hear about th...   \n",
       "4  Nine years ago, a driver lost control of his p...   \n",
       "\n",
       "                                                 url  \\\n",
       "0  http://occupydemocrats.com/2016/09/27/trump-ju...   \n",
       "1  http://rightwingnews.com/top-news/famous-dog-k...   \n",
       "2                              http://cnn.it/2deaH2d   \n",
       "3  http://newsbake.com/entertainment-news/music-e...   \n",
       "4                           http://politi.co/2dd9U1x   \n",
       "\n",
       "                                             top_img  \\\n",
       "0  http://occupydemocrats.com/wp-content/uploads/...   \n",
       "1  http://rightwingnews.com/wp-content/uploads/20...   \n",
       "2  http://i2.cdn.cnn.com/cnnnext/dam/assets/16091...   \n",
       "3  http://newsbake.com/wp-content/uploads/2016/05...   \n",
       "4  http://static.politico.com/25/ed/85332de14c45b...   \n",
       "\n",
       "                                             authors  \\\n",
       "0  Brett Bose,Grant Stern,Steve Bernstein,Natalie...   \n",
       "1                                                NaN   \n",
       "2                         Tom Lobianco,Deirdre Walsh   \n",
       "3                                        Nancy Wells   \n",
       "4                               Jack Shafer,Lisa Rab   \n",
       "\n",
       "                       source              publish_date  \\\n",
       "0  http://occupydemocrats.com  {'$date': 1474934400000}   \n",
       "1    http://rightwingnews.com  {'$date': 1474948336000}   \n",
       "2               http://cnn.it                       NaN   \n",
       "3         http://newsbake.com  {'$date': 1474898600000}   \n",
       "4            http://politi.co  {'$date': 1473941820000}   \n",
       "\n",
       "                                      movies  \\\n",
       "0                                        NaN   \n",
       "1                                        NaN   \n",
       "2                                        NaN   \n",
       "3  https://www.youtube.com/embed/8ozTJcu-_BU   \n",
       "4                                        NaN   \n",
       "\n",
       "                                              images  \\\n",
       "0  http://occupydemocrats.com/wp-content/uploads/...   \n",
       "1  http://rightwingnews.com/wp-content/uploads/20...   \n",
       "2  http://i2.cdn.cnn.com/cnnnext/dam/assets/17050...   \n",
       "3  http://0.gravatar.com/avatar/0d702c6042933cd78...   \n",
       "4  http://static.politico.com/25/ed/85332de14c45b...   \n",
       "\n",
       "                                      canonical_link  \\\n",
       "0  http://occupydemocrats.com/2016/09/27/trump-ju...   \n",
       "1  http://rightwingnews.com/top-news/famous-dog-k...   \n",
       "2  http://www.cnn.com/2016/09/22/politics/bryan-p...   \n",
       "3  http://newsbake.com/entertainment-news/music-e...   \n",
       "4  http://www.politico.com/magazine/story/2016/09...   \n",
       "\n",
       "                                           meta_data  \n",
       "0  {\"generator\": \"Powered by Visual Composer - dr...  \n",
       "1  {\"googlebot\": \"noimageindex\", \"og\": {\"site_nam...  \n",
       "2  {\"description\": \"Members of the House Oversigh...  \n",
       "3  {\"shareaholic\": {\"site_name\": \"NewsBake\", \"lan...  \n",
       "4  {\"description\": \"Virginia, increasingly divers...  "
      ]
     },
     "execution_count": 87,
     "metadata": {},
     "output_type": "execute_result"
    }
   ],
   "source": [
    "df_true.head()"
   ]
  },
  {
   "cell_type": "code",
   "execution_count": 88,
   "id": "6c13fe09",
   "metadata": {},
   "outputs": [
    {
     "data": {
      "text/html": [
       "<div>\n",
       "<style scoped>\n",
       "    .dataframe tbody tr th:only-of-type {\n",
       "        vertical-align: middle;\n",
       "    }\n",
       "\n",
       "    .dataframe tbody tr th {\n",
       "        vertical-align: top;\n",
       "    }\n",
       "\n",
       "    .dataframe thead th {\n",
       "        text-align: right;\n",
       "    }\n",
       "</style>\n",
       "<table border=\"1\" class=\"dataframe\">\n",
       "  <thead>\n",
       "    <tr style=\"text-align: right;\">\n",
       "      <th></th>\n",
       "      <th>id</th>\n",
       "      <th>title</th>\n",
       "      <th>text</th>\n",
       "      <th>url</th>\n",
       "      <th>top_img</th>\n",
       "      <th>authors</th>\n",
       "      <th>source</th>\n",
       "      <th>publish_date</th>\n",
       "      <th>movies</th>\n",
       "      <th>images</th>\n",
       "      <th>canonical_link</th>\n",
       "      <th>meta_data</th>\n",
       "    </tr>\n",
       "  </thead>\n",
       "  <tbody>\n",
       "    <tr>\n",
       "      <th>0</th>\n",
       "      <td>Real_1-Webpage</td>\n",
       "      <td>Trump Just Insulted Millions Who Lost Everythi...</td>\n",
       "      <td>16.8k SHARES SHARE THIS STORY\\n\\nHillary Clint...</td>\n",
       "      <td>http://occupydemocrats.com/2016/09/27/trump-ju...</td>\n",
       "      <td>http://occupydemocrats.com/wp-content/uploads/...</td>\n",
       "      <td>Brett Bose,Grant Stern,Steve Bernstein,Natalie...</td>\n",
       "      <td>http://occupydemocrats.com</td>\n",
       "      <td>{'$date': 1474934400000}</td>\n",
       "      <td>NaN</td>\n",
       "      <td>http://occupydemocrats.com/wp-content/uploads/...</td>\n",
       "      <td>http://occupydemocrats.com/2016/09/27/trump-ju...</td>\n",
       "      <td>{\"generator\": \"Powered by Visual Composer - dr...</td>\n",
       "    </tr>\n",
       "    <tr>\n",
       "      <th>1</th>\n",
       "      <td>Real_10-Webpage</td>\n",
       "      <td>Famous dog killed in spot she waited a year fo...</td>\n",
       "      <td>Famous dog killed in spot she waited a year fo...</td>\n",
       "      <td>http://rightwingnews.com/top-news/famous-dog-k...</td>\n",
       "      <td>http://rightwingnews.com/wp-content/uploads/20...</td>\n",
       "      <td>NaN</td>\n",
       "      <td>http://rightwingnews.com</td>\n",
       "      <td>{'$date': 1474948336000}</td>\n",
       "      <td>NaN</td>\n",
       "      <td>http://rightwingnews.com/wp-content/uploads/20...</td>\n",
       "      <td>http://rightwingnews.com/top-news/famous-dog-k...</td>\n",
       "      <td>{\"googlebot\": \"noimageindex\", \"og\": {\"site_nam...</td>\n",
       "    </tr>\n",
       "    <tr>\n",
       "      <th>2</th>\n",
       "      <td>Real_100-Webpage</td>\n",
       "      <td>House oversight panel votes Clinton IT chief i...</td>\n",
       "      <td>Story highlights The House Oversight panel vot...</td>\n",
       "      <td>http://cnn.it/2deaH2d</td>\n",
       "      <td>http://i2.cdn.cnn.com/cnnnext/dam/assets/16091...</td>\n",
       "      <td>Tom Lobianco,Deirdre Walsh</td>\n",
       "      <td>http://cnn.it</td>\n",
       "      <td>NaN</td>\n",
       "      <td>NaN</td>\n",
       "      <td>http://i2.cdn.cnn.com/cnnnext/dam/assets/17050...</td>\n",
       "      <td>http://www.cnn.com/2016/09/22/politics/bryan-p...</td>\n",
       "      <td>{\"description\": \"Members of the House Oversigh...</td>\n",
       "    </tr>\n",
       "    <tr>\n",
       "      <th>3</th>\n",
       "      <td>Real_101-Webpage</td>\n",
       "      <td>America Just Tragically Lost A Country Music I...</td>\n",
       "      <td>We are absolutely heartbroken to hear about th...</td>\n",
       "      <td>http://newsbake.com/entertainment-news/music-e...</td>\n",
       "      <td>http://newsbake.com/wp-content/uploads/2016/05...</td>\n",
       "      <td>Nancy Wells</td>\n",
       "      <td>http://newsbake.com</td>\n",
       "      <td>{'$date': 1474898600000}</td>\n",
       "      <td>https://www.youtube.com/embed/8ozTJcu-_BU</td>\n",
       "      <td>http://0.gravatar.com/avatar/0d702c6042933cd78...</td>\n",
       "      <td>http://newsbake.com/entertainment-news/music-e...</td>\n",
       "      <td>{\"shareaholic\": {\"site_name\": \"NewsBake\", \"lan...</td>\n",
       "    </tr>\n",
       "    <tr>\n",
       "      <th>4</th>\n",
       "      <td>Real_102-Webpage</td>\n",
       "      <td>Monuments to the Battle for the New South</td>\n",
       "      <td>Nine years ago, a driver lost control of his p...</td>\n",
       "      <td>http://politi.co/2dd9U1x</td>\n",
       "      <td>http://static.politico.com/25/ed/85332de14c45b...</td>\n",
       "      <td>Jack Shafer,Lisa Rab</td>\n",
       "      <td>http://politi.co</td>\n",
       "      <td>{'$date': 1473941820000}</td>\n",
       "      <td>NaN</td>\n",
       "      <td>http://static.politico.com/25/ed/85332de14c45b...</td>\n",
       "      <td>http://www.politico.com/magazine/story/2016/09...</td>\n",
       "      <td>{\"description\": \"Virginia, increasingly divers...</td>\n",
       "    </tr>\n",
       "  </tbody>\n",
       "</table>\n",
       "</div>"
      ],
      "text/plain": [
       "                 id                                              title  \\\n",
       "0    Real_1-Webpage  Trump Just Insulted Millions Who Lost Everythi...   \n",
       "1   Real_10-Webpage  Famous dog killed in spot she waited a year fo...   \n",
       "2  Real_100-Webpage  House oversight panel votes Clinton IT chief i...   \n",
       "3  Real_101-Webpage  America Just Tragically Lost A Country Music I...   \n",
       "4  Real_102-Webpage          Monuments to the Battle for the New South   \n",
       "\n",
       "                                                text  \\\n",
       "0  16.8k SHARES SHARE THIS STORY\\n\\nHillary Clint...   \n",
       "1  Famous dog killed in spot she waited a year fo...   \n",
       "2  Story highlights The House Oversight panel vot...   \n",
       "3  We are absolutely heartbroken to hear about th...   \n",
       "4  Nine years ago, a driver lost control of his p...   \n",
       "\n",
       "                                                 url  \\\n",
       "0  http://occupydemocrats.com/2016/09/27/trump-ju...   \n",
       "1  http://rightwingnews.com/top-news/famous-dog-k...   \n",
       "2                              http://cnn.it/2deaH2d   \n",
       "3  http://newsbake.com/entertainment-news/music-e...   \n",
       "4                           http://politi.co/2dd9U1x   \n",
       "\n",
       "                                             top_img  \\\n",
       "0  http://occupydemocrats.com/wp-content/uploads/...   \n",
       "1  http://rightwingnews.com/wp-content/uploads/20...   \n",
       "2  http://i2.cdn.cnn.com/cnnnext/dam/assets/16091...   \n",
       "3  http://newsbake.com/wp-content/uploads/2016/05...   \n",
       "4  http://static.politico.com/25/ed/85332de14c45b...   \n",
       "\n",
       "                                             authors  \\\n",
       "0  Brett Bose,Grant Stern,Steve Bernstein,Natalie...   \n",
       "1                                                NaN   \n",
       "2                         Tom Lobianco,Deirdre Walsh   \n",
       "3                                        Nancy Wells   \n",
       "4                               Jack Shafer,Lisa Rab   \n",
       "\n",
       "                       source              publish_date  \\\n",
       "0  http://occupydemocrats.com  {'$date': 1474934400000}   \n",
       "1    http://rightwingnews.com  {'$date': 1474948336000}   \n",
       "2               http://cnn.it                       NaN   \n",
       "3         http://newsbake.com  {'$date': 1474898600000}   \n",
       "4            http://politi.co  {'$date': 1473941820000}   \n",
       "\n",
       "                                      movies  \\\n",
       "0                                        NaN   \n",
       "1                                        NaN   \n",
       "2                                        NaN   \n",
       "3  https://www.youtube.com/embed/8ozTJcu-_BU   \n",
       "4                                        NaN   \n",
       "\n",
       "                                              images  \\\n",
       "0  http://occupydemocrats.com/wp-content/uploads/...   \n",
       "1  http://rightwingnews.com/wp-content/uploads/20...   \n",
       "2  http://i2.cdn.cnn.com/cnnnext/dam/assets/17050...   \n",
       "3  http://0.gravatar.com/avatar/0d702c6042933cd78...   \n",
       "4  http://static.politico.com/25/ed/85332de14c45b...   \n",
       "\n",
       "                                      canonical_link  \\\n",
       "0  http://occupydemocrats.com/2016/09/27/trump-ju...   \n",
       "1  http://rightwingnews.com/top-news/famous-dog-k...   \n",
       "2  http://www.cnn.com/2016/09/22/politics/bryan-p...   \n",
       "3  http://newsbake.com/entertainment-news/music-e...   \n",
       "4  http://www.politico.com/magazine/story/2016/09...   \n",
       "\n",
       "                                           meta_data  \n",
       "0  {\"generator\": \"Powered by Visual Composer - dr...  \n",
       "1  {\"googlebot\": \"noimageindex\", \"og\": {\"site_nam...  \n",
       "2  {\"description\": \"Members of the House Oversigh...  \n",
       "3  {\"shareaholic\": {\"site_name\": \"NewsBake\", \"lan...  \n",
       "4  {\"description\": \"Virginia, increasingly divers...  "
      ]
     },
     "execution_count": 88,
     "metadata": {},
     "output_type": "execute_result"
    }
   ],
   "source": [
    "df_fake.head()"
   ]
  },
  {
   "cell_type": "code",
   "execution_count": 89,
   "id": "d9849ee8",
   "metadata": {},
   "outputs": [
    {
     "data": {
      "text/html": [
       "<div>\n",
       "<style scoped>\n",
       "    .dataframe tbody tr th:only-of-type {\n",
       "        vertical-align: middle;\n",
       "    }\n",
       "\n",
       "    .dataframe tbody tr th {\n",
       "        vertical-align: top;\n",
       "    }\n",
       "\n",
       "    .dataframe thead th {\n",
       "        text-align: right;\n",
       "    }\n",
       "</style>\n",
       "<table border=\"1\" class=\"dataframe\">\n",
       "  <thead>\n",
       "    <tr style=\"text-align: right;\">\n",
       "      <th></th>\n",
       "      <th>id</th>\n",
       "      <th>title</th>\n",
       "      <th>text</th>\n",
       "      <th>url</th>\n",
       "      <th>top_img</th>\n",
       "      <th>authors</th>\n",
       "      <th>source</th>\n",
       "      <th>publish_date</th>\n",
       "      <th>movies</th>\n",
       "      <th>images</th>\n",
       "      <th>canonical_link</th>\n",
       "      <th>meta_data</th>\n",
       "    </tr>\n",
       "  </thead>\n",
       "  <tbody>\n",
       "    <tr>\n",
       "      <th>0</th>\n",
       "      <td>Real_1-Webpage</td>\n",
       "      <td>Trump Just Insulted Millions Who Lost Everythi...</td>\n",
       "      <td>16.8k SHARES SHARE THIS STORY\\n\\nHillary Clint...</td>\n",
       "      <td>http://occupydemocrats.com/2016/09/27/trump-ju...</td>\n",
       "      <td>http://occupydemocrats.com/wp-content/uploads/...</td>\n",
       "      <td>Brett Bose,Grant Stern,Steve Bernstein,Natalie...</td>\n",
       "      <td>http://occupydemocrats.com</td>\n",
       "      <td>{'$date': 1474934400000}</td>\n",
       "      <td>NaN</td>\n",
       "      <td>http://occupydemocrats.com/wp-content/uploads/...</td>\n",
       "      <td>http://occupydemocrats.com/2016/09/27/trump-ju...</td>\n",
       "      <td>{\"generator\": \"Powered by Visual Composer - dr...</td>\n",
       "    </tr>\n",
       "    <tr>\n",
       "      <th>1</th>\n",
       "      <td>Real_10-Webpage</td>\n",
       "      <td>Famous dog killed in spot she waited a year fo...</td>\n",
       "      <td>Famous dog killed in spot she waited a year fo...</td>\n",
       "      <td>http://rightwingnews.com/top-news/famous-dog-k...</td>\n",
       "      <td>http://rightwingnews.com/wp-content/uploads/20...</td>\n",
       "      <td>NaN</td>\n",
       "      <td>http://rightwingnews.com</td>\n",
       "      <td>{'$date': 1474948336000}</td>\n",
       "      <td>NaN</td>\n",
       "      <td>http://rightwingnews.com/wp-content/uploads/20...</td>\n",
       "      <td>http://rightwingnews.com/top-news/famous-dog-k...</td>\n",
       "      <td>{\"googlebot\": \"noimageindex\", \"og\": {\"site_nam...</td>\n",
       "    </tr>\n",
       "    <tr>\n",
       "      <th>2</th>\n",
       "      <td>Real_100-Webpage</td>\n",
       "      <td>House oversight panel votes Clinton IT chief i...</td>\n",
       "      <td>Story highlights The House Oversight panel vot...</td>\n",
       "      <td>http://cnn.it/2deaH2d</td>\n",
       "      <td>http://i2.cdn.cnn.com/cnnnext/dam/assets/16091...</td>\n",
       "      <td>Tom Lobianco,Deirdre Walsh</td>\n",
       "      <td>http://cnn.it</td>\n",
       "      <td>NaN</td>\n",
       "      <td>NaN</td>\n",
       "      <td>http://i2.cdn.cnn.com/cnnnext/dam/assets/17050...</td>\n",
       "      <td>http://www.cnn.com/2016/09/22/politics/bryan-p...</td>\n",
       "      <td>{\"description\": \"Members of the House Oversigh...</td>\n",
       "    </tr>\n",
       "    <tr>\n",
       "      <th>3</th>\n",
       "      <td>Real_101-Webpage</td>\n",
       "      <td>America Just Tragically Lost A Country Music I...</td>\n",
       "      <td>We are absolutely heartbroken to hear about th...</td>\n",
       "      <td>http://newsbake.com/entertainment-news/music-e...</td>\n",
       "      <td>http://newsbake.com/wp-content/uploads/2016/05...</td>\n",
       "      <td>Nancy Wells</td>\n",
       "      <td>http://newsbake.com</td>\n",
       "      <td>{'$date': 1474898600000}</td>\n",
       "      <td>https://www.youtube.com/embed/8ozTJcu-_BU</td>\n",
       "      <td>http://0.gravatar.com/avatar/0d702c6042933cd78...</td>\n",
       "      <td>http://newsbake.com/entertainment-news/music-e...</td>\n",
       "      <td>{\"shareaholic\": {\"site_name\": \"NewsBake\", \"lan...</td>\n",
       "    </tr>\n",
       "    <tr>\n",
       "      <th>4</th>\n",
       "      <td>Real_102-Webpage</td>\n",
       "      <td>Monuments to the Battle for the New South</td>\n",
       "      <td>Nine years ago, a driver lost control of his p...</td>\n",
       "      <td>http://politi.co/2dd9U1x</td>\n",
       "      <td>http://static.politico.com/25/ed/85332de14c45b...</td>\n",
       "      <td>Jack Shafer,Lisa Rab</td>\n",
       "      <td>http://politi.co</td>\n",
       "      <td>{'$date': 1473941820000}</td>\n",
       "      <td>NaN</td>\n",
       "      <td>http://static.politico.com/25/ed/85332de14c45b...</td>\n",
       "      <td>http://www.politico.com/magazine/story/2016/09...</td>\n",
       "      <td>{\"description\": \"Virginia, increasingly divers...</td>\n",
       "    </tr>\n",
       "    <tr>\n",
       "      <th>...</th>\n",
       "      <td>...</td>\n",
       "      <td>...</td>\n",
       "      <td>...</td>\n",
       "      <td>...</td>\n",
       "      <td>...</td>\n",
       "      <td>...</td>\n",
       "      <td>...</td>\n",
       "      <td>...</td>\n",
       "      <td>...</td>\n",
       "      <td>...</td>\n",
       "      <td>...</td>\n",
       "      <td>...</td>\n",
       "    </tr>\n",
       "    <tr>\n",
       "      <th>235</th>\n",
       "      <td>Real_95-Webpage</td>\n",
       "      <td>Donald Trump, Germany’s disfavored son – POLITICO</td>\n",
       "      <td>KALLSTADT, Germany — Few places in Germany are...</td>\n",
       "      <td>http://politi.co/2csN1WG</td>\n",
       "      <td>http://www.politico.eu/wp-content/uploads/2016...</td>\n",
       "      <td>Matthew Karnitschnig,Janosch Delcker</td>\n",
       "      <td>http://politi.co</td>\n",
       "      <td>{'$date': 1474601447000}</td>\n",
       "      <td>NaN</td>\n",
       "      <td>http://g8fip1kplyr33r3krz5b97d1.wpengine.netdn...</td>\n",
       "      <td>http://www.politico.eu/article/donald-trump-an...</td>\n",
       "      <td>{\"description\": \"In the idyllic hamlet of Kall...</td>\n",
       "    </tr>\n",
       "    <tr>\n",
       "      <th>236</th>\n",
       "      <td>Real_96-Webpage</td>\n",
       "      <td>BREAKING: Hollywood Legend Just Died Of Terrib...</td>\n",
       "      <td>Hollywood loses yet another one of their deare...</td>\n",
       "      <td>http://newsbake.com/entertainment-news/tv/brea...</td>\n",
       "      <td>http://newsbake.com/wp-content/uploads/2016/09...</td>\n",
       "      <td>Nancy Wells</td>\n",
       "      <td>http://newsbake.com</td>\n",
       "      <td>{'$date': 1474250978000}</td>\n",
       "      <td>https://www.youtube.com/embed/pcj4boVT4fc</td>\n",
       "      <td>http://0.gravatar.com/avatar/0d702c6042933cd78...</td>\n",
       "      <td>http://newsbake.com/entertainment-news/tv/brea...</td>\n",
       "      <td>{\"shareaholic\": {\"site_name\": \"NewsBake\", \"lan...</td>\n",
       "    </tr>\n",
       "    <tr>\n",
       "      <th>237</th>\n",
       "      <td>Real_97-Webpage</td>\n",
       "      <td>Worst. President. Ever.</td>\n",
       "      <td>As my 25th wedding anniversary approached, I t...</td>\n",
       "      <td>http://politi.co/2d1qa5t</td>\n",
       "      <td>http://static.politico.com/2f/8c/e44158e84ee8a...</td>\n",
       "      <td>Jack Shafer,Robert Strauss</td>\n",
       "      <td>http://politi.co</td>\n",
       "      <td>{'$date': 1474196700000}</td>\n",
       "      <td>NaN</td>\n",
       "      <td>data:image/gif;base64,R0lGODlhAQABAAAAACH5BAEK...</td>\n",
       "      <td>http://www.politico.com/magazine/story/2016/09...</td>\n",
       "      <td>{\"description\": \"People are debating who will ...</td>\n",
       "    </tr>\n",
       "    <tr>\n",
       "      <th>238</th>\n",
       "      <td>Real_98-Webpage</td>\n",
       "      <td>Don King drops N-word while introducing Donald...</td>\n",
       "      <td>Story highlights Trump was sitting in a chair ...</td>\n",
       "      <td>http://cnn.it/2dh5vq9</td>\n",
       "      <td>http://i2.cdn.cnn.com/cnnnext/dam/assets/16092...</td>\n",
       "      <td>Jeremy Diamond</td>\n",
       "      <td>http://cnn.it</td>\n",
       "      <td>NaN</td>\n",
       "      <td>NaN</td>\n",
       "      <td>http://i2.cdn.cnn.com/cnnnext/dam/assets/12102...</td>\n",
       "      <td>http://www.cnn.com/2016/09/21/politics/don-kin...</td>\n",
       "      <td>{\"description\": \"The controversial boxing prom...</td>\n",
       "    </tr>\n",
       "    <tr>\n",
       "      <th>239</th>\n",
       "      <td>Real_99-Webpage</td>\n",
       "      <td>Donald Trump Jr. Compares Syrian Refugees to S...</td>\n",
       "      <td>Donald Trump Jr., a son of the Republican pres...</td>\n",
       "      <td>http://abcn.ws/2cFVuaq</td>\n",
       "      <td>http://a.abcnews.com/images/Politics/AP_donald...</td>\n",
       "      <td>Abc News</td>\n",
       "      <td>http://abcn.ws</td>\n",
       "      <td>NaN</td>\n",
       "      <td>NaN</td>\n",
       "      <td>http://www.googleadservices.com/pagead/convers...</td>\n",
       "      <td>http://abcnews.go.com/Politics/donald-trump-jr...</td>\n",
       "      <td>{\"fb_title\": \"Trump Jr. Compares Syrian Refuge...</td>\n",
       "    </tr>\n",
       "  </tbody>\n",
       "</table>\n",
       "<p>240 rows × 12 columns</p>\n",
       "</div>"
      ],
      "text/plain": [
       "                   id                                              title  \\\n",
       "0      Real_1-Webpage  Trump Just Insulted Millions Who Lost Everythi...   \n",
       "1     Real_10-Webpage  Famous dog killed in spot she waited a year fo...   \n",
       "2    Real_100-Webpage  House oversight panel votes Clinton IT chief i...   \n",
       "3    Real_101-Webpage  America Just Tragically Lost A Country Music I...   \n",
       "4    Real_102-Webpage          Monuments to the Battle for the New South   \n",
       "..                ...                                                ...   \n",
       "235   Real_95-Webpage  Donald Trump, Germany’s disfavored son – POLITICO   \n",
       "236   Real_96-Webpage  BREAKING: Hollywood Legend Just Died Of Terrib...   \n",
       "237   Real_97-Webpage                            Worst. President. Ever.   \n",
       "238   Real_98-Webpage  Don King drops N-word while introducing Donald...   \n",
       "239   Real_99-Webpage  Donald Trump Jr. Compares Syrian Refugees to S...   \n",
       "\n",
       "                                                  text  \\\n",
       "0    16.8k SHARES SHARE THIS STORY\\n\\nHillary Clint...   \n",
       "1    Famous dog killed in spot she waited a year fo...   \n",
       "2    Story highlights The House Oversight panel vot...   \n",
       "3    We are absolutely heartbroken to hear about th...   \n",
       "4    Nine years ago, a driver lost control of his p...   \n",
       "..                                                 ...   \n",
       "235  KALLSTADT, Germany — Few places in Germany are...   \n",
       "236  Hollywood loses yet another one of their deare...   \n",
       "237  As my 25th wedding anniversary approached, I t...   \n",
       "238  Story highlights Trump was sitting in a chair ...   \n",
       "239  Donald Trump Jr., a son of the Republican pres...   \n",
       "\n",
       "                                                   url  \\\n",
       "0    http://occupydemocrats.com/2016/09/27/trump-ju...   \n",
       "1    http://rightwingnews.com/top-news/famous-dog-k...   \n",
       "2                                http://cnn.it/2deaH2d   \n",
       "3    http://newsbake.com/entertainment-news/music-e...   \n",
       "4                             http://politi.co/2dd9U1x   \n",
       "..                                                 ...   \n",
       "235                           http://politi.co/2csN1WG   \n",
       "236  http://newsbake.com/entertainment-news/tv/brea...   \n",
       "237                           http://politi.co/2d1qa5t   \n",
       "238                              http://cnn.it/2dh5vq9   \n",
       "239                             http://abcn.ws/2cFVuaq   \n",
       "\n",
       "                                               top_img  \\\n",
       "0    http://occupydemocrats.com/wp-content/uploads/...   \n",
       "1    http://rightwingnews.com/wp-content/uploads/20...   \n",
       "2    http://i2.cdn.cnn.com/cnnnext/dam/assets/16091...   \n",
       "3    http://newsbake.com/wp-content/uploads/2016/05...   \n",
       "4    http://static.politico.com/25/ed/85332de14c45b...   \n",
       "..                                                 ...   \n",
       "235  http://www.politico.eu/wp-content/uploads/2016...   \n",
       "236  http://newsbake.com/wp-content/uploads/2016/09...   \n",
       "237  http://static.politico.com/2f/8c/e44158e84ee8a...   \n",
       "238  http://i2.cdn.cnn.com/cnnnext/dam/assets/16092...   \n",
       "239  http://a.abcnews.com/images/Politics/AP_donald...   \n",
       "\n",
       "                                               authors  \\\n",
       "0    Brett Bose,Grant Stern,Steve Bernstein,Natalie...   \n",
       "1                                                  NaN   \n",
       "2                           Tom Lobianco,Deirdre Walsh   \n",
       "3                                          Nancy Wells   \n",
       "4                                 Jack Shafer,Lisa Rab   \n",
       "..                                                 ...   \n",
       "235               Matthew Karnitschnig,Janosch Delcker   \n",
       "236                                        Nancy Wells   \n",
       "237                         Jack Shafer,Robert Strauss   \n",
       "238                                     Jeremy Diamond   \n",
       "239                                           Abc News   \n",
       "\n",
       "                         source              publish_date  \\\n",
       "0    http://occupydemocrats.com  {'$date': 1474934400000}   \n",
       "1      http://rightwingnews.com  {'$date': 1474948336000}   \n",
       "2                 http://cnn.it                       NaN   \n",
       "3           http://newsbake.com  {'$date': 1474898600000}   \n",
       "4              http://politi.co  {'$date': 1473941820000}   \n",
       "..                          ...                       ...   \n",
       "235            http://politi.co  {'$date': 1474601447000}   \n",
       "236         http://newsbake.com  {'$date': 1474250978000}   \n",
       "237            http://politi.co  {'$date': 1474196700000}   \n",
       "238               http://cnn.it                       NaN   \n",
       "239              http://abcn.ws                       NaN   \n",
       "\n",
       "                                        movies  \\\n",
       "0                                          NaN   \n",
       "1                                          NaN   \n",
       "2                                          NaN   \n",
       "3    https://www.youtube.com/embed/8ozTJcu-_BU   \n",
       "4                                          NaN   \n",
       "..                                         ...   \n",
       "235                                        NaN   \n",
       "236  https://www.youtube.com/embed/pcj4boVT4fc   \n",
       "237                                        NaN   \n",
       "238                                        NaN   \n",
       "239                                        NaN   \n",
       "\n",
       "                                                images  \\\n",
       "0    http://occupydemocrats.com/wp-content/uploads/...   \n",
       "1    http://rightwingnews.com/wp-content/uploads/20...   \n",
       "2    http://i2.cdn.cnn.com/cnnnext/dam/assets/17050...   \n",
       "3    http://0.gravatar.com/avatar/0d702c6042933cd78...   \n",
       "4    http://static.politico.com/25/ed/85332de14c45b...   \n",
       "..                                                 ...   \n",
       "235  http://g8fip1kplyr33r3krz5b97d1.wpengine.netdn...   \n",
       "236  http://0.gravatar.com/avatar/0d702c6042933cd78...   \n",
       "237  data:image/gif;base64,R0lGODlhAQABAAAAACH5BAEK...   \n",
       "238  http://i2.cdn.cnn.com/cnnnext/dam/assets/12102...   \n",
       "239  http://www.googleadservices.com/pagead/convers...   \n",
       "\n",
       "                                        canonical_link  \\\n",
       "0    http://occupydemocrats.com/2016/09/27/trump-ju...   \n",
       "1    http://rightwingnews.com/top-news/famous-dog-k...   \n",
       "2    http://www.cnn.com/2016/09/22/politics/bryan-p...   \n",
       "3    http://newsbake.com/entertainment-news/music-e...   \n",
       "4    http://www.politico.com/magazine/story/2016/09...   \n",
       "..                                                 ...   \n",
       "235  http://www.politico.eu/article/donald-trump-an...   \n",
       "236  http://newsbake.com/entertainment-news/tv/brea...   \n",
       "237  http://www.politico.com/magazine/story/2016/09...   \n",
       "238  http://www.cnn.com/2016/09/21/politics/don-kin...   \n",
       "239  http://abcnews.go.com/Politics/donald-trump-jr...   \n",
       "\n",
       "                                             meta_data  \n",
       "0    {\"generator\": \"Powered by Visual Composer - dr...  \n",
       "1    {\"googlebot\": \"noimageindex\", \"og\": {\"site_nam...  \n",
       "2    {\"description\": \"Members of the House Oversigh...  \n",
       "3    {\"shareaholic\": {\"site_name\": \"NewsBake\", \"lan...  \n",
       "4    {\"description\": \"Virginia, increasingly divers...  \n",
       "..                                                 ...  \n",
       "235  {\"description\": \"In the idyllic hamlet of Kall...  \n",
       "236  {\"shareaholic\": {\"site_name\": \"NewsBake\", \"lan...  \n",
       "237  {\"description\": \"People are debating who will ...  \n",
       "238  {\"description\": \"The controversial boxing prom...  \n",
       "239  {\"fb_title\": \"Trump Jr. Compares Syrian Refuge...  \n",
       "\n",
       "[240 rows x 12 columns]"
      ]
     },
     "execution_count": 89,
     "metadata": {},
     "output_type": "execute_result"
    }
   ],
   "source": [
    "# merde two dataset\n",
    "df_merged = pd.concat([df_true, df_fake], ignore_index=True)\n",
    "df_merged"
   ]
  },
  {
   "cell_type": "code",
   "execution_count": 90,
   "id": "56794cff",
   "metadata": {},
   "outputs": [
    {
     "name": "stdout",
     "output_type": "stream",
     "text": [
      "Total number of rows: 240\n",
      "Number of Real News: 120\n",
      "Number of Fake News: 120\n"
     ]
    }
   ],
   "source": [
    "# print total length\n",
    "print(\"Total number of rows:\", len(df_merged))\n",
    "\n",
    "print(\"Number of Real News:\", len(df_true))\n",
    "print(\"Number of Fake News:\", len(df_fake))"
   ]
  },
  {
   "cell_type": "code",
   "execution_count": 91,
   "id": "df12e70a",
   "metadata": {},
   "outputs": [],
   "source": [
    "# Applica solo se la cella non è NaN\n",
    "df_merged['publish_date'] = df_merged['publish_date'].apply(\n",
    "    lambda x: ast.literal_eval(x)['$date'] if pd.notna(x) else x\n",
    ")\n",
    "\n",
    "# Converte solo i valori non NaN in datetime\n",
    "df_merged['publish_date'] = pd.to_datetime(\n",
    "    df_merged['publish_date'], \n",
    "    unit='ms', \n",
    "    errors='coerce'  # forza a NaT se qualcosa non è convertibile\n",
    ")\n",
    "# riconverti in stringa per l'analisi successiva\n",
    "df_merged['publish_date'] = df_merged['publish_date'].astype(str)"
   ]
  },
  {
   "cell_type": "code",
   "execution_count": 92,
   "id": "0557a836",
   "metadata": {},
   "outputs": [
    {
     "name": "stdout",
     "output_type": "stream",
     "text": [
      "2015: 0\n",
      "2016: 162\n",
      "2017: 0\n"
     ]
    }
   ],
   "source": [
    "years = [str(year) for year in range(2015, 2018)]\n",
    "year_pattern = re.compile(r'\\b(201[5-7])\\b')\n",
    "\n",
    "all_years = []\n",
    "for text in df_merged['publish_date']:\n",
    "    found_years = year_pattern.findall(text)\n",
    "    all_years.extend(found_years)\n",
    "\n",
    "year_counts = Counter(all_years)\n",
    "for year in years:\n",
    "    print(f\"{year}: {year_counts.get(year, 0)}\")"
   ]
  }
 ],
 "metadata": {
  "kernelspec": {
   "display_name": "env",
   "language": "python",
   "name": "python3"
  },
  "language_info": {
   "codemirror_mode": {
    "name": "ipython",
    "version": 3
   },
   "file_extension": ".py",
   "mimetype": "text/x-python",
   "name": "python",
   "nbconvert_exporter": "python",
   "pygments_lexer": "ipython3",
   "version": "3.10.18"
  }
 },
 "nbformat": 4,
 "nbformat_minor": 5
}
